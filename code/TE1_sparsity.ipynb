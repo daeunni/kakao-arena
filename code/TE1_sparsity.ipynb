{
  "nbformat": 4,
  "nbformat_minor": 0,
  "metadata": {
    "colab": {
      "name": "TE1-sparsity.ipynb",
      "provenance": [],
      "collapsed_sections": [],
      "machine_shape": "hm"
    },
    "kernelspec": {
      "name": "python3",
      "display_name": "Python 3"
    },
    "accelerator": "GPU"
  },
  "cells": [
    {
      "cell_type": "code",
      "metadata": {
        "id": "OY6A09Laut8D"
      },
      "source": [
        "# arena_util.py\n",
        "# -*- coding: utf-8 -*-\n",
        "import io\n",
        "import os\n",
        "import json\n",
        "from collections import Counter\n",
        "import numpy as np\n",
        "import warnings\n",
        "warnings.filterwarnings(action='ignore')\n",
        "from collections import Counter # 컨테이너에 동일한 자료가 몇개인지 파악 : 출력값은 딕셔너리\n",
        "import numpy as np\n",
        "import pandas as pd\n",
        "import scipy.sparse as spr # Sparse matrices 출력\n",
        "import pickle\n",
        "\n",
        "# json 파일 작성\n",
        "def write_json(data, fname):\n",
        "  def _conv(o):\n",
        "    # isinstance : 주어진 인스턴스가 특정 클래스/데이터 타입인지 확인\n",
        "    if isinstance(o, np.int64) or isinstance(o, np.int32):\n",
        "      return int(o) # int64, int32인지 확인 후 int로 출력\n",
        "    raise TypeError\n",
        "  \n",
        "  parent = os.path.dirname(fname) # os.path.dirname(fname) : 경로 중 디렉토리 이름까지만 얻기\n",
        "  distutils.dir_util.mkpath(\"C:/Users/이다은/Desktop/BOAZ 14기/추천시스템/\" + parent) # 디렉토리 만들기\n",
        "\n",
        "  # 파일 입출력( W : 쓰기)\n",
        "  with io.open(\"C:/Users/이다은/Desktop/BOAZ 14기/추천시스템/\" + fname, \"w\", encoding=\"utf8\") as f:\n",
        "    # json.dumps : 직렬화해서 객체를 파일에 쓴다\n",
        "    json_str = json.dumps(data, ensure_ascii=False, default = _conv)\n",
        "    f.write(json_str)\n",
        "\n",
        "# json 파일 로드\n",
        "def load_json(fname):\n",
        "  with open(fname, encoding='utf8') as f :\n",
        "    json_obj = json.load(f)\n",
        "\n",
        "  return json_obj"
      ],
      "execution_count": null,
      "outputs": []
    },
    {
      "cell_type": "code",
      "metadata": {
        "id": "unCVDZLfuvag",
        "colab": {
          "base_uri": "https://localhost:8080/",
          "height": 124
        },
        "outputId": "28ef9ff8-4a95-454f-eb02-271e934e9081"
      },
      "source": [
        "from google.colab import drive\n",
        "drive.mount('/content/gdrive/')"
      ],
      "execution_count": null,
      "outputs": [
        {
          "output_type": "stream",
          "text": [
            "Go to this URL in a browser: https://accounts.google.com/o/oauth2/auth?client_id=947318989803-6bn6qk8qdgf4n4g3pfee6491hc0brc4i.apps.googleusercontent.com&redirect_uri=urn%3aietf%3awg%3aoauth%3a2.0%3aoob&response_type=code&scope=email%20https%3a%2f%2fwww.googleapis.com%2fauth%2fdocs.test%20https%3a%2f%2fwww.googleapis.com%2fauth%2fdrive%20https%3a%2f%2fwww.googleapis.com%2fauth%2fdrive.photos.readonly%20https%3a%2f%2fwww.googleapis.com%2fauth%2fpeopleapi.readonly\n",
            "\n",
            "Enter your authorization code:\n",
            "··········\n",
            "Mounted at /content/gdrive/\n"
          ],
          "name": "stdout"
        }
      ]
    },
    {
      "cell_type": "code",
      "metadata": {
        "id": "EchTKKvMuvZA"
      },
      "source": [
        "val = pd.read_json('/content/gdrive/My Drive/Colab Notebooks/머신/val.json', typ = 'frame',encoding='UTF-8')\n",
        "song_meta = pd.read_json('/content/gdrive/My Drive/Colab Notebooks/머신/song_meta.json', typ = 'frame',encoding='UTF-8')\n",
        "train = pd.read_json('/content/gdrive/My Drive/Colab Notebooks/머신/train.json', typ = 'frame', encoding='utf-8')\n",
        "test = pd.read_json('/content/gdrive/My Drive/Colab Notebooks/머신/test.json', typ = 'frame', encoding='utf-8')\n",
        "genre_gn_all = pd.read_json('/content/gdrive/My Drive/Colab Notebooks/머신/genre_gn_all.json', typ = 'series',encoding='utf-8')"
      ],
      "execution_count": null,
      "outputs": []
    },
    {
      "cell_type": "code",
      "metadata": {
        "id": "jvJx0RFsuvXI",
        "colab": {
          "base_uri": "https://localhost:8080/",
          "height": 34
        },
        "outputId": "724b3adb-c177-4a08-a317-4fd03b8cfb7e"
      },
      "source": [
        "n_train = len(train)\n",
        "n_val = len(val)\n",
        "print('train의 개수는 {}개 , val의 개수는 {}개, test의 개수는 {}개! '.format(len(train), len(val), len(test)))"
      ],
      "execution_count": null,
      "outputs": [
        {
          "output_type": "stream",
          "text": [
            "train의 개수는 115071개 , val의 개수는 23015개, test의 개수는 10740개! \n"
          ],
          "name": "stdout"
        }
      ]
    },
    {
      "cell_type": "code",
      "metadata": {
        "id": "utYWBdNzuvVD"
      },
      "source": [
        "# num 열 추가\n",
        "train.loc[:, 'num_songs'] = train['songs'].map(len)\n",
        "train.loc[:, 'num_tags'] = train['tags'].map(len)\n",
        "val.loc[:, 'num_songs'] = val['songs'].map(len)\n",
        "val.loc[:, 'num_tags'] = val['tags'].map(len)"
      ],
      "execution_count": null,
      "outputs": []
    },
    {
      "cell_type": "code",
      "metadata": {
        "id": "FN_vELMxuvS0",
        "colab": {
          "base_uri": "https://localhost:8080/",
          "height": 34
        },
        "outputId": "91721ea2-6e7b-47fd-ffcc-48ea5328a1dc"
      },
      "source": [
        "print(train['num_songs'].sum(), val['num_songs'].sum())"
      ],
      "execution_count": null,
      "outputs": [
        {
          "output_type": "stream",
          "text": [
            "5285871 421199\n"
          ],
          "name": "stdout"
        }
      ]
    },
    {
      "cell_type": "markdown",
      "metadata": {
        "id": "DS7iGgPVvNL8"
      },
      "source": [
        "## train 사용 곡 수 줄이기\n",
        "1. 10번 이상 등장한 것만 남김\n",
        "2. 날짜 이상한거 삭제\n",
        "3. 장르 없는거 삭제\n"
      ]
    },
    {
      "cell_type": "code",
      "metadata": {
        "id": "KH8E9R40uvQ5",
        "colab": {
          "base_uri": "https://localhost:8080/",
          "height": 52
        },
        "outputId": "6a296fc8-7488-42c8-8309-9be6c6f4c49f"
      },
      "source": [
        "%%time\n",
        "## 1. 10번이상 등장한 노래만 사용\n",
        "song_count = []\n",
        "for i in train.songs.to_list():\n",
        "  for j in i:\n",
        "    song_count.append(j)\n",
        "song = pd.DataFrame(song_count)[0].value_counts().reset_index().rename(columns={'index':'song', 0:'count'})\n",
        "\n",
        "# 10번 이상 등장한 노래만 사용(9만개)\n",
        "song_value = song.query('count>9').song.values\n",
        "def song_del(x):\n",
        "  x_iter = []\n",
        "  for i in x:\n",
        "    if i in song_value:\n",
        "      x_iter.append(i)\n",
        "  return x_iter\n",
        "\n",
        "train['songs'] = train.songs.map(song_del)"
      ],
      "execution_count": null,
      "outputs": [
        {
          "output_type": "stream",
          "text": [
            "CPU times: user 2min 46s, sys: 12.6 ms, total: 2min 46s\n",
            "Wall time: 2min 46s\n"
          ],
          "name": "stdout"
        }
      ]
    },
    {
      "cell_type": "code",
      "metadata": {
        "id": "ck0JsVKruvOG"
      },
      "source": [
        "## 2. 이상한 날짜 제거\n",
        "plylst_date = train[['updt_date', 'songs']]\n",
        "plylst_date_unnest = np.dstack(\n",
        "    (\n",
        "        np.repeat(plylst_date.updt_date.values, list(map(len, plylst_date.songs))), \n",
        "        np.concatenate(plylst_date.songs.values)\n",
        "    )\n",
        ")\n",
        "plylst_date = pd.DataFrame(data=plylst_date_unnest[0], columns = plylst_date.columns)\n",
        "\n",
        "del plylst_date_unnest\n",
        "\n",
        "plylst_date[\"updt_date\"] = plylst_date[\"updt_date\"].map(lambda x: x[:4] + x[5:7] + x[8:10])\n",
        "song_date = song_meta[[\"id\",\"issue_date\"]]\n",
        "plylst_song_date = pd.merge(plylst_date, song_date, left_on=\"songs\", right_on=\"id\", how='left')\n",
        "plylst_song_date[\"issue_date\"] = plylst_song_date[\"issue_date\"].astype(str)\n",
        "\n",
        "plylst_song_date[\"strange\"] = plylst_song_date[\"updt_date\"] < plylst_song_date[\"issue_date\"]\n",
        "strange_songs = plylst_song_date[plylst_song_date[\"strange\"] == True].drop('songs', axis=1)\n",
        "strange_songs = strange_songs.drop_duplicates(['id'])\n",
        "\n",
        "date_id = strange_songs.id.values\n",
        "\n",
        "def date_del(x):\n",
        "  x_iter = []\n",
        "  for i in x:\n",
        "    if i not in date_id:\n",
        "      x_iter.append(i)\n",
        "  return x_iter\n",
        "\n",
        "train['songs'] = train.songs.map(date_del)"
      ],
      "execution_count": null,
      "outputs": []
    },
    {
      "cell_type": "code",
      "metadata": {
        "id": "v5XEmuOEuvLv"
      },
      "source": [
        "# ## 3. 장르 없는거 제거\n",
        "# %%time\n",
        "# def list_to_nan(x) : \n",
        "#     if x == [] : \n",
        "#         return (np.nan)\n",
        "#     else : return x\n",
        "\n",
        "# song_meta['song_gn_gnr_basket'] = song_meta['song_gn_gnr_basket'].apply(list_to_nan)\n",
        "# song_meta['song_gn_gnr_basket'] = song_meta['song_gn_gnr_basket'].fillna('#')\n",
        "# no_gnr = song_meta[song_meta['song_gn_gnr_basket']=='#'] # 대분류 장르 없는 1059개 song\n",
        "\n",
        "# no_gnr_list = no_gnr.id.values # str\n",
        "\n",
        "# def gnr_del(x):\n",
        "#   x_iter = []\n",
        "#   for i in x:\n",
        "#     if i not in no_gnr_list:\n",
        "#       x_iter.append(i)\n",
        "#   return x_iter\n",
        "\n",
        "# train['songs'] = train.songs.map(gnr_del)"
      ],
      "execution_count": null,
      "outputs": []
    },
    {
      "cell_type": "code",
      "metadata": {
        "id": "LYQvWKQLuvHf",
        "colab": {
          "base_uri": "https://localhost:8080/",
          "height": 34
        },
        "outputId": "71621ed2-4a33-47b0-c4ce-e72c01628577"
      },
      "source": [
        "# 몇개나 줄었게? 백만개!\n",
        "train.loc[:, 'num_songs'] = train['songs'].map(len)\n",
        "print(train['num_songs'].sum()) "
      ],
      "execution_count": null,
      "outputs": [
        {
          "output_type": "stream",
          "text": [
            "3990654\n"
          ],
          "name": "stdout"
        }
      ]
    },
    {
      "cell_type": "markdown",
      "metadata": {
        "id": "5xlmGjBvwrCK"
      },
      "source": [
        "## id 재생성"
      ]
    },
    {
      "cell_type": "code",
      "metadata": {
        "id": "cAo-Ti40uvFZ"
      },
      "source": [
        "### plylst id 재생성\n",
        "\n",
        "train['istrain'] = 1\n",
        "val['istrain'] = 0\n",
        "\n",
        "n_train = len(train)\n",
        "n_val = len(val)\n",
        "\n",
        "# train+val = plylst\n",
        "plylst = pd.concat([train, val], ignore_index = True) \n",
        "# ignore_index = True : 열 이름 무시하고 정수 번호 자동 부여\n",
        "\n",
        "## train과 val 합침!! \n",
        "plylst['nid'] = range(n_train + n_val) # 인덱스 재생성\n",
        "\n",
        "# plylst의 id를 nid로 순서대로 바꾼다\n",
        "# zip : 동일한 개수를 가진 자료형을 묶어 주는 역할 > zip으로 묶어서 딕셔너리로 만든다\n",
        "plylst_id_nid = dict(zip(plylst['id'], plylst['nid']))\n",
        "plylst_nid_id = dict(zip(plylst['nid'], plylst['id']))\n",
        "\n",
        "plylst_tag = plylst['tags'] \n",
        "tag_counter = Counter( [tg for tgs in plylst_tag for tg in tgs] ) # 딕셔너리 형태로 출력\n",
        "tag_dict = {x: tag_counter[x] for x in tag_counter} # Counter({딕셔너리}) 형태임 > 그냥 딕셔너리로 바꿔주기\n",
        "\n",
        "# 태그 아이디 재생성\n",
        "tag_id_tid = dict() # 딕셔너리 만들기\n",
        "tag_tid_id = dict()\n",
        "for i, t in enumerate(tag_dict):\n",
        "  tag_id_tid[t] = i\n",
        "  tag_tid_id[i] = t\n",
        "\n",
        "n_tags = len(tag_dict) # 태그 종류 개수\n",
        "\n",
        "plylst_song = plylst['songs']\n",
        "song_counter = Counter( [sg for sgs in plylst_song for sg in sgs] )\n",
        "song_dict = {x : song_counter[x] for x in song_counter}\n",
        "\n",
        "song_id_sid = dict()\n",
        "song_sid_id = dict()\n",
        "for i, t in enumerate(song_dict):\n",
        "  song_id_sid[t] = i\n",
        "  song_sid_id[i] = t\n",
        "\n",
        "n_songs = len(song_dict) # song  종류 개수\n"
      ],
      "execution_count": null,
      "outputs": []
    },
    {
      "cell_type": "code",
      "metadata": {
        "id": "jmX47HijuvA-",
        "colab": {
          "base_uri": "https://localhost:8080/",
          "height": 34
        },
        "outputId": "12b5445e-cf8b-47ce-a92c-223e7b4d3088"
      },
      "source": [
        "print(n_songs, n_tags, song_meta.shape) # song의 종류 개수 60만개 > 16만개로 줄음"
      ],
      "execution_count": null,
      "outputs": [
        {
          "output_type": "stream",
          "text": [
            "166979 30197 (707989, 9)\n"
          ],
          "name": "stdout"
        }
      ]
    },
    {
      "cell_type": "code",
      "metadata": {
        "id": "P1zGUpPAuu-z",
        "colab": {
          "base_uri": "https://localhost:8080/",
          "height": 137
        },
        "outputId": "d435100c-6ca2-4524-e377-4294004639c9"
      },
      "source": [
        "## 새로운 id 적용\n",
        "\n",
        "plylst['songs_id'] = plylst['songs'].map(lambda x: [song_id_sid.get(s) for s in x if song_id_sid.get(s) != None]) # 아이디로 리스트 만들어줌. \n",
        "plylst['tags_id'] = plylst['tags'].map(lambda x: [tag_id_tid.get(t) for t in x if tag_id_tid.get(t) != None])\n",
        "plylst_use = plylst[['istrain', 'nid', 'updt_date', 'songs_id', 'tags_id']]\n",
        "# num_songs, num_tags 열 추가\n",
        "plylst_use.loc[:, 'num_songs'] = plylst_use['songs_id'].map(len)\n",
        "plylst_use.loc[:, 'num_tags'] = plylst_use['tags_id'].map(len)\n",
        "plylst_use = plylst_use.set_index('nid')\n",
        "# 나누기\n",
        "plylst_train = plylst_use.iloc[:n_train, :]\n",
        "plylst_val = plylst_use.iloc[n_train:, :]\n",
        "\n",
        "plylst_train.head(2)"
      ],
      "execution_count": null,
      "outputs": [
        {
          "output_type": "execute_result",
          "data": {
            "text/html": [
              "<div>\n",
              "<style scoped>\n",
              "    .dataframe tbody tr th:only-of-type {\n",
              "        vertical-align: middle;\n",
              "    }\n",
              "\n",
              "    .dataframe tbody tr th {\n",
              "        vertical-align: top;\n",
              "    }\n",
              "\n",
              "    .dataframe thead th {\n",
              "        text-align: right;\n",
              "    }\n",
              "</style>\n",
              "<table border=\"1\" class=\"dataframe\">\n",
              "  <thead>\n",
              "    <tr style=\"text-align: right;\">\n",
              "      <th></th>\n",
              "      <th>istrain</th>\n",
              "      <th>updt_date</th>\n",
              "      <th>songs_id</th>\n",
              "      <th>tags_id</th>\n",
              "      <th>num_songs</th>\n",
              "      <th>num_tags</th>\n",
              "    </tr>\n",
              "    <tr>\n",
              "      <th>nid</th>\n",
              "      <th></th>\n",
              "      <th></th>\n",
              "      <th></th>\n",
              "      <th></th>\n",
              "      <th></th>\n",
              "      <th></th>\n",
              "    </tr>\n",
              "  </thead>\n",
              "  <tbody>\n",
              "    <tr>\n",
              "      <th>0</th>\n",
              "      <td>1</td>\n",
              "      <td>2013-12-19 18:36:19.000</td>\n",
              "      <td>[0, 1, 2, 3, 4, 5]</td>\n",
              "      <td>[0]</td>\n",
              "      <td>6</td>\n",
              "      <td>1</td>\n",
              "    </tr>\n",
              "    <tr>\n",
              "      <th>1</th>\n",
              "      <td>1</td>\n",
              "      <td>2014-12-02 16:19:42.000</td>\n",
              "      <td>[6, 7, 8, 9, 10, 11, 12, 13, 14, 15, 16, 17, 1...</td>\n",
              "      <td>[1, 2]</td>\n",
              "      <td>33</td>\n",
              "      <td>2</td>\n",
              "    </tr>\n",
              "  </tbody>\n",
              "</table>\n",
              "</div>"
            ],
            "text/plain": [
              "     istrain                updt_date  ... num_songs num_tags\n",
              "nid                                    ...                   \n",
              "0          1  2013-12-19 18:36:19.000  ...         6        1\n",
              "1          1  2014-12-02 16:19:42.000  ...        33        2\n",
              "\n",
              "[2 rows x 6 columns]"
            ]
          },
          "metadata": {
            "tags": []
          },
          "execution_count": 13
        }
      ]
    },
    {
      "cell_type": "markdown",
      "metadata": {
        "id": "3JSPiCNoxRwv"
      },
      "source": [
        "## song-gnr-new_id 데이터프레임"
      ]
    },
    {
      "cell_type": "code",
      "metadata": {
        "id": "mkSa85Auuu8O"
      },
      "source": [
        "## 1. 원래 id와 new id\n",
        "id = list(song_id_sid.keys())\n",
        "new_id = list(song_id_sid.values())\n",
        "# 딕셔너리 데이터프레임으로 만들기\n",
        "new_song_df = pd.DataFrame(id, new_id).reset_index()\n",
        "new_song_df = new_song_df.rename(columns={'index':'new_id', 0:'songs'})"
      ],
      "execution_count": null,
      "outputs": []
    },
    {
      "cell_type": "code",
      "metadata": {
        "id": "0xeYoiVYuu5o",
        "colab": {
          "base_uri": "https://localhost:8080/",
          "height": 407
        },
        "outputId": "89b25c61-71fe-4fd7-a1f1-cb3aa847b4d1"
      },
      "source": [
        "new_song_df"
      ],
      "execution_count": null,
      "outputs": [
        {
          "output_type": "execute_result",
          "data": {
            "text/html": [
              "<div>\n",
              "<style scoped>\n",
              "    .dataframe tbody tr th:only-of-type {\n",
              "        vertical-align: middle;\n",
              "    }\n",
              "\n",
              "    .dataframe tbody tr th {\n",
              "        vertical-align: top;\n",
              "    }\n",
              "\n",
              "    .dataframe thead th {\n",
              "        text-align: right;\n",
              "    }\n",
              "</style>\n",
              "<table border=\"1\" class=\"dataframe\">\n",
              "  <thead>\n",
              "    <tr style=\"text-align: right;\">\n",
              "      <th></th>\n",
              "      <th>new_id</th>\n",
              "      <th>songs</th>\n",
              "    </tr>\n",
              "  </thead>\n",
              "  <tbody>\n",
              "    <tr>\n",
              "      <th>0</th>\n",
              "      <td>0</td>\n",
              "      <td>562083</td>\n",
              "    </tr>\n",
              "    <tr>\n",
              "      <th>1</th>\n",
              "      <td>1</td>\n",
              "      <td>297861</td>\n",
              "    </tr>\n",
              "    <tr>\n",
              "      <th>2</th>\n",
              "      <td>2</td>\n",
              "      <td>139541</td>\n",
              "    </tr>\n",
              "    <tr>\n",
              "      <th>3</th>\n",
              "      <td>3</td>\n",
              "      <td>650298</td>\n",
              "    </tr>\n",
              "    <tr>\n",
              "      <th>4</th>\n",
              "      <td>4</td>\n",
              "      <td>531057</td>\n",
              "    </tr>\n",
              "    <tr>\n",
              "      <th>...</th>\n",
              "      <td>...</td>\n",
              "      <td>...</td>\n",
              "    </tr>\n",
              "    <tr>\n",
              "      <th>166974</th>\n",
              "      <td>166974</td>\n",
              "      <td>328334</td>\n",
              "    </tr>\n",
              "    <tr>\n",
              "      <th>166975</th>\n",
              "      <td>166975</td>\n",
              "      <td>586564</td>\n",
              "    </tr>\n",
              "    <tr>\n",
              "      <th>166976</th>\n",
              "      <td>166976</td>\n",
              "      <td>444003</td>\n",
              "    </tr>\n",
              "    <tr>\n",
              "      <th>166977</th>\n",
              "      <td>166977</td>\n",
              "      <td>665833</td>\n",
              "    </tr>\n",
              "    <tr>\n",
              "      <th>166978</th>\n",
              "      <td>166978</td>\n",
              "      <td>688145</td>\n",
              "    </tr>\n",
              "  </tbody>\n",
              "</table>\n",
              "<p>166979 rows × 2 columns</p>\n",
              "</div>"
            ],
            "text/plain": [
              "        new_id   songs\n",
              "0            0  562083\n",
              "1            1  297861\n",
              "2            2  139541\n",
              "3            3  650298\n",
              "4            4  531057\n",
              "...        ...     ...\n",
              "166974  166974  328334\n",
              "166975  166975  586564\n",
              "166976  166976  444003\n",
              "166977  166977  665833\n",
              "166978  166978  688145\n",
              "\n",
              "[166979 rows x 2 columns]"
            ]
          },
          "metadata": {
            "tags": []
          },
          "execution_count": 15
        }
      ]
    },
    {
      "cell_type": "code",
      "metadata": {
        "id": "HIw8L6_J1WSv",
        "colab": {
          "base_uri": "https://localhost:8080/",
          "height": 77
        },
        "outputId": "3db5f0ed-3a51-46c7-dc0b-7098604487e2"
      },
      "source": [
        "new_song_df[new_song_df['new_id']==83106]"
      ],
      "execution_count": null,
      "outputs": [
        {
          "output_type": "execute_result",
          "data": {
            "text/html": [
              "<div>\n",
              "<style scoped>\n",
              "    .dataframe tbody tr th:only-of-type {\n",
              "        vertical-align: middle;\n",
              "    }\n",
              "\n",
              "    .dataframe tbody tr th {\n",
              "        vertical-align: top;\n",
              "    }\n",
              "\n",
              "    .dataframe thead th {\n",
              "        text-align: right;\n",
              "    }\n",
              "</style>\n",
              "<table border=\"1\" class=\"dataframe\">\n",
              "  <thead>\n",
              "    <tr style=\"text-align: right;\">\n",
              "      <th></th>\n",
              "      <th>new_id</th>\n",
              "      <th>songs</th>\n",
              "    </tr>\n",
              "  </thead>\n",
              "  <tbody>\n",
              "    <tr>\n",
              "      <th>83106</th>\n",
              "      <td>83106</td>\n",
              "      <td>336285</td>\n",
              "    </tr>\n",
              "  </tbody>\n",
              "</table>\n",
              "</div>"
            ],
            "text/plain": [
              "       new_id   songs\n",
              "83106   83106  336285"
            ]
          },
          "metadata": {
            "tags": []
          },
          "execution_count": 16
        }
      ]
    },
    {
      "cell_type": "code",
      "metadata": {
        "id": "FtA9VtMC5vus",
        "colab": {
          "base_uri": "https://localhost:8080/",
          "height": 77
        },
        "outputId": "62a5e186-4037-4a65-d3da-4a471bb9b970"
      },
      "source": [
        "song_meta[song_meta['id']==344058] # 왜 제거가 안됐지......."
      ],
      "execution_count": null,
      "outputs": [
        {
          "output_type": "execute_result",
          "data": {
            "text/html": [
              "<div>\n",
              "<style scoped>\n",
              "    .dataframe tbody tr th:only-of-type {\n",
              "        vertical-align: middle;\n",
              "    }\n",
              "\n",
              "    .dataframe tbody tr th {\n",
              "        vertical-align: top;\n",
              "    }\n",
              "\n",
              "    .dataframe thead th {\n",
              "        text-align: right;\n",
              "    }\n",
              "</style>\n",
              "<table border=\"1\" class=\"dataframe\">\n",
              "  <thead>\n",
              "    <tr style=\"text-align: right;\">\n",
              "      <th></th>\n",
              "      <th>song_gn_dtl_gnr_basket</th>\n",
              "      <th>issue_date</th>\n",
              "      <th>album_name</th>\n",
              "      <th>album_id</th>\n",
              "      <th>artist_id_basket</th>\n",
              "      <th>song_name</th>\n",
              "      <th>song_gn_gnr_basket</th>\n",
              "      <th>artist_name_basket</th>\n",
              "      <th>id</th>\n",
              "    </tr>\n",
              "  </thead>\n",
              "  <tbody>\n",
              "    <tr>\n",
              "      <th>344058</th>\n",
              "      <td>[]</td>\n",
              "      <td>20200331</td>\n",
              "      <td>아무렇지 않게, 안녕</td>\n",
              "      <td>10410478</td>\n",
              "      <td>[1229685]</td>\n",
              "      <td>여행의 색깔 (Feat. 스무살)</td>\n",
              "      <td>[]</td>\n",
              "      <td>[HYNN (박혜원)]</td>\n",
              "      <td>344058</td>\n",
              "    </tr>\n",
              "  </tbody>\n",
              "</table>\n",
              "</div>"
            ],
            "text/plain": [
              "       song_gn_dtl_gnr_basket  issue_date  ... artist_name_basket      id\n",
              "344058                     []    20200331  ...       [HYNN (박혜원)]  344058\n",
              "\n",
              "[1 rows x 9 columns]"
            ]
          },
          "metadata": {
            "tags": []
          },
          "execution_count": 17
        }
      ]
    },
    {
      "cell_type": "code",
      "metadata": {
        "id": "bLSzji3UxmBP"
      },
      "source": [
        "# ## 2. 원래 song id와 장르 \n",
        "song_meta = pd.read_json('/content/gdrive/My Drive/Colab Notebooks/머신/song_meta.json', typ = 'frame',encoding='UTF-8')\n",
        "# song_meta['song_gn_gnr_basket'] = song_meta['song_gn_gnr_basket'].apply(list_to_nan)\n",
        "# song_meta['song_gn_gnr_basket'].isnull().sum()\n",
        "# song_meta = song_meta.dropna() # 장르 없는노래 애초에 제거하고 시작함(환멸이 나서 안되겠다;;;)"
      ],
      "execution_count": null,
      "outputs": []
    },
    {
      "cell_type": "code",
      "metadata": {
        "id": "0hl_--r22aTm",
        "colab": {
          "base_uri": "https://localhost:8080/",
          "height": 77
        },
        "outputId": "5f96129c-156c-4eeb-f72f-217439537bb2"
      },
      "source": [
        "song_meta[song_meta['id']==143209]"
      ],
      "execution_count": null,
      "outputs": [
        {
          "output_type": "execute_result",
          "data": {
            "text/html": [
              "<div>\n",
              "<style scoped>\n",
              "    .dataframe tbody tr th:only-of-type {\n",
              "        vertical-align: middle;\n",
              "    }\n",
              "\n",
              "    .dataframe tbody tr th {\n",
              "        vertical-align: top;\n",
              "    }\n",
              "\n",
              "    .dataframe thead th {\n",
              "        text-align: right;\n",
              "    }\n",
              "</style>\n",
              "<table border=\"1\" class=\"dataframe\">\n",
              "  <thead>\n",
              "    <tr style=\"text-align: right;\">\n",
              "      <th></th>\n",
              "      <th>song_gn_dtl_gnr_basket</th>\n",
              "      <th>issue_date</th>\n",
              "      <th>album_name</th>\n",
              "      <th>album_id</th>\n",
              "      <th>artist_id_basket</th>\n",
              "      <th>song_name</th>\n",
              "      <th>song_gn_gnr_basket</th>\n",
              "      <th>artist_name_basket</th>\n",
              "      <th>id</th>\n",
              "    </tr>\n",
              "  </thead>\n",
              "  <tbody>\n",
              "    <tr>\n",
              "      <th>143209</th>\n",
              "      <td>[GN0501, GN0601, GN0503, GN0606, GN0509]</td>\n",
              "      <td>20150522</td>\n",
              "      <td>None</td>\n",
              "      <td>2318271</td>\n",
              "      <td>[726168]</td>\n",
              "      <td>사랑바보</td>\n",
              "      <td>[GN0500, GN0600]</td>\n",
              "      <td>[민은서밴드]</td>\n",
              "      <td>143209</td>\n",
              "    </tr>\n",
              "  </tbody>\n",
              "</table>\n",
              "</div>"
            ],
            "text/plain": [
              "                          song_gn_dtl_gnr_basket  ...      id\n",
              "143209  [GN0501, GN0601, GN0503, GN0606, GN0509]  ...  143209\n",
              "\n",
              "[1 rows x 9 columns]"
            ]
          },
          "metadata": {
            "tags": []
          },
          "execution_count": 19
        }
      ]
    },
    {
      "cell_type": "code",
      "metadata": {
        "id": "eHJmotoHwmXF"
      },
      "source": [
        "## song_장르 matrix\n",
        "song_gnr_map = song_meta.loc[:, ['id', 'song_gn_gnr_basket']]\n",
        "song_gnr_map['song_gn_gnr_basket'] = song_gnr_map.song_gn_gnr_basket.apply(lambda x: x if len(x) >= 1 else [None]) # 마법이다.....\n",
        "\n",
        "# unnest song_gn_dtl_gnr_basket\n",
        "song_gnr_map_unnest = np.dstack(\n",
        "    (\n",
        "        np.repeat(song_gnr_map.id.values, list(map(len, song_gnr_map.song_gn_gnr_basket))), \n",
        "        np.concatenate(song_gnr_map.song_gn_gnr_basket.values)\n",
        "    )\n",
        ")\n",
        "\n",
        "# unnested 데이터프레임 생성 : song_gnr_map\n",
        "song_gnr_map = pd.DataFrame(data = song_gnr_map_unnest[0], columns = song_gnr_map.columns)\n",
        "song_gnr_map['id'] = song_gnr_map['id'].astype(str)\n",
        "song_gnr_map.rename(columns = {'id' : 'songs', 'song_gn_gnr_basket' : 'gnr_code'}, inplace = True)"
      ],
      "execution_count": null,
      "outputs": []
    },
    {
      "cell_type": "code",
      "metadata": {
        "id": "EkKHNvgEwmUb",
        "colab": {
          "base_uri": "https://localhost:8080/",
          "height": 407
        },
        "outputId": "f51fdbef-eafc-4536-e8c2-e23c7a59dc63"
      },
      "source": [
        "song_gnr_map # 모든 song에 대한 장르정보 데이터"
      ],
      "execution_count": null,
      "outputs": [
        {
          "output_type": "execute_result",
          "data": {
            "text/html": [
              "<div>\n",
              "<style scoped>\n",
              "    .dataframe tbody tr th:only-of-type {\n",
              "        vertical-align: middle;\n",
              "    }\n",
              "\n",
              "    .dataframe tbody tr th {\n",
              "        vertical-align: top;\n",
              "    }\n",
              "\n",
              "    .dataframe thead th {\n",
              "        text-align: right;\n",
              "    }\n",
              "</style>\n",
              "<table border=\"1\" class=\"dataframe\">\n",
              "  <thead>\n",
              "    <tr style=\"text-align: right;\">\n",
              "      <th></th>\n",
              "      <th>songs</th>\n",
              "      <th>gnr_code</th>\n",
              "    </tr>\n",
              "  </thead>\n",
              "  <tbody>\n",
              "    <tr>\n",
              "      <th>0</th>\n",
              "      <td>0</td>\n",
              "      <td>GN0900</td>\n",
              "    </tr>\n",
              "    <tr>\n",
              "      <th>1</th>\n",
              "      <td>1</td>\n",
              "      <td>GN1600</td>\n",
              "    </tr>\n",
              "    <tr>\n",
              "      <th>2</th>\n",
              "      <td>2</td>\n",
              "      <td>GN0900</td>\n",
              "    </tr>\n",
              "    <tr>\n",
              "      <th>3</th>\n",
              "      <td>3</td>\n",
              "      <td>GN1100</td>\n",
              "    </tr>\n",
              "    <tr>\n",
              "      <th>4</th>\n",
              "      <td>4</td>\n",
              "      <td>GN1800</td>\n",
              "    </tr>\n",
              "    <tr>\n",
              "      <th>...</th>\n",
              "      <td>...</td>\n",
              "      <td>...</td>\n",
              "    </tr>\n",
              "    <tr>\n",
              "      <th>803913</th>\n",
              "      <td>707984</td>\n",
              "      <td>GN2000</td>\n",
              "    </tr>\n",
              "    <tr>\n",
              "      <th>803914</th>\n",
              "      <td>707985</td>\n",
              "      <td>GN0900</td>\n",
              "    </tr>\n",
              "    <tr>\n",
              "      <th>803915</th>\n",
              "      <td>707986</td>\n",
              "      <td>GN0100</td>\n",
              "    </tr>\n",
              "    <tr>\n",
              "      <th>803916</th>\n",
              "      <td>707987</td>\n",
              "      <td>GN1800</td>\n",
              "    </tr>\n",
              "    <tr>\n",
              "      <th>803917</th>\n",
              "      <td>707988</td>\n",
              "      <td>GN0600</td>\n",
              "    </tr>\n",
              "  </tbody>\n",
              "</table>\n",
              "<p>803918 rows × 2 columns</p>\n",
              "</div>"
            ],
            "text/plain": [
              "         songs gnr_code\n",
              "0            0   GN0900\n",
              "1            1   GN1600\n",
              "2            2   GN0900\n",
              "3            3   GN1100\n",
              "4            4   GN1800\n",
              "...        ...      ...\n",
              "803913  707984   GN2000\n",
              "803914  707985   GN0900\n",
              "803915  707986   GN0100\n",
              "803916  707987   GN1800\n",
              "803917  707988   GN0600\n",
              "\n",
              "[803918 rows x 2 columns]"
            ]
          },
          "metadata": {
            "tags": []
          },
          "execution_count": 21
        }
      ]
    },
    {
      "cell_type": "code",
      "metadata": {
        "id": "xq3VKrxYym9V"
      },
      "source": [
        "# 두 데이터프레임 합치기\n",
        "song_gnr_map['songs'] = song_gnr_map['songs'].astype(int)\n",
        "gnr_song = pd.merge(song_gnr_map, new_song_df, on='songs').fillna('장르없음').sort_values(by='new_id').reset_index()\n",
        "gnr_song.drop(['index'], axis=1, inplace=True)"
      ],
      "execution_count": null,
      "outputs": []
    },
    {
      "cell_type": "code",
      "metadata": {
        "id": "tDUfaL2kwmSC",
        "colab": {
          "base_uri": "https://localhost:8080/",
          "height": 407
        },
        "outputId": "bb3b9b39-04f1-4f70-d8ef-ebea0df6b361"
      },
      "source": [
        "gnr_song"
      ],
      "execution_count": null,
      "outputs": [
        {
          "output_type": "execute_result",
          "data": {
            "text/html": [
              "<div>\n",
              "<style scoped>\n",
              "    .dataframe tbody tr th:only-of-type {\n",
              "        vertical-align: middle;\n",
              "    }\n",
              "\n",
              "    .dataframe tbody tr th {\n",
              "        vertical-align: top;\n",
              "    }\n",
              "\n",
              "    .dataframe thead th {\n",
              "        text-align: right;\n",
              "    }\n",
              "</style>\n",
              "<table border=\"1\" class=\"dataframe\">\n",
              "  <thead>\n",
              "    <tr style=\"text-align: right;\">\n",
              "      <th></th>\n",
              "      <th>songs</th>\n",
              "      <th>gnr_code</th>\n",
              "      <th>new_id</th>\n",
              "    </tr>\n",
              "  </thead>\n",
              "  <tbody>\n",
              "    <tr>\n",
              "      <th>0</th>\n",
              "      <td>562083</td>\n",
              "      <td>GN1000</td>\n",
              "      <td>0</td>\n",
              "    </tr>\n",
              "    <tr>\n",
              "      <th>1</th>\n",
              "      <td>562083</td>\n",
              "      <td>GN0900</td>\n",
              "      <td>0</td>\n",
              "    </tr>\n",
              "    <tr>\n",
              "      <th>2</th>\n",
              "      <td>297861</td>\n",
              "      <td>GN0900</td>\n",
              "      <td>1</td>\n",
              "    </tr>\n",
              "    <tr>\n",
              "      <th>3</th>\n",
              "      <td>297861</td>\n",
              "      <td>GN1000</td>\n",
              "      <td>1</td>\n",
              "    </tr>\n",
              "    <tr>\n",
              "      <th>4</th>\n",
              "      <td>139541</td>\n",
              "      <td>GN1000</td>\n",
              "      <td>2</td>\n",
              "    </tr>\n",
              "    <tr>\n",
              "      <th>...</th>\n",
              "      <td>...</td>\n",
              "      <td>...</td>\n",
              "      <td>...</td>\n",
              "    </tr>\n",
              "    <tr>\n",
              "      <th>203422</th>\n",
              "      <td>328334</td>\n",
              "      <td>GN0800</td>\n",
              "      <td>166974</td>\n",
              "    </tr>\n",
              "    <tr>\n",
              "      <th>203423</th>\n",
              "      <td>586564</td>\n",
              "      <td>GN0100</td>\n",
              "      <td>166975</td>\n",
              "    </tr>\n",
              "    <tr>\n",
              "      <th>203424</th>\n",
              "      <td>444003</td>\n",
              "      <td>GN0100</td>\n",
              "      <td>166976</td>\n",
              "    </tr>\n",
              "    <tr>\n",
              "      <th>203425</th>\n",
              "      <td>665833</td>\n",
              "      <td>GN1600</td>\n",
              "      <td>166977</td>\n",
              "    </tr>\n",
              "    <tr>\n",
              "      <th>203426</th>\n",
              "      <td>688145</td>\n",
              "      <td>GN1600</td>\n",
              "      <td>166978</td>\n",
              "    </tr>\n",
              "  </tbody>\n",
              "</table>\n",
              "<p>203427 rows × 3 columns</p>\n",
              "</div>"
            ],
            "text/plain": [
              "         songs gnr_code  new_id\n",
              "0       562083   GN1000       0\n",
              "1       562083   GN0900       0\n",
              "2       297861   GN0900       1\n",
              "3       297861   GN1000       1\n",
              "4       139541   GN1000       2\n",
              "...        ...      ...     ...\n",
              "203422  328334   GN0800  166974\n",
              "203423  586564   GN0100  166975\n",
              "203424  444003   GN0100  166976\n",
              "203425  665833   GN1600  166977\n",
              "203426  688145   GN1600  166978\n",
              "\n",
              "[203427 rows x 3 columns]"
            ]
          },
          "metadata": {
            "tags": []
          },
          "execution_count": 23
        }
      ]
    },
    {
      "cell_type": "code",
      "metadata": {
        "id": "SuDHXNQ53WZ5"
      },
      "source": [
        "gnr_song['new_id'] = gnr_song['new_id'].drop_duplicates()"
      ],
      "execution_count": null,
      "outputs": []
    },
    {
      "cell_type": "code",
      "metadata": {
        "id": "O0Z5aivE3fYU"
      },
      "source": [
        "gnr_song = gnr_song.dropna()"
      ],
      "execution_count": null,
      "outputs": []
    },
    {
      "cell_type": "code",
      "metadata": {
        "id": "_-pxBFBQ41t1",
        "colab": {
          "base_uri": "https://localhost:8080/",
          "height": 407
        },
        "outputId": "05f20f7d-c87e-4da1-85e7-c3966480c092"
      },
      "source": [
        "gnr_song"
      ],
      "execution_count": null,
      "outputs": [
        {
          "output_type": "execute_result",
          "data": {
            "text/html": [
              "<div>\n",
              "<style scoped>\n",
              "    .dataframe tbody tr th:only-of-type {\n",
              "        vertical-align: middle;\n",
              "    }\n",
              "\n",
              "    .dataframe tbody tr th {\n",
              "        vertical-align: top;\n",
              "    }\n",
              "\n",
              "    .dataframe thead th {\n",
              "        text-align: right;\n",
              "    }\n",
              "</style>\n",
              "<table border=\"1\" class=\"dataframe\">\n",
              "  <thead>\n",
              "    <tr style=\"text-align: right;\">\n",
              "      <th></th>\n",
              "      <th>songs</th>\n",
              "      <th>gnr_code</th>\n",
              "      <th>new_id</th>\n",
              "    </tr>\n",
              "  </thead>\n",
              "  <tbody>\n",
              "    <tr>\n",
              "      <th>0</th>\n",
              "      <td>562083</td>\n",
              "      <td>GN1000</td>\n",
              "      <td>0.0</td>\n",
              "    </tr>\n",
              "    <tr>\n",
              "      <th>2</th>\n",
              "      <td>297861</td>\n",
              "      <td>GN0900</td>\n",
              "      <td>1.0</td>\n",
              "    </tr>\n",
              "    <tr>\n",
              "      <th>4</th>\n",
              "      <td>139541</td>\n",
              "      <td>GN1000</td>\n",
              "      <td>2.0</td>\n",
              "    </tr>\n",
              "    <tr>\n",
              "      <th>6</th>\n",
              "      <td>650298</td>\n",
              "      <td>GN0900</td>\n",
              "      <td>3.0</td>\n",
              "    </tr>\n",
              "    <tr>\n",
              "      <th>7</th>\n",
              "      <td>531057</td>\n",
              "      <td>GN1300</td>\n",
              "      <td>4.0</td>\n",
              "    </tr>\n",
              "    <tr>\n",
              "      <th>...</th>\n",
              "      <td>...</td>\n",
              "      <td>...</td>\n",
              "      <td>...</td>\n",
              "    </tr>\n",
              "    <tr>\n",
              "      <th>203422</th>\n",
              "      <td>328334</td>\n",
              "      <td>GN0800</td>\n",
              "      <td>166974.0</td>\n",
              "    </tr>\n",
              "    <tr>\n",
              "      <th>203423</th>\n",
              "      <td>586564</td>\n",
              "      <td>GN0100</td>\n",
              "      <td>166975.0</td>\n",
              "    </tr>\n",
              "    <tr>\n",
              "      <th>203424</th>\n",
              "      <td>444003</td>\n",
              "      <td>GN0100</td>\n",
              "      <td>166976.0</td>\n",
              "    </tr>\n",
              "    <tr>\n",
              "      <th>203425</th>\n",
              "      <td>665833</td>\n",
              "      <td>GN1600</td>\n",
              "      <td>166977.0</td>\n",
              "    </tr>\n",
              "    <tr>\n",
              "      <th>203426</th>\n",
              "      <td>688145</td>\n",
              "      <td>GN1600</td>\n",
              "      <td>166978.0</td>\n",
              "    </tr>\n",
              "  </tbody>\n",
              "</table>\n",
              "<p>166979 rows × 3 columns</p>\n",
              "</div>"
            ],
            "text/plain": [
              "         songs gnr_code    new_id\n",
              "0       562083   GN1000       0.0\n",
              "2       297861   GN0900       1.0\n",
              "4       139541   GN1000       2.0\n",
              "6       650298   GN0900       3.0\n",
              "7       531057   GN1300       4.0\n",
              "...        ...      ...       ...\n",
              "203422  328334   GN0800  166974.0\n",
              "203423  586564   GN0100  166975.0\n",
              "203424  444003   GN0100  166976.0\n",
              "203425  665833   GN1600  166977.0\n",
              "203426  688145   GN1600  166978.0\n",
              "\n",
              "[166979 rows x 3 columns]"
            ]
          },
          "metadata": {
            "tags": []
          },
          "execution_count": 26
        }
      ]
    },
    {
      "cell_type": "code",
      "metadata": {
        "id": "TmSFcFKVwmPE"
      },
      "source": [
        "f1 = pd.pivot_table(data = gnr_song,index='new_id',columns='gnr_code',aggfunc='count',fill_value=0, margins=True)\n",
        "f1 = f1.iloc[:-1,:-1].div(f1.iloc[:-1,-1], axis=0).reset_index()\n",
        "f1['new_id'] = f1['new_id'].map(lambda x : int(x))"
      ],
      "execution_count": null,
      "outputs": []
    },
    {
      "cell_type": "code",
      "metadata": {
        "id": "1vGjAOvlza7y"
      },
      "source": [
        "f1.drop(['new_id'], axis=1, inplace=True)"
      ],
      "execution_count": null,
      "outputs": []
    },
    {
      "cell_type": "code",
      "metadata": {
        "id": "GJ6hzeP_za4U",
        "colab": {
          "base_uri": "https://localhost:8080/",
          "height": 507
        },
        "outputId": "6db9ee9b-3248-4c63-8b39-845f6d333f3c"
      },
      "source": [
        "f1 # 너무 sparse 한가.................."
      ],
      "execution_count": null,
      "outputs": [
        {
          "output_type": "execute_result",
          "data": {
            "text/html": [
              "<div>\n",
              "<style scoped>\n",
              "    .dataframe tbody tr th:only-of-type {\n",
              "        vertical-align: middle;\n",
              "    }\n",
              "\n",
              "    .dataframe tbody tr th {\n",
              "        vertical-align: top;\n",
              "    }\n",
              "\n",
              "    .dataframe thead tr th {\n",
              "        text-align: left;\n",
              "    }\n",
              "</style>\n",
              "<table border=\"1\" class=\"dataframe\">\n",
              "  <thead>\n",
              "    <tr>\n",
              "      <th></th>\n",
              "      <th colspan=\"31\" halign=\"left\">songs</th>\n",
              "    </tr>\n",
              "    <tr>\n",
              "      <th>gnr_code</th>\n",
              "      <th>GN0100</th>\n",
              "      <th>GN0200</th>\n",
              "      <th>GN0300</th>\n",
              "      <th>GN0400</th>\n",
              "      <th>GN0500</th>\n",
              "      <th>GN0600</th>\n",
              "      <th>GN0700</th>\n",
              "      <th>GN0800</th>\n",
              "      <th>GN0900</th>\n",
              "      <th>GN1000</th>\n",
              "      <th>GN1100</th>\n",
              "      <th>GN1200</th>\n",
              "      <th>GN1300</th>\n",
              "      <th>GN1400</th>\n",
              "      <th>GN1500</th>\n",
              "      <th>GN1600</th>\n",
              "      <th>GN1700</th>\n",
              "      <th>GN1800</th>\n",
              "      <th>GN1900</th>\n",
              "      <th>GN2000</th>\n",
              "      <th>GN2100</th>\n",
              "      <th>GN2200</th>\n",
              "      <th>GN2300</th>\n",
              "      <th>GN2400</th>\n",
              "      <th>GN2500</th>\n",
              "      <th>GN2600</th>\n",
              "      <th>GN2700</th>\n",
              "      <th>GN2800</th>\n",
              "      <th>GN2900</th>\n",
              "      <th>GN9000</th>\n",
              "      <th>장르없음</th>\n",
              "    </tr>\n",
              "  </thead>\n",
              "  <tbody>\n",
              "    <tr>\n",
              "      <th>0</th>\n",
              "      <td>0.0</td>\n",
              "      <td>0.0</td>\n",
              "      <td>0.0</td>\n",
              "      <td>0.0</td>\n",
              "      <td>0.0</td>\n",
              "      <td>0.0</td>\n",
              "      <td>0.0</td>\n",
              "      <td>0.0</td>\n",
              "      <td>0.0</td>\n",
              "      <td>1.0</td>\n",
              "      <td>0.0</td>\n",
              "      <td>0.0</td>\n",
              "      <td>0.0</td>\n",
              "      <td>0.0</td>\n",
              "      <td>0.0</td>\n",
              "      <td>0.0</td>\n",
              "      <td>0.0</td>\n",
              "      <td>0.0</td>\n",
              "      <td>0.0</td>\n",
              "      <td>0.0</td>\n",
              "      <td>0.0</td>\n",
              "      <td>0.0</td>\n",
              "      <td>0.0</td>\n",
              "      <td>0.0</td>\n",
              "      <td>0.0</td>\n",
              "      <td>0.0</td>\n",
              "      <td>0.0</td>\n",
              "      <td>0.0</td>\n",
              "      <td>0.0</td>\n",
              "      <td>0.0</td>\n",
              "      <td>0.0</td>\n",
              "    </tr>\n",
              "    <tr>\n",
              "      <th>1</th>\n",
              "      <td>0.0</td>\n",
              "      <td>0.0</td>\n",
              "      <td>0.0</td>\n",
              "      <td>0.0</td>\n",
              "      <td>0.0</td>\n",
              "      <td>0.0</td>\n",
              "      <td>0.0</td>\n",
              "      <td>0.0</td>\n",
              "      <td>1.0</td>\n",
              "      <td>0.0</td>\n",
              "      <td>0.0</td>\n",
              "      <td>0.0</td>\n",
              "      <td>0.0</td>\n",
              "      <td>0.0</td>\n",
              "      <td>0.0</td>\n",
              "      <td>0.0</td>\n",
              "      <td>0.0</td>\n",
              "      <td>0.0</td>\n",
              "      <td>0.0</td>\n",
              "      <td>0.0</td>\n",
              "      <td>0.0</td>\n",
              "      <td>0.0</td>\n",
              "      <td>0.0</td>\n",
              "      <td>0.0</td>\n",
              "      <td>0.0</td>\n",
              "      <td>0.0</td>\n",
              "      <td>0.0</td>\n",
              "      <td>0.0</td>\n",
              "      <td>0.0</td>\n",
              "      <td>0.0</td>\n",
              "      <td>0.0</td>\n",
              "    </tr>\n",
              "    <tr>\n",
              "      <th>2</th>\n",
              "      <td>0.0</td>\n",
              "      <td>0.0</td>\n",
              "      <td>0.0</td>\n",
              "      <td>0.0</td>\n",
              "      <td>0.0</td>\n",
              "      <td>0.0</td>\n",
              "      <td>0.0</td>\n",
              "      <td>0.0</td>\n",
              "      <td>0.0</td>\n",
              "      <td>1.0</td>\n",
              "      <td>0.0</td>\n",
              "      <td>0.0</td>\n",
              "      <td>0.0</td>\n",
              "      <td>0.0</td>\n",
              "      <td>0.0</td>\n",
              "      <td>0.0</td>\n",
              "      <td>0.0</td>\n",
              "      <td>0.0</td>\n",
              "      <td>0.0</td>\n",
              "      <td>0.0</td>\n",
              "      <td>0.0</td>\n",
              "      <td>0.0</td>\n",
              "      <td>0.0</td>\n",
              "      <td>0.0</td>\n",
              "      <td>0.0</td>\n",
              "      <td>0.0</td>\n",
              "      <td>0.0</td>\n",
              "      <td>0.0</td>\n",
              "      <td>0.0</td>\n",
              "      <td>0.0</td>\n",
              "      <td>0.0</td>\n",
              "    </tr>\n",
              "    <tr>\n",
              "      <th>3</th>\n",
              "      <td>0.0</td>\n",
              "      <td>0.0</td>\n",
              "      <td>0.0</td>\n",
              "      <td>0.0</td>\n",
              "      <td>0.0</td>\n",
              "      <td>0.0</td>\n",
              "      <td>0.0</td>\n",
              "      <td>0.0</td>\n",
              "      <td>1.0</td>\n",
              "      <td>0.0</td>\n",
              "      <td>0.0</td>\n",
              "      <td>0.0</td>\n",
              "      <td>0.0</td>\n",
              "      <td>0.0</td>\n",
              "      <td>0.0</td>\n",
              "      <td>0.0</td>\n",
              "      <td>0.0</td>\n",
              "      <td>0.0</td>\n",
              "      <td>0.0</td>\n",
              "      <td>0.0</td>\n",
              "      <td>0.0</td>\n",
              "      <td>0.0</td>\n",
              "      <td>0.0</td>\n",
              "      <td>0.0</td>\n",
              "      <td>0.0</td>\n",
              "      <td>0.0</td>\n",
              "      <td>0.0</td>\n",
              "      <td>0.0</td>\n",
              "      <td>0.0</td>\n",
              "      <td>0.0</td>\n",
              "      <td>0.0</td>\n",
              "    </tr>\n",
              "    <tr>\n",
              "      <th>4</th>\n",
              "      <td>0.0</td>\n",
              "      <td>0.0</td>\n",
              "      <td>0.0</td>\n",
              "      <td>0.0</td>\n",
              "      <td>0.0</td>\n",
              "      <td>0.0</td>\n",
              "      <td>0.0</td>\n",
              "      <td>0.0</td>\n",
              "      <td>0.0</td>\n",
              "      <td>0.0</td>\n",
              "      <td>0.0</td>\n",
              "      <td>0.0</td>\n",
              "      <td>1.0</td>\n",
              "      <td>0.0</td>\n",
              "      <td>0.0</td>\n",
              "      <td>0.0</td>\n",
              "      <td>0.0</td>\n",
              "      <td>0.0</td>\n",
              "      <td>0.0</td>\n",
              "      <td>0.0</td>\n",
              "      <td>0.0</td>\n",
              "      <td>0.0</td>\n",
              "      <td>0.0</td>\n",
              "      <td>0.0</td>\n",
              "      <td>0.0</td>\n",
              "      <td>0.0</td>\n",
              "      <td>0.0</td>\n",
              "      <td>0.0</td>\n",
              "      <td>0.0</td>\n",
              "      <td>0.0</td>\n",
              "      <td>0.0</td>\n",
              "    </tr>\n",
              "    <tr>\n",
              "      <th>...</th>\n",
              "      <td>...</td>\n",
              "      <td>...</td>\n",
              "      <td>...</td>\n",
              "      <td>...</td>\n",
              "      <td>...</td>\n",
              "      <td>...</td>\n",
              "      <td>...</td>\n",
              "      <td>...</td>\n",
              "      <td>...</td>\n",
              "      <td>...</td>\n",
              "      <td>...</td>\n",
              "      <td>...</td>\n",
              "      <td>...</td>\n",
              "      <td>...</td>\n",
              "      <td>...</td>\n",
              "      <td>...</td>\n",
              "      <td>...</td>\n",
              "      <td>...</td>\n",
              "      <td>...</td>\n",
              "      <td>...</td>\n",
              "      <td>...</td>\n",
              "      <td>...</td>\n",
              "      <td>...</td>\n",
              "      <td>...</td>\n",
              "      <td>...</td>\n",
              "      <td>...</td>\n",
              "      <td>...</td>\n",
              "      <td>...</td>\n",
              "      <td>...</td>\n",
              "      <td>...</td>\n",
              "      <td>...</td>\n",
              "    </tr>\n",
              "    <tr>\n",
              "      <th>166974</th>\n",
              "      <td>0.0</td>\n",
              "      <td>0.0</td>\n",
              "      <td>0.0</td>\n",
              "      <td>0.0</td>\n",
              "      <td>0.0</td>\n",
              "      <td>0.0</td>\n",
              "      <td>0.0</td>\n",
              "      <td>1.0</td>\n",
              "      <td>0.0</td>\n",
              "      <td>0.0</td>\n",
              "      <td>0.0</td>\n",
              "      <td>0.0</td>\n",
              "      <td>0.0</td>\n",
              "      <td>0.0</td>\n",
              "      <td>0.0</td>\n",
              "      <td>0.0</td>\n",
              "      <td>0.0</td>\n",
              "      <td>0.0</td>\n",
              "      <td>0.0</td>\n",
              "      <td>0.0</td>\n",
              "      <td>0.0</td>\n",
              "      <td>0.0</td>\n",
              "      <td>0.0</td>\n",
              "      <td>0.0</td>\n",
              "      <td>0.0</td>\n",
              "      <td>0.0</td>\n",
              "      <td>0.0</td>\n",
              "      <td>0.0</td>\n",
              "      <td>0.0</td>\n",
              "      <td>0.0</td>\n",
              "      <td>0.0</td>\n",
              "    </tr>\n",
              "    <tr>\n",
              "      <th>166975</th>\n",
              "      <td>1.0</td>\n",
              "      <td>0.0</td>\n",
              "      <td>0.0</td>\n",
              "      <td>0.0</td>\n",
              "      <td>0.0</td>\n",
              "      <td>0.0</td>\n",
              "      <td>0.0</td>\n",
              "      <td>0.0</td>\n",
              "      <td>0.0</td>\n",
              "      <td>0.0</td>\n",
              "      <td>0.0</td>\n",
              "      <td>0.0</td>\n",
              "      <td>0.0</td>\n",
              "      <td>0.0</td>\n",
              "      <td>0.0</td>\n",
              "      <td>0.0</td>\n",
              "      <td>0.0</td>\n",
              "      <td>0.0</td>\n",
              "      <td>0.0</td>\n",
              "      <td>0.0</td>\n",
              "      <td>0.0</td>\n",
              "      <td>0.0</td>\n",
              "      <td>0.0</td>\n",
              "      <td>0.0</td>\n",
              "      <td>0.0</td>\n",
              "      <td>0.0</td>\n",
              "      <td>0.0</td>\n",
              "      <td>0.0</td>\n",
              "      <td>0.0</td>\n",
              "      <td>0.0</td>\n",
              "      <td>0.0</td>\n",
              "    </tr>\n",
              "    <tr>\n",
              "      <th>166976</th>\n",
              "      <td>1.0</td>\n",
              "      <td>0.0</td>\n",
              "      <td>0.0</td>\n",
              "      <td>0.0</td>\n",
              "      <td>0.0</td>\n",
              "      <td>0.0</td>\n",
              "      <td>0.0</td>\n",
              "      <td>0.0</td>\n",
              "      <td>0.0</td>\n",
              "      <td>0.0</td>\n",
              "      <td>0.0</td>\n",
              "      <td>0.0</td>\n",
              "      <td>0.0</td>\n",
              "      <td>0.0</td>\n",
              "      <td>0.0</td>\n",
              "      <td>0.0</td>\n",
              "      <td>0.0</td>\n",
              "      <td>0.0</td>\n",
              "      <td>0.0</td>\n",
              "      <td>0.0</td>\n",
              "      <td>0.0</td>\n",
              "      <td>0.0</td>\n",
              "      <td>0.0</td>\n",
              "      <td>0.0</td>\n",
              "      <td>0.0</td>\n",
              "      <td>0.0</td>\n",
              "      <td>0.0</td>\n",
              "      <td>0.0</td>\n",
              "      <td>0.0</td>\n",
              "      <td>0.0</td>\n",
              "      <td>0.0</td>\n",
              "    </tr>\n",
              "    <tr>\n",
              "      <th>166977</th>\n",
              "      <td>0.0</td>\n",
              "      <td>0.0</td>\n",
              "      <td>0.0</td>\n",
              "      <td>0.0</td>\n",
              "      <td>0.0</td>\n",
              "      <td>0.0</td>\n",
              "      <td>0.0</td>\n",
              "      <td>0.0</td>\n",
              "      <td>0.0</td>\n",
              "      <td>0.0</td>\n",
              "      <td>0.0</td>\n",
              "      <td>0.0</td>\n",
              "      <td>0.0</td>\n",
              "      <td>0.0</td>\n",
              "      <td>0.0</td>\n",
              "      <td>1.0</td>\n",
              "      <td>0.0</td>\n",
              "      <td>0.0</td>\n",
              "      <td>0.0</td>\n",
              "      <td>0.0</td>\n",
              "      <td>0.0</td>\n",
              "      <td>0.0</td>\n",
              "      <td>0.0</td>\n",
              "      <td>0.0</td>\n",
              "      <td>0.0</td>\n",
              "      <td>0.0</td>\n",
              "      <td>0.0</td>\n",
              "      <td>0.0</td>\n",
              "      <td>0.0</td>\n",
              "      <td>0.0</td>\n",
              "      <td>0.0</td>\n",
              "    </tr>\n",
              "    <tr>\n",
              "      <th>166978</th>\n",
              "      <td>0.0</td>\n",
              "      <td>0.0</td>\n",
              "      <td>0.0</td>\n",
              "      <td>0.0</td>\n",
              "      <td>0.0</td>\n",
              "      <td>0.0</td>\n",
              "      <td>0.0</td>\n",
              "      <td>0.0</td>\n",
              "      <td>0.0</td>\n",
              "      <td>0.0</td>\n",
              "      <td>0.0</td>\n",
              "      <td>0.0</td>\n",
              "      <td>0.0</td>\n",
              "      <td>0.0</td>\n",
              "      <td>0.0</td>\n",
              "      <td>1.0</td>\n",
              "      <td>0.0</td>\n",
              "      <td>0.0</td>\n",
              "      <td>0.0</td>\n",
              "      <td>0.0</td>\n",
              "      <td>0.0</td>\n",
              "      <td>0.0</td>\n",
              "      <td>0.0</td>\n",
              "      <td>0.0</td>\n",
              "      <td>0.0</td>\n",
              "      <td>0.0</td>\n",
              "      <td>0.0</td>\n",
              "      <td>0.0</td>\n",
              "      <td>0.0</td>\n",
              "      <td>0.0</td>\n",
              "      <td>0.0</td>\n",
              "    </tr>\n",
              "  </tbody>\n",
              "</table>\n",
              "<p>166979 rows × 31 columns</p>\n",
              "</div>"
            ],
            "text/plain": [
              "          songs                              ...                                 \n",
              "gnr_code GN0100 GN0200 GN0300 GN0400 GN0500  ... GN2700 GN2800 GN2900 GN9000 장르없음\n",
              "0           0.0    0.0    0.0    0.0    0.0  ...    0.0    0.0    0.0    0.0  0.0\n",
              "1           0.0    0.0    0.0    0.0    0.0  ...    0.0    0.0    0.0    0.0  0.0\n",
              "2           0.0    0.0    0.0    0.0    0.0  ...    0.0    0.0    0.0    0.0  0.0\n",
              "3           0.0    0.0    0.0    0.0    0.0  ...    0.0    0.0    0.0    0.0  0.0\n",
              "4           0.0    0.0    0.0    0.0    0.0  ...    0.0    0.0    0.0    0.0  0.0\n",
              "...         ...    ...    ...    ...    ...  ...    ...    ...    ...    ...  ...\n",
              "166974      0.0    0.0    0.0    0.0    0.0  ...    0.0    0.0    0.0    0.0  0.0\n",
              "166975      1.0    0.0    0.0    0.0    0.0  ...    0.0    0.0    0.0    0.0  0.0\n",
              "166976      1.0    0.0    0.0    0.0    0.0  ...    0.0    0.0    0.0    0.0  0.0\n",
              "166977      0.0    0.0    0.0    0.0    0.0  ...    0.0    0.0    0.0    0.0  0.0\n",
              "166978      0.0    0.0    0.0    0.0    0.0  ...    0.0    0.0    0.0    0.0  0.0\n",
              "\n",
              "[166979 rows x 31 columns]"
            ]
          },
          "metadata": {
            "tags": []
          },
          "execution_count": 29
        }
      ]
    },
    {
      "cell_type": "code",
      "metadata": {
        "id": "gyOpWpekza1O",
        "colab": {
          "base_uri": "https://localhost:8080/",
          "height": 139
        },
        "outputId": "a21055eb-7678-407c-b9c7-9c66fa091d7a"
      },
      "source": [
        "f1_array = f1.values\n",
        "f1_array"
      ],
      "execution_count": null,
      "outputs": [
        {
          "output_type": "execute_result",
          "data": {
            "text/plain": [
              "array([[0., 0., 0., ..., 0., 0., 0.],\n",
              "       [0., 0., 0., ..., 0., 0., 0.],\n",
              "       [0., 0., 0., ..., 0., 0., 0.],\n",
              "       ...,\n",
              "       [1., 0., 0., ..., 0., 0., 0.],\n",
              "       [0., 0., 0., ..., 0., 0., 0.],\n",
              "       [0., 0., 0., ..., 0., 0., 0.]])"
            ]
          },
          "metadata": {
            "tags": []
          },
          "execution_count": 30
        }
      ]
    },
    {
      "cell_type": "code",
      "metadata": {
        "id": "Vo0VQ9PfAqJZ",
        "colab": {
          "base_uri": "https://localhost:8080/",
          "height": 34
        },
        "outputId": "d2ed34cd-e0fd-4c3b-f520-5c73add364ac"
      },
      "source": [
        "f1_array.shape"
      ],
      "execution_count": null,
      "outputs": [
        {
          "output_type": "execute_result",
          "data": {
            "text/plain": [
              "(166979, 31)"
            ]
          },
          "metadata": {
            "tags": []
          },
          "execution_count": 31
        }
      ]
    },
    {
      "cell_type": "code",
      "metadata": {
        "id": "jdfqfyYizazx",
        "colab": {
          "base_uri": "https://localhost:8080/",
          "height": 34
        },
        "outputId": "31d740e2-6b62-43be-9557-18ccd1908fe9"
      },
      "source": [
        "f1_array_T = f1_array.T\n",
        "f1_array_T.shape"
      ],
      "execution_count": null,
      "outputs": [
        {
          "output_type": "execute_result",
          "data": {
            "text/plain": [
              "(31, 166979)"
            ]
          },
          "metadata": {
            "tags": []
          },
          "execution_count": 32
        }
      ]
    },
    {
      "cell_type": "markdown",
      "metadata": {
        "id": "PiYczzqbA0Yw"
      },
      "source": [
        "## 장르-plylst 행렬"
      ]
    },
    {
      "cell_type": "code",
      "metadata": {
        "id": "x6F4zZlXzafT"
      },
      "source": [
        "val = pd.read_json('/content/gdrive/My Drive/Colab Notebooks/머신/val.json', typ = 'frame',encoding='UTF-8')\n",
        "song_meta = pd.read_json('/content/gdrive/My Drive/Colab Notebooks/머신/song_meta.json', typ = 'frame',encoding='UTF-8')\n",
        "train = pd.read_json('/content/gdrive/My Drive/Colab Notebooks/머신/train.json', typ = 'frame', encoding='utf-8')\n",
        "test = pd.read_json('/content/gdrive/My Drive/Colab Notebooks/머신/test.json', typ = 'frame', encoding='utf-8')\n",
        "genre_gn_all = pd.read_json('/content/gdrive/My Drive/Colab Notebooks/머신/genre_gn_all.json', typ = 'series',encoding='utf-8')"
      ],
      "execution_count": null,
      "outputs": []
    },
    {
      "cell_type": "code",
      "metadata": {
        "id": "sbok--9gCQAS"
      },
      "source": [
        "genre_gn_all = pd.DataFrame(genre_gn_all, columns = ['gnr_name']).reset_index().rename(columns = {'index' : 'gnr_code'})\n",
        "gnr_code = genre_gn_all[genre_gn_all['gnr_code'].str[-2:] == '00']"
      ],
      "execution_count": null,
      "outputs": []
    },
    {
      "cell_type": "code",
      "metadata": {
        "id": "qaYPHscZCP8I"
      },
      "source": [
        "song_gnr_map = song_meta.loc[:, ['id', 'song_gn_gnr_basket']]\n",
        "\n",
        "# unnest song_gn_dtl_gnr_basket\n",
        "song_gnr_map_unnest = np.dstack(\n",
        "    (\n",
        "        np.repeat(song_gnr_map.id.values, list(map(len, song_gnr_map.song_gn_gnr_basket))), \n",
        "        np.concatenate(song_gnr_map.song_gn_gnr_basket.values)\n",
        "    )\n",
        ")\n",
        "\n",
        "# unnested 데이터프레임 생성 : song_gnr_map\n",
        "song_gnr_map = pd.DataFrame(data = song_gnr_map_unnest[0], columns = song_gnr_map.columns)\n",
        "song_gnr_map['id'] = song_gnr_map['id'].astype(str)\n",
        "song_gnr_map.rename(columns = {'id' : 'song_id', 'song_gn_gnr_basket' : 'gnr_code'}, inplace = True)"
      ],
      "execution_count": null,
      "outputs": []
    },
    {
      "cell_type": "code",
      "metadata": {
        "id": "JYzVhKWsCP4W"
      },
      "source": [
        "def list_to_nan(x) : \n",
        "    if x == [] : \n",
        "        return (np.nan)\n",
        "    else : return x\n",
        "\n",
        "train['songs'] = train['songs'].apply(list_to_nan)\n",
        "train=train.dropna()\n",
        "val['songs'] = val['songs'].apply(list_to_nan)\n",
        "val=val.dropna()"
      ],
      "execution_count": null,
      "outputs": []
    },
    {
      "cell_type": "code",
      "metadata": {
        "id": "E6I46M6pCP3I"
      },
      "source": [
        "plylst_song_map = train[['id', 'songs']]\n",
        "\n",
        "# unnest songs\n",
        "plylst_song_map_unnest = np.dstack(\n",
        "    (\n",
        "        np.repeat(plylst_song_map.id.values, list(map(len, plylst_song_map.songs))), \n",
        "        np.concatenate(plylst_song_map.songs.values)\n",
        "    )\n",
        ")\n",
        "\n",
        "# unnested 데이터프레임 생성 : plylst_song_map\n",
        "plylst_song_map = pd.DataFrame(data = plylst_song_map_unnest[0], columns = plylst_song_map.columns)\n",
        "plylst_song_map['id'] = plylst_song_map['id'].astype(str)\n",
        "plylst_song_map['songs'] = plylst_song_map['songs'].astype(str)\n",
        "\n",
        "# unnest 객체 제거\n",
        "del plylst_song_map_unnest"
      ],
      "execution_count": null,
      "outputs": []
    },
    {
      "cell_type": "code",
      "metadata": {
        "id": "uCVBKGfrFL3-",
        "colab": {
          "base_uri": "https://localhost:8080/",
          "height": 407
        },
        "outputId": "913afdc9-36b2-4ba5-be35-ed37f03bb5a6"
      },
      "source": [
        "plylst_song_map"
      ],
      "execution_count": null,
      "outputs": [
        {
          "output_type": "execute_result",
          "data": {
            "text/html": [
              "<div>\n",
              "<style scoped>\n",
              "    .dataframe tbody tr th:only-of-type {\n",
              "        vertical-align: middle;\n",
              "    }\n",
              "\n",
              "    .dataframe tbody tr th {\n",
              "        vertical-align: top;\n",
              "    }\n",
              "\n",
              "    .dataframe thead th {\n",
              "        text-align: right;\n",
              "    }\n",
              "</style>\n",
              "<table border=\"1\" class=\"dataframe\">\n",
              "  <thead>\n",
              "    <tr style=\"text-align: right;\">\n",
              "      <th></th>\n",
              "      <th>id</th>\n",
              "      <th>songs</th>\n",
              "    </tr>\n",
              "  </thead>\n",
              "  <tbody>\n",
              "    <tr>\n",
              "      <th>0</th>\n",
              "      <td>61281</td>\n",
              "      <td>525514</td>\n",
              "    </tr>\n",
              "    <tr>\n",
              "      <th>1</th>\n",
              "      <td>61281</td>\n",
              "      <td>129701</td>\n",
              "    </tr>\n",
              "    <tr>\n",
              "      <th>2</th>\n",
              "      <td>61281</td>\n",
              "      <td>383374</td>\n",
              "    </tr>\n",
              "    <tr>\n",
              "      <th>3</th>\n",
              "      <td>61281</td>\n",
              "      <td>562083</td>\n",
              "    </tr>\n",
              "    <tr>\n",
              "      <th>4</th>\n",
              "      <td>61281</td>\n",
              "      <td>297861</td>\n",
              "    </tr>\n",
              "    <tr>\n",
              "      <th>...</th>\n",
              "      <td>...</td>\n",
              "      <td>...</td>\n",
              "    </tr>\n",
              "    <tr>\n",
              "      <th>5285866</th>\n",
              "      <td>100389</td>\n",
              "      <td>111365</td>\n",
              "    </tr>\n",
              "    <tr>\n",
              "      <th>5285867</th>\n",
              "      <td>100389</td>\n",
              "      <td>51373</td>\n",
              "    </tr>\n",
              "    <tr>\n",
              "      <th>5285868</th>\n",
              "      <td>100389</td>\n",
              "      <td>640239</td>\n",
              "    </tr>\n",
              "    <tr>\n",
              "      <th>5285869</th>\n",
              "      <td>100389</td>\n",
              "      <td>13759</td>\n",
              "    </tr>\n",
              "    <tr>\n",
              "      <th>5285870</th>\n",
              "      <td>100389</td>\n",
              "      <td>154078</td>\n",
              "    </tr>\n",
              "  </tbody>\n",
              "</table>\n",
              "<p>5285871 rows × 2 columns</p>\n",
              "</div>"
            ],
            "text/plain": [
              "             id   songs\n",
              "0         61281  525514\n",
              "1         61281  129701\n",
              "2         61281  383374\n",
              "3         61281  562083\n",
              "4         61281  297861\n",
              "...         ...     ...\n",
              "5285866  100389  111365\n",
              "5285867  100389   51373\n",
              "5285868  100389  640239\n",
              "5285869  100389   13759\n",
              "5285870  100389  154078\n",
              "\n",
              "[5285871 rows x 2 columns]"
            ]
          },
          "metadata": {
            "tags": []
          },
          "execution_count": 38
        }
      ]
    },
    {
      "cell_type": "code",
      "metadata": {
        "id": "M5_EOL3DFqmd",
        "colab": {
          "base_uri": "https://localhost:8080/",
          "height": 407
        },
        "outputId": "cac9f0a3-e15c-4f14-bb62-ff8ea789d933"
      },
      "source": [
        "song_gnr_map"
      ],
      "execution_count": null,
      "outputs": [
        {
          "output_type": "execute_result",
          "data": {
            "text/html": [
              "<div>\n",
              "<style scoped>\n",
              "    .dataframe tbody tr th:only-of-type {\n",
              "        vertical-align: middle;\n",
              "    }\n",
              "\n",
              "    .dataframe tbody tr th {\n",
              "        vertical-align: top;\n",
              "    }\n",
              "\n",
              "    .dataframe thead th {\n",
              "        text-align: right;\n",
              "    }\n",
              "</style>\n",
              "<table border=\"1\" class=\"dataframe\">\n",
              "  <thead>\n",
              "    <tr style=\"text-align: right;\">\n",
              "      <th></th>\n",
              "      <th>song_id</th>\n",
              "      <th>gnr_code</th>\n",
              "    </tr>\n",
              "  </thead>\n",
              "  <tbody>\n",
              "    <tr>\n",
              "      <th>0</th>\n",
              "      <td>0</td>\n",
              "      <td>GN0900</td>\n",
              "    </tr>\n",
              "    <tr>\n",
              "      <th>1</th>\n",
              "      <td>1</td>\n",
              "      <td>GN1600</td>\n",
              "    </tr>\n",
              "    <tr>\n",
              "      <th>2</th>\n",
              "      <td>2</td>\n",
              "      <td>GN0900</td>\n",
              "    </tr>\n",
              "    <tr>\n",
              "      <th>3</th>\n",
              "      <td>3</td>\n",
              "      <td>GN1100</td>\n",
              "    </tr>\n",
              "    <tr>\n",
              "      <th>4</th>\n",
              "      <td>4</td>\n",
              "      <td>GN1800</td>\n",
              "    </tr>\n",
              "    <tr>\n",
              "      <th>...</th>\n",
              "      <td>...</td>\n",
              "      <td>...</td>\n",
              "    </tr>\n",
              "    <tr>\n",
              "      <th>802854</th>\n",
              "      <td>707984</td>\n",
              "      <td>GN2000</td>\n",
              "    </tr>\n",
              "    <tr>\n",
              "      <th>802855</th>\n",
              "      <td>707985</td>\n",
              "      <td>GN0900</td>\n",
              "    </tr>\n",
              "    <tr>\n",
              "      <th>802856</th>\n",
              "      <td>707986</td>\n",
              "      <td>GN0100</td>\n",
              "    </tr>\n",
              "    <tr>\n",
              "      <th>802857</th>\n",
              "      <td>707987</td>\n",
              "      <td>GN1800</td>\n",
              "    </tr>\n",
              "    <tr>\n",
              "      <th>802858</th>\n",
              "      <td>707988</td>\n",
              "      <td>GN0600</td>\n",
              "    </tr>\n",
              "  </tbody>\n",
              "</table>\n",
              "<p>802859 rows × 2 columns</p>\n",
              "</div>"
            ],
            "text/plain": [
              "       song_id gnr_code\n",
              "0            0   GN0900\n",
              "1            1   GN1600\n",
              "2            2   GN0900\n",
              "3            3   GN1100\n",
              "4            4   GN1800\n",
              "...        ...      ...\n",
              "802854  707984   GN2000\n",
              "802855  707985   GN0900\n",
              "802856  707986   GN0100\n",
              "802857  707987   GN1800\n",
              "802858  707988   GN0600\n",
              "\n",
              "[802859 rows x 2 columns]"
            ]
          },
          "metadata": {
            "tags": []
          },
          "execution_count": 39
        }
      ]
    },
    {
      "cell_type": "code",
      "metadata": {
        "id": "43e3OAfOCPzG"
      },
      "source": [
        "song_gnr_map.columns = ['songs','gmr_code']\n",
        "\n",
        "train_g = pd.merge(plylst_song_map,song_gnr_map, how='left', on='songs').fillna('장르없음')"
      ],
      "execution_count": null,
      "outputs": []
    },
    {
      "cell_type": "code",
      "metadata": {
        "id": "tXn-wibqEXVg",
        "colab": {
          "base_uri": "https://localhost:8080/",
          "height": 407
        },
        "outputId": "9513890d-808c-4904-9d8f-1a58f8df4d3b"
      },
      "source": [
        "train_g"
      ],
      "execution_count": null,
      "outputs": [
        {
          "output_type": "execute_result",
          "data": {
            "text/html": [
              "<div>\n",
              "<style scoped>\n",
              "    .dataframe tbody tr th:only-of-type {\n",
              "        vertical-align: middle;\n",
              "    }\n",
              "\n",
              "    .dataframe tbody tr th {\n",
              "        vertical-align: top;\n",
              "    }\n",
              "\n",
              "    .dataframe thead th {\n",
              "        text-align: right;\n",
              "    }\n",
              "</style>\n",
              "<table border=\"1\" class=\"dataframe\">\n",
              "  <thead>\n",
              "    <tr style=\"text-align: right;\">\n",
              "      <th></th>\n",
              "      <th>id</th>\n",
              "      <th>songs</th>\n",
              "      <th>gmr_code</th>\n",
              "    </tr>\n",
              "  </thead>\n",
              "  <tbody>\n",
              "    <tr>\n",
              "      <th>0</th>\n",
              "      <td>61281</td>\n",
              "      <td>525514</td>\n",
              "      <td>GN1400</td>\n",
              "    </tr>\n",
              "    <tr>\n",
              "      <th>1</th>\n",
              "      <td>61281</td>\n",
              "      <td>129701</td>\n",
              "      <td>GN0900</td>\n",
              "    </tr>\n",
              "    <tr>\n",
              "      <th>2</th>\n",
              "      <td>61281</td>\n",
              "      <td>129701</td>\n",
              "      <td>GN1000</td>\n",
              "    </tr>\n",
              "    <tr>\n",
              "      <th>3</th>\n",
              "      <td>61281</td>\n",
              "      <td>383374</td>\n",
              "      <td>GN1000</td>\n",
              "    </tr>\n",
              "    <tr>\n",
              "      <th>4</th>\n",
              "      <td>61281</td>\n",
              "      <td>562083</td>\n",
              "      <td>GN0900</td>\n",
              "    </tr>\n",
              "    <tr>\n",
              "      <th>...</th>\n",
              "      <td>...</td>\n",
              "      <td>...</td>\n",
              "      <td>...</td>\n",
              "    </tr>\n",
              "    <tr>\n",
              "      <th>6837821</th>\n",
              "      <td>100389</td>\n",
              "      <td>51373</td>\n",
              "      <td>GN1300</td>\n",
              "    </tr>\n",
              "    <tr>\n",
              "      <th>6837822</th>\n",
              "      <td>100389</td>\n",
              "      <td>640239</td>\n",
              "      <td>GN1500</td>\n",
              "    </tr>\n",
              "    <tr>\n",
              "      <th>6837823</th>\n",
              "      <td>100389</td>\n",
              "      <td>13759</td>\n",
              "      <td>GN0900</td>\n",
              "    </tr>\n",
              "    <tr>\n",
              "      <th>6837824</th>\n",
              "      <td>100389</td>\n",
              "      <td>13759</td>\n",
              "      <td>GN1000</td>\n",
              "    </tr>\n",
              "    <tr>\n",
              "      <th>6837825</th>\n",
              "      <td>100389</td>\n",
              "      <td>154078</td>\n",
              "      <td>GN1000</td>\n",
              "    </tr>\n",
              "  </tbody>\n",
              "</table>\n",
              "<p>6837826 rows × 3 columns</p>\n",
              "</div>"
            ],
            "text/plain": [
              "             id   songs gmr_code\n",
              "0         61281  525514   GN1400\n",
              "1         61281  129701   GN0900\n",
              "2         61281  129701   GN1000\n",
              "3         61281  383374   GN1000\n",
              "4         61281  562083   GN0900\n",
              "...         ...     ...      ...\n",
              "6837821  100389   51373   GN1300\n",
              "6837822  100389  640239   GN1500\n",
              "6837823  100389   13759   GN0900\n",
              "6837824  100389   13759   GN1000\n",
              "6837825  100389  154078   GN1000\n",
              "\n",
              "[6837826 rows x 3 columns]"
            ]
          },
          "metadata": {
            "tags": []
          },
          "execution_count": 41
        }
      ]
    },
    {
      "cell_type": "code",
      "metadata": {
        "id": "s8f0wZ-FGfDG"
      },
      "source": [
        "f2 = pd.pivot_table(data = train_g,index='id',columns='gmr_code',aggfunc='count',fill_value=0,values='songs',margins=True)"
      ],
      "execution_count": null,
      "outputs": []
    },
    {
      "cell_type": "code",
      "metadata": {
        "id": "SN6zdsGPCPfR"
      },
      "source": [
        "f2 = f2.iloc[:-1,:-1].div(f2.iloc[:-1,-1], axis=0).reset_index()\n",
        "\n",
        "f2['id'] = f2['id'].map(lambda x : int(x))"
      ],
      "execution_count": null,
      "outputs": []
    },
    {
      "cell_type": "code",
      "metadata": {
        "id": "pHjH2_ohCPb2"
      },
      "source": [
        "f2.drop(['id'], axis=1, inplace=True)"
      ],
      "execution_count": null,
      "outputs": []
    },
    {
      "cell_type": "code",
      "metadata": {
        "id": "mftsOO2ICPWb",
        "colab": {
          "base_uri": "https://localhost:8080/",
          "height": 443
        },
        "outputId": "2b62b62c-96fc-4aac-d6bd-3af0a614e1c1"
      },
      "source": [
        "f2"
      ],
      "execution_count": null,
      "outputs": [
        {
          "output_type": "execute_result",
          "data": {
            "text/html": [
              "<div>\n",
              "<style scoped>\n",
              "    .dataframe tbody tr th:only-of-type {\n",
              "        vertical-align: middle;\n",
              "    }\n",
              "\n",
              "    .dataframe tbody tr th {\n",
              "        vertical-align: top;\n",
              "    }\n",
              "\n",
              "    .dataframe thead th {\n",
              "        text-align: right;\n",
              "    }\n",
              "</style>\n",
              "<table border=\"1\" class=\"dataframe\">\n",
              "  <thead>\n",
              "    <tr style=\"text-align: right;\">\n",
              "      <th>gmr_code</th>\n",
              "      <th>GN0100</th>\n",
              "      <th>GN0200</th>\n",
              "      <th>GN0300</th>\n",
              "      <th>GN0400</th>\n",
              "      <th>GN0500</th>\n",
              "      <th>GN0600</th>\n",
              "      <th>GN0700</th>\n",
              "      <th>GN0800</th>\n",
              "      <th>GN0900</th>\n",
              "      <th>GN1000</th>\n",
              "      <th>GN1100</th>\n",
              "      <th>GN1200</th>\n",
              "      <th>GN1300</th>\n",
              "      <th>GN1400</th>\n",
              "      <th>GN1500</th>\n",
              "      <th>GN1600</th>\n",
              "      <th>GN1700</th>\n",
              "      <th>GN1800</th>\n",
              "      <th>GN1900</th>\n",
              "      <th>GN2000</th>\n",
              "      <th>GN2100</th>\n",
              "      <th>GN2200</th>\n",
              "      <th>GN2300</th>\n",
              "      <th>GN2400</th>\n",
              "      <th>GN2500</th>\n",
              "      <th>GN2600</th>\n",
              "      <th>GN2700</th>\n",
              "      <th>GN2800</th>\n",
              "      <th>GN2900</th>\n",
              "      <th>GN9000</th>\n",
              "      <th>장르없음</th>\n",
              "    </tr>\n",
              "  </thead>\n",
              "  <tbody>\n",
              "    <tr>\n",
              "      <th>0</th>\n",
              "      <td>0.000000</td>\n",
              "      <td>0.000000</td>\n",
              "      <td>0.714286</td>\n",
              "      <td>0.000000</td>\n",
              "      <td>0.285714</td>\n",
              "      <td>0.000000</td>\n",
              "      <td>0.000000</td>\n",
              "      <td>0.000000</td>\n",
              "      <td>0.000000</td>\n",
              "      <td>0.000000</td>\n",
              "      <td>0.0</td>\n",
              "      <td>0.000000</td>\n",
              "      <td>0.000000</td>\n",
              "      <td>0.000000</td>\n",
              "      <td>0.000000</td>\n",
              "      <td>0.000</td>\n",
              "      <td>0.000000</td>\n",
              "      <td>0.000000</td>\n",
              "      <td>0.000000</td>\n",
              "      <td>0.000000</td>\n",
              "      <td>0.0</td>\n",
              "      <td>0.0</td>\n",
              "      <td>0.0</td>\n",
              "      <td>0.0</td>\n",
              "      <td>0.000000</td>\n",
              "      <td>0.000000</td>\n",
              "      <td>0.0</td>\n",
              "      <td>0.0</td>\n",
              "      <td>0.0</td>\n",
              "      <td>0.0</td>\n",
              "      <td>0.000</td>\n",
              "    </tr>\n",
              "    <tr>\n",
              "      <th>1</th>\n",
              "      <td>0.052632</td>\n",
              "      <td>0.157895</td>\n",
              "      <td>0.157895</td>\n",
              "      <td>0.000000</td>\n",
              "      <td>0.000000</td>\n",
              "      <td>0.000000</td>\n",
              "      <td>0.052632</td>\n",
              "      <td>0.000000</td>\n",
              "      <td>0.157895</td>\n",
              "      <td>0.052632</td>\n",
              "      <td>0.0</td>\n",
              "      <td>0.157895</td>\n",
              "      <td>0.000000</td>\n",
              "      <td>0.052632</td>\n",
              "      <td>0.000000</td>\n",
              "      <td>0.000</td>\n",
              "      <td>0.000000</td>\n",
              "      <td>0.000000</td>\n",
              "      <td>0.000000</td>\n",
              "      <td>0.105263</td>\n",
              "      <td>0.0</td>\n",
              "      <td>0.0</td>\n",
              "      <td>0.0</td>\n",
              "      <td>0.0</td>\n",
              "      <td>0.052632</td>\n",
              "      <td>0.000000</td>\n",
              "      <td>0.0</td>\n",
              "      <td>0.0</td>\n",
              "      <td>0.0</td>\n",
              "      <td>0.0</td>\n",
              "      <td>0.000</td>\n",
              "    </tr>\n",
              "    <tr>\n",
              "      <th>2</th>\n",
              "      <td>0.148936</td>\n",
              "      <td>0.000000</td>\n",
              "      <td>0.000000</td>\n",
              "      <td>0.000000</td>\n",
              "      <td>0.319149</td>\n",
              "      <td>0.340426</td>\n",
              "      <td>0.000000</td>\n",
              "      <td>0.085106</td>\n",
              "      <td>0.000000</td>\n",
              "      <td>0.000000</td>\n",
              "      <td>0.0</td>\n",
              "      <td>0.000000</td>\n",
              "      <td>0.000000</td>\n",
              "      <td>0.000000</td>\n",
              "      <td>0.085106</td>\n",
              "      <td>0.000</td>\n",
              "      <td>0.000000</td>\n",
              "      <td>0.000000</td>\n",
              "      <td>0.000000</td>\n",
              "      <td>0.000000</td>\n",
              "      <td>0.0</td>\n",
              "      <td>0.0</td>\n",
              "      <td>0.0</td>\n",
              "      <td>0.0</td>\n",
              "      <td>0.000000</td>\n",
              "      <td>0.021277</td>\n",
              "      <td>0.0</td>\n",
              "      <td>0.0</td>\n",
              "      <td>0.0</td>\n",
              "      <td>0.0</td>\n",
              "      <td>0.000</td>\n",
              "    </tr>\n",
              "    <tr>\n",
              "      <th>3</th>\n",
              "      <td>0.089286</td>\n",
              "      <td>0.000000</td>\n",
              "      <td>0.035714</td>\n",
              "      <td>0.071429</td>\n",
              "      <td>0.107143</td>\n",
              "      <td>0.053571</td>\n",
              "      <td>0.000000</td>\n",
              "      <td>0.035714</td>\n",
              "      <td>0.000000</td>\n",
              "      <td>0.000000</td>\n",
              "      <td>0.0</td>\n",
              "      <td>0.017857</td>\n",
              "      <td>0.035714</td>\n",
              "      <td>0.053571</td>\n",
              "      <td>0.035714</td>\n",
              "      <td>0.000</td>\n",
              "      <td>0.071429</td>\n",
              "      <td>0.321429</td>\n",
              "      <td>0.071429</td>\n",
              "      <td>0.000000</td>\n",
              "      <td>0.0</td>\n",
              "      <td>0.0</td>\n",
              "      <td>0.0</td>\n",
              "      <td>0.0</td>\n",
              "      <td>0.000000</td>\n",
              "      <td>0.000000</td>\n",
              "      <td>0.0</td>\n",
              "      <td>0.0</td>\n",
              "      <td>0.0</td>\n",
              "      <td>0.0</td>\n",
              "      <td>0.000</td>\n",
              "    </tr>\n",
              "    <tr>\n",
              "      <th>4</th>\n",
              "      <td>0.590909</td>\n",
              "      <td>0.045455</td>\n",
              "      <td>0.000000</td>\n",
              "      <td>0.136364</td>\n",
              "      <td>0.090909</td>\n",
              "      <td>0.045455</td>\n",
              "      <td>0.000000</td>\n",
              "      <td>0.090909</td>\n",
              "      <td>0.000000</td>\n",
              "      <td>0.000000</td>\n",
              "      <td>0.0</td>\n",
              "      <td>0.000000</td>\n",
              "      <td>0.000000</td>\n",
              "      <td>0.000000</td>\n",
              "      <td>0.000000</td>\n",
              "      <td>0.000</td>\n",
              "      <td>0.000000</td>\n",
              "      <td>0.000000</td>\n",
              "      <td>0.000000</td>\n",
              "      <td>0.000000</td>\n",
              "      <td>0.0</td>\n",
              "      <td>0.0</td>\n",
              "      <td>0.0</td>\n",
              "      <td>0.0</td>\n",
              "      <td>0.000000</td>\n",
              "      <td>0.000000</td>\n",
              "      <td>0.0</td>\n",
              "      <td>0.0</td>\n",
              "      <td>0.0</td>\n",
              "      <td>0.0</td>\n",
              "      <td>0.000</td>\n",
              "    </tr>\n",
              "    <tr>\n",
              "      <th>...</th>\n",
              "      <td>...</td>\n",
              "      <td>...</td>\n",
              "      <td>...</td>\n",
              "      <td>...</td>\n",
              "      <td>...</td>\n",
              "      <td>...</td>\n",
              "      <td>...</td>\n",
              "      <td>...</td>\n",
              "      <td>...</td>\n",
              "      <td>...</td>\n",
              "      <td>...</td>\n",
              "      <td>...</td>\n",
              "      <td>...</td>\n",
              "      <td>...</td>\n",
              "      <td>...</td>\n",
              "      <td>...</td>\n",
              "      <td>...</td>\n",
              "      <td>...</td>\n",
              "      <td>...</td>\n",
              "      <td>...</td>\n",
              "      <td>...</td>\n",
              "      <td>...</td>\n",
              "      <td>...</td>\n",
              "      <td>...</td>\n",
              "      <td>...</td>\n",
              "      <td>...</td>\n",
              "      <td>...</td>\n",
              "      <td>...</td>\n",
              "      <td>...</td>\n",
              "      <td>...</td>\n",
              "      <td>...</td>\n",
              "    </tr>\n",
              "    <tr>\n",
              "      <th>115066</th>\n",
              "      <td>0.072464</td>\n",
              "      <td>0.000000</td>\n",
              "      <td>0.000000</td>\n",
              "      <td>0.086957</td>\n",
              "      <td>0.362319</td>\n",
              "      <td>0.115942</td>\n",
              "      <td>0.000000</td>\n",
              "      <td>0.289855</td>\n",
              "      <td>0.000000</td>\n",
              "      <td>0.000000</td>\n",
              "      <td>0.0</td>\n",
              "      <td>0.000000</td>\n",
              "      <td>0.000000</td>\n",
              "      <td>0.000000</td>\n",
              "      <td>0.028986</td>\n",
              "      <td>0.000</td>\n",
              "      <td>0.028986</td>\n",
              "      <td>0.000000</td>\n",
              "      <td>0.000000</td>\n",
              "      <td>0.000000</td>\n",
              "      <td>0.0</td>\n",
              "      <td>0.0</td>\n",
              "      <td>0.0</td>\n",
              "      <td>0.0</td>\n",
              "      <td>0.000000</td>\n",
              "      <td>0.014493</td>\n",
              "      <td>0.0</td>\n",
              "      <td>0.0</td>\n",
              "      <td>0.0</td>\n",
              "      <td>0.0</td>\n",
              "      <td>0.000</td>\n",
              "    </tr>\n",
              "    <tr>\n",
              "      <th>115067</th>\n",
              "      <td>0.000000</td>\n",
              "      <td>0.000000</td>\n",
              "      <td>0.000000</td>\n",
              "      <td>0.000000</td>\n",
              "      <td>0.000000</td>\n",
              "      <td>0.000000</td>\n",
              "      <td>0.000000</td>\n",
              "      <td>0.000000</td>\n",
              "      <td>0.428571</td>\n",
              "      <td>0.238095</td>\n",
              "      <td>0.0</td>\n",
              "      <td>0.000000</td>\n",
              "      <td>0.333333</td>\n",
              "      <td>0.000000</td>\n",
              "      <td>0.000000</td>\n",
              "      <td>0.000</td>\n",
              "      <td>0.000000</td>\n",
              "      <td>0.000000</td>\n",
              "      <td>0.000000</td>\n",
              "      <td>0.000000</td>\n",
              "      <td>0.0</td>\n",
              "      <td>0.0</td>\n",
              "      <td>0.0</td>\n",
              "      <td>0.0</td>\n",
              "      <td>0.000000</td>\n",
              "      <td>0.000000</td>\n",
              "      <td>0.0</td>\n",
              "      <td>0.0</td>\n",
              "      <td>0.0</td>\n",
              "      <td>0.0</td>\n",
              "      <td>0.000</td>\n",
              "    </tr>\n",
              "    <tr>\n",
              "      <th>115068</th>\n",
              "      <td>0.000000</td>\n",
              "      <td>0.000000</td>\n",
              "      <td>0.000000</td>\n",
              "      <td>0.000000</td>\n",
              "      <td>0.000000</td>\n",
              "      <td>0.000000</td>\n",
              "      <td>0.000000</td>\n",
              "      <td>0.000000</td>\n",
              "      <td>0.625000</td>\n",
              "      <td>0.125000</td>\n",
              "      <td>0.0</td>\n",
              "      <td>0.000000</td>\n",
              "      <td>0.000000</td>\n",
              "      <td>0.000000</td>\n",
              "      <td>0.000000</td>\n",
              "      <td>0.125</td>\n",
              "      <td>0.000000</td>\n",
              "      <td>0.000000</td>\n",
              "      <td>0.000000</td>\n",
              "      <td>0.000000</td>\n",
              "      <td>0.0</td>\n",
              "      <td>0.0</td>\n",
              "      <td>0.0</td>\n",
              "      <td>0.0</td>\n",
              "      <td>0.000000</td>\n",
              "      <td>0.000000</td>\n",
              "      <td>0.0</td>\n",
              "      <td>0.0</td>\n",
              "      <td>0.0</td>\n",
              "      <td>0.0</td>\n",
              "      <td>0.125</td>\n",
              "    </tr>\n",
              "    <tr>\n",
              "      <th>115069</th>\n",
              "      <td>0.016949</td>\n",
              "      <td>0.000000</td>\n",
              "      <td>0.677966</td>\n",
              "      <td>0.033898</td>\n",
              "      <td>0.271186</td>\n",
              "      <td>0.000000</td>\n",
              "      <td>0.000000</td>\n",
              "      <td>0.000000</td>\n",
              "      <td>0.000000</td>\n",
              "      <td>0.000000</td>\n",
              "      <td>0.0</td>\n",
              "      <td>0.000000</td>\n",
              "      <td>0.000000</td>\n",
              "      <td>0.000000</td>\n",
              "      <td>0.000000</td>\n",
              "      <td>0.000</td>\n",
              "      <td>0.000000</td>\n",
              "      <td>0.000000</td>\n",
              "      <td>0.000000</td>\n",
              "      <td>0.000000</td>\n",
              "      <td>0.0</td>\n",
              "      <td>0.0</td>\n",
              "      <td>0.0</td>\n",
              "      <td>0.0</td>\n",
              "      <td>0.000000</td>\n",
              "      <td>0.000000</td>\n",
              "      <td>0.0</td>\n",
              "      <td>0.0</td>\n",
              "      <td>0.0</td>\n",
              "      <td>0.0</td>\n",
              "      <td>0.000</td>\n",
              "    </tr>\n",
              "    <tr>\n",
              "      <th>115070</th>\n",
              "      <td>0.071429</td>\n",
              "      <td>0.285714</td>\n",
              "      <td>0.000000</td>\n",
              "      <td>0.000000</td>\n",
              "      <td>0.142857</td>\n",
              "      <td>0.000000</td>\n",
              "      <td>0.000000</td>\n",
              "      <td>0.142857</td>\n",
              "      <td>0.000000</td>\n",
              "      <td>0.000000</td>\n",
              "      <td>0.0</td>\n",
              "      <td>0.000000</td>\n",
              "      <td>0.000000</td>\n",
              "      <td>0.000000</td>\n",
              "      <td>0.000000</td>\n",
              "      <td>0.000</td>\n",
              "      <td>0.000000</td>\n",
              "      <td>0.000000</td>\n",
              "      <td>0.000000</td>\n",
              "      <td>0.000000</td>\n",
              "      <td>0.0</td>\n",
              "      <td>0.0</td>\n",
              "      <td>0.0</td>\n",
              "      <td>0.0</td>\n",
              "      <td>0.357143</td>\n",
              "      <td>0.000000</td>\n",
              "      <td>0.0</td>\n",
              "      <td>0.0</td>\n",
              "      <td>0.0</td>\n",
              "      <td>0.0</td>\n",
              "      <td>0.000</td>\n",
              "    </tr>\n",
              "  </tbody>\n",
              "</table>\n",
              "<p>115071 rows × 31 columns</p>\n",
              "</div>"
            ],
            "text/plain": [
              "gmr_code    GN0100    GN0200    GN0300    GN0400  ...  GN2800  GN2900  GN9000   장르없음\n",
              "0         0.000000  0.000000  0.714286  0.000000  ...     0.0     0.0     0.0  0.000\n",
              "1         0.052632  0.157895  0.157895  0.000000  ...     0.0     0.0     0.0  0.000\n",
              "2         0.148936  0.000000  0.000000  0.000000  ...     0.0     0.0     0.0  0.000\n",
              "3         0.089286  0.000000  0.035714  0.071429  ...     0.0     0.0     0.0  0.000\n",
              "4         0.590909  0.045455  0.000000  0.136364  ...     0.0     0.0     0.0  0.000\n",
              "...            ...       ...       ...       ...  ...     ...     ...     ...    ...\n",
              "115066    0.072464  0.000000  0.000000  0.086957  ...     0.0     0.0     0.0  0.000\n",
              "115067    0.000000  0.000000  0.000000  0.000000  ...     0.0     0.0     0.0  0.000\n",
              "115068    0.000000  0.000000  0.000000  0.000000  ...     0.0     0.0     0.0  0.125\n",
              "115069    0.016949  0.000000  0.677966  0.033898  ...     0.0     0.0     0.0  0.000\n",
              "115070    0.071429  0.285714  0.000000  0.000000  ...     0.0     0.0     0.0  0.000\n",
              "\n",
              "[115071 rows x 31 columns]"
            ]
          },
          "metadata": {
            "tags": []
          },
          "execution_count": 45
        }
      ]
    },
    {
      "cell_type": "code",
      "metadata": {
        "id": "GCX_6RitCPUE",
        "colab": {
          "base_uri": "https://localhost:8080/",
          "height": 244
        },
        "outputId": "9b5bcc7e-1667-4098-b5ce-f006ebac140e"
      },
      "source": [
        "f2_array = f2.values\n",
        "f2_array"
      ],
      "execution_count": null,
      "outputs": [
        {
          "output_type": "execute_result",
          "data": {
            "text/plain": [
              "array([[0.        , 0.        , 0.71428571, ..., 0.        , 0.        ,\n",
              "        0.        ],\n",
              "       [0.05263158, 0.15789474, 0.15789474, ..., 0.        , 0.        ,\n",
              "        0.        ],\n",
              "       [0.14893617, 0.        , 0.        , ..., 0.        , 0.        ,\n",
              "        0.        ],\n",
              "       ...,\n",
              "       [0.        , 0.        , 0.        , ..., 0.        , 0.        ,\n",
              "        0.125     ],\n",
              "       [0.01694915, 0.        , 0.6779661 , ..., 0.        , 0.        ,\n",
              "        0.        ],\n",
              "       [0.07142857, 0.28571429, 0.        , ..., 0.        , 0.        ,\n",
              "        0.        ]])"
            ]
          },
          "metadata": {
            "tags": []
          },
          "execution_count": 46
        }
      ]
    },
    {
      "cell_type": "code",
      "metadata": {
        "id": "mUJz2AAxGy02",
        "colab": {
          "base_uri": "https://localhost:8080/",
          "height": 34
        },
        "outputId": "88710d34-aa06-49eb-bb1c-3c5ce173151c"
      },
      "source": [
        "f2_array.shape"
      ],
      "execution_count": null,
      "outputs": [
        {
          "output_type": "execute_result",
          "data": {
            "text/plain": [
              "(115071, 31)"
            ]
          },
          "metadata": {
            "tags": []
          },
          "execution_count": 47
        }
      ]
    },
    {
      "cell_type": "code",
      "metadata": {
        "id": "3EltrZLSGyyR",
        "colab": {
          "base_uri": "https://localhost:8080/",
          "height": 34
        },
        "outputId": "242f37cb-a27b-4cf2-ef43-6214eab406ee"
      },
      "source": [
        "f2_array_T = f2_array.T\n",
        "f2_array_T.shape"
      ],
      "execution_count": null,
      "outputs": [
        {
          "output_type": "execute_result",
          "data": {
            "text/plain": [
              "(31, 115071)"
            ]
          },
          "metadata": {
            "tags": []
          },
          "execution_count": 48
        }
      ]
    },
    {
      "cell_type": "code",
      "metadata": {
        "id": "csqY2143dgv9"
      },
      "source": [
        "# 입실론처리\n",
        "f1_array = f1_array+0.1\n",
        "f2_array = f2_array+0.1"
      ],
      "execution_count": null,
      "outputs": []
    },
    {
      "cell_type": "markdown",
      "metadata": {
        "id": "C742ihkEHD4E"
      },
      "source": [
        "## 모델링"
      ]
    },
    {
      "cell_type": "code",
      "metadata": {
        "id": "YjDLUbaMGyv7",
        "colab": {
          "base_uri": "https://localhost:8080/",
          "height": 52
        },
        "outputId": "3fae8598-87d5-4860-f6cd-3a060bd18b32"
      },
      "source": [
        "# 노래 행렬\n",
        "row = np.repeat(range(n_train), plylst_train['num_songs']) # range(n_train)을 num_songs(각 플레이리스트의 노래 개수)만큼 반복! = 5285871개의 1차원 array\n",
        "col = [song for songs in plylst_train['songs_id'] for song in songs] # 5285871개 (plylst에 등장한 모든 song = 중복 포함 )\n",
        "dat = np.repeat(1, plylst_train['num_songs'].sum()) # row 와 col의 교차지점에 1을 박음. \n",
        "\n",
        "# 5285871 * 5285871 정사각행렬을 만들고 이를 csr_matrix를 활용해 바꿈. \n",
        "\n",
        "train_songs_A = spr.csr_matrix( (dat, (row, col) ), shape=(n_train, n_songs) ) # shape을 115071(train 개수) * 638336(song 개수)\n",
        "train_songs_A"
      ],
      "execution_count": null,
      "outputs": [
        {
          "output_type": "execute_result",
          "data": {
            "text/plain": [
              "<115071x166979 sparse matrix of type '<class 'numpy.longlong'>'\n",
              "\twith 3990654 stored elements in Compressed Sparse Row format>"
            ]
          },
          "metadata": {
            "tags": []
          },
          "execution_count": 50
        }
      ]
    },
    {
      "cell_type": "code",
      "metadata": {
        "id": "l9VDI6DhNQk4"
      },
      "source": [
        "# train_songs_A = f2_array.dot(f1_array_T)"
      ],
      "execution_count": null,
      "outputs": []
    },
    {
      "cell_type": "code",
      "metadata": {
        "id": "ELwOqqELHCng",
        "colab": {
          "base_uri": "https://localhost:8080/",
          "height": 52
        },
        "outputId": "eec5a3cc-5332-4223-d862-a0f3b9099a14"
      },
      "source": [
        "# 태그 행렬\n",
        "row = np.repeat(range(n_train), plylst_train['num_tags']) # 476331개 : plylst별 태그 등장 횟수 반복\n",
        "col = [tag for tags in plylst_train['tags_id'] for tag in tags] # 476331개 : 각 plylst별 태그(중복 포함)\n",
        "# 행렬 안에 tag의 개수를 넣음 (빈도 수)\n",
        "dat = np.repeat(1, plylst_train['num_tags'].sum()) # input array 는 한개\n",
        "# np.repeat(input array, 요소 반복 횟수)\n",
        "train_tags_A = spr.csr_matrix((dat, (row, col)), shape=(n_train, n_tags))\n",
        "train_tags_A"
      ],
      "execution_count": null,
      "outputs": [
        {
          "output_type": "execute_result",
          "data": {
            "text/plain": [
              "<115071x30197 sparse matrix of type '<class 'numpy.longlong'>'\n",
              "\twith 476331 stored elements in Compressed Sparse Row format>"
            ]
          },
          "metadata": {
            "tags": []
          },
          "execution_count": 52
        }
      ]
    },
    {
      "cell_type": "code",
      "metadata": {
        "id": "eRdG9vZXHClC"
      },
      "source": [
        "## transpose ( 전치 )\n",
        "train_songs_A_T = train_songs_A.T.tocsr() # tocar() : Compressed Sparse row로 만들어줌\n",
        "train_tags_A_T = train_tags_A.T.tocsr() "
      ],
      "execution_count": null,
      "outputs": []
    },
    {
      "cell_type": "code",
      "metadata": {
        "id": "TrYxQQijH7Jd",
        "colab": {
          "base_uri": "https://localhost:8080/",
          "height": 34
        },
        "outputId": "817c4069-6171-473f-c0ea-5a0602192d9d"
      },
      "source": [
        "print(f1_array.shape, f2_array.shape)"
      ],
      "execution_count": null,
      "outputs": [
        {
          "output_type": "stream",
          "text": [
            "(166979, 31) (115071, 31)\n"
          ],
          "name": "stdout"
        }
      ]
    },
    {
      "cell_type": "code",
      "metadata": {
        "id": "IPh8hAWtHCh-"
      },
      "source": [
        "from tqdm import tqdm\n",
        "\n",
        "def rec(pids):\n",
        "\n",
        "  %%time\n",
        "  res = []\n",
        "\n",
        "  for pid in pids:\n",
        "    p = np.zeros((n_songs,1)) # n_songs 만큼 0박은 1차원 array 만들기\n",
        "\n",
        "    p[ plylst_val.loc[pid,'songs_id'] ] = 1 # 각 plylst에 이미 있는 song_id에는 1박기\n",
        "\n",
        "    # 이미 있는 id\n",
        "    songs_already = plylst_val.loc[pid, \"songs_id\"]\n",
        "    tags_already = plylst_val.loc[pid, \"tags_id\"]\n",
        "    \n",
        "    # song 빈도수 열과 p(이미 존재하는 song id에 1 박은거) 내적! \n",
        "    valid = train_songs_A.dot(p).reshape(-1)\n",
        "    # reshape(-1) : 다른 나머지 차원의 크기를 맞추고 남은 크기를 해당 차원에 할당\n",
        "\n",
        "    # ## 장르 추가 # 악재;;\n",
        "    gnr_add = f2_array_T.dot(valid)\n",
        "    new = f2_array.dot(gnr_add)\n",
        "\n",
        "    # 전치시킨거에 valid(위에서 내적한거) 또 내적\n",
        "    cand_song = train_songs_A_T.dot(new)\n",
        "    cand_song_idx = cand_song.reshape(-1).argsort()[-1000:][::-1] \n",
        "    # argsort() : 작은 값부터 순서대로 데이터 인덱스 반환\n",
        "    # array[::-1] : 처음부터 끝까지 -1칸 간격으로(역순으로) > 큰값부터 반환\n",
        "    # [-150:] : 150개 뒤에서부터 자름\n",
        "    cand_song_idx = cand_song_idx[np.isin(cand_song_idx, songs_already) == False][:100]\n",
        "    # cand_song_idx 에서 songs_already 가 있는지 T/F로 알려준다.\n",
        "    # 근데 False 만 골라서, 100개까지 자른다\n",
        "\n",
        "    rec_song_idx = [song_sid_id[i] for i in cand_song_idx]\n",
        "    # cand_song_idx 의 index의 i를 song_sid_id[i]로 가져온다. = 최종 제출본\n",
        "\n",
        "######################################################################################\n",
        "    cand_tag = train_tags_A_T.dot(valid)\n",
        "    cand_tag_idx = cand_tag.reshape(-1).argsort()[-100:][::-1]\n",
        "    # 뒤에서 큰 순서대로 15개 자름. 큰 순서대로 데이터 정렬\n",
        "    cand_tag_idx = cand_tag_idx[np.isin(cand_tag_idx, tags_already) == False][:10]\n",
        "    # 이미 태그에 들어있지 않은 것만(False) 10개 반환\n",
        "    rec_tag_idx = [tag_tid_id[i] for i in cand_tag_idx]\n",
        "    #cand_tag_idx 의 인덱스를 가져와서 rec_tag_idx에 넣는다\n",
        "\n",
        "    res.append({\n",
        "                \"id\": plylst_nid_id[pid],\n",
        "                \"songs\": rec_song_idx,\n",
        "                \"tags\": rec_tag_idx\n",
        "            })\n",
        "    # res에 딕셔너리 append\n",
        "    \n",
        "    # 1000번마다 시간 출력\n",
        "    tt = 1\n",
        "    if tt % 1000 == 0:\n",
        "      print(tt)\n",
        "\n",
        "    tt += 1\n",
        "  return res  "
      ],
      "execution_count": null,
      "outputs": []
    },
    {
      "cell_type": "code",
      "metadata": {
        "id": "I9k4Bw7ERRjl",
        "colab": {
          "base_uri": "https://localhost:8080/",
          "height": 87
        },
        "outputId": "d15a93df-ebb4-4200-bd0b-75761dbe476b"
      },
      "source": [
        "# 학습! 일해라 일해\n",
        "%%time\n",
        "answers = rec(plylst_val.index)"
      ],
      "execution_count": null,
      "outputs": [
        {
          "output_type": "stream",
          "text": [
            "CPU times: user 2 µs, sys: 0 ns, total: 2 µs\n",
            "Wall time: 5.48 µs\n",
            "CPU times: user 34min 49s, sys: 53min 52s, total: 1h 28min 42s\n",
            "Wall time: 22min 20s\n"
          ],
          "name": "stdout"
        }
      ]
    },
    {
      "cell_type": "code",
      "metadata": {
        "id": "ZUc3wF6FqPKp"
      },
      "source": [
        "import io\n",
        "import os\n",
        "\n",
        "def write_json(data, fname):\n",
        "    def _conv(o):\n",
        "        if isinstance(o, (np.int64, np.int32)):\n",
        "            return int(o)\n",
        "        raise TypeError\n",
        "\n",
        "    parent = os.path.dirname(fname)\n",
        "    with io.open(fname, \"w\", encoding=\"utf-8\") as f:\n",
        "        json_str = json.dumps(data, ensure_ascii=False, default=_conv)\n",
        "        f.write(json_str)\n",
        "\n",
        "write_json(answers,'/content/gdrive/My Drive/Colab Notebooks/머신/results5.json')"
      ],
      "execution_count": null,
      "outputs": []
    },
    {
      "cell_type": "markdown",
      "metadata": {
        "id": "vbt78QsfQOkw"
      },
      "source": [
        "터짐 테스트.."
      ]
    },
    {
      "cell_type": "code",
      "metadata": {
        "id": "DFI_6f9fHCfE"
      },
      "source": [
        "# p = np.zeros((n_songs,1)) # n_?songs 만큼 0박은 1차원 array 만들기\n",
        "\n",
        "# p[ plylst_val.loc[1,'songs_id'] ] = 1 # 각 plylst에 이미 있는 song_id에는 1박기\n",
        "    \n",
        "#     # song 빈도수 열과 p(이미 존재하는 song id에 1 박은거) 내적! \n",
        "# valid = train_songs_A.dot(p).reshape(-1)\n",
        "#     # reshape(-1) : 다른 나머지 차원의 크기를 맞추고 남은 크기를 해당 차원에 할당\n",
        "\n",
        "#     # 이미 있는 id\n",
        "# songs_already = plylst_val.loc[1, \"songs_id\"]\n",
        "# tags_already = plylst_val.loc[1, \"tags_id\"]\n",
        "\n",
        "#     # 전치시킨거에 valid(위에서 내적한거) 또 내적\n",
        "# cand_song = train_songs_A_T.dot(valid)\n",
        "# cand_song_idx = cand_song.reshape(-1).argsort()[-1000:][::-1] \n",
        "#     # argsort() : 작은 값부터 순서대로 데이터 인덱스 반환\n",
        "#     # array[::-1] : 처음부터 끝까지 -1칸 간격으로(역순으로) > 큰값부터 반환\n",
        "#     # [-150:] : 150개 뒤에서부터 자름\n",
        "# cand_song_idx = cand_song_idx[np.isin(cand_song_idx, songs_already) == False][:100]\n",
        "#     # cand_song_idx 에서 songs_already 가 있는지 T/F로 알려준다.\n",
        "#     # 근데 False 만 골라서, 100개까지 자른다\n",
        "\n",
        "# rec_song_idx = [song_sid_id[i] for i in cand_song_idx]"
      ],
      "execution_count": null,
      "outputs": []
    }
  ]
}