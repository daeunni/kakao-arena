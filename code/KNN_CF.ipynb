{
  "nbformat": 4,
  "nbformat_minor": 0,
  "metadata": {
    "colab": {
      "name": "KNN-CF.ipynb ",
      "provenance": [],
      "collapsed_sections": [],
      "machine_shape": "hm"
    },
    "kernelspec": {
      "name": "python3",
      "display_name": "Python 3"
    },
    "widgets": {
      "application/vnd.jupyter.widget-state+json": {
        "8df43fc70c824775b1e4f55ed5d62274": {
          "model_module": "@jupyter-widgets/controls",
          "model_name": "HBoxModel",
          "state": {
            "_view_name": "HBoxView",
            "_dom_classes": [],
            "_model_name": "HBoxModel",
            "_view_module": "@jupyter-widgets/controls",
            "_model_module_version": "1.5.0",
            "_view_count": null,
            "_view_module_version": "1.5.0",
            "box_style": "",
            "layout": "IPY_MODEL_57b2f0c0240f421c8575dcad1ce69ce3",
            "_model_module": "@jupyter-widgets/controls",
            "children": [
              "IPY_MODEL_54e8685e75a24f4bb621c1acc9b20cdb",
              "IPY_MODEL_11511e0713d0488f96394f34e69b790e"
            ]
          }
        },
        "57b2f0c0240f421c8575dcad1ce69ce3": {
          "model_module": "@jupyter-widgets/base",
          "model_name": "LayoutModel",
          "state": {
            "_view_name": "LayoutView",
            "grid_template_rows": null,
            "right": null,
            "justify_content": null,
            "_view_module": "@jupyter-widgets/base",
            "overflow": null,
            "_model_module_version": "1.2.0",
            "_view_count": null,
            "flex_flow": null,
            "width": null,
            "min_width": null,
            "border": null,
            "align_items": null,
            "bottom": null,
            "_model_module": "@jupyter-widgets/base",
            "top": null,
            "grid_column": null,
            "overflow_y": null,
            "overflow_x": null,
            "grid_auto_flow": null,
            "grid_area": null,
            "grid_template_columns": null,
            "flex": null,
            "_model_name": "LayoutModel",
            "justify_items": null,
            "grid_row": null,
            "max_height": null,
            "align_content": null,
            "visibility": null,
            "align_self": null,
            "height": null,
            "min_height": null,
            "padding": null,
            "grid_auto_rows": null,
            "grid_gap": null,
            "max_width": null,
            "order": null,
            "_view_module_version": "1.2.0",
            "grid_template_areas": null,
            "object_position": null,
            "object_fit": null,
            "grid_auto_columns": null,
            "margin": null,
            "display": null,
            "left": null
          }
        },
        "54e8685e75a24f4bb621c1acc9b20cdb": {
          "model_module": "@jupyter-widgets/controls",
          "model_name": "FloatProgressModel",
          "state": {
            "_view_name": "ProgressView",
            "style": "IPY_MODEL_7dc728baafef43c19343f3dd7497ead0",
            "_dom_classes": [],
            "description": "100%",
            "_model_name": "FloatProgressModel",
            "bar_style": "success",
            "max": 115071,
            "_view_module": "@jupyter-widgets/controls",
            "_model_module_version": "1.5.0",
            "value": 115071,
            "_view_count": null,
            "_view_module_version": "1.5.0",
            "orientation": "horizontal",
            "min": 0,
            "description_tooltip": null,
            "_model_module": "@jupyter-widgets/controls",
            "layout": "IPY_MODEL_096c5a0f88ca466491c20f62d0d4e79a"
          }
        },
        "11511e0713d0488f96394f34e69b790e": {
          "model_module": "@jupyter-widgets/controls",
          "model_name": "HTMLModel",
          "state": {
            "_view_name": "HTMLView",
            "style": "IPY_MODEL_98a9d09636784531a892a54773dfbbe4",
            "_dom_classes": [],
            "description": "",
            "_model_name": "HTMLModel",
            "placeholder": "​",
            "_view_module": "@jupyter-widgets/controls",
            "_model_module_version": "1.5.0",
            "value": " 115071/115071 [03:04&lt;00:00, 623.21it/s]",
            "_view_count": null,
            "_view_module_version": "1.5.0",
            "description_tooltip": null,
            "_model_module": "@jupyter-widgets/controls",
            "layout": "IPY_MODEL_3ad02f8b0e77484b946a45d0840ee8c3"
          }
        },
        "7dc728baafef43c19343f3dd7497ead0": {
          "model_module": "@jupyter-widgets/controls",
          "model_name": "ProgressStyleModel",
          "state": {
            "_view_name": "StyleView",
            "_model_name": "ProgressStyleModel",
            "description_width": "initial",
            "_view_module": "@jupyter-widgets/base",
            "_model_module_version": "1.5.0",
            "_view_count": null,
            "_view_module_version": "1.2.0",
            "bar_color": null,
            "_model_module": "@jupyter-widgets/controls"
          }
        },
        "096c5a0f88ca466491c20f62d0d4e79a": {
          "model_module": "@jupyter-widgets/base",
          "model_name": "LayoutModel",
          "state": {
            "_view_name": "LayoutView",
            "grid_template_rows": null,
            "right": null,
            "justify_content": null,
            "_view_module": "@jupyter-widgets/base",
            "overflow": null,
            "_model_module_version": "1.2.0",
            "_view_count": null,
            "flex_flow": null,
            "width": null,
            "min_width": null,
            "border": null,
            "align_items": null,
            "bottom": null,
            "_model_module": "@jupyter-widgets/base",
            "top": null,
            "grid_column": null,
            "overflow_y": null,
            "overflow_x": null,
            "grid_auto_flow": null,
            "grid_area": null,
            "grid_template_columns": null,
            "flex": null,
            "_model_name": "LayoutModel",
            "justify_items": null,
            "grid_row": null,
            "max_height": null,
            "align_content": null,
            "visibility": null,
            "align_self": null,
            "height": null,
            "min_height": null,
            "padding": null,
            "grid_auto_rows": null,
            "grid_gap": null,
            "max_width": null,
            "order": null,
            "_view_module_version": "1.2.0",
            "grid_template_areas": null,
            "object_position": null,
            "object_fit": null,
            "grid_auto_columns": null,
            "margin": null,
            "display": null,
            "left": null
          }
        },
        "98a9d09636784531a892a54773dfbbe4": {
          "model_module": "@jupyter-widgets/controls",
          "model_name": "DescriptionStyleModel",
          "state": {
            "_view_name": "StyleView",
            "_model_name": "DescriptionStyleModel",
            "description_width": "",
            "_view_module": "@jupyter-widgets/base",
            "_model_module_version": "1.5.0",
            "_view_count": null,
            "_view_module_version": "1.2.0",
            "_model_module": "@jupyter-widgets/controls"
          }
        },
        "3ad02f8b0e77484b946a45d0840ee8c3": {
          "model_module": "@jupyter-widgets/base",
          "model_name": "LayoutModel",
          "state": {
            "_view_name": "LayoutView",
            "grid_template_rows": null,
            "right": null,
            "justify_content": null,
            "_view_module": "@jupyter-widgets/base",
            "overflow": null,
            "_model_module_version": "1.2.0",
            "_view_count": null,
            "flex_flow": null,
            "width": null,
            "min_width": null,
            "border": null,
            "align_items": null,
            "bottom": null,
            "_model_module": "@jupyter-widgets/base",
            "top": null,
            "grid_column": null,
            "overflow_y": null,
            "overflow_x": null,
            "grid_auto_flow": null,
            "grid_area": null,
            "grid_template_columns": null,
            "flex": null,
            "_model_name": "LayoutModel",
            "justify_items": null,
            "grid_row": null,
            "max_height": null,
            "align_content": null,
            "visibility": null,
            "align_self": null,
            "height": null,
            "min_height": null,
            "padding": null,
            "grid_auto_rows": null,
            "grid_gap": null,
            "max_width": null,
            "order": null,
            "_view_module_version": "1.2.0",
            "grid_template_areas": null,
            "object_position": null,
            "object_fit": null,
            "grid_auto_columns": null,
            "margin": null,
            "display": null,
            "left": null
          }
        },
        "e189b4fe5aed4a45bff9bf3acd45e8a5": {
          "model_module": "@jupyter-widgets/controls",
          "model_name": "HBoxModel",
          "state": {
            "_view_name": "HBoxView",
            "_dom_classes": [],
            "_model_name": "HBoxModel",
            "_view_module": "@jupyter-widgets/controls",
            "_model_module_version": "1.5.0",
            "_view_count": null,
            "_view_module_version": "1.5.0",
            "box_style": "",
            "layout": "IPY_MODEL_d00963197a934f05b5192626285a75c8",
            "_model_module": "@jupyter-widgets/controls",
            "children": [
              "IPY_MODEL_8f0a4837047f464db0db9070ea25a537",
              "IPY_MODEL_1dbabbee9e6346f99b0c47521eba9394"
            ]
          }
        },
        "d00963197a934f05b5192626285a75c8": {
          "model_module": "@jupyter-widgets/base",
          "model_name": "LayoutModel",
          "state": {
            "_view_name": "LayoutView",
            "grid_template_rows": null,
            "right": null,
            "justify_content": null,
            "_view_module": "@jupyter-widgets/base",
            "overflow": null,
            "_model_module_version": "1.2.0",
            "_view_count": null,
            "flex_flow": null,
            "width": null,
            "min_width": null,
            "border": null,
            "align_items": null,
            "bottom": null,
            "_model_module": "@jupyter-widgets/base",
            "top": null,
            "grid_column": null,
            "overflow_y": null,
            "overflow_x": null,
            "grid_auto_flow": null,
            "grid_area": null,
            "grid_template_columns": null,
            "flex": null,
            "_model_name": "LayoutModel",
            "justify_items": null,
            "grid_row": null,
            "max_height": null,
            "align_content": null,
            "visibility": null,
            "align_self": null,
            "height": null,
            "min_height": null,
            "padding": null,
            "grid_auto_rows": null,
            "grid_gap": null,
            "max_width": null,
            "order": null,
            "_view_module_version": "1.2.0",
            "grid_template_areas": null,
            "object_position": null,
            "object_fit": null,
            "grid_auto_columns": null,
            "margin": null,
            "display": null,
            "left": null
          }
        },
        "8f0a4837047f464db0db9070ea25a537": {
          "model_module": "@jupyter-widgets/controls",
          "model_name": "FloatProgressModel",
          "state": {
            "_view_name": "ProgressView",
            "style": "IPY_MODEL_a0bb1022917240ffa3291d84c97fe3ab",
            "_dom_classes": [],
            "description": "100%",
            "_model_name": "FloatProgressModel",
            "bar_style": "success",
            "max": 23015,
            "_view_module": "@jupyter-widgets/controls",
            "_model_module_version": "1.5.0",
            "value": 23015,
            "_view_count": null,
            "_view_module_version": "1.5.0",
            "orientation": "horizontal",
            "min": 0,
            "description_tooltip": null,
            "_model_module": "@jupyter-widgets/controls",
            "layout": "IPY_MODEL_5933183641a74dcd8c5ca248bff227de"
          }
        },
        "1dbabbee9e6346f99b0c47521eba9394": {
          "model_module": "@jupyter-widgets/controls",
          "model_name": "HTMLModel",
          "state": {
            "_view_name": "HTMLView",
            "style": "IPY_MODEL_1f9985735882473e86602b3eb32e19d3",
            "_dom_classes": [],
            "description": "",
            "_model_name": "HTMLModel",
            "placeholder": "​",
            "_view_module": "@jupyter-widgets/controls",
            "_model_module_version": "1.5.0",
            "value": " 23015/23015 [01:32&lt;00:00, 247.80it/s]",
            "_view_count": null,
            "_view_module_version": "1.5.0",
            "description_tooltip": null,
            "_model_module": "@jupyter-widgets/controls",
            "layout": "IPY_MODEL_9227147be0a14ac495278fe0f9312912"
          }
        },
        "a0bb1022917240ffa3291d84c97fe3ab": {
          "model_module": "@jupyter-widgets/controls",
          "model_name": "ProgressStyleModel",
          "state": {
            "_view_name": "StyleView",
            "_model_name": "ProgressStyleModel",
            "description_width": "initial",
            "_view_module": "@jupyter-widgets/base",
            "_model_module_version": "1.5.0",
            "_view_count": null,
            "_view_module_version": "1.2.0",
            "bar_color": null,
            "_model_module": "@jupyter-widgets/controls"
          }
        },
        "5933183641a74dcd8c5ca248bff227de": {
          "model_module": "@jupyter-widgets/base",
          "model_name": "LayoutModel",
          "state": {
            "_view_name": "LayoutView",
            "grid_template_rows": null,
            "right": null,
            "justify_content": null,
            "_view_module": "@jupyter-widgets/base",
            "overflow": null,
            "_model_module_version": "1.2.0",
            "_view_count": null,
            "flex_flow": null,
            "width": null,
            "min_width": null,
            "border": null,
            "align_items": null,
            "bottom": null,
            "_model_module": "@jupyter-widgets/base",
            "top": null,
            "grid_column": null,
            "overflow_y": null,
            "overflow_x": null,
            "grid_auto_flow": null,
            "grid_area": null,
            "grid_template_columns": null,
            "flex": null,
            "_model_name": "LayoutModel",
            "justify_items": null,
            "grid_row": null,
            "max_height": null,
            "align_content": null,
            "visibility": null,
            "align_self": null,
            "height": null,
            "min_height": null,
            "padding": null,
            "grid_auto_rows": null,
            "grid_gap": null,
            "max_width": null,
            "order": null,
            "_view_module_version": "1.2.0",
            "grid_template_areas": null,
            "object_position": null,
            "object_fit": null,
            "grid_auto_columns": null,
            "margin": null,
            "display": null,
            "left": null
          }
        },
        "1f9985735882473e86602b3eb32e19d3": {
          "model_module": "@jupyter-widgets/controls",
          "model_name": "DescriptionStyleModel",
          "state": {
            "_view_name": "StyleView",
            "_model_name": "DescriptionStyleModel",
            "description_width": "",
            "_view_module": "@jupyter-widgets/base",
            "_model_module_version": "1.5.0",
            "_view_count": null,
            "_view_module_version": "1.2.0",
            "_model_module": "@jupyter-widgets/controls"
          }
        },
        "9227147be0a14ac495278fe0f9312912": {
          "model_module": "@jupyter-widgets/base",
          "model_name": "LayoutModel",
          "state": {
            "_view_name": "LayoutView",
            "grid_template_rows": null,
            "right": null,
            "justify_content": null,
            "_view_module": "@jupyter-widgets/base",
            "overflow": null,
            "_model_module_version": "1.2.0",
            "_view_count": null,
            "flex_flow": null,
            "width": null,
            "min_width": null,
            "border": null,
            "align_items": null,
            "bottom": null,
            "_model_module": "@jupyter-widgets/base",
            "top": null,
            "grid_column": null,
            "overflow_y": null,
            "overflow_x": null,
            "grid_auto_flow": null,
            "grid_area": null,
            "grid_template_columns": null,
            "flex": null,
            "_model_name": "LayoutModel",
            "justify_items": null,
            "grid_row": null,
            "max_height": null,
            "align_content": null,
            "visibility": null,
            "align_self": null,
            "height": null,
            "min_height": null,
            "padding": null,
            "grid_auto_rows": null,
            "grid_gap": null,
            "max_width": null,
            "order": null,
            "_view_module_version": "1.2.0",
            "grid_template_areas": null,
            "object_position": null,
            "object_fit": null,
            "grid_auto_columns": null,
            "margin": null,
            "display": null,
            "left": null
          }
        },
        "931f752b8481422f91400c2cb88b96f1": {
          "model_module": "@jupyter-widgets/controls",
          "model_name": "HBoxModel",
          "state": {
            "_view_name": "HBoxView",
            "_dom_classes": [],
            "_model_name": "HBoxModel",
            "_view_module": "@jupyter-widgets/controls",
            "_model_module_version": "1.5.0",
            "_view_count": null,
            "_view_module_version": "1.5.0",
            "box_style": "",
            "layout": "IPY_MODEL_e0b893916b2e4e1d9ad5bc554db473ea",
            "_model_module": "@jupyter-widgets/controls",
            "children": [
              "IPY_MODEL_c3a4c719511441b8b438c75293760849",
              "IPY_MODEL_b33d603f79094d7285989aa1169399d3"
            ]
          }
        },
        "e0b893916b2e4e1d9ad5bc554db473ea": {
          "model_module": "@jupyter-widgets/base",
          "model_name": "LayoutModel",
          "state": {
            "_view_name": "LayoutView",
            "grid_template_rows": null,
            "right": null,
            "justify_content": null,
            "_view_module": "@jupyter-widgets/base",
            "overflow": null,
            "_model_module_version": "1.2.0",
            "_view_count": null,
            "flex_flow": null,
            "width": null,
            "min_width": null,
            "border": null,
            "align_items": null,
            "bottom": null,
            "_model_module": "@jupyter-widgets/base",
            "top": null,
            "grid_column": null,
            "overflow_y": null,
            "overflow_x": null,
            "grid_auto_flow": null,
            "grid_area": null,
            "grid_template_columns": null,
            "flex": null,
            "_model_name": "LayoutModel",
            "justify_items": null,
            "grid_row": null,
            "max_height": null,
            "align_content": null,
            "visibility": null,
            "align_self": null,
            "height": null,
            "min_height": null,
            "padding": null,
            "grid_auto_rows": null,
            "grid_gap": null,
            "max_width": null,
            "order": null,
            "_view_module_version": "1.2.0",
            "grid_template_areas": null,
            "object_position": null,
            "object_fit": null,
            "grid_auto_columns": null,
            "margin": null,
            "display": null,
            "left": null
          }
        },
        "c3a4c719511441b8b438c75293760849": {
          "model_module": "@jupyter-widgets/controls",
          "model_name": "FloatProgressModel",
          "state": {
            "_view_name": "ProgressView",
            "style": "IPY_MODEL_d6a8e1043b6044959c8c5261011e2080",
            "_dom_classes": [],
            "description": "100%",
            "_model_name": "FloatProgressModel",
            "bar_style": "success",
            "max": 10740,
            "_view_module": "@jupyter-widgets/controls",
            "_model_module_version": "1.5.0",
            "value": 10740,
            "_view_count": null,
            "_view_module_version": "1.5.0",
            "orientation": "horizontal",
            "min": 0,
            "description_tooltip": null,
            "_model_module": "@jupyter-widgets/controls",
            "layout": "IPY_MODEL_9437a271b2d146ea926d7f179bfc8e33"
          }
        },
        "b33d603f79094d7285989aa1169399d3": {
          "model_module": "@jupyter-widgets/controls",
          "model_name": "HTMLModel",
          "state": {
            "_view_name": "HTMLView",
            "style": "IPY_MODEL_6892582937574714b38574c735b7761c",
            "_dom_classes": [],
            "description": "",
            "_model_name": "HTMLModel",
            "placeholder": "​",
            "_view_module": "@jupyter-widgets/controls",
            "_model_module_version": "1.5.0",
            "value": " 10740/10740 [01:17&lt;00:00, 138.12it/s]",
            "_view_count": null,
            "_view_module_version": "1.5.0",
            "description_tooltip": null,
            "_model_module": "@jupyter-widgets/controls",
            "layout": "IPY_MODEL_2a2e0a5c179842f5b5d39d9f9a322e00"
          }
        },
        "d6a8e1043b6044959c8c5261011e2080": {
          "model_module": "@jupyter-widgets/controls",
          "model_name": "ProgressStyleModel",
          "state": {
            "_view_name": "StyleView",
            "_model_name": "ProgressStyleModel",
            "description_width": "initial",
            "_view_module": "@jupyter-widgets/base",
            "_model_module_version": "1.5.0",
            "_view_count": null,
            "_view_module_version": "1.2.0",
            "bar_color": null,
            "_model_module": "@jupyter-widgets/controls"
          }
        },
        "9437a271b2d146ea926d7f179bfc8e33": {
          "model_module": "@jupyter-widgets/base",
          "model_name": "LayoutModel",
          "state": {
            "_view_name": "LayoutView",
            "grid_template_rows": null,
            "right": null,
            "justify_content": null,
            "_view_module": "@jupyter-widgets/base",
            "overflow": null,
            "_model_module_version": "1.2.0",
            "_view_count": null,
            "flex_flow": null,
            "width": null,
            "min_width": null,
            "border": null,
            "align_items": null,
            "bottom": null,
            "_model_module": "@jupyter-widgets/base",
            "top": null,
            "grid_column": null,
            "overflow_y": null,
            "overflow_x": null,
            "grid_auto_flow": null,
            "grid_area": null,
            "grid_template_columns": null,
            "flex": null,
            "_model_name": "LayoutModel",
            "justify_items": null,
            "grid_row": null,
            "max_height": null,
            "align_content": null,
            "visibility": null,
            "align_self": null,
            "height": null,
            "min_height": null,
            "padding": null,
            "grid_auto_rows": null,
            "grid_gap": null,
            "max_width": null,
            "order": null,
            "_view_module_version": "1.2.0",
            "grid_template_areas": null,
            "object_position": null,
            "object_fit": null,
            "grid_auto_columns": null,
            "margin": null,
            "display": null,
            "left": null
          }
        },
        "6892582937574714b38574c735b7761c": {
          "model_module": "@jupyter-widgets/controls",
          "model_name": "DescriptionStyleModel",
          "state": {
            "_view_name": "StyleView",
            "_model_name": "DescriptionStyleModel",
            "description_width": "",
            "_view_module": "@jupyter-widgets/base",
            "_model_module_version": "1.5.0",
            "_view_count": null,
            "_view_module_version": "1.2.0",
            "_model_module": "@jupyter-widgets/controls"
          }
        },
        "2a2e0a5c179842f5b5d39d9f9a322e00": {
          "model_module": "@jupyter-widgets/base",
          "model_name": "LayoutModel",
          "state": {
            "_view_name": "LayoutView",
            "grid_template_rows": null,
            "right": null,
            "justify_content": null,
            "_view_module": "@jupyter-widgets/base",
            "overflow": null,
            "_model_module_version": "1.2.0",
            "_view_count": null,
            "flex_flow": null,
            "width": null,
            "min_width": null,
            "border": null,
            "align_items": null,
            "bottom": null,
            "_model_module": "@jupyter-widgets/base",
            "top": null,
            "grid_column": null,
            "overflow_y": null,
            "overflow_x": null,
            "grid_auto_flow": null,
            "grid_area": null,
            "grid_template_columns": null,
            "flex": null,
            "_model_name": "LayoutModel",
            "justify_items": null,
            "grid_row": null,
            "max_height": null,
            "align_content": null,
            "visibility": null,
            "align_self": null,
            "height": null,
            "min_height": null,
            "padding": null,
            "grid_auto_rows": null,
            "grid_gap": null,
            "max_width": null,
            "order": null,
            "_view_module_version": "1.2.0",
            "grid_template_areas": null,
            "object_position": null,
            "object_fit": null,
            "grid_auto_columns": null,
            "margin": null,
            "display": null,
            "left": null
          }
        },
        "f332e90df83b47b18ce3119d14389c3c": {
          "model_module": "@jupyter-widgets/controls",
          "model_name": "HBoxModel",
          "state": {
            "_view_name": "HBoxView",
            "_dom_classes": [],
            "_model_name": "HBoxModel",
            "_view_module": "@jupyter-widgets/controls",
            "_model_module_version": "1.5.0",
            "_view_count": null,
            "_view_module_version": "1.5.0",
            "box_style": "",
            "layout": "IPY_MODEL_1d7674de232745bbacbd9a44032c595a",
            "_model_module": "@jupyter-widgets/controls",
            "children": [
              "IPY_MODEL_a4c7e334a8254527958bf1b086617706",
              "IPY_MODEL_8b5a4dd720374ab5845a8d858aad008e"
            ]
          }
        },
        "1d7674de232745bbacbd9a44032c595a": {
          "model_module": "@jupyter-widgets/base",
          "model_name": "LayoutModel",
          "state": {
            "_view_name": "LayoutView",
            "grid_template_rows": null,
            "right": null,
            "justify_content": null,
            "_view_module": "@jupyter-widgets/base",
            "overflow": null,
            "_model_module_version": "1.2.0",
            "_view_count": null,
            "flex_flow": null,
            "width": null,
            "min_width": null,
            "border": null,
            "align_items": null,
            "bottom": null,
            "_model_module": "@jupyter-widgets/base",
            "top": null,
            "grid_column": null,
            "overflow_y": null,
            "overflow_x": null,
            "grid_auto_flow": null,
            "grid_area": null,
            "grid_template_columns": null,
            "flex": null,
            "_model_name": "LayoutModel",
            "justify_items": null,
            "grid_row": null,
            "max_height": null,
            "align_content": null,
            "visibility": null,
            "align_self": null,
            "height": null,
            "min_height": null,
            "padding": null,
            "grid_auto_rows": null,
            "grid_gap": null,
            "max_width": null,
            "order": null,
            "_view_module_version": "1.2.0",
            "grid_template_areas": null,
            "object_position": null,
            "object_fit": null,
            "grid_auto_columns": null,
            "margin": null,
            "display": null,
            "left": null
          }
        },
        "a4c7e334a8254527958bf1b086617706": {
          "model_module": "@jupyter-widgets/controls",
          "model_name": "FloatProgressModel",
          "state": {
            "_view_name": "ProgressView",
            "style": "IPY_MODEL_78ecd9fd82bc44bb8b2d20c2465949e2",
            "_dom_classes": [],
            "description": "100%",
            "_model_name": "FloatProgressModel",
            "bar_style": "success",
            "max": 148826,
            "_view_module": "@jupyter-widgets/controls",
            "_model_module_version": "1.5.0",
            "value": 148826,
            "_view_count": null,
            "_view_module_version": "1.5.0",
            "orientation": "horizontal",
            "min": 0,
            "description_tooltip": null,
            "_model_module": "@jupyter-widgets/controls",
            "layout": "IPY_MODEL_28672090a0144e2f9190c17b71213891"
          }
        },
        "8b5a4dd720374ab5845a8d858aad008e": {
          "model_module": "@jupyter-widgets/controls",
          "model_name": "HTMLModel",
          "state": {
            "_view_name": "HTMLView",
            "style": "IPY_MODEL_f9a58dcd81374364b63c7138e5ce0b6f",
            "_dom_classes": [],
            "description": "",
            "_model_name": "HTMLModel",
            "placeholder": "​",
            "_view_module": "@jupyter-widgets/controls",
            "_model_module_version": "1.5.0",
            "value": " 148826/148826 [01:05&lt;00:00, 2282.23it/s]",
            "_view_count": null,
            "_view_module_version": "1.5.0",
            "description_tooltip": null,
            "_model_module": "@jupyter-widgets/controls",
            "layout": "IPY_MODEL_1d3f6ba1010047f1987634547a995695"
          }
        },
        "78ecd9fd82bc44bb8b2d20c2465949e2": {
          "model_module": "@jupyter-widgets/controls",
          "model_name": "ProgressStyleModel",
          "state": {
            "_view_name": "StyleView",
            "_model_name": "ProgressStyleModel",
            "description_width": "initial",
            "_view_module": "@jupyter-widgets/base",
            "_model_module_version": "1.5.0",
            "_view_count": null,
            "_view_module_version": "1.2.0",
            "bar_color": null,
            "_model_module": "@jupyter-widgets/controls"
          }
        },
        "28672090a0144e2f9190c17b71213891": {
          "model_module": "@jupyter-widgets/base",
          "model_name": "LayoutModel",
          "state": {
            "_view_name": "LayoutView",
            "grid_template_rows": null,
            "right": null,
            "justify_content": null,
            "_view_module": "@jupyter-widgets/base",
            "overflow": null,
            "_model_module_version": "1.2.0",
            "_view_count": null,
            "flex_flow": null,
            "width": null,
            "min_width": null,
            "border": null,
            "align_items": null,
            "bottom": null,
            "_model_module": "@jupyter-widgets/base",
            "top": null,
            "grid_column": null,
            "overflow_y": null,
            "overflow_x": null,
            "grid_auto_flow": null,
            "grid_area": null,
            "grid_template_columns": null,
            "flex": null,
            "_model_name": "LayoutModel",
            "justify_items": null,
            "grid_row": null,
            "max_height": null,
            "align_content": null,
            "visibility": null,
            "align_self": null,
            "height": null,
            "min_height": null,
            "padding": null,
            "grid_auto_rows": null,
            "grid_gap": null,
            "max_width": null,
            "order": null,
            "_view_module_version": "1.2.0",
            "grid_template_areas": null,
            "object_position": null,
            "object_fit": null,
            "grid_auto_columns": null,
            "margin": null,
            "display": null,
            "left": null
          }
        },
        "f9a58dcd81374364b63c7138e5ce0b6f": {
          "model_module": "@jupyter-widgets/controls",
          "model_name": "DescriptionStyleModel",
          "state": {
            "_view_name": "StyleView",
            "_model_name": "DescriptionStyleModel",
            "description_width": "",
            "_view_module": "@jupyter-widgets/base",
            "_model_module_version": "1.5.0",
            "_view_count": null,
            "_view_module_version": "1.2.0",
            "_model_module": "@jupyter-widgets/controls"
          }
        },
        "1d3f6ba1010047f1987634547a995695": {
          "model_module": "@jupyter-widgets/base",
          "model_name": "LayoutModel",
          "state": {
            "_view_name": "LayoutView",
            "grid_template_rows": null,
            "right": null,
            "justify_content": null,
            "_view_module": "@jupyter-widgets/base",
            "overflow": null,
            "_model_module_version": "1.2.0",
            "_view_count": null,
            "flex_flow": null,
            "width": null,
            "min_width": null,
            "border": null,
            "align_items": null,
            "bottom": null,
            "_model_module": "@jupyter-widgets/base",
            "top": null,
            "grid_column": null,
            "overflow_y": null,
            "overflow_x": null,
            "grid_auto_flow": null,
            "grid_area": null,
            "grid_template_columns": null,
            "flex": null,
            "_model_name": "LayoutModel",
            "justify_items": null,
            "grid_row": null,
            "max_height": null,
            "align_content": null,
            "visibility": null,
            "align_self": null,
            "height": null,
            "min_height": null,
            "padding": null,
            "grid_auto_rows": null,
            "grid_gap": null,
            "max_width": null,
            "order": null,
            "_view_module_version": "1.2.0",
            "grid_template_areas": null,
            "object_position": null,
            "object_fit": null,
            "grid_auto_columns": null,
            "margin": null,
            "display": null,
            "left": null
          }
        }
      }
    }
  },
  "cells": [
    {
      "cell_type": "code",
      "metadata": {
        "id": "zUMUZ2GYLrYg"
      },
      "source": [
        "from datetime import timedelta, datetime\n",
        "import glob\n",
        "import json\n",
        "import os\n",
        "import re\n",
        "\n",
        "from collections import Counter\n",
        "\n",
        "import numpy as np\n",
        "import pandas as pd\n",
        "\n",
        "import scipy.sparse as spr\n",
        "import pickle"
      ],
      "execution_count": null,
      "outputs": []
    },
    {
      "cell_type": "code",
      "metadata": {
        "id": "gDoIOXGBPkRn",
        "colab": {
          "base_uri": "https://localhost:8080/",
          "height": 126
        },
        "outputId": "4a56a4af-58ee-4973-de8d-3e86d1bc307c"
      },
      "source": [
        "from google.colab import drive\n",
        "drive.mount('/content/gdrive/')"
      ],
      "execution_count": null,
      "outputs": [
        {
          "output_type": "stream",
          "text": [
            "Go to this URL in a browser: https://accounts.google.com/o/oauth2/auth?client_id=947318989803-6bn6qk8qdgf4n4g3pfee6491hc0brc4i.apps.googleusercontent.com&redirect_uri=urn%3aietf%3awg%3aoauth%3a2.0%3aoob&response_type=code&scope=email%20https%3a%2f%2fwww.googleapis.com%2fauth%2fdocs.test%20https%3a%2f%2fwww.googleapis.com%2fauth%2fdrive%20https%3a%2f%2fwww.googleapis.com%2fauth%2fdrive.photos.readonly%20https%3a%2f%2fwww.googleapis.com%2fauth%2fpeopleapi.readonly\n",
            "\n",
            "Enter your authorization code:\n",
            "··········\n",
            "Mounted at /content/gdrive/\n"
          ],
          "name": "stdout"
        }
      ]
    },
    {
      "cell_type": "code",
      "metadata": {
        "id": "vHjUvsCkLrc-"
      },
      "source": [
        "val = pd.read_json('/content/gdrive/My Drive/Colab Notebooks/머신/val.json', typ = 'frame',encoding='UTF-8')\n",
        "song = pd.read_json('/content/gdrive/My Drive/Colab Notebooks/머신/song_meta.json', typ = 'frame',encoding='UTF-8')\n",
        "train = pd.read_json('/content/gdrive/My Drive/Colab Notebooks/머신/train.json', typ = 'frame', encoding='utf-8')\n",
        "test = pd.read_json('/content/gdrive/My Drive/Colab Notebooks/머신/test.json', typ = 'frame', encoding='utf-8')\n",
        "genre_gn_all = pd.read_json('/content/gdrive/My Drive/Colab Notebooks/머신/genre_gn_all.json', typ = 'series',encoding='utf-8')"
      ],
      "execution_count": null,
      "outputs": []
    },
    {
      "cell_type": "markdown",
      "metadata": {
        "id": "b3q36YW4Yu6T"
      },
      "source": [
        "## song 필터링"
      ]
    },
    {
      "cell_type": "code",
      "metadata": {
        "id": "qQ2YYZQ0Lrmo",
        "colab": {
          "base_uri": "https://localhost:8080/",
          "height": 106
        },
        "outputId": "1400e843-f06a-45e9-e53a-9e0c9e550293"
      },
      "source": [
        "train['num_songs'] = train['songs'].apply(len)\n",
        "train.head(2)"
      ],
      "execution_count": null,
      "outputs": [
        {
          "output_type": "execute_result",
          "data": {
            "text/html": [
              "<div>\n",
              "<style scoped>\n",
              "    .dataframe tbody tr th:only-of-type {\n",
              "        vertical-align: middle;\n",
              "    }\n",
              "\n",
              "    .dataframe tbody tr th {\n",
              "        vertical-align: top;\n",
              "    }\n",
              "\n",
              "    .dataframe thead th {\n",
              "        text-align: right;\n",
              "    }\n",
              "</style>\n",
              "<table border=\"1\" class=\"dataframe\">\n",
              "  <thead>\n",
              "    <tr style=\"text-align: right;\">\n",
              "      <th></th>\n",
              "      <th>tags</th>\n",
              "      <th>id</th>\n",
              "      <th>plylst_title</th>\n",
              "      <th>songs</th>\n",
              "      <th>like_cnt</th>\n",
              "      <th>updt_date</th>\n",
              "      <th>num_songs</th>\n",
              "    </tr>\n",
              "  </thead>\n",
              "  <tbody>\n",
              "    <tr>\n",
              "      <th>0</th>\n",
              "      <td>[락]</td>\n",
              "      <td>61281</td>\n",
              "      <td>여행같은 음악</td>\n",
              "      <td>[525514, 129701, 383374, 562083, 297861, 13954...</td>\n",
              "      <td>71</td>\n",
              "      <td>2013-12-19 18:36:19.000</td>\n",
              "      <td>19</td>\n",
              "    </tr>\n",
              "    <tr>\n",
              "      <th>1</th>\n",
              "      <td>[추억, 회상]</td>\n",
              "      <td>10532</td>\n",
              "      <td>요즘 너 말야</td>\n",
              "      <td>[432406, 675945, 497066, 120377, 389529, 24427...</td>\n",
              "      <td>1</td>\n",
              "      <td>2014-12-02 16:19:42.000</td>\n",
              "      <td>42</td>\n",
              "    </tr>\n",
              "  </tbody>\n",
              "</table>\n",
              "</div>"
            ],
            "text/plain": [
              "       tags     id plylst_title  ... like_cnt                updt_date num_songs\n",
              "0       [락]  61281      여행같은 음악  ...       71  2013-12-19 18:36:19.000        19\n",
              "1  [추억, 회상]  10532      요즘 너 말야  ...        1  2014-12-02 16:19:42.000        42\n",
              "\n",
              "[2 rows x 7 columns]"
            ]
          },
          "metadata": {
            "tags": []
          },
          "execution_count": 4
        }
      ]
    },
    {
      "cell_type": "code",
      "metadata": {
        "id": "25MIz7P2LruP",
        "colab": {
          "base_uri": "https://localhost:8080/",
          "height": 52
        },
        "outputId": "101e7868-9b4f-4907-a03e-da8e62bcdf69"
      },
      "source": [
        "%%time\n",
        "# song_count 행렬 만들기\n",
        "song_count = []\n",
        "for i in train.songs.to_list():\n",
        "  for j in i:\n",
        "    song_count.append(j)\n",
        "song_exist = pd.DataFrame(song_count)[0].value_counts().reset_index().rename(columns={'index':'song', 0:'count'})"
      ],
      "execution_count": null,
      "outputs": [
        {
          "output_type": "stream",
          "text": [
            "CPU times: user 2.18 s, sys: 11.9 ms, total: 2.19 s\n",
            "Wall time: 2.19 s\n"
          ],
          "name": "stdout"
        }
      ]
    },
    {
      "cell_type": "code",
      "metadata": {
        "id": "IgjCOTnkLr1_",
        "colab": {
          "base_uri": "https://localhost:8080/",
          "height": 194
        },
        "outputId": "610f3b75-9149-4084-cf93-ccb43a6685e5"
      },
      "source": [
        "song_exist.head()"
      ],
      "execution_count": null,
      "outputs": [
        {
          "output_type": "execute_result",
          "data": {
            "text/html": [
              "<div>\n",
              "<style scoped>\n",
              "    .dataframe tbody tr th:only-of-type {\n",
              "        vertical-align: middle;\n",
              "    }\n",
              "\n",
              "    .dataframe tbody tr th {\n",
              "        vertical-align: top;\n",
              "    }\n",
              "\n",
              "    .dataframe thead th {\n",
              "        text-align: right;\n",
              "    }\n",
              "</style>\n",
              "<table border=\"1\" class=\"dataframe\">\n",
              "  <thead>\n",
              "    <tr style=\"text-align: right;\">\n",
              "      <th></th>\n",
              "      <th>song</th>\n",
              "      <th>count</th>\n",
              "    </tr>\n",
              "  </thead>\n",
              "  <tbody>\n",
              "    <tr>\n",
              "      <th>0</th>\n",
              "      <td>144663</td>\n",
              "      <td>2175</td>\n",
              "    </tr>\n",
              "    <tr>\n",
              "      <th>1</th>\n",
              "      <td>116573</td>\n",
              "      <td>2121</td>\n",
              "    </tr>\n",
              "    <tr>\n",
              "      <th>2</th>\n",
              "      <td>357367</td>\n",
              "      <td>1981</td>\n",
              "    </tr>\n",
              "    <tr>\n",
              "      <th>3</th>\n",
              "      <td>366786</td>\n",
              "      <td>1919</td>\n",
              "    </tr>\n",
              "    <tr>\n",
              "      <th>4</th>\n",
              "      <td>654757</td>\n",
              "      <td>1647</td>\n",
              "    </tr>\n",
              "  </tbody>\n",
              "</table>\n",
              "</div>"
            ],
            "text/plain": [
              "     song  count\n",
              "0  144663   2175\n",
              "1  116573   2121\n",
              "2  357367   1981\n",
              "3  366786   1919\n",
              "4  654757   1647"
            ]
          },
          "metadata": {
            "tags": []
          },
          "execution_count": 6
        }
      ]
    },
    {
      "cell_type": "code",
      "metadata": {
        "id": "aXbm4e9VLr6t",
        "colab": {
          "base_uri": "https://localhost:8080/",
          "height": 177
        },
        "outputId": "a6c214a7-3d7b-4e5a-d0d8-458eb89e8529"
      },
      "source": [
        "song_exist['count'].describe() # 분포 쉐엣"
      ],
      "execution_count": null,
      "outputs": [
        {
          "output_type": "execute_result",
          "data": {
            "text/plain": [
              "count    615142.000000\n",
              "mean          8.592928\n",
              "std          39.481912\n",
              "min           1.000000\n",
              "25%           1.000000\n",
              "50%           2.000000\n",
              "75%           4.000000\n",
              "max        2175.000000\n",
              "Name: count, dtype: float64"
            ]
          },
          "metadata": {
            "tags": []
          },
          "execution_count": 7
        }
      ]
    },
    {
      "cell_type": "markdown",
      "metadata": {
        "id": "-jmLR2HgOVbe"
      },
      "source": [
        "노래 제외 X"
      ]
    },
    {
      "cell_type": "code",
      "metadata": {
        "id": "0Mf8OrFQLsDE"
      },
      "source": [
        "# # 애초에 3번 이하 등장하는 노래들은 제외하고 시작\n",
        "# less_song = song_exist.query('count<2').song.values # 버릴애들\n",
        "# only_song = song_exist.query('count>1').song.values # 얘네만 씀\n",
        "# only_song_id = only_song.tolist()\n",
        "\n",
        "# print('버릴 애들 : {}'.format(len(less_song)), '사용할 애들 : {}'.format(len(only_song))) "
      ],
      "execution_count": null,
      "outputs": []
    },
    {
      "cell_type": "code",
      "metadata": {
        "id": "JpvOo_tbLsKy"
      },
      "source": [
        "# new_song = song.query('id == @only_song_id') # 22만개만 씀\n",
        "# print('새로운 song_meta 길이 : {}'.format(len(new_song))) # 새로운 song_meta"
      ],
      "execution_count": null,
      "outputs": []
    },
    {
      "cell_type": "code",
      "metadata": {
        "id": "GXcJM91ULsH7"
      },
      "source": [
        "# new_song.head(2) # 새로운 song meta"
      ],
      "execution_count": null,
      "outputs": []
    },
    {
      "cell_type": "code",
      "metadata": {
        "id": "xNr9bBriLsGJ"
      },
      "source": [
        "# # 3번 이상 등장한 노래만 남기고 train 노래 삭제\n",
        "# %%time\n",
        "# # song_value = song_exist.query('count>2').song.values\n",
        "# def song_del(x):\n",
        "#   x_iter = []\n",
        "#   for i in x:\n",
        "#     if i in only_song:\n",
        "#       x_iter.append(i)\n",
        "#   return x_iter\n",
        "\n",
        "# train['songs'] = train.songs.map(song_del)"
      ],
      "execution_count": null,
      "outputs": []
    },
    {
      "cell_type": "code",
      "metadata": {
        "id": "shLCkIm2LsAA"
      },
      "source": [
        "# # 이상한 날짜 제거\n",
        "# song_meta = pd.read_json('/content/gdrive/My Drive/Colab Notebooks/머신/song_meta.json', typ = 'frame',encoding='UTF-8')\n",
        "# plylst_date = train[['updt_date', 'songs']]\n",
        "# plylst_date_unnest = np.dstack(\n",
        "#     (\n",
        "#         np.repeat(plylst_date.updt_date.values, list(map(len, plylst_date.songs))), \n",
        "#         np.concatenate(plylst_date.songs.values)\n",
        "#     )\n",
        "# )\n",
        "# plylst_date = pd.DataFrame(data=plylst_date_unnest[0], columns = plylst_date.columns)\n",
        "\n",
        "# del plylst_date_unnest\n",
        "\n",
        "# plylst_date[\"updt_date\"] = plylst_date[\"updt_date\"].map(lambda x: x[:4] + x[5:7] + x[8:10])\n",
        "# song_date = song_meta[[\"id\",\"issue_date\"]]\n",
        "# plylst_song_date = pd.merge(plylst_date, song_date, left_on=\"songs\", right_on=\"id\", how='left')\n",
        "# plylst_song_date[\"issue_date\"] = plylst_song_date[\"issue_date\"].astype(str)\n",
        "\n",
        "# plylst_song_date[\"strange\"] = plylst_song_date[\"updt_date\"] < plylst_song_date[\"issue_date\"]\n",
        "# strange_songs = plylst_song_date[plylst_song_date[\"strange\"] == True].drop('songs', axis=1)\n",
        "# strange_songs = strange_songs.drop_duplicates(['id'])\n",
        "\n",
        "# date_id = strange_songs.id.values\n",
        "\n",
        "# def date_del(x):\n",
        "#   x_iter = []\n",
        "#   for i in x:\n",
        "#     if i not in date_id:\n",
        "#       x_iter.append(i)\n",
        "#   return x_iter\n",
        "\n",
        "# train['songs'] = train.songs.map(date_del)"
      ],
      "execution_count": null,
      "outputs": []
    },
    {
      "cell_type": "code",
      "metadata": {
        "id": "2wpi6xYJLr-V"
      },
      "source": [
        "# train.loc[:, 'num_songs'] = train['songs'].map(len)\n",
        "# print('train에 사용된 누적 song 개수 : {}'.format(train['num_songs'].sum())) # 오십만개 줄여서 사용"
      ],
      "execution_count": null,
      "outputs": []
    },
    {
      "cell_type": "code",
      "metadata": {
        "id": "kCmzVimZLr47"
      },
      "source": [
        "# tag 인덱스 다시 부여\n",
        "plylst_tag = train['tags']\n",
        "tag_counter = Counter([tg for tgs in plylst_tag for tg in tgs])\n",
        "tag_dict = {x: tag_counter[x] for x in tag_counter}\n",
        "\n",
        "tag_id_tid = dict()\n",
        "tag_tid_id = dict()\n",
        "for i, t in enumerate(tag_dict):\n",
        "    tag_id_tid[t] = i\n",
        "    tag_tid_id[i] = t\n",
        "n_tags = len(tag_dict)\n",
        "\n",
        "# 새로운 tag id 매핑\n",
        "train['tags_id'] = train['tags'].map(lambda x: [tag_id_tid.get(t) for t in x if tag_id_tid.get(t) != None])"
      ],
      "execution_count": null,
      "outputs": []
    },
    {
      "cell_type": "code",
      "metadata": {
        "id": "-yKtxYdLUz49",
        "colab": {
          "base_uri": "https://localhost:8080/",
          "height": 230
        },
        "outputId": "d143d6e9-646b-4460-e3c4-5a8a6ac953d6"
      },
      "source": [
        "# 사용 plylst\n",
        "plylst_train = train[['plylst_title','updt_date','tags_id','songs']]\n",
        "plylst_train.loc[:,'num_songs'] = plylst_train['songs'].map(len)\n",
        "plylst_train.loc[:,'num_tags'] = plylst_train['tags_id'].map(len)"
      ],
      "execution_count": null,
      "outputs": [
        {
          "output_type": "stream",
          "text": [
            "/usr/local/lib/python3.6/dist-packages/pandas/core/indexing.py:845: SettingWithCopyWarning: \n",
            "A value is trying to be set on a copy of a slice from a DataFrame.\n",
            "Try using .loc[row_indexer,col_indexer] = value instead\n",
            "\n",
            "See the caveats in the documentation: https://pandas.pydata.org/pandas-docs/stable/user_guide/indexing.html#returning-a-view-versus-a-copy\n",
            "  self.obj[key] = _infer_fill_value(value)\n",
            "/usr/local/lib/python3.6/dist-packages/pandas/core/indexing.py:966: SettingWithCopyWarning: \n",
            "A value is trying to be set on a copy of a slice from a DataFrame.\n",
            "Try using .loc[row_indexer,col_indexer] = value instead\n",
            "\n",
            "See the caveats in the documentation: https://pandas.pydata.org/pandas-docs/stable/user_guide/indexing.html#returning-a-view-versus-a-copy\n",
            "  self.obj[item] = s\n"
          ],
          "name": "stderr"
        }
      ]
    },
    {
      "cell_type": "code",
      "metadata": {
        "id": "kGu8AAv2LrzJ",
        "colab": {
          "base_uri": "https://localhost:8080/",
          "height": 35
        },
        "outputId": "13939e8b-f010-4875-ecb4-589be5ffee29"
      },
      "source": [
        "# 사용된 song dict 구하기\n",
        "plylst_song = train['songs']\n",
        "song_dict = {x : x for x in song['id']}\n",
        "print(len(song_dict))"
      ],
      "execution_count": null,
      "outputs": [
        {
          "output_type": "stream",
          "text": [
            "707989\n"
          ],
          "name": "stdout"
        }
      ]
    },
    {
      "cell_type": "code",
      "metadata": {
        "id": "8XgF65lOS9lE",
        "colab": {
          "base_uri": "https://localhost:8080/",
          "height": 52
        },
        "outputId": "032c5c57-341a-469f-a544-500deba6f0fc"
      },
      "source": [
        "n_train = len(plylst_train)\n",
        "\n",
        "row = np.repeat(range(n_train), plylst_train['num_songs']) # User Index 별 노래 개수만큼 만듦 \n",
        "col = [song for songs in plylst_train['songs'] for song in songs] # Song dic number 추출 \n",
        "n_songs = max(col)+1\n",
        "dat = np.repeat(1, plylst_train['num_songs'].sum()) # User별 Song이 있는 부분에 1을 넣기위해 1과 전체 노래 개수만큼 만듦\n",
        "\n",
        "train_user_songs_A = spr.csr_matrix((dat, (row, col)), shape=(n_train, n_songs)) # csr_matrix 제작 \n",
        "train_user_songs_A"
      ],
      "execution_count": null,
      "outputs": [
        {
          "output_type": "execute_result",
          "data": {
            "text/plain": [
              "<115071x707989 sparse matrix of type '<class 'numpy.longlong'>'\n",
              "\twith 5285871 stored elements in Compressed Sparse Row format>"
            ]
          },
          "metadata": {
            "tags": []
          },
          "execution_count": 17
        }
      ]
    },
    {
      "cell_type": "code",
      "metadata": {
        "id": "KVGfAEMrTG3s"
      },
      "source": [
        "row = np.repeat(range(n_train), plylst_train['num_tags'])\n",
        "col = [tag for tags in plylst_train['tags_id'] for tag in tags]\n",
        "dat = np.repeat(1, plylst_train['num_tags'].sum())\n",
        "train_user_tags_A = spr.csr_matrix((dat, (row, col)), shape=(n_train, n_tags))"
      ],
      "execution_count": null,
      "outputs": []
    },
    {
      "cell_type": "code",
      "metadata": {
        "id": "rbJrw_7BTIUF",
        "colab": {
          "base_uri": "https://localhost:8080/",
          "height": 88
        },
        "outputId": "5247c09c-5c5f-4e44-93de-f0585d6416a5"
      },
      "source": [
        "train_user_songs_A_T = train_user_songs_A.T.tocsr()  ## csr matrix로 변환됨\n",
        "train_user_tags_A_T = train_user_tags_A.T.tocsr() \n",
        "train_user_songs_A_T, train_user_tags_A_T"
      ],
      "execution_count": null,
      "outputs": [
        {
          "output_type": "execute_result",
          "data": {
            "text/plain": [
              "(<707989x115071 sparse matrix of type '<class 'numpy.longlong'>'\n",
              " \twith 5285871 stored elements in Compressed Sparse Row format>,\n",
              " <29160x115071 sparse matrix of type '<class 'numpy.longlong'>'\n",
              " \twith 476331 stored elements in Compressed Sparse Row format>)"
            ]
          },
          "metadata": {
            "tags": []
          },
          "execution_count": 19
        }
      ]
    },
    {
      "cell_type": "markdown",
      "metadata": {
        "id": "Fd0GaAdWSdNo"
      },
      "source": [
        "## 장르, 제목 array"
      ]
    },
    {
      "cell_type": "code",
      "metadata": {
        "id": "Agn_9xi3Lrxn"
      },
      "source": [
        "# song 장르 가져오기. \n",
        "# song = pd.read_json('/content/gdrive/My Drive/Colab Notebooks/머신/song_meta.json', typ = 'frame',encoding='UTF-8')\n",
        "song_cate = []\n",
        "\n",
        "for i in range(len(train)):\n",
        "    gnr = [] \n",
        "    songs = train.iloc[i,3]\n",
        "    \n",
        "    for j in songs:\n",
        "        for k in song.iloc[j,0]:\n",
        "            gnr.append(k)\n",
        "    song_cate.append(gnr)\n",
        "        \n",
        "train['plylst_genre'] = song_cate\n",
        "\n",
        "plylst_genre = train['plylst_genre']\n",
        "genre_counter = Counter([gen for genre in plylst_genre for gen in genre])\n",
        "genre_dict = {x: genre_counter[x] for x in genre_counter}\n",
        "\n",
        "genre_id_tid = dict()\n",
        "genre_tid_id = dict()\n",
        "for i, t in enumerate(genre_dict):\n",
        "    genre_id_tid[t] = i\n",
        "    genre_tid_id[i] = t\n",
        "n_genre = len(genre_dict)\n",
        "train['plylst_genre_id'] = train['plylst_genre'].map(lambda x: [genre_id_tid.get(s) for s in x if genre_id_tid.get(s) != None])"
      ],
      "execution_count": null,
      "outputs": []
    },
    {
      "cell_type": "code",
      "metadata": {
        "id": "P6bO6Y7XLrr4",
        "colab": {
          "base_uri": "https://localhost:8080/",
          "height": 173
        },
        "outputId": "f2e0ad7d-d591-4e08-8c96-bbb43940779d"
      },
      "source": [
        "train.head(2)"
      ],
      "execution_count": null,
      "outputs": [
        {
          "output_type": "execute_result",
          "data": {
            "text/html": [
              "<div>\n",
              "<style scoped>\n",
              "    .dataframe tbody tr th:only-of-type {\n",
              "        vertical-align: middle;\n",
              "    }\n",
              "\n",
              "    .dataframe tbody tr th {\n",
              "        vertical-align: top;\n",
              "    }\n",
              "\n",
              "    .dataframe thead th {\n",
              "        text-align: right;\n",
              "    }\n",
              "</style>\n",
              "<table border=\"1\" class=\"dataframe\">\n",
              "  <thead>\n",
              "    <tr style=\"text-align: right;\">\n",
              "      <th></th>\n",
              "      <th>tags</th>\n",
              "      <th>id</th>\n",
              "      <th>plylst_title</th>\n",
              "      <th>songs</th>\n",
              "      <th>like_cnt</th>\n",
              "      <th>updt_date</th>\n",
              "      <th>num_songs</th>\n",
              "      <th>tags_id</th>\n",
              "      <th>plylst_genre</th>\n",
              "      <th>plylst_genre_id</th>\n",
              "    </tr>\n",
              "  </thead>\n",
              "  <tbody>\n",
              "    <tr>\n",
              "      <th>0</th>\n",
              "      <td>[락]</td>\n",
              "      <td>61281</td>\n",
              "      <td>여행같은 음악</td>\n",
              "      <td>[525514, 129701, 383374, 562083, 297861, 13954...</td>\n",
              "      <td>71</td>\n",
              "      <td>2013-12-19 18:36:19.000</td>\n",
              "      <td>19</td>\n",
              "      <td>[0]</td>\n",
              "      <td>[GN1402, GN1401, GN0901, GN0902, GN1001, GN101...</td>\n",
              "      <td>[0, 1, 2, 3, 4, 5, 6, 4, 7, 2, 3, 4, 7, 2, 3, ...</td>\n",
              "    </tr>\n",
              "    <tr>\n",
              "      <th>1</th>\n",
              "      <td>[추억, 회상]</td>\n",
              "      <td>10532</td>\n",
              "      <td>요즘 너 말야</td>\n",
              "      <td>[432406, 675945, 497066, 120377, 389529, 24427...</td>\n",
              "      <td>1</td>\n",
              "      <td>2014-12-02 16:19:42.000</td>\n",
              "      <td>42</td>\n",
              "      <td>[1, 2]</td>\n",
              "      <td>[GN0101, GN0103, GN0601, GN0605, GN0104, GN010...</td>\n",
              "      <td>[18, 19, 20, 21, 22, 18, 20, 21, 22, 18, 20, 2...</td>\n",
              "    </tr>\n",
              "  </tbody>\n",
              "</table>\n",
              "</div>"
            ],
            "text/plain": [
              "       tags  ...                                    plylst_genre_id\n",
              "0       [락]  ...  [0, 1, 2, 3, 4, 5, 6, 4, 7, 2, 3, 4, 7, 2, 3, ...\n",
              "1  [추억, 회상]  ...  [18, 19, 20, 21, 22, 18, 20, 21, 22, 18, 20, 2...\n",
              "\n",
              "[2 rows x 10 columns]"
            ]
          },
          "metadata": {
            "tags": []
          },
          "execution_count": 21
        }
      ]
    },
    {
      "cell_type": "code",
      "metadata": {
        "id": "u-KVdSBwLrpT",
        "colab": {
          "base_uri": "https://localhost:8080/",
          "height": 248
        },
        "outputId": "c9870d1c-3005-41ba-eacb-fed5777bde10"
      },
      "source": [
        "# 장르 array 만들기\n",
        "gnr_array = np.zeros((len(train),n_genre))\n",
        "for i,index in enumerate(train.index):\n",
        "    if i%10000 == 0:\n",
        "        print(i)\n",
        "    counter = Counter(train.loc[index]['plylst_genre_id'])\n",
        "    for (k,c) in counter.items():\n",
        "        gnr_array[i][k] = c\n",
        "gnr_array.shape"
      ],
      "execution_count": null,
      "outputs": [
        {
          "output_type": "stream",
          "text": [
            "0\n",
            "10000\n",
            "20000\n",
            "30000\n",
            "40000\n",
            "50000\n",
            "60000\n",
            "70000\n",
            "80000\n",
            "90000\n",
            "100000\n",
            "110000\n"
          ],
          "name": "stdout"
        },
        {
          "output_type": "execute_result",
          "data": {
            "text/plain": [
              "(115071, 219)"
            ]
          },
          "metadata": {
            "tags": []
          },
          "execution_count": 22
        }
      ]
    },
    {
      "cell_type": "code",
      "metadata": {
        "id": "FNiAdsCPLrkq",
        "colab": {
          "base_uri": "https://localhost:8080/",
          "height": 141
        },
        "outputId": "68d518b2-478f-4278-e9e5-713138ffe5a6"
      },
      "source": [
        "# 장르 count된 array\n",
        "gnr_array"
      ],
      "execution_count": null,
      "outputs": [
        {
          "output_type": "execute_result",
          "data": {
            "text/plain": [
              "array([[ 3.,  3., 10., ...,  0.,  0.,  0.],\n",
              "       [ 0.,  0.,  1., ...,  0.,  0.,  0.],\n",
              "       [ 0.,  0.,  0., ...,  0.,  0.,  0.],\n",
              "       ...,\n",
              "       [ 0.,  0.,  0., ...,  0.,  0.,  0.],\n",
              "       [ 9., 10., 15., ...,  0.,  0.,  0.],\n",
              "       [22., 27., 86., ...,  0.,  0.,  0.]])"
            ]
          },
          "metadata": {
            "tags": []
          },
          "execution_count": 23
        }
      ]
    },
    {
      "cell_type": "code",
      "metadata": {
        "id": "rPMi5jCyLrgv",
        "colab": {
          "base_uri": "https://localhost:8080/",
          "height": 126
        },
        "outputId": "9ec6c7e5-9d6f-437d-ea62-4306300cd149"
      },
      "source": [
        "# 제목 sentencepiece\n",
        "!pip install sentencepiece\n",
        "\n",
        "from sentencepiece import SentencePieceProcessor\n",
        "from sklearn.feature_extraction.text import CountVectorizer\n",
        "\n",
        "sp = SentencePieceProcessor()\n",
        "sp.Load(\"/content/gdrive/My Drive/Colab Notebooks/딥/playlist_title.model\")\n",
        "\n",
        "from sklearn.feature_extraction.text import CountVectorizer\n",
        "cv = CountVectorizer(max_features=3000, tokenizer=sp.encode_as_pieces)\n",
        "# content = train['plylst_title'] + val['plylst_title'] + test['plylst_title'] # train/val/test 추가\n",
        "content = train['plylst_title']\n",
        "tdm = cv.fit_transform(content)\n",
        "\n",
        "title_tdm = tdm.toarray()"
      ],
      "execution_count": null,
      "outputs": [
        {
          "output_type": "stream",
          "text": [
            "Collecting sentencepiece\n",
            "\u001b[?25l  Downloading https://files.pythonhosted.org/packages/d4/a4/d0a884c4300004a78cca907a6ff9a5e9fe4f090f5d95ab341c53d28cbc58/sentencepiece-0.1.91-cp36-cp36m-manylinux1_x86_64.whl (1.1MB)\n",
            "\u001b[K     |████████████████████████████████| 1.1MB 2.8MB/s \n",
            "\u001b[?25hInstalling collected packages: sentencepiece\n",
            "Successfully installed sentencepiece-0.1.91\n"
          ],
          "name": "stdout"
        }
      ]
    },
    {
      "cell_type": "code",
      "metadata": {
        "id": "2nRCPP7CLrbH",
        "colab": {
          "base_uri": "https://localhost:8080/",
          "height": 141
        },
        "outputId": "080feec8-5ddc-40df-ad34-f06b5a45e160"
      },
      "source": [
        "title_tdm # title array"
      ],
      "execution_count": null,
      "outputs": [
        {
          "output_type": "execute_result",
          "data": {
            "text/plain": [
              "array([[0, 0, 0, ..., 0, 0, 0],\n",
              "       [0, 0, 0, ..., 0, 0, 0],\n",
              "       [0, 0, 0, ..., 0, 0, 0],\n",
              "       ...,\n",
              "       [0, 0, 0, ..., 0, 0, 0],\n",
              "       [0, 0, 0, ..., 0, 0, 0],\n",
              "       [0, 0, 1, ..., 0, 0, 0]])"
            ]
          },
          "metadata": {
            "tags": []
          },
          "execution_count": 25
        }
      ]
    },
    {
      "cell_type": "markdown",
      "metadata": {
        "id": "S59u858mPKP1"
      },
      "source": [
        "## Date 정보 가져오기"
      ]
    },
    {
      "cell_type": "code",
      "metadata": {
        "id": "zM3N6usNPOD8"
      },
      "source": [
        "# 월 + 일만 가져오기\n",
        "song['issue_date'] = song['issue_date'].astype('str').map(lambda x:x[:6])"
      ],
      "execution_count": null,
      "outputs": []
    },
    {
      "cell_type": "code",
      "metadata": {
        "id": "-IxuJFx1hXyI",
        "colab": {
          "base_uri": "https://localhost:8080/",
          "height": 127
        },
        "outputId": "92243da1-1b40-4025-85fd-98d8c8556d2a"
      },
      "source": [
        "song.head(1)"
      ],
      "execution_count": null,
      "outputs": [
        {
          "output_type": "execute_result",
          "data": {
            "text/html": [
              "<div>\n",
              "<style scoped>\n",
              "    .dataframe tbody tr th:only-of-type {\n",
              "        vertical-align: middle;\n",
              "    }\n",
              "\n",
              "    .dataframe tbody tr th {\n",
              "        vertical-align: top;\n",
              "    }\n",
              "\n",
              "    .dataframe thead th {\n",
              "        text-align: right;\n",
              "    }\n",
              "</style>\n",
              "<table border=\"1\" class=\"dataframe\">\n",
              "  <thead>\n",
              "    <tr style=\"text-align: right;\">\n",
              "      <th></th>\n",
              "      <th>song_gn_dtl_gnr_basket</th>\n",
              "      <th>issue_date</th>\n",
              "      <th>album_name</th>\n",
              "      <th>album_id</th>\n",
              "      <th>artist_id_basket</th>\n",
              "      <th>song_name</th>\n",
              "      <th>song_gn_gnr_basket</th>\n",
              "      <th>artist_name_basket</th>\n",
              "      <th>id</th>\n",
              "    </tr>\n",
              "  </thead>\n",
              "  <tbody>\n",
              "    <tr>\n",
              "      <th>0</th>\n",
              "      <td>[GN0901]</td>\n",
              "      <td>201405</td>\n",
              "      <td>불후의 명곡 - 7080 추억의 얄개시대 팝송베스트</td>\n",
              "      <td>2255639</td>\n",
              "      <td>[2727]</td>\n",
              "      <td>Feelings</td>\n",
              "      <td>[GN0900]</td>\n",
              "      <td>[Various Artists]</td>\n",
              "      <td>0</td>\n",
              "    </tr>\n",
              "  </tbody>\n",
              "</table>\n",
              "</div>"
            ],
            "text/plain": [
              "  song_gn_dtl_gnr_basket issue_date  ... artist_name_basket  id\n",
              "0               [GN0901]     201405  ...  [Various Artists]   0\n",
              "\n",
              "[1 rows x 9 columns]"
            ]
          },
          "metadata": {
            "tags": []
          },
          "execution_count": 27
        }
      ]
    },
    {
      "cell_type": "code",
      "metadata": {
        "id": "Swg0ti9JhcYR",
        "colab": {
          "base_uri": "https://localhost:8080/",
          "height": 110
        },
        "outputId": "f77ce5a3-fb1c-4019-b7a2-41db653ab30f"
      },
      "source": [
        "train.head(1)"
      ],
      "execution_count": null,
      "outputs": [
        {
          "output_type": "execute_result",
          "data": {
            "text/html": [
              "<div>\n",
              "<style scoped>\n",
              "    .dataframe tbody tr th:only-of-type {\n",
              "        vertical-align: middle;\n",
              "    }\n",
              "\n",
              "    .dataframe tbody tr th {\n",
              "        vertical-align: top;\n",
              "    }\n",
              "\n",
              "    .dataframe thead th {\n",
              "        text-align: right;\n",
              "    }\n",
              "</style>\n",
              "<table border=\"1\" class=\"dataframe\">\n",
              "  <thead>\n",
              "    <tr style=\"text-align: right;\">\n",
              "      <th></th>\n",
              "      <th>tags</th>\n",
              "      <th>id</th>\n",
              "      <th>plylst_title</th>\n",
              "      <th>songs</th>\n",
              "      <th>like_cnt</th>\n",
              "      <th>updt_date</th>\n",
              "      <th>num_songs</th>\n",
              "      <th>tags_id</th>\n",
              "      <th>plylst_genre</th>\n",
              "      <th>plylst_genre_id</th>\n",
              "    </tr>\n",
              "  </thead>\n",
              "  <tbody>\n",
              "    <tr>\n",
              "      <th>0</th>\n",
              "      <td>[락]</td>\n",
              "      <td>61281</td>\n",
              "      <td>여행같은 음악</td>\n",
              "      <td>[525514, 129701, 383374, 562083, 297861, 13954...</td>\n",
              "      <td>71</td>\n",
              "      <td>2013-12-19 18:36:19.000</td>\n",
              "      <td>19</td>\n",
              "      <td>[0]</td>\n",
              "      <td>[GN1402, GN1401, GN0901, GN0902, GN1001, GN101...</td>\n",
              "      <td>[0, 1, 2, 3, 4, 5, 6, 4, 7, 2, 3, 4, 7, 2, 3, ...</td>\n",
              "    </tr>\n",
              "  </tbody>\n",
              "</table>\n",
              "</div>"
            ],
            "text/plain": [
              "  tags  ...                                    plylst_genre_id\n",
              "0  [락]  ...  [0, 1, 2, 3, 4, 5, 6, 4, 7, 2, 3, 4, 7, 2, 3, ...\n",
              "\n",
              "[1 rows x 10 columns]"
            ]
          },
          "metadata": {
            "tags": []
          },
          "execution_count": 28
        }
      ]
    },
    {
      "cell_type": "code",
      "metadata": {
        "id": "EKbz4dnEPN04",
        "colab": {
          "base_uri": "https://localhost:8080/",
          "height": 120,
          "referenced_widgets": [
            "8df43fc70c824775b1e4f55ed5d62274",
            "57b2f0c0240f421c8575dcad1ce69ce3",
            "54e8685e75a24f4bb621c1acc9b20cdb",
            "11511e0713d0488f96394f34e69b790e",
            "7dc728baafef43c19343f3dd7497ead0",
            "096c5a0f88ca466491c20f62d0d4e79a",
            "98a9d09636784531a892a54773dfbbe4",
            "3ad02f8b0e77484b946a45d0840ee8c3"
          ]
        },
        "outputId": "ecd7047f-cf51-4414-9192-7e868a5b556e"
      },
      "source": [
        "from tqdm import tqdm_notebook\n",
        "tim_cate = []\n",
        "\n",
        "for i in tqdm_notebook(range(len(train))):\n",
        "    tim = [] \n",
        "    songs = train.iloc[i,3]\n",
        "    \n",
        "    for j in songs:\n",
        "        tim.append(song.iloc[j,1])\n",
        "    tim_cate.append(tim)\n",
        "        \n",
        "train['plylst_times'] = tim_cate"
      ],
      "execution_count": null,
      "outputs": [
        {
          "output_type": "stream",
          "text": [
            "/usr/local/lib/python3.6/dist-packages/ipykernel_launcher.py:4: TqdmDeprecationWarning: This function will be removed in tqdm==5.0.0\n",
            "Please use `tqdm.notebook.tqdm` instead of `tqdm.tqdm_notebook`\n",
            "  after removing the cwd from sys.path.\n"
          ],
          "name": "stderr"
        },
        {
          "output_type": "display_data",
          "data": {
            "application/vnd.jupyter.widget-view+json": {
              "model_id": "8df43fc70c824775b1e4f55ed5d62274",
              "version_minor": 0,
              "version_major": 2
            },
            "text/plain": [
              "HBox(children=(FloatProgress(value=0.0, max=115071.0), HTML(value='')))"
            ]
          },
          "metadata": {
            "tags": []
          }
        },
        {
          "output_type": "stream",
          "text": [
            "\n"
          ],
          "name": "stdout"
        }
      ]
    },
    {
      "cell_type": "code",
      "metadata": {
        "id": "5O-Qijm4PNzF"
      },
      "source": [
        "# time id 재부여\n",
        "plylst_times = train['plylst_times']\n",
        "times_counter = Counter([tim for times in plylst_times for tim in times])\n",
        "times_dict = {x: times_counter[x] for x in times_counter}\n",
        "\n",
        "times_id_tid = dict()\n",
        "times_tid_id = dict()\n",
        "for i, t in enumerate(times_dict):\n",
        "    times_id_tid[t] = i\n",
        "    times_tid_id[i] = t\n",
        "n_times = len(times_dict)\n",
        "train['plylst_times_id'] = train['plylst_times'].map(lambda x: [times_id_tid.get(s) for s in x if times_id_tid.get(s) != None])"
      ],
      "execution_count": null,
      "outputs": []
    },
    {
      "cell_type": "code",
      "metadata": {
        "id": "H6ILUo2tQqQJ",
        "colab": {
          "base_uri": "https://localhost:8080/",
          "height": 181
        },
        "outputId": "52c21704-9b89-4381-8e1e-e99a4b2c40f5"
      },
      "source": [
        "train.head(1)"
      ],
      "execution_count": null,
      "outputs": [
        {
          "output_type": "execute_result",
          "data": {
            "text/html": [
              "<div>\n",
              "<style scoped>\n",
              "    .dataframe tbody tr th:only-of-type {\n",
              "        vertical-align: middle;\n",
              "    }\n",
              "\n",
              "    .dataframe tbody tr th {\n",
              "        vertical-align: top;\n",
              "    }\n",
              "\n",
              "    .dataframe thead th {\n",
              "        text-align: right;\n",
              "    }\n",
              "</style>\n",
              "<table border=\"1\" class=\"dataframe\">\n",
              "  <thead>\n",
              "    <tr style=\"text-align: right;\">\n",
              "      <th></th>\n",
              "      <th>tags</th>\n",
              "      <th>id</th>\n",
              "      <th>plylst_title</th>\n",
              "      <th>songs</th>\n",
              "      <th>like_cnt</th>\n",
              "      <th>updt_date</th>\n",
              "      <th>num_songs</th>\n",
              "      <th>tags_id</th>\n",
              "      <th>plylst_genre</th>\n",
              "      <th>plylst_genre_id</th>\n",
              "      <th>plylst_times</th>\n",
              "      <th>plylst_times_id</th>\n",
              "    </tr>\n",
              "  </thead>\n",
              "  <tbody>\n",
              "    <tr>\n",
              "      <th>0</th>\n",
              "      <td>[락]</td>\n",
              "      <td>61281</td>\n",
              "      <td>여행같은 음악</td>\n",
              "      <td>[525514, 129701, 383374, 562083, 297861, 13954...</td>\n",
              "      <td>71</td>\n",
              "      <td>2013-12-19 18:36:19.000</td>\n",
              "      <td>19</td>\n",
              "      <td>[0]</td>\n",
              "      <td>[GN1402, GN1401, GN0901, GN0902, GN1001, GN101...</td>\n",
              "      <td>[0, 1, 2, 3, 4, 5, 6, 4, 7, 2, 3, 4, 7, 2, 3, ...</td>\n",
              "      <td>[201305, 201309, 199110, 200009, 200503, 20040...</td>\n",
              "      <td>[0, 1, 2, 3, 4, 5, 6, 7, 8, 9, 10, 11, 12, 13,...</td>\n",
              "    </tr>\n",
              "  </tbody>\n",
              "</table>\n",
              "</div>"
            ],
            "text/plain": [
              "  tags  ...                                    plylst_times_id\n",
              "0  [락]  ...  [0, 1, 2, 3, 4, 5, 6, 7, 8, 9, 10, 11, 12, 13,...\n",
              "\n",
              "[1 rows x 12 columns]"
            ]
          },
          "metadata": {
            "tags": []
          },
          "execution_count": 31
        }
      ]
    },
    {
      "cell_type": "code",
      "metadata": {
        "id": "KWcfZ6ONPNus",
        "colab": {
          "base_uri": "https://localhost:8080/",
          "height": 248
        },
        "outputId": "aacf0b6b-4ccf-4808-9104-064da5fad703"
      },
      "source": [
        "tim_array = np.zeros((len(train),n_times))\n",
        "for i,index in enumerate(train.index):\n",
        "    if i%10000 == 0:\n",
        "        print(i)\n",
        "    counter = Counter(train.loc[index]['plylst_times_id'])\n",
        "    for (k,c) in counter.items():\n",
        "        tim_array[i][k] = c\n",
        "tim_array.shape"
      ],
      "execution_count": null,
      "outputs": [
        {
          "output_type": "stream",
          "text": [
            "0\n",
            "10000\n",
            "20000\n",
            "30000\n",
            "40000\n",
            "50000\n",
            "60000\n",
            "70000\n",
            "80000\n",
            "90000\n",
            "100000\n",
            "110000\n"
          ],
          "name": "stdout"
        },
        {
          "output_type": "execute_result",
          "data": {
            "text/plain": [
              "(115071, 844)"
            ]
          },
          "metadata": {
            "tags": []
          },
          "execution_count": 32
        }
      ]
    },
    {
      "cell_type": "code",
      "metadata": {
        "id": "FhCPbQ5UPsCV",
        "colab": {
          "base_uri": "https://localhost:8080/",
          "height": 141
        },
        "outputId": "3d5e2608-bdab-4029-e99b-244e13dfebdd"
      },
      "source": [
        "tim_array"
      ],
      "execution_count": null,
      "outputs": [
        {
          "output_type": "execute_result",
          "data": {
            "text/plain": [
              "array([[1., 1., 1., ..., 0., 0., 0.],\n",
              "       [0., 0., 0., ..., 0., 0., 0.],\n",
              "       [0., 0., 0., ..., 0., 0., 0.],\n",
              "       ...,\n",
              "       [0., 0., 0., ..., 0., 0., 0.],\n",
              "       [0., 0., 0., ..., 0., 0., 0.],\n",
              "       [4., 3., 0., ..., 0., 0., 0.]])"
            ]
          },
          "metadata": {
            "tags": []
          },
          "execution_count": 33
        }
      ]
    },
    {
      "cell_type": "markdown",
      "metadata": {
        "id": "mQpj6gArTXYo"
      },
      "source": [
        "## val, test 전처리\n",
        "* val"
      ]
    },
    {
      "cell_type": "code",
      "metadata": {
        "id": "hcz-xLzIRoTm",
        "colab": {
          "base_uri": "https://localhost:8080/",
          "height": 70
        },
        "outputId": "f38596a1-9f93-4054-b8c7-7ef533f370f5"
      },
      "source": [
        "# 태그 아이디 다시부여\n",
        "val['tags_id'] = val['tags'].map(lambda x: [tag_id_tid.get(t) for t in x if tag_id_tid.get(t) != None])\n",
        "\n",
        "# len 열 추가\n",
        "val.loc[:,'num_songs'] = val['songs'].map(len)\n",
        "val.loc[:,'num_tags'] = val['tags_id'].map(len)\n",
        "\n",
        "# song_장르 매핑\n",
        "song_cate = []\n",
        "for i in range(len(val)):\n",
        "    gnr = [] \n",
        "    songs = val.iloc[i,3]\n",
        "    for j in songs:\n",
        "        for k in song.iloc[j,1]:\n",
        "            gnr.append(k)\n",
        "    song_cate.append(gnr)\n",
        "val['plylst_genre'] = song_cate\n",
        "\n",
        "# 장르 아이디 다시부여\n",
        "val['plylst_genre_id'] = val['plylst_genre'].map(lambda x: [genre_id_tid.get(s) for s in x if genre_id_tid.get(s) != None])\n",
        "\n",
        "# 장르 count 행렬 \n",
        "gnr_val = np.zeros((len(val),n_genre))\n",
        "for i,index in enumerate(val.index):\n",
        "    if i%10000 == 0:\n",
        "        print(i)\n",
        "    counter = Counter(val.loc[index]['plylst_genre_id'])\n",
        "    for (k,c) in counter.items():\n",
        "        gnr_val[i][k] = c\n",
        "gnr_val.shape\n",
        "\n",
        "# 타이틀 sentencepiece로 변환\n",
        "val_title = cv.transform(val['plylst_title']).toarray()\n"
      ],
      "execution_count": null,
      "outputs": [
        {
          "output_type": "stream",
          "text": [
            "0\n",
            "10000\n",
            "20000\n"
          ],
          "name": "stdout"
        }
      ]
    },
    {
      "cell_type": "code",
      "metadata": {
        "id": "6T6vaRNMRD3b",
        "colab": {
          "base_uri": "https://localhost:8080/",
          "height": 120,
          "referenced_widgets": [
            "e189b4fe5aed4a45bff9bf3acd45e8a5",
            "d00963197a934f05b5192626285a75c8",
            "8f0a4837047f464db0db9070ea25a537",
            "1dbabbee9e6346f99b0c47521eba9394",
            "a0bb1022917240ffa3291d84c97fe3ab",
            "5933183641a74dcd8c5ca248bff227de",
            "1f9985735882473e86602b3eb32e19d3",
            "9227147be0a14ac495278fe0f9312912"
          ]
        },
        "outputId": "13fd3eba-a402-4950-f692-2cd492a0c4fe"
      },
      "source": [
        "# 날짜 정보 추가 \n",
        "tim_cate = []\n",
        "\n",
        "for i in tqdm_notebook(range(len(val))):\n",
        "    tim = [] \n",
        "    songs = val.iloc[i,3]\n",
        "    \n",
        "    for j in songs:\n",
        "        tim.append(song.iloc[j,1])\n",
        "    tim_cate.append(tim)\n",
        "    \n",
        "    \n",
        "val['plylst_times'] = tim_cate"
      ],
      "execution_count": null,
      "outputs": [
        {
          "output_type": "stream",
          "text": [
            "/usr/local/lib/python3.6/dist-packages/ipykernel_launcher.py:4: TqdmDeprecationWarning: This function will be removed in tqdm==5.0.0\n",
            "Please use `tqdm.notebook.tqdm` instead of `tqdm.tqdm_notebook`\n",
            "  after removing the cwd from sys.path.\n"
          ],
          "name": "stderr"
        },
        {
          "output_type": "display_data",
          "data": {
            "application/vnd.jupyter.widget-view+json": {
              "model_id": "e189b4fe5aed4a45bff9bf3acd45e8a5",
              "version_minor": 0,
              "version_major": 2
            },
            "text/plain": [
              "HBox(children=(FloatProgress(value=0.0, max=23015.0), HTML(value='')))"
            ]
          },
          "metadata": {
            "tags": []
          }
        },
        {
          "output_type": "stream",
          "text": [
            "\n"
          ],
          "name": "stdout"
        }
      ]
    },
    {
      "cell_type": "code",
      "metadata": {
        "id": "04Xl1ZKFT6Kv"
      },
      "source": [
        "plylst_times = val['plylst_times']\n",
        "times_counter = Counter([tim for times in plylst_times for tim in times])\n",
        "times_dict = {x: times_counter[x] for x in times_counter}\n",
        "\n",
        "times_id_tid = dict()\n",
        "times_tid_id = dict()\n",
        "for i, t in enumerate(times_dict):\n",
        "    times_id_tid[t] = i\n",
        "    times_tid_id[i] = t\n",
        "n_timess = len(times_dict)\n",
        "\n",
        "val['plylst_times_id'] = val['plylst_times'].map(lambda x: [times_id_tid.get(s) for s in x if times_id_tid.get(s) != None])"
      ],
      "execution_count": null,
      "outputs": []
    },
    {
      "cell_type": "code",
      "metadata": {
        "id": "QIAGFfnwXDiH",
        "colab": {
          "base_uri": "https://localhost:8080/",
          "height": 227
        },
        "outputId": "640ca368-e02e-457f-9e9b-349caf389238"
      },
      "source": [
        "val.head(2)"
      ],
      "execution_count": null,
      "outputs": [
        {
          "output_type": "execute_result",
          "data": {
            "text/html": [
              "<div>\n",
              "<style scoped>\n",
              "    .dataframe tbody tr th:only-of-type {\n",
              "        vertical-align: middle;\n",
              "    }\n",
              "\n",
              "    .dataframe tbody tr th {\n",
              "        vertical-align: top;\n",
              "    }\n",
              "\n",
              "    .dataframe thead th {\n",
              "        text-align: right;\n",
              "    }\n",
              "</style>\n",
              "<table border=\"1\" class=\"dataframe\">\n",
              "  <thead>\n",
              "    <tr style=\"text-align: right;\">\n",
              "      <th></th>\n",
              "      <th>tags</th>\n",
              "      <th>id</th>\n",
              "      <th>plylst_title</th>\n",
              "      <th>songs</th>\n",
              "      <th>like_cnt</th>\n",
              "      <th>updt_date</th>\n",
              "      <th>tags_id</th>\n",
              "      <th>num_songs</th>\n",
              "      <th>num_tags</th>\n",
              "      <th>plylst_genre</th>\n",
              "      <th>plylst_genre_id</th>\n",
              "      <th>plylst_times</th>\n",
              "      <th>plylst_times_id</th>\n",
              "    </tr>\n",
              "  </thead>\n",
              "  <tbody>\n",
              "    <tr>\n",
              "      <th>0</th>\n",
              "      <td>[]</td>\n",
              "      <td>118598</td>\n",
              "      <td></td>\n",
              "      <td>[373313, 151080, 275346, 696876, 165237, 52593...</td>\n",
              "      <td>1675</td>\n",
              "      <td>2019-05-27 14:14:33.000</td>\n",
              "      <td>[]</td>\n",
              "      <td>27</td>\n",
              "      <td>0</td>\n",
              "      <td>[2, 0, 1, 5, 0, 1, 2, 0, 1, 5, 0, 3, 2, 0, 1, ...</td>\n",
              "      <td>[]</td>\n",
              "      <td>[201501, 201503, 201508, 201510, 201510, 20160...</td>\n",
              "      <td>[0, 1, 2, 3, 3, 4, 5, 5, 6, 7, 8, 8, 9, 10, 11...</td>\n",
              "    </tr>\n",
              "    <tr>\n",
              "      <th>1</th>\n",
              "      <td>[]</td>\n",
              "      <td>131447</td>\n",
              "      <td>앨리스테이블</td>\n",
              "      <td>[]</td>\n",
              "      <td>1</td>\n",
              "      <td>2014-07-16 15:24:24.000</td>\n",
              "      <td>[]</td>\n",
              "      <td>0</td>\n",
              "      <td>0</td>\n",
              "      <td>[]</td>\n",
              "      <td>[]</td>\n",
              "      <td>[]</td>\n",
              "      <td>[]</td>\n",
              "    </tr>\n",
              "  </tbody>\n",
              "</table>\n",
              "</div>"
            ],
            "text/plain": [
              "  tags  ...                                    plylst_times_id\n",
              "0   []  ...  [0, 1, 2, 3, 3, 4, 5, 5, 6, 7, 8, 8, 9, 10, 11...\n",
              "1   []  ...                                                 []\n",
              "\n",
              "[2 rows x 13 columns]"
            ]
          },
          "metadata": {
            "tags": []
          },
          "execution_count": 37
        }
      ]
    },
    {
      "cell_type": "code",
      "metadata": {
        "id": "FFN9pAR8VADY",
        "colab": {
          "base_uri": "https://localhost:8080/",
          "height": 88
        },
        "outputId": "21a75644-75b0-489f-d710-0529e756045e"
      },
      "source": [
        "tim_val = np.zeros( (len(val),n_timess) )\n",
        "for i,index in enumerate(val.index):\n",
        "    if i%10000 == 0:\n",
        "        print(i)\n",
        "    counter = Counter(val.loc[index]['plylst_times_id'])\n",
        "    for (k,c) in counter.items():\n",
        "        tim_val[i][k] = c\n",
        "\n",
        "tim_val.shape\n",
        "\n",
        "# tim_array = np.zeros((len(train),n_times))\n",
        "# for i,index in enumerate(train.index):\n",
        "#     if i%10000 == 0:\n",
        "#         print(i)\n",
        "#     counter = Counter(train.loc[index]['plylst_times_id'])\n",
        "#     for (k,c) in counter.items():\n",
        "#         tim_array[i][k] = c\n",
        "# tim_array.shape"
      ],
      "execution_count": null,
      "outputs": [
        {
          "output_type": "stream",
          "text": [
            "0\n",
            "10000\n",
            "20000\n"
          ],
          "name": "stdout"
        },
        {
          "output_type": "execute_result",
          "data": {
            "text/plain": [
              "(23015, 721)"
            ]
          },
          "metadata": {
            "tags": []
          },
          "execution_count": 38
        }
      ]
    },
    {
      "cell_type": "code",
      "metadata": {
        "id": "l4ga8KvtUd6y"
      },
      "source": [
        "# val의 user-song matrix 생성 \n",
        "n_val = len(val)\n",
        "row = np.repeat(range(n_val), val['num_songs']) # User Index 별 노래 개수만큼 만듦 \n",
        "col = [song for songs in val['songs'] for song in songs] # Song dic number 추출 \n",
        "dat = np.repeat(1, val['num_songs'].sum()) # User별 Song이 있는 부분에 1을 넣기위해 1과 전체 노래 개수만큼 만듦\n",
        "val_user_songs_A = spr.csr_matrix((dat, (row, col)), shape=(n_val, n_songs)) # csr_matrix 제작 \n",
        "\n",
        "row = np.repeat(range(n_val), val['num_tags'])\n",
        "col = [tag for tags in val['tags_id'] for tag in tags]\n",
        "dat = np.repeat(1, val['num_tags'].sum())\n",
        "val_user_tags_A = spr.csr_matrix((dat, (row, col)), shape=(n_val, n_tags))"
      ],
      "execution_count": null,
      "outputs": []
    },
    {
      "cell_type": "code",
      "metadata": {
        "id": "OopfrFRwVUMd"
      },
      "source": [
        "val_user_songs_A_T = val_user_songs_A.T.tocsr()\n",
        "val_user_tags_A_T = val_user_tags_A.T.tocsr()"
      ],
      "execution_count": null,
      "outputs": []
    },
    {
      "cell_type": "markdown",
      "metadata": {
        "id": "zM9cD0p6Vvxx"
      },
      "source": [
        "* test"
      ]
    },
    {
      "cell_type": "code",
      "metadata": {
        "id": "1FIRn5O4RoPj",
        "colab": {
          "base_uri": "https://localhost:8080/",
          "height": 52
        },
        "outputId": "0539e808-5d3a-4535-f083-e478ed91e7e3"
      },
      "source": [
        "# 태그 매핑\n",
        "test['tags_id'] = test['tags'].map(lambda x: [tag_id_tid.get(t) for t in x if tag_id_tid.get(t) != None])\n",
        "\n",
        "test.loc[:,'num_songs'] = test['songs'].map(len)\n",
        "test.loc[:,'num_tags'] = test['tags_id'].map(len)\n",
        "\n",
        "# 장르_song 매핑\n",
        "song_cate = []\n",
        "for i in range(len(test)):\n",
        "    gnr = [] \n",
        "    songs = test.iloc[i,3]\n",
        "    \n",
        "    for j in songs:\n",
        "        for k in song.iloc[j,1]:\n",
        "            gnr.append(k)\n",
        "    song_cate.append(gnr)\n",
        "\n",
        "test['plylst_genre'] = song_cate\n",
        "    \n",
        "# 장르 id 다시매핑\n",
        "test['plylst_genre_id'] = test['plylst_genre'].map(lambda x: [genre_id_tid.get(s) for s in x if genre_id_tid.get(s) != None])\n",
        "\n",
        "# 장르 행렬\n",
        "gnr_test = np.zeros((len(test),n_genre))\n",
        "for i,index in enumerate(test.index):\n",
        "    if i%10000 == 0:\n",
        "        print(i)\n",
        "    counter = Counter(test.loc[index]['plylst_genre_id'])\n",
        "    for (k,c) in counter.items():\n",
        "        gnr_test[i][k] = c\n",
        "gnr_test.shape\n",
        "\n",
        "# 제목 변환\n",
        "test_title = cv.transform(test['plylst_title']).toarray()\n"
      ],
      "execution_count": null,
      "outputs": [
        {
          "output_type": "stream",
          "text": [
            "0\n",
            "10000\n"
          ],
          "name": "stdout"
        }
      ]
    },
    {
      "cell_type": "code",
      "metadata": {
        "id": "99ZFHLsiTG0j",
        "colab": {
          "base_uri": "https://localhost:8080/",
          "height": 120,
          "referenced_widgets": [
            "931f752b8481422f91400c2cb88b96f1",
            "e0b893916b2e4e1d9ad5bc554db473ea",
            "c3a4c719511441b8b438c75293760849",
            "b33d603f79094d7285989aa1169399d3",
            "d6a8e1043b6044959c8c5261011e2080",
            "9437a271b2d146ea926d7f179bfc8e33",
            "6892582937574714b38574c735b7761c",
            "2a2e0a5c179842f5b5d39d9f9a322e00"
          ]
        },
        "outputId": "cde76fde-64d4-4a19-c836-f0ade8b18cca"
      },
      "source": [
        "# 날짜 가져오기\n",
        "tim_cate = []\n",
        "\n",
        "for i in tqdm_notebook(range(len(test))):\n",
        "    tim = [] \n",
        "    songs = test.iloc[i,3]\n",
        "    \n",
        "    for j in songs:\n",
        "        tim.append(song.iloc[j,1])\n",
        "    tim_cate.append(tim)\n",
        "    \n",
        "    \n",
        "test['plylst_times'] = tim_cate\n",
        "\n",
        "plylst_times = test['plylst_times']\n",
        "times_counter = Counter([tim for times in plylst_times for tim in times])\n",
        "times_dict = {x: times_counter[x] for x in times_counter}\n",
        "\n",
        "times_id_tid = dict()\n",
        "times_tid_id = dict()\n",
        "for i, t in enumerate(times_dict):\n",
        "    times_id_tid[t] = i\n",
        "    times_tid_id[i] = t\n",
        "n_timesss = len(times_dict)\n",
        "test['plylst_times_id'] = test['plylst_times'].map(lambda x: [times_id_tid.get(s) for s in x if times_id_tid.get(s) != None])"
      ],
      "execution_count": null,
      "outputs": [
        {
          "output_type": "stream",
          "text": [
            "/usr/local/lib/python3.6/dist-packages/ipykernel_launcher.py:4: TqdmDeprecationWarning: This function will be removed in tqdm==5.0.0\n",
            "Please use `tqdm.notebook.tqdm` instead of `tqdm.tqdm_notebook`\n",
            "  after removing the cwd from sys.path.\n"
          ],
          "name": "stderr"
        },
        {
          "output_type": "display_data",
          "data": {
            "application/vnd.jupyter.widget-view+json": {
              "model_id": "931f752b8481422f91400c2cb88b96f1",
              "version_minor": 0,
              "version_major": 2
            },
            "text/plain": [
              "HBox(children=(FloatProgress(value=0.0, max=10740.0), HTML(value='')))"
            ]
          },
          "metadata": {
            "tags": []
          }
        },
        {
          "output_type": "stream",
          "text": [
            "\n"
          ],
          "name": "stdout"
        }
      ]
    },
    {
      "cell_type": "code",
      "metadata": {
        "id": "-Sfj9g9UeHBz",
        "colab": {
          "base_uri": "https://localhost:8080/",
          "height": 70
        },
        "outputId": "246c17bd-2825-4e1b-88f0-60c7377f2d32"
      },
      "source": [
        "tim_test = np.zeros((len(test),n_timesss))\n",
        "for i,index in enumerate(test.index):\n",
        "    if i%10000 == 0:\n",
        "        print(i)\n",
        "    counter = Counter(test.loc[index]['plylst_times_id'])\n",
        "    for (k,c) in counter.items():\n",
        "        tim_test[i][k] = c\n",
        "tim_test.shape"
      ],
      "execution_count": null,
      "outputs": [
        {
          "output_type": "stream",
          "text": [
            "0\n",
            "10000\n"
          ],
          "name": "stdout"
        },
        {
          "output_type": "execute_result",
          "data": {
            "text/plain": [
              "(10740, 684)"
            ]
          },
          "metadata": {
            "tags": []
          },
          "execution_count": 43
        }
      ]
    },
    {
      "cell_type": "code",
      "metadata": {
        "id": "4KoKQJVyRoMI"
      },
      "source": [
        "# user-song matrix 생성\n",
        "n_test = len(test)\n",
        "row = np.repeat(range(n_test), test['num_songs']) # User Index 별 노래 개수만큼 만듦 \n",
        "col = [song for songs in test['songs'] for song in songs] # Song dic number 추출 \n",
        "dat = np.repeat(1, test['num_songs'].sum()) # User별 Song이 있는 부분에 1을 넣기위해 1과 전체 노래 개수만큼 만듦\n",
        "test_user_songs_A = spr.csr_matrix((dat, (row, col)), shape=(n_test, n_songs)) # csr_matrix 제작 \n",
        "\n",
        "row = np.repeat(range(n_test), test['num_tags'])\n",
        "col = [tag for tags in test['tags_id'] for tag in tags]\n",
        "dat = np.repeat(1, test['num_tags'].sum())\n",
        "test_user_tags_A = spr.csr_matrix((dat, (row, col)), shape=(n_test, n_tags))\n",
        "\n",
        "test_user_songs_A_T = test_user_songs_A.T.tocsr()\n",
        "test_user_tags_A_T = test_user_tags_A.T.tocsr()"
      ],
      "execution_count": null,
      "outputs": []
    },
    {
      "cell_type": "markdown",
      "metadata": {
        "id": "m6M6wQJdWe-c"
      },
      "source": [
        "## 모델링에 필요한 행렬 생성 + vstack"
      ]
    },
    {
      "cell_type": "code",
      "metadata": {
        "id": "7HmoAUU3WXsH"
      },
      "source": [
        "## 1. 장르 + 제목\n",
        "from scipy import sparse\n",
        "from scipy.sparse import vstack \n",
        "\n",
        "title_gnr = np.concatenate((gnr_array,title_tdm),axis=1)\n",
        "val_title_gnr = np.concatenate((gnr_val,val_title),axis=1)\n",
        "test_title_gnr = np.concatenate((gnr_test,test_title),axis=1)\n",
        "\n",
        "title_gnr = sparse.csr_matrix(title_gnr) # csr matrix로 변환\n",
        "val_title_gnr = sparse.csr_matrix(val_title_gnr)\n",
        "test_title_gnr = sparse.csr_matrix(test_title_gnr)\n",
        "\n",
        "title_gnr = vstack([title_gnr,val_title_gnr,test_title_gnr])"
      ],
      "execution_count": null,
      "outputs": []
    },
    {
      "cell_type": "code",
      "metadata": {
        "id": "NW9kMGWNWXoW"
      },
      "source": [
        "# 2. song tag train, val, test 합치기(vstack)\n",
        "from scipy.sparse import vstack \n",
        "\n",
        "song_sp = vstack([train_user_songs_A,val_user_songs_A,test_user_songs_A])\n",
        "tag_sp = vstack([train_user_tags_A,val_user_tags_A,test_user_tags_A])"
      ],
      "execution_count": null,
      "outputs": []
    },
    {
      "cell_type": "code",
      "metadata": {
        "id": "RrgR9uHLWXm0"
      },
      "source": [
        "song_sp_T = song_sp.T.tocsr()\n",
        "tag_sp_T = tag_sp.T.tocsr()"
      ],
      "execution_count": null,
      "outputs": []
    },
    {
      "cell_type": "code",
      "metadata": {
        "id": "bbnAfhEdjn4y"
      },
      "source": [
        "# 3. 날짜 행렬\n",
        "data_all = pd.concat([train,val,test])\n",
        "data_all.index = range(len(data_all))"
      ],
      "execution_count": null,
      "outputs": []
    },
    {
      "cell_type": "code",
      "metadata": {
        "id": "cHCVtFchj3W3"
      },
      "source": [
        "data_all['num_tags'] = data_all['tags_id'].apply(len)"
      ],
      "execution_count": null,
      "outputs": []
    },
    {
      "cell_type": "code",
      "metadata": {
        "id": "42g9tLmvkRtN",
        "colab": {
          "base_uri": "https://localhost:8080/",
          "height": 404,
          "referenced_widgets": [
            "f332e90df83b47b18ce3119d14389c3c",
            "1d7674de232745bbacbd9a44032c595a",
            "a4c7e334a8254527958bf1b086617706",
            "8b5a4dd720374ab5845a8d858aad008e",
            "78ecd9fd82bc44bb8b2d20c2465949e2",
            "28672090a0144e2f9190c17b71213891",
            "f9a58dcd81374364b63c7138e5ce0b6f",
            "1d3f6ba1010047f1987634547a995695"
          ]
        },
        "outputId": "c9f6f5fd-bde8-4dc9-aa86-4cc27a39b229"
      },
      "source": [
        "# song tim 내용 가져오기. \n",
        "tim_cate = []\n",
        "\n",
        "for i in tqdm_notebook(range(len(data_all))):\n",
        "    tim = [] \n",
        "    songs = data_all.loc[i,'songs']\n",
        "    for j in songs:\n",
        "        tim.append(song.iloc[j,1])\n",
        "    tim_cate.append(tim)\n",
        "    \n",
        "    \n",
        "data_all['plylst_times'] = tim_cate\n",
        "\n",
        "plylst_times = data_all['plylst_times']\n",
        "times_counter = Counter([tim for times in plylst_times for tim in times])\n",
        "times_dict = {x: times_counter[x] for x in times_counter}\n",
        "\n",
        "times_id_tid = dict()\n",
        "times_tid_id = dict()\n",
        "for i, t in enumerate(times_dict):\n",
        "    times_id_tid[t] = i\n",
        "    times_tid_id[i] = t\n",
        "n_times = len(times_dict)\n",
        "data_all['plylst_times_id'] = data_all['plylst_times'].map(lambda x: [times_id_tid.get(s) for s in x if times_id_tid.get(s) != None])\n",
        "\n",
        "tim_data_all = np.zeros((len(data_all),n_times))\n",
        "for i,index in enumerate(data_all.index):\n",
        "    if i%10000 == 0:\n",
        "        print(i)\n",
        "    counter = Counter(data_all.loc[index]['plylst_times_id'])\n",
        "    for (k,c) in counter.items():\n",
        "        tim_data_all[i][k] = c\n",
        "tim_data_all.shape"
      ],
      "execution_count": null,
      "outputs": [
        {
          "output_type": "stream",
          "text": [
            "/usr/local/lib/python3.6/dist-packages/ipykernel_launcher.py:4: TqdmDeprecationWarning: This function will be removed in tqdm==5.0.0\n",
            "Please use `tqdm.notebook.tqdm` instead of `tqdm.tqdm_notebook`\n",
            "  after removing the cwd from sys.path.\n"
          ],
          "name": "stderr"
        },
        {
          "output_type": "display_data",
          "data": {
            "application/vnd.jupyter.widget-view+json": {
              "model_id": "f332e90df83b47b18ce3119d14389c3c",
              "version_minor": 0,
              "version_major": 2
            },
            "text/plain": [
              "HBox(children=(FloatProgress(value=0.0, max=148826.0), HTML(value='')))"
            ]
          },
          "metadata": {
            "tags": []
          }
        },
        {
          "output_type": "stream",
          "text": [
            "\n",
            "0\n",
            "10000\n",
            "20000\n",
            "30000\n",
            "40000\n",
            "50000\n",
            "60000\n",
            "70000\n",
            "80000\n",
            "90000\n",
            "100000\n",
            "110000\n",
            "120000\n",
            "130000\n",
            "140000\n"
          ],
          "name": "stdout"
        },
        {
          "output_type": "execute_result",
          "data": {
            "text/plain": [
              "(148826, 846)"
            ]
          },
          "metadata": {
            "tags": []
          },
          "execution_count": 50
        }
      ]
    },
    {
      "cell_type": "code",
      "metadata": {
        "id": "FuOOrjpfmUNw"
      },
      "source": [
        "tim_array = tim_data_all[:len(train)]\n",
        "tim_val = tim_data_all[len(train):len(train)+len(val)]\n",
        "tim_test = tim_data_all[len(train)+len(val):len(train)+len(val)+len(test)]\n",
        "\n",
        "tim_data_all = sparse.csr_matrix(tim_data_all)\n",
        "\n",
        "tim_array = sparse.csr_matrix(tim_array)\n",
        "tim_val = sparse.csr_matrix(tim_val)\n",
        "tim_test = sparse.csr_matrix(tim_test)\n",
        "\n",
        "times_sp = vstack([tim_array,tim_val,tim_test])"
      ],
      "execution_count": null,
      "outputs": []
    },
    {
      "cell_type": "code",
      "metadata": {
        "id": "BOo1pRfgkwvD"
      },
      "source": [
        "# 4. 제목\n",
        "content = data_all['plylst_title']\n",
        "tdm = cv.fit_transform(content)\n",
        "\n",
        "title_tdm = tdm.toarray()\n",
        "title_tr = title_tdm[:len(train)]\n",
        "title_va = title_tdm[len(train):len(train)+len(val)]\n",
        "title_ts = title_tdm[len(train)+len(val):len(train)+len(val)+len(test)]\n",
        "\n",
        "title_sp = sparse.csr_matrix(title_tdm)\n"
      ],
      "execution_count": null,
      "outputs": []
    },
    {
      "cell_type": "markdown",
      "metadata": {
        "id": "LC2sdnkLXwis"
      },
      "source": [
        "## KNN 군집화"
      ]
    },
    {
      "cell_type": "code",
      "metadata": {
        "id": "MVHaG1QuWXjA",
        "colab": {
          "base_uri": "https://localhost:8080/",
          "height": 70
        },
        "outputId": "3ec14d1d-e664-4c98-f0c1-0170010beeb0"
      },
      "source": [
        "from sklearn.neighbors import NearestNeighbors\n",
        "aa = 25\n",
        "\n",
        "# 모델 구축\n",
        "model_knn_song = NearestNeighbors(metric='cosine', algorithm='brute', n_neighbors=aa, n_jobs=-1)\n",
        "model_knn_tag = NearestNeighbors(metric='cosine', algorithm='brute', n_neighbors=aa, n_jobs=-1)\n",
        "model_knn_title = NearestNeighbors(metric='cosine', algorithm='brute', n_neighbors=aa, n_jobs=-1)\n",
        "model_knn_title_gnr = NearestNeighbors(metric='cosine', algorithm='brute', n_neighbors=aa, n_jobs=-1)\n",
        "model_knn_times = NearestNeighbors(metric='cosine', algorithm='brute', n_neighbors=25, n_jobs=-1)\n",
        "\n",
        "# 학습\n",
        "model_knn_song.fit(song_sp)\n",
        "model_knn_tag.fit(tag_sp)\n",
        "model_knn_title.fit(title_sp)\n",
        "model_knn_title_gnr.fit(title_gnr)\n",
        "model_knn_times.fit(times_sp)"
      ],
      "execution_count": null,
      "outputs": [
        {
          "output_type": "execute_result",
          "data": {
            "text/plain": [
              "NearestNeighbors(algorithm='brute', leaf_size=30, metric='cosine',\n",
              "                 metric_params=None, n_jobs=-1, n_neighbors=25, p=2,\n",
              "                 radius=1.0)"
            ]
          },
          "metadata": {
            "tags": []
          },
          "execution_count": 53
        }
      ]
    },
    {
      "cell_type": "markdown",
      "metadata": {
        "id": "Io0VnGwHYOOX"
      },
      "source": [
        "## CF 모델링\n",
        "k= 25   \n",
        "5개 이상 노래만 추천     \n",
        "인벌스 비사용     "
      ]
    },
    {
      "cell_type": "code",
      "metadata": {
        "id": "-4Y-fx9mnNKx",
        "colab": {
          "base_uri": "https://localhost:8080/",
          "referenced_widgets": [
            "2f8bc632eb37422dbd42322ef27bdcbf"
          ]
        },
        "outputId": "30079014-fa94-4262-e889-0a2089e46cb6"
      },
      "source": [
        "from tqdm import tqdm_notebook\n",
        "from sklearn.metrics.pairwise import cosine_similarity\n",
        "res = []\n",
        "for i in tqdm_notebook(range(len(val))):\n",
        "    data = val.iloc[i]\n",
        "    pid = i\n",
        "    aa = 25\n",
        "\n",
        "    if len(data['songs']) !=0 and len(data['tags_id']) !=0 :\n",
        "        p = np.zeros((n_songs,1))\n",
        "        p[data['songs']] = 1\n",
        "\n",
        "        pp = np.zeros((n_tags,1))\n",
        "        pp[data['tags_id']] = 1\n",
        "\n",
        "        tra_song = data_all.iloc[model_knn_song.kneighbors(p.T)[1][0]]   \n",
        "        row = np.repeat(range(aa), tra_song['num_songs']) # User Index 별 노래 개수만큼 만듦 \n",
        "        col = [song for songs in tra_song['songs'] for song in songs] # Song dic number 추출 \n",
        "        dat = np.repeat(1, tra_song['num_songs'].sum()) # User별 Song이 있는 부분에 1을 넣기위해 1과 전체 노래 개수만큼 만듦\n",
        "        tra_song_sp = spr.csr_matrix((dat, (row, col)), shape=(aa, n_songs)) # csr_matrix 제작 \n",
        "        tra_song_sp_T = tra_song_sp.T.tocsr()\n",
        "        \n",
        "        tra_tag = data_all.iloc[model_knn_tag.kneighbors(pp.T)[1][0]]\n",
        "        row = np.repeat(range(aa), tra_tag['num_tags'])\n",
        "        col = [tag for tags in tra_tag['tags_id'] for tag in tags]\n",
        "        dat = np.repeat(1, tra_tag['num_tags'].sum())\n",
        "        tra_tag_sp = spr.csr_matrix((dat, (row, col)), shape=(aa, n_tags))\n",
        "        tra_tag_sp_T = tra_tag_sp.T.tocsr()\n",
        "        \n",
        "        tra_tim = times_sp[model_knn_times.kneighbors(tim_val[i:(i+1)])[1][0]]\n",
        "        tra_title_gnr = title_gnr[model_knn_title_gnr.kneighbors(val_title_gnr[i:(i+1)])[1][0]]\n",
        "        \n",
        "        songs_already = data[\"songs\"] \n",
        "        tags_already = data[\"tags_id\"]\n",
        "        \n",
        "        val_song = cosine_similarity(tra_song_sp,p.T)\n",
        "        val_tag = cosine_similarity(tra_tag_sp,pp.T)\n",
        "        val_tim = cosine_similarity(tra_tim,tim_val[i:(i+1)])\n",
        "        val_title_genre = cosine_similarity(tra_title_gnr,val_title_gnr[i:(i+1)])\n",
        "        \n",
        "        vali = val_song * val_tag * val_title_genre * val_tim\n",
        "        \n",
        "        cand_song = tra_song_sp_T.dot(vali) # 행에는 노래 열에는 유저 정보 %*% 유사한 유저 -> 유사한 노래에 대하여 높은 값 나옴 \n",
        "        cand_song_idx = cand_song.reshape(-1).argsort()[-300:][::-1] # 값이 높은 상위 120개 노래 추출\n",
        "\n",
        "#         cand_song_idx = cand_song_idx[np.isin(cand_song_idx, songs_already) == False]\n",
        "        cand_song_idx = cand_song_idx[np.isin(cand_song_idx, songs_already) == False]  # 중복되는 노래 있는지 확인하고 100개 추출 \n",
        "        \n",
        "        ## < inverse coefficient >\n",
        "        # inv_d = pd.DataFrame(cand_song).loc[cand_song_idx]\n",
        "        # cand_song_idx = list(pd.DataFrame(inv_d[0] * song_exist.loc[cand_song_idx,'f'])[0].sort_values(ascending=False)[:100].index)\n",
        "        \n",
        "        cand_tag = tra_tag_sp_T.dot(vali) # 똑같은 작업 실시 \n",
        "        cand_tag_idx = cand_tag.reshape(-1).argsort()[-30:][::-1]\n",
        "\n",
        "        cand_tag_idx = cand_tag_idx[np.isin(cand_tag_idx, tags_already) == False][:10]\n",
        "        rec_tag_idx = [tag_tid_id[i] for i in cand_tag_idx]\n",
        "        \n",
        "        res.append({\n",
        "                    \"id\": val.loc[pid,'id'],\n",
        "                    \"songs\": cand_song_idx,\n",
        "                    \"tags\": rec_tag_idx\n",
        "                        })\n",
        "    \n",
        "    \n",
        "    elif len(data['songs']) !=0:\n",
        "        p = np.zeros((707989,1))\n",
        "        p[data['songs']] = 1\n",
        "        \n",
        "        tra_song = data_all.iloc[model_knn_song.kneighbors(p.T)[1][0]]   \n",
        "        row = np.repeat(range(aa), tra_song['num_songs']) # User Index 별 노래 개수만큼 만듦 \n",
        "        col = [song for songs in tra_song['songs'] for song in songs] # Song dic number 추출 \n",
        "        dat = np.repeat(1, tra_song['num_songs'].sum()) # User별 Song이 있는 부분에 1을 넣기위해 1과 전체 노래 개수만큼 만듦\n",
        "        tra_song_sp = spr.csr_matrix((dat, (row, col)), shape=(aa, n_songs)) # csr_matrix 제작 \n",
        "        tra_song_sp_T = tra_song_sp.T.tocsr()\n",
        "        \n",
        "        row = np.repeat(range(aa), tra_song['num_tags'])\n",
        "        col = [tag for tags in tra_song['tags_id'] for tag in tags]\n",
        "        dat = np.repeat(1, tra_song['num_tags'].sum())\n",
        "        tra_tag_sp = spr.csr_matrix((dat, (row, col)), shape=(aa, n_tags))\n",
        "        tra_tag_sp_T = tra_tag_sp.T.tocsr()\n",
        "        \n",
        "        songs_already = data[\"songs\"] \n",
        "        tags_already = data[\"tags_id\"]\n",
        "\n",
        "        tra_tim = times_sp[model_knn_times.kneighbors(tim_val[i:(i+1)])[1][0]]        \n",
        "        tra_title_gnr = title_gnr[model_knn_title_gnr.kneighbors(val_title_gnr[i:(i+1)])[1][0]]\n",
        "        \n",
        "        val_song = cosine_similarity(tra_song_sp,p.T)\n",
        "        val_tim = cosine_similarity(tra_tim,tim_val[i:(i+1)])\n",
        "        val_title_genre = cosine_similarity(tra_title_gnr,val_title_gnr[i:(i+1)])\n",
        "        vali = val_song*val_title_genre*val_tim\n",
        "        \n",
        "        cand_song = tra_song_sp_T.dot(vali) # 행에는 노래 열에는 유저 정보 %*% 유사한 유저 -> 유사한 노래에 대하여 높은 값 나옴 \n",
        "        cand_song_idx = cand_song.reshape(-1).argsort()[-300:][::-1] # 값이 높은 상위 120개 노래 추출 \n",
        "\n",
        "        cand_song_idx = cand_song_idx[np.isin(cand_song_idx, songs_already) == False]  # 중복되는 노래 있는지 확인하고 100개 추출 \n",
        "        \n",
        "        # inv_d = pd.DataFrame(cand_song).loc[cand_song_idx]\n",
        "        # cand_song_idx = list(pd.DataFrame(inv_d[0] * song_exist.loc[cand_song_idx,'f'])[0].sort_values(ascending=False)[:100].index)\n",
        "#         cand_song_idx = cand_song_idx[np.isin(cand_song_idx, songs_already) == False][:100]  # 중복되는 노래 있는지 확인하고 100개 추출 \n",
        "\n",
        "        cand_tag = tra_tag_sp_T.dot(vali) # 똑같은 작업 실시 \n",
        "        cand_tag_idx = cand_tag.reshape(-1).argsort()[-30:][::-1]\n",
        "\n",
        "        cand_tag_idx = cand_tag_idx[np.isin(cand_tag_idx, tags_already) == False][:10]\n",
        "        rec_tag_idx = [tag_tid_id[i] for i in cand_tag_idx]\n",
        "        \n",
        "        res.append({\n",
        "                    \"id\": val.loc[pid,'id'],\n",
        "                    \"songs\": cand_song_idx,\n",
        "                    \"tags\": rec_tag_idx\n",
        "                    })\n",
        "        \n",
        "    elif len(data['tags_id']) !=0:\n",
        "        p = np.zeros((n_tags,1))\n",
        "        p[data['tags_id']] = 1\n",
        "        \n",
        "        tra_tag = data_all.iloc[model_knn_tag.kneighbors(p.T)[1][0]]   \n",
        "        row = np.repeat(range(aa), tra_tag['num_songs']) # User Index 별 노래 개수만큼 만듦 \n",
        "        col = [song for songs in tra_tag['songs'] for song in songs] # Song dic number 추출 \n",
        "        dat = np.repeat(1, tra_tag['num_songs'].sum()) # User별 Song이 있는 부분에 1을 넣기위해 1과 전체 노래 개수만큼 만듦\n",
        "        tra_song_sp = spr.csr_matrix((dat, (row, col)), shape=(aa, n_songs)) # csr_matrix 제작 \n",
        "        tra_song_sp_T = tra_song_sp.T.tocsr()\n",
        "        \n",
        "        row = np.repeat(range(aa), tra_tag['num_tags'])\n",
        "        col = [tag for tags in tra_tag['tags_id'] for tag in tags]\n",
        "        dat = np.repeat(1, tra_tag['num_tags'].sum())\n",
        "        tra_tag_sp = spr.csr_matrix((dat, (row, col)), shape=(aa, n_tags))\n",
        "        tra_tag_sp_T = tra_tag_sp.T.tocsr()\n",
        "        \n",
        "        \n",
        "        songs_already = data[\"songs\"] \n",
        "        tags_already = data[\"tags_id\"]\n",
        "        \n",
        "        vali = cosine_similarity(tra_tag_sp,pp.T)\n",
        "        \n",
        "        if len(data['plylst_title']) != 0 :\n",
        "            tra_title_gnr = title_tdm[model_knn_title.kneighbors(title_va[i:(i+1)])[1][0]]\n",
        "            vali_title = cosine_similarity(tra_title_gnr,title_va[i:(i+1)])\n",
        "            vali = vali * vali_title\n",
        "                \n",
        "        cand_song = tra_song_sp_T.dot(vali) # 행에는 노래 열에는 유저 정보 %*% 유사한 유저 -> 유사한 노래에 대하여 높은 값 나옴 \n",
        "        cand_song_idx = cand_song.reshape(-1).argsort()[-300:][::-1] # 값이 높은 상위 120개 노래 추출 \n",
        "\n",
        "        cand_song_idx = cand_song_idx[np.isin(cand_song_idx, songs_already) == False]  # 중복되는 노래 있는지 확인하고 100개 추출 \n",
        "        \n",
        "        # inv_d = pd.DataFrame(cand_song).loc[cand_song_idx]\n",
        "        # cand_song_idx = list(pd.DataFrame(inv_d[0] * song_exist.loc[cand_song_idx,'f'])[0].sort_values(ascending=False)[:100].index)    \n",
        "#         cand_song_idx = cand_song_idx[np.isin(cand_song_idx, songs_already) == False][:100]  # 중복되는 노래 있는지 확인하고 100개 추출 \n",
        "\n",
        "        cand_tag = tra_tag_sp_T.dot(vali) # 똑같은 작업 실시 \n",
        "        cand_tag_idx = cand_tag.reshape(-1).argsort()[-30:][::-1]\n",
        "\n",
        "        cand_tag_idx = cand_tag_idx[np.isin(cand_tag_idx, tags_already) == False][:10]\n",
        "        rec_tag_idx = [tag_tid_id[i] for i in cand_tag_idx]\n",
        "\n",
        "        res.append({\n",
        "                    \"id\": val.loc[pid,'id'],\n",
        "                    \"songs\": cand_song_idx,\n",
        "                    \"tags\": rec_tag_idx\n",
        "                    })\n",
        "        \n",
        "    else:\n",
        "        cand_song = []\n",
        "        for li in data_all.iloc[model_knn_title.kneighbors(title_va[i:(i+1)])[1][0]].songs.to_list():\n",
        "            for j in li:\n",
        "                cand_song.append(j)\n",
        "                \n",
        "        cand_tag = []\n",
        "        for li in data_all.iloc[model_knn_title.kneighbors(title_va[i:(i+1)])[1][0]].tags.to_list():\n",
        "            for j in li:\n",
        "                cand_tag.append(j)\n",
        "        \n",
        "        cand_song_idx = list(pd.DataFrame(cand_song)[0].value_counts()[:100].index)\n",
        "        rec_tag_idx = list(pd.DataFrame(cand_tag)[0].value_counts()[:10].index)\n",
        "\n",
        "        res.append({\n",
        "                    \"id\": val.loc[pid,'id'],\n",
        "                    \"songs\": cand_song_idx,\n",
        "                    \"tags\": rec_tag_idx\n",
        "                    })\n",
        "\n",
        "for i in range(len(res)):\n",
        "    if len(res[i]['songs']) != 100:\n",
        "        print('song 에서 {}번째 오류 발생'.format(i))\n",
        "        \n",
        "    if len(res[i]['tags']) != 10:\n",
        "        print('tag 에서 {}번째 오류 발생'.format(i))\n",
        "\n",
        "import io\n",
        "import os\n",
        "\n",
        "def write_json(data, fname):\n",
        "    def _conv(o):\n",
        "        if isinstance(o, (np.int64, np.int32)):\n",
        "            return int(o)\n",
        "        raise TypeError\n",
        "\n",
        "    parent = os.path.dirname(fname)\n",
        "    with io.open(fname, \"w\", encoding=\"utf-8\") as f:\n",
        "        json_str = json.dumps(data, ensure_ascii=False, default=_conv)\n",
        "        f.write(json_str)\n",
        "\n",
        "rec = []\n",
        "for i in range(len(res)):\n",
        "    rec.append({\n",
        "                    \"id\": res[i]['id'],\n",
        "                    \"songs\": list(res[i]['songs']),\n",
        "                    \"tags\": res[i]['tags']\n",
        "                    })\n",
        "    \n",
        "write_json(rec, \"/content/gdrive/My Drive/Colab Notebooks/머신/82best_date_results.json\")"
      ],
      "execution_count": null,
      "outputs": [
        {
          "output_type": "stream",
          "text": [
            "/usr/local/lib/python3.6/dist-packages/ipykernel_launcher.py:4: TqdmDeprecationWarning: This function will be removed in tqdm==5.0.0\n",
            "Please use `tqdm.notebook.tqdm` instead of `tqdm.tqdm_notebook`\n",
            "  after removing the cwd from sys.path.\n"
          ],
          "name": "stderr"
        },
        {
          "output_type": "display_data",
          "data": {
            "application/vnd.jupyter.widget-view+json": {
              "model_id": "2f8bc632eb37422dbd42322ef27bdcbf",
              "version_minor": 0,
              "version_major": 2
            },
            "text/plain": [
              "HBox(children=(FloatProgress(value=0.0, max=23015.0), HTML(value='')))"
            ]
          },
          "metadata": {
            "tags": []
          }
        }
      ]
    }
  ]
}