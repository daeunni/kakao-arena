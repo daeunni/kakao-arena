{
  "nbformat": 4,
  "nbformat_minor": 0,
  "metadata": {
    "colab": {
      "name": "협업필터링 + 워드투벡 추가.ipynb의 사본",
      "provenance": [],
      "collapsed_sections": [],
      "machine_shape": "hm"
    },
    "kernelspec": {
      "name": "python3",
      "display_name": "Python 3"
    },
    "accelerator": "GPU"
  },
  "cells": [
    {
      "cell_type": "markdown",
      "metadata": {
        "id": "cyhSz04cmR4p"
      },
      "source": [
        "# **협업필터링**\n",
        "플레이리스트 쌍마다 공통 곡의 수를 가중치로 하여 곡과 태그를 추천"
      ]
    },
    {
      "cell_type": "code",
      "metadata": {
        "id": "VcDZTWn5j6V0"
      },
      "source": [
        "# arena_util.py\n",
        "# -*- coding: utf-8 -*-\n",
        "\n",
        "import io\n",
        "import os\n",
        "import json\n",
        "import distutils.dir_util\n",
        "from collections import Counter\n",
        "\n",
        "import numpy as np\n",
        "\n",
        "import warnings\n",
        "warnings.filterwarnings(action='ignore')"
      ],
      "execution_count": null,
      "outputs": []
    },
    {
      "cell_type": "code",
      "metadata": {
        "id": "8Lh-WoSJmQKa"
      },
      "source": [
        "# json 파일 작성\n",
        "def write_json(data, fname):\n",
        "  def _conv(o):\n",
        "    # isinstance : 주어진 인스턴스가 특정 클래스/데이터 타입인지 확인\n",
        "    if isinstance(o, np.int64) or isinstance(o, np.int32):\n",
        "      return int(o) # int64, int32인지 확인 후 int로 출력\n",
        "    raise TypeError\n",
        "  \n",
        "  parent = os.path.dirname(fname) # os.path.dirname(fname) : 경로 중 디렉토리 이름까지만 얻기\n",
        "  distutils.dir_util.mkpath(\"C:/Users/이다은/Desktop/BOAZ 14기/추천시스템/\" + parent) # 디렉토리 만들기\n",
        "\n",
        "  # 파일 입출력( W : 쓰기)\n",
        "  with io.open(\"C:/Users/이다은/Desktop/BOAZ 14기/추천시스템/\" + fname, \"w\", encoding=\"utf8\") as f:\n",
        "    # json.dumps : 직렬화해서 객체를 파일에 쓴다\n",
        "    json_str = json.dumps(data, ensure_ascii=False, default = _conv)\n",
        "    f.write(json_str)\n",
        "\n",
        "# json 파일 로드\n",
        "def load_json(fname):\n",
        "  with open(fname, encoding='utf8') as f :\n",
        "    json_obj = json.load(f)\n",
        "\n",
        "  return json_obj\n",
        "\n",
        "# json 파일 debug\n",
        "def debug_json(r):\n",
        "  print(json.dumps(r, ensure_ascii=False, indent=4))"
      ],
      "execution_count": null,
      "outputs": []
    },
    {
      "cell_type": "markdown",
      "metadata": {
        "id": "ZMda36O3tjHo"
      },
      "source": [
        "## class로 nDCG 스코어 구현\n"
      ]
    },
    {
      "cell_type": "code",
      "metadata": {
        "id": "i1wGUDTmmQMq"
      },
      "source": [
        "# evaluate.py\n",
        "# -*- coding: utf-8 -*-\n",
        "# import fire\n",
        "import numpy as np\n",
        "\n",
        "# from arena_util import load_json\n",
        "\n",
        "class CustomEvaluator:\n",
        "  # idcg 점수 우선 def\n",
        "  def _idcg(self, l):\n",
        "    return sum((1.0/ np.log(i+2) for i in range(l)))\n",
        "  \n",
        "  # 객체 생성(첫 인자는 self)\n",
        "  def __init__(self):\n",
        "    self._idcgs = [self._idcg(i) for i in range(101)]\n",
        "\n",
        "  ## ndcg 정의! >_<\n",
        "  def _ndcg(self, gt, rec):\n",
        "    dcg = 0.0\n",
        "    for i, r in enumerate(rec): # enumerate : 인덱스 값을 포함하는 객체 리턴\n",
        "      if r in gt:\n",
        "        dcg += 1.0 / np.log(i+2) # += : 왼쪽 변수에 오른쪽 값 더하고 왼쪽에 할당\n",
        "\n",
        "    return dcg / self._idcg[len(gt)]    \n",
        "\n",
        "  def _eval(self, gt_fname, rec_fname):\n",
        "    gt_playlists = load_json(gt_fname)\n",
        "    gt_dict = {g['id'] : g for g in gt_playlists}\n",
        "\n",
        "    rec_playlists = load_json(rec_fname) # 플레이리스트 파일 로드\n",
        "\n",
        "    music_ndcg = 0.0\n",
        "    tag_ndcg = 0.0\n",
        "\n",
        "    for rec in rec_playlists:\n",
        "      gt = gt_dict[rec['id']]\n",
        "      music_ndcg += self._ndcg(gt['songs'], rec['songs'][:100]) # 노래 ndcg \n",
        "      tag_ndcg += self._ndcg(gt['tags'], rec['tags'][:10]) # 태그 ndcg\n",
        "\n",
        "    music_ndcg = music_ndcg / len(rec_playlists)\n",
        "    tag_ndcg = tag_ndcg / len(rec_playlists)\n",
        "    score = music_ndcg * 0.85 + tag_ndcg * 0.15 # 최종 score\n",
        "\n",
        "    return music_ndcg, tag_ndcg, score # score 구현\n",
        "\n",
        "  def evaluate(self, gt_fname, rec_fname):\n",
        "    try: # 실행할 코드\n",
        "      music_ndcg, tag_ndcg, score = self._eval(gt_fname, rec_fname)\n",
        "      print(f\"Music nDCG: {music_ndcg:.6}\")\n",
        "      print(f\"Tag nDCG: {tag_ndcg:.6}\")\n",
        "      print(f\"Score: {score:.6}\")\n",
        "\n",
        "    except Exception as e: # 예외 발생시 실행\n",
        "      print(e)\n",
        "\n",
        "# if __name__ == \"__main__\":\n",
        "#     fire.Fire(ArenaEvaluator)  "
      ],
      "execution_count": null,
      "outputs": []
    },
    {
      "cell_type": "code",
      "metadata": {
        "id": "3CPxyXbbmQQv"
      },
      "source": [
        "from collections import Counter # 컨테이너에 동일한 자료가 몇개인지 파악 : 출력값은 딕셔너리\n",
        "import numpy as np\n",
        "import pandas as pd\n",
        "\n",
        "import scipy.sparse as spr # Sparse matrices 출력\n",
        "import pickle"
      ],
      "execution_count": null,
      "outputs": []
    },
    {
      "cell_type": "code",
      "metadata": {
        "id": "TH-iNZEvmQWw",
        "colab": {
          "base_uri": "https://localhost:8080/",
          "height": 34
        },
        "outputId": "a1504adb-4323-4277-f4d2-dfd3a11289a6"
      },
      "source": [
        "from google.colab import drive\n",
        "drive.mount('/content/gdrive/')"
      ],
      "execution_count": null,
      "outputs": [
        {
          "output_type": "stream",
          "text": [
            "Drive already mounted at /content/gdrive/; to attempt to forcibly remount, call drive.mount(\"/content/gdrive/\", force_remount=True).\n"
          ],
          "name": "stdout"
        }
      ]
    },
    {
      "cell_type": "code",
      "metadata": {
        "id": "NAw-xcvOmQbZ"
      },
      "source": [
        "val = pd.read_json('/content/gdrive/My Drive/Colab Notebooks/머신/val.json', typ = 'frame',encoding='UTF-8')\n",
        "song_meta = pd.read_json('/content/gdrive/My Drive/Colab Notebooks/머신/song_meta.json', typ = 'frame',encoding='UTF-8')\n",
        "train = pd.read_json('/content/gdrive/My Drive/Colab Notebooks/머신/train.json', typ = 'frame', encoding='utf-8')\n",
        "test = pd.read_json('/content/gdrive/My Drive/Colab Notebooks/머신/test.json', typ = 'frame', encoding='utf-8')\n",
        "genre_gn_all = pd.read_json('/content/gdrive/My Drive/Colab Notebooks/머신/genre_gn_all.json', typ = 'series',encoding='utf-8')"
      ],
      "execution_count": null,
      "outputs": []
    },
    {
      "cell_type": "markdown",
      "metadata": {
        "id": "P9G-_fcgvElz"
      },
      "source": [
        "### playlist, song, tag의 id 재생성\n",
        "\n",
        "> 새로 생성할 id를 matrix의 row, column index로 사용할 것이기 때문"
      ]
    },
    {
      "cell_type": "code",
      "metadata": {
        "id": "SFuQIgDLmQeO"
      },
      "source": [
        "### plylst id 재생성\n",
        "\n",
        "train['istrain'] = 1\n",
        "val['istrain'] = 0\n",
        "\n",
        "n_train = len(train)\n",
        "n_val = len(val)\n",
        "\n",
        "# train+val = plylst\n",
        "plylst = pd.concat([train, val], ignore_index = True) \n",
        "# ignore_index = True : 열 이름 무시하고 정수 번호 자동 부여\n",
        "\n",
        "## train과 val 합침!! \n",
        "plylst['nid'] = range(n_train + n_val) # 인덱스 재생성\n",
        "\n",
        "# plylst의 id를 nid로 순서대로 바꾼다\n",
        "# zip : 동일한 개수를 가진 자료형을 묶어 주는 역할 > zip으로 묶어서 딕셔너리로 만든다\n",
        "plylst_id_nid = dict(zip(plylst['id'], plylst['nid']))\n",
        "plylst_nid_id = dict(zip(plylst['nid'], plylst['id']))"
      ],
      "execution_count": null,
      "outputs": []
    },
    {
      "cell_type": "markdown",
      "metadata": {
        "id": "81kwQHcnO2NB"
      },
      "source": [
        "song, tag 인덱스 재생성"
      ]
    },
    {
      "cell_type": "code",
      "metadata": {
        "id": "-GLVle2VvAMg"
      },
      "source": [
        "plylst_tag = plylst['tags'] \n",
        "tag_counter = Counter( [tg for tgs in plylst_tag for tg in tgs] ) # 딕셔너리 형태로 출력\n",
        "tag_dict = {x: tag_counter[x] for x in tag_counter} # Counter({딕셔너리}) 형태임 > 그냥 딕셔너리로 바꿔주기\n",
        "\n",
        "# 태그 아이디 재생성\n",
        "tag_id_tid = dict() # 딕셔너리 만들기\n",
        "tag_tid_id = dict()\n",
        "for i, t in enumerate(tag_dict):\n",
        "  tag_id_tid[t] = i\n",
        "  tag_tid_id[i] = t\n",
        "\n",
        "n_tags = len(tag_dict) # 태그 종류 개수\n",
        "\n",
        "###########################################################################\n",
        "plylst_song = plylst['songs']\n",
        "song_counter = Counter( [sg for sgs in plylst_song for sg in sgs] )\n",
        "song_dict = {x : song_counter[x] for x in song_counter}\n",
        "\n",
        "song_id_sid = dict()\n",
        "song_sid_id = dict()\n",
        "for i, t in enumerate(song_dict):\n",
        "  song_id_sid[t] = i\n",
        "  song_sid_id[i] = t\n",
        "\n",
        "n_songs = len(song_dict) # song  종류 개수\n"
      ],
      "execution_count": null,
      "outputs": []
    },
    {
      "cell_type": "code",
      "metadata": {
        "id": "inmKGozmV6wn",
        "colab": {
          "base_uri": "https://localhost:8080/",
          "height": 34
        },
        "outputId": "1d2bbcee-7d23-4d38-bfed-3d89dd025114"
      },
      "source": [
        "print(n_songs, n_tags, song_meta.shape)\n",
        " # 중복된 곡은 같은 인덱스로 나옴. 중복 포함해서 쓰인 곡은 63만개밖에 안됨. \n",
        " # song_meta 중 7만개는 아예 안쓰임. "
      ],
      "execution_count": null,
      "outputs": [
        {
          "output_type": "stream",
          "text": [
            "638336 30197 (707989, 9)\n"
          ],
          "name": "stdout"
        }
      ]
    },
    {
      "cell_type": "code",
      "metadata": {
        "id": "CfZD50MOvAJZ"
      },
      "source": [
        "# plylst의 songs와 tags를 새로운 id로 변환하여 데이터프레임에 추가\n",
        "### 중복 인덱스는 앞에 인덱스로 나온다 !!!\n",
        "plylst['songs_id'] = plylst['songs'].map(lambda x: [song_id_sid.get(s) for s in x if song_id_sid.get(s) != None]) # 아이디로 리스트 만들어줌. \n",
        "plylst['tags_id'] = plylst['tags'].map(lambda x: [tag_id_tid.get(t) for t in x if tag_id_tid.get(t) != None])"
      ],
      "execution_count": null,
      "outputs": []
    },
    {
      "cell_type": "code",
      "metadata": {
        "id": "fx6Y2GGXWuTS",
        "colab": {
          "base_uri": "https://localhost:8080/",
          "height": 464
        },
        "outputId": "f04e4b84-375e-4292-c608-131ce81d640c"
      },
      "source": [
        "plylst.head()"
      ],
      "execution_count": null,
      "outputs": [
        {
          "output_type": "execute_result",
          "data": {
            "text/html": [
              "<div>\n",
              "<style scoped>\n",
              "    .dataframe tbody tr th:only-of-type {\n",
              "        vertical-align: middle;\n",
              "    }\n",
              "\n",
              "    .dataframe tbody tr th {\n",
              "        vertical-align: top;\n",
              "    }\n",
              "\n",
              "    .dataframe thead th {\n",
              "        text-align: right;\n",
              "    }\n",
              "</style>\n",
              "<table border=\"1\" class=\"dataframe\">\n",
              "  <thead>\n",
              "    <tr style=\"text-align: right;\">\n",
              "      <th></th>\n",
              "      <th>tags</th>\n",
              "      <th>id</th>\n",
              "      <th>plylst_title</th>\n",
              "      <th>songs</th>\n",
              "      <th>like_cnt</th>\n",
              "      <th>updt_date</th>\n",
              "      <th>istrain</th>\n",
              "      <th>nid</th>\n",
              "      <th>songs_id</th>\n",
              "      <th>tags_id</th>\n",
              "    </tr>\n",
              "  </thead>\n",
              "  <tbody>\n",
              "    <tr>\n",
              "      <th>0</th>\n",
              "      <td>[락]</td>\n",
              "      <td>61281</td>\n",
              "      <td>여행같은 음악</td>\n",
              "      <td>[525514, 129701, 383374, 562083, 297861, 13954...</td>\n",
              "      <td>71</td>\n",
              "      <td>2013-12-19 18:36:19.000</td>\n",
              "      <td>1</td>\n",
              "      <td>0</td>\n",
              "      <td>[0, 1, 2, 3, 4, 5, 6, 7, 8, 9, 10, 11, 12, 13,...</td>\n",
              "      <td>[0]</td>\n",
              "    </tr>\n",
              "    <tr>\n",
              "      <th>1</th>\n",
              "      <td>[추억, 회상]</td>\n",
              "      <td>10532</td>\n",
              "      <td>요즘 너 말야</td>\n",
              "      <td>[432406, 675945, 497066, 120377, 389529, 24427...</td>\n",
              "      <td>1</td>\n",
              "      <td>2014-12-02 16:19:42.000</td>\n",
              "      <td>1</td>\n",
              "      <td>1</td>\n",
              "      <td>[19, 20, 21, 22, 23, 24, 25, 26, 27, 28, 29, 3...</td>\n",
              "      <td>[1, 2]</td>\n",
              "    </tr>\n",
              "    <tr>\n",
              "      <th>2</th>\n",
              "      <td>[까페, 잔잔한]</td>\n",
              "      <td>76951</td>\n",
              "      <td>편하게, 잔잔하게 들을 수 있는 곡.-</td>\n",
              "      <td>[83116, 276692, 166267, 186301, 354465, 256598...</td>\n",
              "      <td>17</td>\n",
              "      <td>2017-08-28 07:09:34.000</td>\n",
              "      <td>1</td>\n",
              "      <td>2</td>\n",
              "      <td>[61, 62, 63, 64, 65, 66, 67, 68, 69, 70, 71, 7...</td>\n",
              "      <td>[3, 4]</td>\n",
              "    </tr>\n",
              "    <tr>\n",
              "      <th>3</th>\n",
              "      <td>[연말, 눈오는날, 캐럴, 분위기, 따듯한, 크리스마스캐럴, 겨울노래, 크리스마스,...</td>\n",
              "      <td>147456</td>\n",
              "      <td>크리스마스 분위기에 흠뻑 취하고 싶을때</td>\n",
              "      <td>[394031, 195524, 540149, 287984, 440773, 10033...</td>\n",
              "      <td>33</td>\n",
              "      <td>2019-12-05 15:15:18.000</td>\n",
              "      <td>1</td>\n",
              "      <td>3</td>\n",
              "      <td>[89, 90, 91, 92, 93, 94, 95, 96, 97, 98, 99, 1...</td>\n",
              "      <td>[5, 6, 7, 8, 9, 10, 11, 12, 13, 14]</td>\n",
              "    </tr>\n",
              "    <tr>\n",
              "      <th>4</th>\n",
              "      <td>[댄스]</td>\n",
              "      <td>27616</td>\n",
              "      <td>추억의 노래 ㅋ</td>\n",
              "      <td>[159327, 553610, 5130, 645103, 294435, 100657,...</td>\n",
              "      <td>9</td>\n",
              "      <td>2011-10-25 13:54:56.000</td>\n",
              "      <td>1</td>\n",
              "      <td>4</td>\n",
              "      <td>[127, 128, 129, 130, 131, 132, 133, 134, 135, ...</td>\n",
              "      <td>[15]</td>\n",
              "    </tr>\n",
              "  </tbody>\n",
              "</table>\n",
              "</div>"
            ],
            "text/plain": [
              "                                                tags  ...                              tags_id\n",
              "0                                                [락]  ...                                  [0]\n",
              "1                                           [추억, 회상]  ...                               [1, 2]\n",
              "2                                          [까페, 잔잔한]  ...                               [3, 4]\n",
              "3  [연말, 눈오는날, 캐럴, 분위기, 따듯한, 크리스마스캐럴, 겨울노래, 크리스마스,...  ...  [5, 6, 7, 8, 9, 10, 11, 12, 13, 14]\n",
              "4                                               [댄스]  ...                                 [15]\n",
              "\n",
              "[5 rows x 10 columns]"
            ]
          },
          "metadata": {
            "tags": []
          },
          "execution_count": 106
        }
      ]
    },
    {
      "cell_type": "code",
      "metadata": {
        "id": "-LvAUQ5NEP8A",
        "colab": {
          "base_uri": "https://localhost:8080/",
          "height": 197
        },
        "outputId": "17e8c5a9-76dc-4d06-a315-8ea495d79919"
      },
      "source": [
        "val.head()"
      ],
      "execution_count": null,
      "outputs": [
        {
          "output_type": "execute_result",
          "data": {
            "text/html": [
              "<div>\n",
              "<style scoped>\n",
              "    .dataframe tbody tr th:only-of-type {\n",
              "        vertical-align: middle;\n",
              "    }\n",
              "\n",
              "    .dataframe tbody tr th {\n",
              "        vertical-align: top;\n",
              "    }\n",
              "\n",
              "    .dataframe thead th {\n",
              "        text-align: right;\n",
              "    }\n",
              "</style>\n",
              "<table border=\"1\" class=\"dataframe\">\n",
              "  <thead>\n",
              "    <tr style=\"text-align: right;\">\n",
              "      <th></th>\n",
              "      <th>tags</th>\n",
              "      <th>id</th>\n",
              "      <th>plylst_title</th>\n",
              "      <th>songs</th>\n",
              "      <th>like_cnt</th>\n",
              "      <th>updt_date</th>\n",
              "      <th>istrain</th>\n",
              "    </tr>\n",
              "  </thead>\n",
              "  <tbody>\n",
              "    <tr>\n",
              "      <th>0</th>\n",
              "      <td>[]</td>\n",
              "      <td>118598</td>\n",
              "      <td></td>\n",
              "      <td>[373313, 151080, 275346, 696876, 165237, 52593...</td>\n",
              "      <td>1675</td>\n",
              "      <td>2019-05-27 14:14:33.000</td>\n",
              "      <td>0</td>\n",
              "    </tr>\n",
              "    <tr>\n",
              "      <th>1</th>\n",
              "      <td>[]</td>\n",
              "      <td>131447</td>\n",
              "      <td>앨리스테이블</td>\n",
              "      <td>[]</td>\n",
              "      <td>1</td>\n",
              "      <td>2014-07-16 15:24:24.000</td>\n",
              "      <td>0</td>\n",
              "    </tr>\n",
              "    <tr>\n",
              "      <th>2</th>\n",
              "      <td>[]</td>\n",
              "      <td>51464</td>\n",
              "      <td></td>\n",
              "      <td>[529437, 516103, 360067, 705713, 226062, 37089...</td>\n",
              "      <td>62</td>\n",
              "      <td>2008-06-21 23:26:22.000</td>\n",
              "      <td>0</td>\n",
              "    </tr>\n",
              "    <tr>\n",
              "      <th>3</th>\n",
              "      <td>[]</td>\n",
              "      <td>45144</td>\n",
              "      <td></td>\n",
              "      <td>[589668, 21711, 570151, 320043, 13930, 599327,...</td>\n",
              "      <td>20</td>\n",
              "      <td>2017-10-30 18:15:43.000</td>\n",
              "      <td>0</td>\n",
              "    </tr>\n",
              "    <tr>\n",
              "      <th>4</th>\n",
              "      <td>[]</td>\n",
              "      <td>79929</td>\n",
              "      <td></td>\n",
              "      <td>[672718, 121924, 102694, 683657, 201558, 38511...</td>\n",
              "      <td>20</td>\n",
              "      <td>2017-02-07 11:40:42.000</td>\n",
              "      <td>0</td>\n",
              "    </tr>\n",
              "  </tbody>\n",
              "</table>\n",
              "</div>"
            ],
            "text/plain": [
              "  tags      id plylst_title  ... like_cnt                updt_date istrain\n",
              "0   []  118598               ...     1675  2019-05-27 14:14:33.000       0\n",
              "1   []  131447       앨리스테이블  ...        1  2014-07-16 15:24:24.000       0\n",
              "2   []   51464               ...       62  2008-06-21 23:26:22.000       0\n",
              "3   []   45144               ...       20  2017-10-30 18:15:43.000       0\n",
              "4   []   79929               ...       20  2017-02-07 11:40:42.000       0\n",
              "\n",
              "[5 rows x 7 columns]"
            ]
          },
          "metadata": {
            "tags": []
          },
          "execution_count": 65
        }
      ]
    },
    {
      "cell_type": "code",
      "metadata": {
        "id": "bMIMXPKe11uZ",
        "colab": {
          "base_uri": "https://localhost:8080/",
          "height": 34
        },
        "outputId": "19bbecaf-8e46-4a3d-8cc9-80f040317ced"
      },
      "source": [
        "plylst.shape # train + val 합쳐버림"
      ],
      "execution_count": null,
      "outputs": [
        {
          "output_type": "execute_result",
          "data": {
            "text/plain": [
              "(138086, 10)"
            ]
          },
          "metadata": {
            "tags": []
          },
          "execution_count": 66
        }
      ]
    },
    {
      "cell_type": "code",
      "metadata": {
        "id": "j31w9AuhvAFE",
        "colab": {
          "base_uri": "https://localhost:8080/",
          "height": 107
        },
        "outputId": "6824d8c2-c7d7-4175-e084-81fe28dd0ca5"
      },
      "source": [
        "# song, tag, plylst id + train 여부 + 날짜만 출력\n",
        "plylst_use = plylst[['istrain', 'nid', 'updt_date', 'songs_id', 'tags_id']]\n",
        "plylst_use.head(2)"
      ],
      "execution_count": null,
      "outputs": [
        {
          "output_type": "execute_result",
          "data": {
            "text/html": [
              "<div>\n",
              "<style scoped>\n",
              "    .dataframe tbody tr th:only-of-type {\n",
              "        vertical-align: middle;\n",
              "    }\n",
              "\n",
              "    .dataframe tbody tr th {\n",
              "        vertical-align: top;\n",
              "    }\n",
              "\n",
              "    .dataframe thead th {\n",
              "        text-align: right;\n",
              "    }\n",
              "</style>\n",
              "<table border=\"1\" class=\"dataframe\">\n",
              "  <thead>\n",
              "    <tr style=\"text-align: right;\">\n",
              "      <th></th>\n",
              "      <th>istrain</th>\n",
              "      <th>nid</th>\n",
              "      <th>updt_date</th>\n",
              "      <th>songs_id</th>\n",
              "      <th>tags_id</th>\n",
              "    </tr>\n",
              "  </thead>\n",
              "  <tbody>\n",
              "    <tr>\n",
              "      <th>0</th>\n",
              "      <td>1</td>\n",
              "      <td>0</td>\n",
              "      <td>2013-12-19 18:36:19.000</td>\n",
              "      <td>[0, 1, 2, 3, 4, 5, 6, 7, 8, 9, 10, 11, 12, 13,...</td>\n",
              "      <td>[0]</td>\n",
              "    </tr>\n",
              "    <tr>\n",
              "      <th>1</th>\n",
              "      <td>1</td>\n",
              "      <td>1</td>\n",
              "      <td>2014-12-02 16:19:42.000</td>\n",
              "      <td>[19, 20, 21, 22, 23, 24, 25, 26, 27, 28, 29, 3...</td>\n",
              "      <td>[1, 2]</td>\n",
              "    </tr>\n",
              "  </tbody>\n",
              "</table>\n",
              "</div>"
            ],
            "text/plain": [
              "   istrain  nid  ...                                           songs_id tags_id\n",
              "0        1    0  ...  [0, 1, 2, 3, 4, 5, 6, 7, 8, 9, 10, 11, 12, 13,...     [0]\n",
              "1        1    1  ...  [19, 20, 21, 22, 23, 24, 25, 26, 27, 28, 29, 3...  [1, 2]\n",
              "\n",
              "[2 rows x 5 columns]"
            ]
          },
          "metadata": {
            "tags": []
          },
          "execution_count": 67
        }
      ]
    },
    {
      "cell_type": "code",
      "metadata": {
        "id": "SCsez8_c1jtS"
      },
      "source": [
        "# song의 개수, tag의 개수열 추가\n",
        "plylst_use.loc[:, 'num_songs'] = plylst_use['songs_id'].map(len)\n",
        "plylst_use.loc[:, 'num_tags'] = plylst_use['tags_id'].map(len)\n",
        "plylst_use = plylst_use.set_index('nid')"
      ],
      "execution_count": null,
      "outputs": []
    },
    {
      "cell_type": "code",
      "metadata": {
        "id": "6DgJY0A91jqv",
        "colab": {
          "base_uri": "https://localhost:8080/",
          "height": 137
        },
        "outputId": "2307baed-0e07-4748-f0ec-025b5398e4e5"
      },
      "source": [
        "plylst_use.head(2)"
      ],
      "execution_count": null,
      "outputs": [
        {
          "output_type": "execute_result",
          "data": {
            "text/html": [
              "<div>\n",
              "<style scoped>\n",
              "    .dataframe tbody tr th:only-of-type {\n",
              "        vertical-align: middle;\n",
              "    }\n",
              "\n",
              "    .dataframe tbody tr th {\n",
              "        vertical-align: top;\n",
              "    }\n",
              "\n",
              "    .dataframe thead th {\n",
              "        text-align: right;\n",
              "    }\n",
              "</style>\n",
              "<table border=\"1\" class=\"dataframe\">\n",
              "  <thead>\n",
              "    <tr style=\"text-align: right;\">\n",
              "      <th></th>\n",
              "      <th>istrain</th>\n",
              "      <th>updt_date</th>\n",
              "      <th>songs_id</th>\n",
              "      <th>tags_id</th>\n",
              "      <th>num_songs</th>\n",
              "      <th>num_tags</th>\n",
              "    </tr>\n",
              "    <tr>\n",
              "      <th>nid</th>\n",
              "      <th></th>\n",
              "      <th></th>\n",
              "      <th></th>\n",
              "      <th></th>\n",
              "      <th></th>\n",
              "      <th></th>\n",
              "    </tr>\n",
              "  </thead>\n",
              "  <tbody>\n",
              "    <tr>\n",
              "      <th>0</th>\n",
              "      <td>1</td>\n",
              "      <td>2013-12-19 18:36:19.000</td>\n",
              "      <td>[0, 1, 2, 3, 4, 5, 6, 7, 8, 9, 10, 11, 12, 13,...</td>\n",
              "      <td>[0]</td>\n",
              "      <td>19</td>\n",
              "      <td>1</td>\n",
              "    </tr>\n",
              "    <tr>\n",
              "      <th>1</th>\n",
              "      <td>1</td>\n",
              "      <td>2014-12-02 16:19:42.000</td>\n",
              "      <td>[19, 20, 21, 22, 23, 24, 25, 26, 27, 28, 29, 3...</td>\n",
              "      <td>[1, 2]</td>\n",
              "      <td>42</td>\n",
              "      <td>2</td>\n",
              "    </tr>\n",
              "  </tbody>\n",
              "</table>\n",
              "</div>"
            ],
            "text/plain": [
              "     istrain                updt_date  ... num_songs num_tags\n",
              "nid                                    ...                   \n",
              "0          1  2013-12-19 18:36:19.000  ...        19        1\n",
              "1          1  2014-12-02 16:19:42.000  ...        42        2\n",
              "\n",
              "[2 rows x 6 columns]"
            ]
          },
          "metadata": {
            "tags": []
          },
          "execution_count": 69
        }
      ]
    },
    {
      "cell_type": "code",
      "metadata": {
        "id": "9l6kEvZo1jn6"
      },
      "source": [
        "# 데이터 나누기\n",
        "plylst_train = plylst_use.iloc[:n_train, :]\n",
        "plylst_val = plylst_use.iloc[n_train:, :]"
      ],
      "execution_count": null,
      "outputs": []
    },
    {
      "cell_type": "code",
      "metadata": {
        "id": "Ggr7f8Vx1jks",
        "colab": {
          "base_uri": "https://localhost:8080/",
          "height": 137
        },
        "outputId": "1bda1963-6d2a-40b7-e0ad-0c6e30c2703a"
      },
      "source": [
        "plylst_train.head(2)"
      ],
      "execution_count": null,
      "outputs": [
        {
          "output_type": "execute_result",
          "data": {
            "text/html": [
              "<div>\n",
              "<style scoped>\n",
              "    .dataframe tbody tr th:only-of-type {\n",
              "        vertical-align: middle;\n",
              "    }\n",
              "\n",
              "    .dataframe tbody tr th {\n",
              "        vertical-align: top;\n",
              "    }\n",
              "\n",
              "    .dataframe thead th {\n",
              "        text-align: right;\n",
              "    }\n",
              "</style>\n",
              "<table border=\"1\" class=\"dataframe\">\n",
              "  <thead>\n",
              "    <tr style=\"text-align: right;\">\n",
              "      <th></th>\n",
              "      <th>istrain</th>\n",
              "      <th>updt_date</th>\n",
              "      <th>songs_id</th>\n",
              "      <th>tags_id</th>\n",
              "      <th>num_songs</th>\n",
              "      <th>num_tags</th>\n",
              "    </tr>\n",
              "    <tr>\n",
              "      <th>nid</th>\n",
              "      <th></th>\n",
              "      <th></th>\n",
              "      <th></th>\n",
              "      <th></th>\n",
              "      <th></th>\n",
              "      <th></th>\n",
              "    </tr>\n",
              "  </thead>\n",
              "  <tbody>\n",
              "    <tr>\n",
              "      <th>0</th>\n",
              "      <td>1</td>\n",
              "      <td>2013-12-19 18:36:19.000</td>\n",
              "      <td>[0, 1, 2, 3, 4, 5, 6, 7, 8, 9, 10, 11, 12, 13,...</td>\n",
              "      <td>[0]</td>\n",
              "      <td>19</td>\n",
              "      <td>1</td>\n",
              "    </tr>\n",
              "    <tr>\n",
              "      <th>1</th>\n",
              "      <td>1</td>\n",
              "      <td>2014-12-02 16:19:42.000</td>\n",
              "      <td>[19, 20, 21, 22, 23, 24, 25, 26, 27, 28, 29, 3...</td>\n",
              "      <td>[1, 2]</td>\n",
              "      <td>42</td>\n",
              "      <td>2</td>\n",
              "    </tr>\n",
              "  </tbody>\n",
              "</table>\n",
              "</div>"
            ],
            "text/plain": [
              "     istrain                updt_date  ... num_songs num_tags\n",
              "nid                                    ...                   \n",
              "0          1  2013-12-19 18:36:19.000  ...        19        1\n",
              "1          1  2014-12-02 16:19:42.000  ...        42        2\n",
              "\n",
              "[2 rows x 6 columns]"
            ]
          },
          "metadata": {
            "tags": []
          },
          "execution_count": 71
        }
      ]
    },
    {
      "cell_type": "code",
      "metadata": {
        "id": "SwfLsABavADl",
        "colab": {
          "base_uri": "https://localhost:8080/",
          "height": 34
        },
        "outputId": "cd2fd512-56e8-41e7-f65a-1f3d02584bc2"
      },
      "source": [
        "plylst_val.shape"
      ],
      "execution_count": null,
      "outputs": [
        {
          "output_type": "execute_result",
          "data": {
            "text/plain": [
              "(23015, 6)"
            ]
          },
          "metadata": {
            "tags": []
          },
          "execution_count": 72
        }
      ]
    },
    {
      "cell_type": "code",
      "metadata": {
        "id": "OPAvN5dWR1Zz",
        "colab": {
          "base_uri": "https://localhost:8080/",
          "height": 227
        },
        "outputId": "99150946-ae0f-42d1-d4cd-380c393142c9"
      },
      "source": [
        "plylst_val.head()"
      ],
      "execution_count": null,
      "outputs": [
        {
          "output_type": "execute_result",
          "data": {
            "text/html": [
              "<div>\n",
              "<style scoped>\n",
              "    .dataframe tbody tr th:only-of-type {\n",
              "        vertical-align: middle;\n",
              "    }\n",
              "\n",
              "    .dataframe tbody tr th {\n",
              "        vertical-align: top;\n",
              "    }\n",
              "\n",
              "    .dataframe thead th {\n",
              "        text-align: right;\n",
              "    }\n",
              "</style>\n",
              "<table border=\"1\" class=\"dataframe\">\n",
              "  <thead>\n",
              "    <tr style=\"text-align: right;\">\n",
              "      <th></th>\n",
              "      <th>istrain</th>\n",
              "      <th>updt_date</th>\n",
              "      <th>songs_id</th>\n",
              "      <th>tags_id</th>\n",
              "      <th>num_songs</th>\n",
              "      <th>num_tags</th>\n",
              "    </tr>\n",
              "    <tr>\n",
              "      <th>nid</th>\n",
              "      <th></th>\n",
              "      <th></th>\n",
              "      <th></th>\n",
              "      <th></th>\n",
              "      <th></th>\n",
              "      <th></th>\n",
              "    </tr>\n",
              "  </thead>\n",
              "  <tbody>\n",
              "    <tr>\n",
              "      <th>115071</th>\n",
              "      <td>0</td>\n",
              "      <td>2019-05-27 14:14:33.000</td>\n",
              "      <td>[82770, 73350, 49850, 283466, 38811, 14654, 83...</td>\n",
              "      <td>[]</td>\n",
              "      <td>27</td>\n",
              "      <td>0</td>\n",
              "    </tr>\n",
              "    <tr>\n",
              "      <th>115072</th>\n",
              "      <td>0</td>\n",
              "      <td>2014-07-16 15:24:24.000</td>\n",
              "      <td>[]</td>\n",
              "      <td>[]</td>\n",
              "      <td>0</td>\n",
              "      <td>0</td>\n",
              "    </tr>\n",
              "    <tr>\n",
              "      <th>115073</th>\n",
              "      <td>0</td>\n",
              "      <td>2008-06-21 23:26:22.000</td>\n",
              "      <td>[42084, 86991, 615142, 615143, 66432, 191918, ...</td>\n",
              "      <td>[]</td>\n",
              "      <td>14</td>\n",
              "      <td>0</td>\n",
              "    </tr>\n",
              "    <tr>\n",
              "      <th>115074</th>\n",
              "      <td>0</td>\n",
              "      <td>2017-10-30 18:15:43.000</td>\n",
              "      <td>[19289, 156274, 92524, 5729, 9179, 4694, 3233,...</td>\n",
              "      <td>[]</td>\n",
              "      <td>17</td>\n",
              "      <td>0</td>\n",
              "    </tr>\n",
              "    <tr>\n",
              "      <th>115075</th>\n",
              "      <td>0</td>\n",
              "      <td>2017-02-07 11:40:42.000</td>\n",
              "      <td>[72186, 47442, 47461, 24939, 209259, 81164, 24...</td>\n",
              "      <td>[]</td>\n",
              "      <td>8</td>\n",
              "      <td>0</td>\n",
              "    </tr>\n",
              "  </tbody>\n",
              "</table>\n",
              "</div>"
            ],
            "text/plain": [
              "        istrain                updt_date  ... num_songs num_tags\n",
              "nid                                       ...                   \n",
              "115071        0  2019-05-27 14:14:33.000  ...        27        0\n",
              "115072        0  2014-07-16 15:24:24.000  ...         0        0\n",
              "115073        0  2008-06-21 23:26:22.000  ...        14        0\n",
              "115074        0  2017-10-30 18:15:43.000  ...        17        0\n",
              "115075        0  2017-02-07 11:40:42.000  ...         8        0\n",
              "\n",
              "[5 rows x 6 columns]"
            ]
          },
          "metadata": {
            "tags": []
          },
          "execution_count": 107
        }
      ]
    },
    {
      "cell_type": "markdown",
      "metadata": {
        "id": "ua8vPV8A9aFC"
      },
      "source": [
        "row : **plylst(nid)**  \n",
        "column : **item(sid or tid)** 인 sparse matrix A"
      ]
    },
    {
      "cell_type": "code",
      "metadata": {
        "id": "5iF61J6oWGu9",
        "colab": {
          "base_uri": "https://localhost:8080/",
          "height": 34
        },
        "outputId": "4a21a565-c394-47ce-cf36-a3dfa0c4195e"
      },
      "source": [
        "range(n_train)"
      ],
      "execution_count": null,
      "outputs": [
        {
          "output_type": "execute_result",
          "data": {
            "text/plain": [
              "range(0, 115071)"
            ]
          },
          "metadata": {
            "tags": []
          },
          "execution_count": 74
        }
      ]
    },
    {
      "cell_type": "code",
      "metadata": {
        "id": "Iu4vim8wWNEJ",
        "colab": {
          "base_uri": "https://localhost:8080/",
          "height": 34
        },
        "outputId": "2ed32a78-7da0-4964-9573-cc126302a6f3"
      },
      "source": [
        "np.repeat(range(n_train), plylst_train['num_songs']).shape"
      ],
      "execution_count": null,
      "outputs": [
        {
          "output_type": "execute_result",
          "data": {
            "text/plain": [
              "(5285871,)"
            ]
          },
          "metadata": {
            "tags": []
          },
          "execution_count": 75
        }
      ]
    },
    {
      "cell_type": "code",
      "metadata": {
        "id": "EOs5TVGNXkFQ",
        "colab": {
          "base_uri": "https://localhost:8080/",
          "height": 34
        },
        "outputId": "a817cb57-0000-42c3-956f-978b83efb12d"
      },
      "source": [
        "a = np.array([song for songs in plylst_train['songs_id'] for song in songs])\n",
        "a"
      ],
      "execution_count": null,
      "outputs": [
        {
          "output_type": "execute_result",
          "data": {
            "text/plain": [
              "array([     0,      1,      2, ...,  16938, 296045, 283396])"
            ]
          },
          "metadata": {
            "tags": []
          },
          "execution_count": 76
        }
      ]
    },
    {
      "cell_type": "code",
      "metadata": {
        "id": "z6eymrUjYxtB",
        "colab": {
          "base_uri": "https://localhost:8080/",
          "height": 34
        },
        "outputId": "cd561f1e-3516-47ca-c811-4d91a1c7e2b6"
      },
      "source": [
        "plylst_train['num_songs'].sum() # 이게 5285871개임. "
      ],
      "execution_count": null,
      "outputs": [
        {
          "output_type": "execute_result",
          "data": {
            "text/plain": [
              "5285871"
            ]
          },
          "metadata": {
            "tags": []
          },
          "execution_count": 77
        }
      ]
    },
    {
      "cell_type": "code",
      "metadata": {
        "id": "hXlEB7Qijmmu",
        "colab": {
          "base_uri": "https://localhost:8080/",
          "height": 244
        },
        "outputId": "318ed579-ccf9-4867-f1a1-bfad95dfbe9f"
      },
      "source": [
        "plylst_train['songs_id']"
      ],
      "execution_count": null,
      "outputs": [
        {
          "output_type": "execute_result",
          "data": {
            "text/plain": [
              "nid\n",
              "0         [0, 1, 2, 3, 4, 5, 6, 7, 8, 9, 10, 11, 12, 13,...\n",
              "1         [19, 20, 21, 22, 23, 24, 25, 26, 27, 28, 29, 3...\n",
              "2         [61, 62, 63, 64, 65, 66, 67, 68, 69, 70, 71, 7...\n",
              "3         [89, 90, 91, 92, 93, 94, 95, 96, 97, 98, 99, 1...\n",
              "4         [127, 128, 129, 130, 131, 132, 133, 134, 135, ...\n",
              "                                ...                        \n",
              "115066    [156225, 119784, 144788, 28312, 615129, 321240...\n",
              "115067    [148864, 143636, 311523, 266259, 8989, 389684,...\n",
              "115068    [70287, 13559, 7387, 140158, 168013, 168422, 1...\n",
              "115069    [123250, 92055, 170131, 86695, 54428, 120047, ...\n",
              "115070    [16335, 16267, 26291, 22614, 30836, 30404, 229...\n",
              "Name: songs_id, Length: 115071, dtype: object"
            ]
          },
          "metadata": {
            "tags": []
          },
          "execution_count": 78
        }
      ]
    },
    {
      "cell_type": "code",
      "metadata": {
        "id": "okWeAijxu_-m",
        "colab": {
          "base_uri": "https://localhost:8080/",
          "height": 52
        },
        "outputId": "5bb9da63-44d4-40c4-a7f5-85cd60404b09"
      },
      "source": [
        "# 노래 행렬\n",
        "row = np.repeat(range(n_train), plylst_train['num_songs']) # range(n_train)을 num_songs(각 플레이리스트의 노래 개수)만큼 반복! = 5285871개의 1차원 array\n",
        "col = [song for songs in plylst_train['songs_id'] for song in songs] # 5285871개 (plylst에 등장한 모든 song = 중복 포함 )\n",
        "dat = np.repeat(1, plylst_train['num_songs'].sum()) # row 와 col의 교차지점에 1을 박음. \n",
        "\n",
        "# 5285871 * 5285871 정사각행렬을 만들고 이를 csr_matrix를 활용해 바꿈. \n",
        "\n",
        "train_songs_A = spr.csr_matrix( (dat, (row, col) ), shape=(n_train, n_songs) ) # shape을 115071(train 개수) * 638336(song 개수)\n",
        "train_songs_A"
      ],
      "execution_count": null,
      "outputs": [
        {
          "output_type": "execute_result",
          "data": {
            "text/plain": [
              "<115071x638336 sparse matrix of type '<class 'numpy.longlong'>'\n",
              "\twith 5285871 stored elements in Compressed Sparse Row format>"
            ]
          },
          "metadata": {
            "tags": []
          },
          "execution_count": 79
        }
      ]
    },
    {
      "cell_type": "code",
      "metadata": {
        "id": "uSek7xUpb-gw"
      },
      "source": [
        "# train_songs_A.toarray()"
      ],
      "execution_count": null,
      "outputs": []
    },
    {
      "cell_type": "code",
      "metadata": {
        "id": "kkGVVfrAmQZ3",
        "colab": {
          "base_uri": "https://localhost:8080/",
          "height": 52
        },
        "outputId": "790e1f62-3cb4-47d3-87c0-f307c67d8ba7"
      },
      "source": [
        "# 태그 행렬\n",
        "row = np.repeat(range(n_train), plylst_train['num_tags']) # 476331개 : plylst별 태그 등장 횟수 반복\n",
        "col = [tag for tags in plylst_train['tags_id'] for tag in tags] # 476331개 : 각 plylst별 태그(중복 포함)\n",
        "# 행렬 안에 tag의 개수를 넣음 (빈도 수)\n",
        "dat = np.repeat(1, plylst_train['num_tags'].sum()) # input array 는 한개\n",
        "# np.repeat(input array, 요소 반복 횟수)\n",
        "train_tags_A = spr.csr_matrix((dat, (row, col)), shape=(n_train, n_tags))\n",
        "train_tags_A"
      ],
      "execution_count": null,
      "outputs": [
        {
          "output_type": "execute_result",
          "data": {
            "text/plain": [
              "<115071x30197 sparse matrix of type '<class 'numpy.longlong'>'\n",
              "\twith 476331 stored elements in Compressed Sparse Row format>"
            ]
          },
          "metadata": {
            "tags": []
          },
          "execution_count": 81
        }
      ]
    },
    {
      "cell_type": "code",
      "metadata": {
        "id": "HyAnoMOj9Qts"
      },
      "source": [
        "## transpose ( 전치 )\n",
        "train_songs_A_T = train_songs_A.T.tocsr() # tocar() : Compressed Sparse row로 만들어줌\n",
        "train_tags_A_T = train_tags_A.T.tocsr() "
      ],
      "execution_count": null,
      "outputs": []
    },
    {
      "cell_type": "code",
      "metadata": {
        "id": "Q0BWLfLf9Qqm",
        "colab": {
          "base_uri": "https://localhost:8080/",
          "height": 52
        },
        "outputId": "8fc5879c-3908-4e8b-f113-e8a27248f89a"
      },
      "source": [
        "train_songs_A_T"
      ],
      "execution_count": null,
      "outputs": [
        {
          "output_type": "execute_result",
          "data": {
            "text/plain": [
              "<638336x115071 sparse matrix of type '<class 'numpy.longlong'>'\n",
              "\twith 5285871 stored elements in Compressed Sparse Row format>"
            ]
          },
          "metadata": {
            "tags": []
          },
          "execution_count": 83
        }
      ]
    },
    {
      "cell_type": "code",
      "metadata": {
        "id": "BBYmQMjmKanx",
        "colab": {
          "base_uri": "https://localhost:8080/",
          "height": 244
        },
        "outputId": "d87f810e-6ef0-44ac-af19-b4eae8957d09"
      },
      "source": [
        "# cosine similarity 구현\n",
        "from sklearn.metrics.pairwise import cosine_similarity\n",
        "tag_sim = cosine_similarity(train_tags_A_T, train_tags_A_T)\n",
        "tag_sim"
      ],
      "execution_count": null,
      "outputs": [
        {
          "output_type": "execute_result",
          "data": {
            "text/plain": [
              "array([[1.        , 0.01115171, 0.00256802, ..., 0.        , 0.        ,\n",
              "        0.        ],\n",
              "       [0.01115171, 1.        , 0.79319467, ..., 0.        , 0.        ,\n",
              "        0.        ],\n",
              "       [0.00256802, 0.79319467, 1.        , ..., 0.        , 0.        ,\n",
              "        0.        ],\n",
              "       ...,\n",
              "       [0.        , 0.        , 0.        , ..., 0.        , 0.        ,\n",
              "        0.        ],\n",
              "       [0.        , 0.        , 0.        , ..., 0.        , 0.        ,\n",
              "        0.        ],\n",
              "       [0.        , 0.        , 0.        , ..., 0.        , 0.        ,\n",
              "        0.        ]])"
            ]
          },
          "metadata": {
            "tags": []
          },
          "execution_count": 84
        }
      ]
    },
    {
      "cell_type": "code",
      "metadata": {
        "id": "lN1CkZdCLxLX",
        "colab": {
          "base_uri": "https://localhost:8080/",
          "height": 34
        },
        "outputId": "dae5a171-cb3f-4490-dddb-520805604d76"
      },
      "source": [
        "tag_sim.shape #(30197*30197)"
      ],
      "execution_count": null,
      "outputs": [
        {
          "output_type": "execute_result",
          "data": {
            "text/plain": [
              "(30197, 30197)"
            ]
          },
          "metadata": {
            "tags": []
          },
          "execution_count": 85
        }
      ]
    },
    {
      "cell_type": "code",
      "metadata": {
        "id": "KDSYlFKNmAW8"
      },
      "source": [
        "# train_tags_A 에 similarity 열 내적 추가(안되네;;;;;;;)\n",
        "# train_tags_A = train_tags_A.dot(tag_sim)\n",
        "# train_tags_A"
      ],
      "execution_count": null,
      "outputs": []
    },
    {
      "cell_type": "code",
      "metadata": {
        "id": "dNuP6DLwL7nR"
      },
      "source": [
        "# %%time\n",
        "# song_sim = cosine_similarity(train_songs_A_T, train_songs_A_T)\n",
        "# song_sim #터짐;;;;;;;;;"
      ],
      "execution_count": null,
      "outputs": []
    },
    {
      "cell_type": "markdown",
      "metadata": {
        "id": "BX70BZvaAXse"
      },
      "source": [
        "## CF"
      ]
    },
    {
      "cell_type": "code",
      "metadata": {
        "id": "sWnC_5fZxBPY",
        "colab": {
          "base_uri": "https://localhost:8080/",
          "height": 34
        },
        "outputId": "28679260-cc96-4498-a3a3-00f3832884b2"
      },
      "source": [
        "plylst_val.shape"
      ],
      "execution_count": null,
      "outputs": [
        {
          "output_type": "execute_result",
          "data": {
            "text/plain": [
              "(23015, 6)"
            ]
          },
          "metadata": {
            "tags": []
          },
          "execution_count": 88
        }
      ]
    },
    {
      "cell_type": "code",
      "metadata": {
        "id": "xD1a_m2QwEZ2",
        "colab": {
          "base_uri": "https://localhost:8080/",
          "height": 34
        },
        "outputId": "d5617fac-763d-42f5-93d2-5d0ee20e0f7b"
      },
      "source": [
        "# sample test\n",
        "np.random.seed(33)\n",
        "n_sample = 23015\n",
        "\n",
        "# val = plylst_val.iloc[np.random.choice(range(n_val), n_sample, replace=False), :] # 비복원\n",
        "# val.shape\n",
        "\n",
        "plylst_val.shape"
      ],
      "execution_count": null,
      "outputs": [
        {
          "output_type": "execute_result",
          "data": {
            "text/plain": [
              "(23015, 6)"
            ]
          },
          "metadata": {
            "tags": []
          },
          "execution_count": 89
        }
      ]
    },
    {
      "cell_type": "code",
      "metadata": {
        "id": "eNQZjrnv-NPM",
        "colab": {
          "base_uri": "https://localhost:8080/",
          "height": 137
        },
        "outputId": "8a7a0b83-5663-47ea-8edf-23a1424a63c0"
      },
      "source": [
        "val.head(3)"
      ],
      "execution_count": null,
      "outputs": [
        {
          "output_type": "execute_result",
          "data": {
            "text/html": [
              "<div>\n",
              "<style scoped>\n",
              "    .dataframe tbody tr th:only-of-type {\n",
              "        vertical-align: middle;\n",
              "    }\n",
              "\n",
              "    .dataframe tbody tr th {\n",
              "        vertical-align: top;\n",
              "    }\n",
              "\n",
              "    .dataframe thead th {\n",
              "        text-align: right;\n",
              "    }\n",
              "</style>\n",
              "<table border=\"1\" class=\"dataframe\">\n",
              "  <thead>\n",
              "    <tr style=\"text-align: right;\">\n",
              "      <th></th>\n",
              "      <th>tags</th>\n",
              "      <th>id</th>\n",
              "      <th>plylst_title</th>\n",
              "      <th>songs</th>\n",
              "      <th>like_cnt</th>\n",
              "      <th>updt_date</th>\n",
              "      <th>istrain</th>\n",
              "    </tr>\n",
              "  </thead>\n",
              "  <tbody>\n",
              "    <tr>\n",
              "      <th>0</th>\n",
              "      <td>[]</td>\n",
              "      <td>118598</td>\n",
              "      <td></td>\n",
              "      <td>[373313, 151080, 275346, 696876, 165237, 52593...</td>\n",
              "      <td>1675</td>\n",
              "      <td>2019-05-27 14:14:33.000</td>\n",
              "      <td>0</td>\n",
              "    </tr>\n",
              "    <tr>\n",
              "      <th>1</th>\n",
              "      <td>[]</td>\n",
              "      <td>131447</td>\n",
              "      <td>앨리스테이블</td>\n",
              "      <td>[]</td>\n",
              "      <td>1</td>\n",
              "      <td>2014-07-16 15:24:24.000</td>\n",
              "      <td>0</td>\n",
              "    </tr>\n",
              "    <tr>\n",
              "      <th>2</th>\n",
              "      <td>[]</td>\n",
              "      <td>51464</td>\n",
              "      <td></td>\n",
              "      <td>[529437, 516103, 360067, 705713, 226062, 37089...</td>\n",
              "      <td>62</td>\n",
              "      <td>2008-06-21 23:26:22.000</td>\n",
              "      <td>0</td>\n",
              "    </tr>\n",
              "  </tbody>\n",
              "</table>\n",
              "</div>"
            ],
            "text/plain": [
              "  tags      id plylst_title  ... like_cnt                updt_date istrain\n",
              "0   []  118598               ...     1675  2019-05-27 14:14:33.000       0\n",
              "1   []  131447       앨리스테이블  ...        1  2014-07-16 15:24:24.000       0\n",
              "2   []   51464               ...       62  2008-06-21 23:26:22.000       0\n",
              "\n",
              "[3 rows x 7 columns]"
            ]
          },
          "metadata": {
            "tags": []
          },
          "execution_count": 90
        }
      ]
    },
    {
      "cell_type": "code",
      "metadata": {
        "id": "nqltiSlZ-XIQ",
        "colab": {
          "base_uri": "https://localhost:8080/",
          "height": 167
        },
        "outputId": "18f1eb6d-6d79-4dac-c8e5-43ef54bf6eca"
      },
      "source": [
        "plylst_val.head(3)"
      ],
      "execution_count": null,
      "outputs": [
        {
          "output_type": "execute_result",
          "data": {
            "text/html": [
              "<div>\n",
              "<style scoped>\n",
              "    .dataframe tbody tr th:only-of-type {\n",
              "        vertical-align: middle;\n",
              "    }\n",
              "\n",
              "    .dataframe tbody tr th {\n",
              "        vertical-align: top;\n",
              "    }\n",
              "\n",
              "    .dataframe thead th {\n",
              "        text-align: right;\n",
              "    }\n",
              "</style>\n",
              "<table border=\"1\" class=\"dataframe\">\n",
              "  <thead>\n",
              "    <tr style=\"text-align: right;\">\n",
              "      <th></th>\n",
              "      <th>istrain</th>\n",
              "      <th>updt_date</th>\n",
              "      <th>songs_id</th>\n",
              "      <th>tags_id</th>\n",
              "      <th>num_songs</th>\n",
              "      <th>num_tags</th>\n",
              "    </tr>\n",
              "    <tr>\n",
              "      <th>nid</th>\n",
              "      <th></th>\n",
              "      <th></th>\n",
              "      <th></th>\n",
              "      <th></th>\n",
              "      <th></th>\n",
              "      <th></th>\n",
              "    </tr>\n",
              "  </thead>\n",
              "  <tbody>\n",
              "    <tr>\n",
              "      <th>115071</th>\n",
              "      <td>0</td>\n",
              "      <td>2019-05-27 14:14:33.000</td>\n",
              "      <td>[82770, 73350, 49850, 283466, 38811, 14654, 83...</td>\n",
              "      <td>[]</td>\n",
              "      <td>27</td>\n",
              "      <td>0</td>\n",
              "    </tr>\n",
              "    <tr>\n",
              "      <th>115072</th>\n",
              "      <td>0</td>\n",
              "      <td>2014-07-16 15:24:24.000</td>\n",
              "      <td>[]</td>\n",
              "      <td>[]</td>\n",
              "      <td>0</td>\n",
              "      <td>0</td>\n",
              "    </tr>\n",
              "    <tr>\n",
              "      <th>115073</th>\n",
              "      <td>0</td>\n",
              "      <td>2008-06-21 23:26:22.000</td>\n",
              "      <td>[42084, 86991, 615142, 615143, 66432, 191918, ...</td>\n",
              "      <td>[]</td>\n",
              "      <td>14</td>\n",
              "      <td>0</td>\n",
              "    </tr>\n",
              "  </tbody>\n",
              "</table>\n",
              "</div>"
            ],
            "text/plain": [
              "        istrain                updt_date  ... num_songs num_tags\n",
              "nid                                       ...                   \n",
              "115071        0  2019-05-27 14:14:33.000  ...        27        0\n",
              "115072        0  2014-07-16 15:24:24.000  ...         0        0\n",
              "115073        0  2008-06-21 23:26:22.000  ...        14        0\n",
              "\n",
              "[3 rows x 6 columns]"
            ]
          },
          "metadata": {
            "tags": []
          },
          "execution_count": 91
        }
      ]
    },
    {
      "cell_type": "code",
      "metadata": {
        "id": "ndvHFMjJ9Qni"
      },
      "source": [
        "from tqdm import tqdm\n",
        "\n",
        "def rec(pids):\n",
        "\n",
        "  %%time\n",
        "  res = []\n",
        "\n",
        "  for pid in pids:\n",
        "    p = np.zeros((n_songs,1)) # n_?songs 만큼 0박은 1차원 array 만들기\n",
        "\n",
        "    p[ plylst_val.loc[pid,'songs_id'] ] = 1 # 각 plylst에 이미 있는 song_id에는 1박기\n",
        "    \n",
        "    # song 빈도수 열과 p(이미 존재하는 song id에 1 박은거) 내적! \n",
        "    valid = train_songs_A.dot(p).reshape(-1)\n",
        "    # reshape(-1) : 다른 나머지 차원의 크기를 맞추고 남은 크기를 해당 차원에 할당\n",
        "\n",
        "    # 이미 있는 id\n",
        "    songs_already = plylst_val.loc[pid, \"songs_id\"]\n",
        "    tags_already = plylst_val.loc[pid, \"tags_id\"]\n",
        "\n",
        "    # 전치시킨거에 valid(위에서 내적한거) 또 내적\n",
        "    cand_song = train_songs_A_T.dot(valid)\n",
        "    cand_song_idx = cand_song.reshape(-1).argsort()[-1000:][::-1] \n",
        "    # argsort() : 작은 값부터 순서대로 데이터 인덱스 반환\n",
        "    # array[::-1] : 처음부터 끝까지 -1칸 간격으로(역순으로) > 큰값부터 반환\n",
        "    # [-150:] : 150개 뒤에서부터 자름\n",
        "    cand_song_idx = cand_song_idx[np.isin(cand_song_idx, songs_already) == False][:100]\n",
        "    # cand_song_idx 에서 songs_already 가 있는지 T/F로 알려준다.\n",
        "    # 근데 False 만 골라서, 100개까지 자른다\n",
        "\n",
        "    rec_song_idx = [song_sid_id[i] for i in cand_song_idx]\n",
        "    # cand_song_idx 의 index의 i를 song_sid_id[i]로 가져온다. = 최종 제출본\n",
        "\n",
        "######################################################################################\n",
        "    cand_tag = train_tags_A_T.dot(valid)\n",
        "    cand_tag_idx = cand_tag.reshape(-1).argsort()[-100:][::-1]\n",
        "    # 뒤에서 큰 순서대로 15개 자름. 큰 순서대로 데이터 정렬\n",
        "    cand_tag_idx = cand_tag_idx[np.isin(cand_tag_idx, tags_already) == False][:10]\n",
        "    # 이미 태그에 들어있지 않은 것만(False) 10개 반환\n",
        "    rec_tag_idx = [tag_tid_id[i] for i in cand_tag_idx]\n",
        "    #cand_tag_idx 의 인덱스를 가져와서 rec_tag_idx에 넣는다\n",
        "\n",
        "    res.append({\n",
        "                \"id\": plylst_nid_id[pid],\n",
        "                \"songs\": rec_song_idx,\n",
        "                \"tags\": rec_tag_idx\n",
        "            })\n",
        "    # res에 딕셔너리 append\n",
        "    \n",
        "    # 1000번마다 시간 출력\n",
        "    tt = 1\n",
        "    if tt % 1000 == 0:\n",
        "      print(tt)\n",
        "\n",
        "    tt += 1\n",
        "  return res  "
      ],
      "execution_count": null,
      "outputs": []
    },
    {
      "cell_type": "code",
      "metadata": {
        "id": "0Mtz1ocf9Qkr"
      },
      "source": [
        "# # 학습! 일해라 일해(37분 걸림)\n",
        "# %%time\n",
        "# answers = rec(plylst_val.index)"
      ],
      "execution_count": null,
      "outputs": []
    },
    {
      "cell_type": "code",
      "metadata": {
        "id": "BQknLESF9Qh6"
      },
      "source": [
        "# answers # 와우 어메이징;;;;;;;"
      ],
      "execution_count": null,
      "outputs": []
    },
    {
      "cell_type": "code",
      "metadata": {
        "id": "KGWedNkV9QXQ"
      },
      "source": [
        "# import io\n",
        "# import os\n",
        "\n",
        "# def write_json(data, fname):\n",
        "#     def _conv(o):\n",
        "#         if isinstance(o, (np.int64, np.int32)):\n",
        "#             return int(o)\n",
        "#         raise TypeError\n",
        "\n",
        "#     parent = os.path.dirname(fname)\n",
        "#     with io.open(fname, \"w\", encoding=\"utf-8\") as f:\n",
        "#         json_str = json.dumps(data, ensure_ascii=False, default=_conv)\n",
        "#         f.write(json_str)\n",
        "\n",
        "# write_json(answers,'/content/gdrive/My Drive/Colab Notebooks/머신/results.json')"
      ],
      "execution_count": null,
      "outputs": []
    },
    {
      "cell_type": "code",
      "metadata": {
        "id": "FNG4qwBPmQUp"
      },
      "source": [
        "# results = pd.read_json('/content/gdrive/My Drive/Colab Notebooks/머신/results.json', typ = 'frame',encoding='UTF-8')"
      ],
      "execution_count": null,
      "outputs": []
    },
    {
      "cell_type": "markdown",
      "metadata": {
        "id": "KsdiOit_yfoB"
      },
      "source": [
        "### 곡 발매일자<플레이리스트 최종 수정일보다 늦은 경우는 추천에서 제외해보자"
      ]
    },
    {
      "cell_type": "markdown",
      "metadata": {
        "id": "HJ3mSKpeQMvf"
      },
      "source": [
        "# Word2Vec\n"
      ]
    },
    {
      "cell_type": "code",
      "metadata": {
        "id": "hUnavNhOyeot"
      },
      "source": [
        "import os\n",
        "import json\n",
        "import pandas as pd\n",
        "\n",
        "from tqdm import tqdm\n",
        "from gensim.models import Word2Vec\n",
        "from gensim.models.keyedvectors import WordEmbeddingsKeyedVectors"
      ],
      "execution_count": null,
      "outputs": []
    },
    {
      "cell_type": "code",
      "metadata": {
        "id": "TQI5Q1eiyekh"
      },
      "source": [
        "# 아니 class 왜만드냐?\n",
        "\n",
        "min_count = 3\n",
        "size = 100\n",
        "window = 210\n",
        "sg = 5\n",
        "p2v_model = WordEmbeddingsKeyedVectors(size)"
      ],
      "execution_count": null,
      "outputs": []
    },
    {
      "cell_type": "code",
      "metadata": {
        "id": "ClhHzFsWyean"
      },
      "source": [
        "val = pd.read_json('/content/gdrive/My Drive/Colab Notebooks/머신/val.json', typ = 'frame',encoding='UTF-8')\n",
        "song_meta = pd.read_json('/content/gdrive/My Drive/Colab Notebooks/머신/song_meta.json', typ = 'frame',encoding='UTF-8')\n",
        "train = pd.read_json('/content/gdrive/My Drive/Colab Notebooks/머신/train.json', typ = 'frame', encoding='utf-8')\n",
        "test = pd.read_json('/content/gdrive/My Drive/Colab Notebooks/머신/test.json', typ = 'frame', encoding='utf-8')\n",
        "genre_gn_all = pd.read_json('/content/gdrive/My Drive/Colab Notebooks/머신/genre_gn_all.json', typ = 'series',encoding='utf-8')\n",
        "result = pd.read_json('/content/gdrive/My Drive/Colab Notebooks/머신/results.json', typ = 'frame', encoding='UTF-8')"
      ],
      "execution_count": null,
      "outputs": []
    },
    {
      "cell_type": "code",
      "metadata": {
        "id": "i8kwwnDKc4_8",
        "colab": {
          "base_uri": "https://localhost:8080/",
          "height": 107
        },
        "outputId": "9f01e2f1-283e-4f03-9465-79fdd3ce48c2"
      },
      "source": [
        "data = pd.concat([train, val], ignore_index = True) \n",
        "data.head(2)"
      ],
      "execution_count": null,
      "outputs": [
        {
          "output_type": "execute_result",
          "data": {
            "text/html": [
              "<div>\n",
              "<style scoped>\n",
              "    .dataframe tbody tr th:only-of-type {\n",
              "        vertical-align: middle;\n",
              "    }\n",
              "\n",
              "    .dataframe tbody tr th {\n",
              "        vertical-align: top;\n",
              "    }\n",
              "\n",
              "    .dataframe thead th {\n",
              "        text-align: right;\n",
              "    }\n",
              "</style>\n",
              "<table border=\"1\" class=\"dataframe\">\n",
              "  <thead>\n",
              "    <tr style=\"text-align: right;\">\n",
              "      <th></th>\n",
              "      <th>tags</th>\n",
              "      <th>id</th>\n",
              "      <th>plylst_title</th>\n",
              "      <th>songs</th>\n",
              "      <th>like_cnt</th>\n",
              "      <th>updt_date</th>\n",
              "    </tr>\n",
              "  </thead>\n",
              "  <tbody>\n",
              "    <tr>\n",
              "      <th>0</th>\n",
              "      <td>[락]</td>\n",
              "      <td>61281</td>\n",
              "      <td>여행같은 음악</td>\n",
              "      <td>[525514, 129701, 383374, 562083, 297861, 13954...</td>\n",
              "      <td>71</td>\n",
              "      <td>2013-12-19 18:36:19.000</td>\n",
              "    </tr>\n",
              "    <tr>\n",
              "      <th>1</th>\n",
              "      <td>[추억, 회상]</td>\n",
              "      <td>10532</td>\n",
              "      <td>요즘 너 말야</td>\n",
              "      <td>[432406, 675945, 497066, 120377, 389529, 24427...</td>\n",
              "      <td>1</td>\n",
              "      <td>2014-12-02 16:19:42.000</td>\n",
              "    </tr>\n",
              "  </tbody>\n",
              "</table>\n",
              "</div>"
            ],
            "text/plain": [
              "       tags     id  ... like_cnt                updt_date\n",
              "0       [락]  61281  ...       71  2013-12-19 18:36:19.000\n",
              "1  [추억, 회상]  10532  ...        1  2014-12-02 16:19:42.000\n",
              "\n",
              "[2 rows x 6 columns]"
            ]
          },
          "metadata": {
            "tags": []
          },
          "execution_count": 100
        }
      ]
    },
    {
      "cell_type": "code",
      "metadata": {
        "id": "UphfS4mZdICU",
        "colab": {
          "base_uri": "https://localhost:8080/",
          "height": 244
        },
        "outputId": "74695d2b-5026-4bb4-b427-fb1f5c13b80d"
      },
      "source": [
        "data.info()"
      ],
      "execution_count": null,
      "outputs": [
        {
          "output_type": "stream",
          "text": [
            "<class 'pandas.core.frame.DataFrame'>\n",
            "RangeIndex: 138086 entries, 0 to 138085\n",
            "Data columns (total 6 columns):\n",
            " #   Column        Non-Null Count   Dtype \n",
            "---  ------        --------------   ----- \n",
            " 0   tags          138086 non-null  object\n",
            " 1   id            138086 non-null  int64 \n",
            " 2   plylst_title  138086 non-null  object\n",
            " 3   songs         138086 non-null  object\n",
            " 4   like_cnt      138086 non-null  int64 \n",
            " 5   updt_date     138086 non-null  object\n",
            "dtypes: int64(2), object(4)\n",
            "memory usage: 6.3+ MB\n"
          ],
          "name": "stdout"
        }
      ]
    },
    {
      "cell_type": "code",
      "metadata": {
        "id": "xHSRLZRJyeUg"
      },
      "source": [
        "class PlaylistEmbedding:\n",
        "    def __init__(self, FILE_PATH):\n",
        "        self.FILE_PATH = FILE_PATH\n",
        "        self.min_count = 3\n",
        "        self.size = 100\n",
        "        self.window = 210\n",
        "        self.sg = 5\n",
        "        self.p2v_model = WordEmbeddingsKeyedVectors(self.size)\n",
        "\n",
        "        with open(os.path.join(FILE_PATH, 'train.json'), encoding=\"utf-8\") as f:\n",
        "            self.train = json.load(f)\n",
        "        with open(os.path.join(FILE_PATH, 'val.json'), encoding=\"utf-8\") as f:\n",
        "            self.val = json.load(f)\n",
        "        with open(os.path.join(FILE_PATH, 'results.json'), encoding=\"utf-8\") as f:\n",
        "            self.most_results = json.load(f)\n",
        "\n",
        "    def get_dic(self, train, val):\n",
        "        song_dic = {}\n",
        "        tag_dic = {}\n",
        "        data = train + val\n",
        "        for q in tqdm(data):\n",
        "            song_dic[str(q['id'])] = q['songs']\n",
        "            tag_dic[str(q['id'])] = q['tags']\n",
        "        self.song_dic = song_dic\n",
        "        self.tag_dic = tag_dic\n",
        "        total = list(map(lambda x: list(map(str, x['songs'])) + list(x['tags']), data))\n",
        "        total = [x for x in total if len(x)>1]\n",
        "        self.total = total\n",
        "        \n",
        "    def get_w2v(self, total, min_count, size, window, sg):\n",
        "        w2v_model = Word2Vec(total, min_count = min_count, size = size, window = window, sg = sg)\n",
        "        self.w2v_model = w2v_model\n",
        "            \n",
        "    def update_p2v(self, train, val, w2v_model):\n",
        "        ID = []   \n",
        "        vec = []\n",
        "        for q in tqdm(train + val):\n",
        "            tmp_vec = 0\n",
        "            if len(q['songs'])>=1:\n",
        "                for song in q['songs'] + q['tags']:\n",
        "                    try: \n",
        "                        tmp_vec += w2v_model.wv.get_vector(str(song))\n",
        "                    except KeyError:\n",
        "                        pass\n",
        "            if type(tmp_vec)!=int:\n",
        "                ID.append(str(q['id']))    \n",
        "                vec.append(tmp_vec)\n",
        "        self.p2v_model.add(ID, vec)\n",
        "\n",
        "    def get_result(self, p2v_model, song_dic, tag_dic, most_results, val):\n",
        "        answers = []\n",
        "        for n, q in tqdm(enumerate(val), total = len(val)):\n",
        "            try:\n",
        "                most_id = [x[0] for x in p2v_model.most_similar(str(q['id']), topn=200)]\n",
        "                get_song = []\n",
        "                get_tag = []\n",
        "                for ID in most_id:\n",
        "                    get_song += song_dic[ID]\n",
        "                    get_tag += tag_dic[ID]\n",
        "                get_song = list(pd.value_counts(get_song)[:200].index)\n",
        "                get_tag = list(pd.value_counts(get_tag)[:20].index)\n",
        "                answers.append({\n",
        "                    \"id\": q[\"id\"],\n",
        "                    \"songs\": remove_seen(q[\"songs\"], get_song)[:100],\n",
        "                    \"tags\": remove_seen(q[\"tags\"], get_tag)[:10],\n",
        "                })\n",
        "            except:\n",
        "                answers.append({\n",
        "                  \"id\": most_results[n][\"id\"],\n",
        "                  \"songs\": most_results[n]['songs'],\n",
        "                  \"tags\": most_results[n][\"tags\"],\n",
        "                }) \n",
        "        # check and update answer\n",
        "        for n, q in enumerate(answers):\n",
        "            if len(q['songs'])!=100:\n",
        "                answers[n]['songs'] += remove_seen(q['songs'], self.most_results[n]['songs'])[:100-len(q['songs'])]\n",
        "            if len(q['tags'])!=10:\n",
        "                answers[n]['tags'] += remove_seen(q['tags'], self.most_results[n]['tags'])[:10-len(q['tags'])]  \n",
        "        self.answers = answers\n",
        "    \n",
        "    def run(self):\n",
        "        self.get_dic(self.train, self.val)\n",
        "        self.get_w2v(self.total, self.min_count, self.size, self.window, self.sg)\n",
        "        self.update_p2v(self.train, self.val, self.w2v_model)\n",
        "        self.get_result(self.p2v_model, self.song_dic, self.tag_dic, self.most_results, self.val)\n",
        "        write_json(self.answers, '/content/gdrive/My Drive/Colab Notebooks/머신/results1.json')"
      ],
      "execution_count": null,
      "outputs": []
    },
    {
      "cell_type": "code",
      "metadata": {
        "id": "5fxK8yUOyeTK",
        "colab": {
          "base_uri": "https://localhost:8080/",
          "height": 52
        },
        "outputId": "640fe5a8-56e8-4348-e403-aa817be16d1e"
      },
      "source": [
        "%%time\n",
        "\n",
        "# FILE_PATH = '/content/gdrive/My Drive/Colab Notebooks/머신/'\n",
        "# U_space = PlaylistEmbedding(FILE_PATH)\n",
        "# U_space.run()"
      ],
      "execution_count": null,
      "outputs": [
        {
          "output_type": "stream",
          "text": [
            "CPU times: user 3 µs, sys: 0 ns, total: 3 µs\n",
            "Wall time: 5.72 µs\n"
          ],
          "name": "stdout"
        }
      ]
    },
    {
      "cell_type": "code",
      "metadata": {
        "id": "Y2h5DXPiyeOj"
      },
      "source": [
        "# baseline\n",
        "\n",
        "class GenreMostPopular:\n",
        "    def _song_mp_per_genre(self, song_meta, global_mp):\n",
        "        res = {}\n",
        "\n",
        "        for sid, song in song_meta.items():\n",
        "            for genre in song['song_gn_gnr_basket']:\n",
        "                res.setdefault(genre, []).append(sid)\n",
        "\n",
        "        for genre, sids in res.items():\n",
        "            res[genre] = Counter({k: global_mp.get(int(k), 0) for k in sids})\n",
        "            res[genre] = [k for k, v in res[genre].most_common(200)]\n",
        "\n",
        "        return res\n",
        "\n",
        "    def _generate_answers(self, song_meta_json, train, questions):\n",
        "        song_meta = {int(song[\"id\"]): song for song in song_meta_json}\n",
        "        song_mp_counter, song_mp = most_popular(train, \"songs\", 200)\n",
        "        tag_mp_counter, tag_mp = most_popular(train, \"tags\", 100)\n",
        "        song_mp_per_genre = self._song_mp_per_genre(song_meta, song_mp_counter)\n",
        "\n",
        "        answers = []\n",
        "        for q in tqdm(questions):\n",
        "            genre_counter = Counter()\n",
        "\n",
        "            for sid in q[\"songs\"]:\n",
        "                for genre in song_meta[sid][\"song_gn_gnr_basket\"]:\n",
        "                    genre_counter.update({genre: 1})\n",
        "\n",
        "            top_genre = genre_counter.most_common(1)\n",
        "\n",
        "            if len(top_genre) != 0:\n",
        "                cur_songs = song_mp_per_genre[top_genre[0][0]]\n",
        "            else:\n",
        "                cur_songs = song_mp\n",
        "\n",
        "            answers.append({\n",
        "                \"id\": q[\"id\"],\n",
        "                \"songs\": remove_seen(q[\"songs\"], cur_songs)[:100],\n",
        "                \"tags\": remove_seen(q[\"tags\"], tag_mp)[:10]\n",
        "            })\n",
        "\n",
        "        return answers\n",
        "\n",
        "    def run(self, song_meta_fname, train_fname, question_fname):\n",
        "        print(\"Loading song meta...\")\n",
        "        song_meta_json = load_json(song_meta_fname)\n",
        "\n",
        "        print(\"Loading train file...\")\n",
        "        train_data = load_json(train_fname)\n",
        "\n",
        "        print(\"Loading question file...\")\n",
        "        questions = load_json(question_fname)\n",
        "\n",
        "        print(\"Writing answers...\")\n",
        "        answers = self._generate_answers(song_meta_json, train_data, questions)\n",
        "        write_json(answers, '/content/gdrive/My Drive/Colab Notebooks/머신/results_genre.json')\n"
      ],
      "execution_count": null,
      "outputs": []
    },
    {
      "cell_type": "code",
      "metadata": {
        "id": "TleDx5oSyeK0"
      },
      "source": [
        "# song_meta = pd.read_json('/content/gdrive/My Drive/Colab Notebooks/머신/song_meta.json', typ = 'frame',encoding='UTF-8')\n",
        "# global_mp = pd.read_json('/content/gdrive/My Drive/Colab Notebooks/머신/genre_gn_all.json', typ = 'series',encoding='utf-8')\n",
        "\n",
        "# baseline = GenreMostPopular(song_meta, global_mp)\n",
        "# baseline.run()"
      ],
      "execution_count": null,
      "outputs": []
    }
  ]
}