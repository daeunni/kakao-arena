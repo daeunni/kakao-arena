{
  "nbformat": 4,
  "nbformat_minor": 0,
  "metadata": {
    "kernelspec": {
      "display_name": "Python 3",
      "language": "python",
      "name": "python3"
    },
    "language_info": {
      "codemirror_mode": {
        "name": "ipython",
        "version": 3
      },
      "file_extension": ".py",
      "mimetype": "text/x-python",
      "name": "python",
      "nbconvert_exporter": "python",
      "pygments_lexer": "ipython3",
      "version": "3.7.4"
    },
    "colab": {
      "name": "합친CF_0721_KNNCF.ipynb",
      "provenance": [],
      "collapsed_sections": [],
      "machine_shape": "hm"
    },
    "accelerator": "GPU",
    "widgets": {
      "application/vnd.jupyter.widget-state+json": {
        "34e53970098d44ebb1e5a4fb268fa3e3": {
          "model_module": "@jupyter-widgets/controls",
          "model_name": "HBoxModel",
          "state": {
            "_view_name": "HBoxView",
            "_dom_classes": [],
            "_model_name": "HBoxModel",
            "_view_module": "@jupyter-widgets/controls",
            "_model_module_version": "1.5.0",
            "_view_count": null,
            "_view_module_version": "1.5.0",
            "box_style": "",
            "layout": "IPY_MODEL_055c51cc28b3491fbcc101ff82c5f0aa",
            "_model_module": "@jupyter-widgets/controls",
            "children": [
              "IPY_MODEL_4c69fc11fb8d410ab51338ef0bff13e6",
              "IPY_MODEL_46fd7b6b3e384e5da32cb1e0b2efb2c5"
            ]
          }
        },
        "055c51cc28b3491fbcc101ff82c5f0aa": {
          "model_module": "@jupyter-widgets/base",
          "model_name": "LayoutModel",
          "state": {
            "_view_name": "LayoutView",
            "grid_template_rows": null,
            "right": null,
            "justify_content": null,
            "_view_module": "@jupyter-widgets/base",
            "overflow": null,
            "_model_module_version": "1.2.0",
            "_view_count": null,
            "flex_flow": null,
            "width": null,
            "min_width": null,
            "border": null,
            "align_items": null,
            "bottom": null,
            "_model_module": "@jupyter-widgets/base",
            "top": null,
            "grid_column": null,
            "overflow_y": null,
            "overflow_x": null,
            "grid_auto_flow": null,
            "grid_area": null,
            "grid_template_columns": null,
            "flex": null,
            "_model_name": "LayoutModel",
            "justify_items": null,
            "grid_row": null,
            "max_height": null,
            "align_content": null,
            "visibility": null,
            "align_self": null,
            "height": null,
            "min_height": null,
            "padding": null,
            "grid_auto_rows": null,
            "grid_gap": null,
            "max_width": null,
            "order": null,
            "_view_module_version": "1.2.0",
            "grid_template_areas": null,
            "object_position": null,
            "object_fit": null,
            "grid_auto_columns": null,
            "margin": null,
            "display": null,
            "left": null
          }
        },
        "4c69fc11fb8d410ab51338ef0bff13e6": {
          "model_module": "@jupyter-widgets/controls",
          "model_name": "FloatProgressModel",
          "state": {
            "_view_name": "ProgressView",
            "style": "IPY_MODEL_d624ef9d396e4ab7bcbb25b22a8e5a60",
            "_dom_classes": [],
            "description": " 14%",
            "_model_name": "FloatProgressModel",
            "bar_style": "danger",
            "max": 23015,
            "_view_module": "@jupyter-widgets/controls",
            "_model_module_version": "1.5.0",
            "value": 3286,
            "_view_count": null,
            "_view_module_version": "1.5.0",
            "orientation": "horizontal",
            "min": 0,
            "description_tooltip": null,
            "_model_module": "@jupyter-widgets/controls",
            "layout": "IPY_MODEL_c112b4d847034688837ba6bdc90fcfb8"
          }
        },
        "46fd7b6b3e384e5da32cb1e0b2efb2c5": {
          "model_module": "@jupyter-widgets/controls",
          "model_name": "HTMLModel",
          "state": {
            "_view_name": "HTMLView",
            "style": "IPY_MODEL_6f7d0bbfd3c048ce94e15ab75d7aaa19",
            "_dom_classes": [],
            "description": "",
            "_model_name": "HTMLModel",
            "placeholder": "​",
            "_view_module": "@jupyter-widgets/controls",
            "_model_module_version": "1.5.0",
            "value": " 3286/23015 [19:50&lt;2:17:23,  2.39it/s]",
            "_view_count": null,
            "_view_module_version": "1.5.0",
            "description_tooltip": null,
            "_model_module": "@jupyter-widgets/controls",
            "layout": "IPY_MODEL_0d5ca0a73d3444e5a89c786bea9d08b8"
          }
        },
        "d624ef9d396e4ab7bcbb25b22a8e5a60": {
          "model_module": "@jupyter-widgets/controls",
          "model_name": "ProgressStyleModel",
          "state": {
            "_view_name": "StyleView",
            "_model_name": "ProgressStyleModel",
            "description_width": "initial",
            "_view_module": "@jupyter-widgets/base",
            "_model_module_version": "1.5.0",
            "_view_count": null,
            "_view_module_version": "1.2.0",
            "bar_color": null,
            "_model_module": "@jupyter-widgets/controls"
          }
        },
        "c112b4d847034688837ba6bdc90fcfb8": {
          "model_module": "@jupyter-widgets/base",
          "model_name": "LayoutModel",
          "state": {
            "_view_name": "LayoutView",
            "grid_template_rows": null,
            "right": null,
            "justify_content": null,
            "_view_module": "@jupyter-widgets/base",
            "overflow": null,
            "_model_module_version": "1.2.0",
            "_view_count": null,
            "flex_flow": null,
            "width": null,
            "min_width": null,
            "border": null,
            "align_items": null,
            "bottom": null,
            "_model_module": "@jupyter-widgets/base",
            "top": null,
            "grid_column": null,
            "overflow_y": null,
            "overflow_x": null,
            "grid_auto_flow": null,
            "grid_area": null,
            "grid_template_columns": null,
            "flex": null,
            "_model_name": "LayoutModel",
            "justify_items": null,
            "grid_row": null,
            "max_height": null,
            "align_content": null,
            "visibility": null,
            "align_self": null,
            "height": null,
            "min_height": null,
            "padding": null,
            "grid_auto_rows": null,
            "grid_gap": null,
            "max_width": null,
            "order": null,
            "_view_module_version": "1.2.0",
            "grid_template_areas": null,
            "object_position": null,
            "object_fit": null,
            "grid_auto_columns": null,
            "margin": null,
            "display": null,
            "left": null
          }
        },
        "6f7d0bbfd3c048ce94e15ab75d7aaa19": {
          "model_module": "@jupyter-widgets/controls",
          "model_name": "DescriptionStyleModel",
          "state": {
            "_view_name": "StyleView",
            "_model_name": "DescriptionStyleModel",
            "description_width": "",
            "_view_module": "@jupyter-widgets/base",
            "_model_module_version": "1.5.0",
            "_view_count": null,
            "_view_module_version": "1.2.0",
            "_model_module": "@jupyter-widgets/controls"
          }
        },
        "0d5ca0a73d3444e5a89c786bea9d08b8": {
          "model_module": "@jupyter-widgets/base",
          "model_name": "LayoutModel",
          "state": {
            "_view_name": "LayoutView",
            "grid_template_rows": null,
            "right": null,
            "justify_content": null,
            "_view_module": "@jupyter-widgets/base",
            "overflow": null,
            "_model_module_version": "1.2.0",
            "_view_count": null,
            "flex_flow": null,
            "width": null,
            "min_width": null,
            "border": null,
            "align_items": null,
            "bottom": null,
            "_model_module": "@jupyter-widgets/base",
            "top": null,
            "grid_column": null,
            "overflow_y": null,
            "overflow_x": null,
            "grid_auto_flow": null,
            "grid_area": null,
            "grid_template_columns": null,
            "flex": null,
            "_model_name": "LayoutModel",
            "justify_items": null,
            "grid_row": null,
            "max_height": null,
            "align_content": null,
            "visibility": null,
            "align_self": null,
            "height": null,
            "min_height": null,
            "padding": null,
            "grid_auto_rows": null,
            "grid_gap": null,
            "max_width": null,
            "order": null,
            "_view_module_version": "1.2.0",
            "grid_template_areas": null,
            "object_position": null,
            "object_fit": null,
            "grid_auto_columns": null,
            "margin": null,
            "display": null,
            "left": null
          }
        }
      }
    }
  },
  "cells": [
    {
      "cell_type": "code",
      "metadata": {
        "id": "q3YYx3_tD3kP"
      },
      "source": [
        "from datetime import timedelta, datetime\n",
        "import glob\n",
        "import json\n",
        "import os\n",
        "import re\n",
        "\n",
        "from collections import Counter\n",
        "\n",
        "import numpy as np\n",
        "import pandas as pd\n",
        "\n",
        "import scipy.sparse as spr\n",
        "import pickle"
      ],
      "execution_count": null,
      "outputs": []
    },
    {
      "cell_type": "code",
      "metadata": {
        "id": "c-2atft7D73H"
      },
      "source": [
        "# from google.colab import drive\n",
        "# drive.mount('/content/gdrive/')"
      ],
      "execution_count": null,
      "outputs": []
    },
    {
      "cell_type": "code",
      "metadata": {
        "id": "q91XkIyyGEln"
      },
      "source": [
        "val = pd.read_json('/val.json', typ = 'frame',encoding='utf-8')\n",
        "train = pd.read_json('/train.json', typ = 'frame', encoding='utf-8')\n",
        "test = pd.read_json('/test.json', typ = 'frame', encoding='utf-8')\n",
        "genre_gn_all = pd.read_json('/genre_gn_all.json', typ = 'series',encoding='utf-8')"
      ],
      "execution_count": null,
      "outputs": []
    },
    {
      "cell_type": "code",
      "metadata": {
        "id": "pxQeHFgv-7ae"
      },
      "source": [
        "song = pd.read_json('/song_meta.json', typ = 'frame',encoding='utf-8')"
      ],
      "execution_count": null,
      "outputs": []
    },
    {
      "cell_type": "code",
      "metadata": {
        "id": "A6bGshCZD3kc"
      },
      "source": [
        "plylst_tag = train['tags']\n",
        "tag_counter = Counter([tg for tgs in plylst_tag for tg in tgs])\n",
        "tag_dict = {x: tag_counter[x] for x in tag_counter}\n",
        "\n",
        "tag_id_tid = dict()\n",
        "tag_tid_id = dict()\n",
        "for i, t in enumerate(tag_dict):\n",
        "    tag_id_tid[t] = i\n",
        "    tag_tid_id[i] = t\n",
        "n_tags = len(tag_dict)\n",
        "\n",
        "plylst_song = train['songs']\n",
        "song_dict = {x: x for x in song['id']}\n",
        "\n",
        "n_songs = len(song_dict)"
      ],
      "execution_count": null,
      "outputs": []
    },
    {
      "cell_type": "code",
      "metadata": {
        "id": "g2KyXEuVD3kf"
      },
      "source": [
        "train['tags_id'] = train['tags'].map(lambda x: [tag_id_tid.get(t) for t in x if tag_id_tid.get(t) != None])"
      ],
      "execution_count": null,
      "outputs": []
    },
    {
      "cell_type": "code",
      "metadata": {
        "id": "Hem12UqdD3kh"
      },
      "source": [
        "# song genre 내용 가져오기. \n",
        "song_cate = []\n",
        "\n",
        "for i in range(len(train)):\n",
        "    gnr = [] \n",
        "    songs = train.iloc[i,3]\n",
        "    \n",
        "    for j in songs:\n",
        "        for k in song.iloc[j,0]:\n",
        "            gnr.append(k)\n",
        "    song_cate.append(gnr)\n",
        "    \n",
        "    \n",
        "train['plylst_genre'] = song_cate"
      ],
      "execution_count": null,
      "outputs": []
    },
    {
      "cell_type": "code",
      "metadata": {
        "id": "8Im4MvWPD3kk"
      },
      "source": [
        "plylst_genre = train['plylst_genre']\n",
        "genre_counter = Counter([gen for genre in plylst_genre for gen in genre])\n",
        "genre_dict = {x: genre_counter[x] for x in genre_counter}\n",
        "\n",
        "genre_id_tid = dict()\n",
        "genre_tid_id = dict()\n",
        "for i, t in enumerate(genre_dict):\n",
        "    genre_id_tid[t] = i\n",
        "    genre_tid_id[i] = t\n",
        "n_genre = len(genre_dict)\n",
        "train['plylst_genre_id'] = train['plylst_genre'].map(lambda x: [genre_id_tid.get(s) for s in x if genre_id_tid.get(s) != None])"
      ],
      "execution_count": null,
      "outputs": []
    },
    {
      "cell_type": "code",
      "metadata": {
        "id": "pY1SAuzAD3kn",
        "colab": {
          "base_uri": "https://localhost:8080/",
          "height": 244
        },
        "outputId": "75d9cc14-672e-48e0-c68b-bf12bb4d8d69"
      },
      "source": [
        "gnr_array = np.zeros((len(train),n_genre))\n",
        "for i,index in enumerate(train.index):\n",
        "    if i%10000 == 0:\n",
        "        print(i)\n",
        "    counter = Counter(train.loc[index]['plylst_genre_id'])\n",
        "    for (k,c) in counter.items():\n",
        "        gnr_array[i][k] = c\n",
        "gnr_array.shape"
      ],
      "execution_count": null,
      "outputs": [
        {
          "output_type": "stream",
          "text": [
            "0\n",
            "10000\n",
            "20000\n",
            "30000\n",
            "40000\n",
            "50000\n",
            "60000\n",
            "70000\n",
            "80000\n",
            "90000\n",
            "100000\n",
            "110000\n"
          ],
          "name": "stdout"
        },
        {
          "output_type": "execute_result",
          "data": {
            "text/plain": [
              "(115071, 219)"
            ]
          },
          "metadata": {
            "tags": []
          },
          "execution_count": 55
        }
      ]
    },
    {
      "cell_type": "code",
      "metadata": {
        "id": "Jg8h9HfyXYZA",
        "colab": {
          "base_uri": "https://localhost:8080/",
          "height": 34
        },
        "outputId": "3aa74a38-255c-4ef1-9216-dd97201cca70"
      },
      "source": [
        "train['num_songs'].sum()"
      ],
      "execution_count": null,
      "outputs": [
        {
          "output_type": "execute_result",
          "data": {
            "text/plain": [
              "5285871"
            ]
          },
          "metadata": {
            "tags": []
          },
          "execution_count": 92
        }
      ]
    },
    {
      "cell_type": "code",
      "metadata": {
        "id": "PH1AfM-7D3ks",
        "colab": {
          "base_uri": "https://localhost:8080/",
          "height": 247
        },
        "outputId": "60008614-ad2c-4a27-85aa-5db56a111f7f"
      },
      "source": [
        "plylst_use = train[['plylst_title','updt_date','tags_id','songs']]\n",
        "plylst_use.loc[:,'num_songs'] = plylst_use['songs'].map(len)\n",
        "plylst_use.loc[:,'num_tags'] = plylst_use['tags_id'].map(len)"
      ],
      "execution_count": null,
      "outputs": [
        {
          "output_type": "stream",
          "text": [
            "/usr/local/lib/python3.6/dist-packages/pandas/core/indexing.py:845: SettingWithCopyWarning: \n",
            "A value is trying to be set on a copy of a slice from a DataFrame.\n",
            "Try using .loc[row_indexer,col_indexer] = value instead\n",
            "\n",
            "See the caveats in the documentation: https://pandas.pydata.org/pandas-docs/stable/user_guide/indexing.html#returning-a-view-versus-a-copy\n",
            "  self.obj[key] = _infer_fill_value(value)\n",
            "/usr/local/lib/python3.6/dist-packages/pandas/core/indexing.py:966: SettingWithCopyWarning: \n",
            "A value is trying to be set on a copy of a slice from a DataFrame.\n",
            "Try using .loc[row_indexer,col_indexer] = value instead\n",
            "\n",
            "See the caveats in the documentation: https://pandas.pydata.org/pandas-docs/stable/user_guide/indexing.html#returning-a-view-versus-a-copy\n",
            "  self.obj[item] = s\n"
          ],
          "name": "stderr"
        }
      ]
    },
    {
      "cell_type": "code",
      "metadata": {
        "id": "daJhc6muD3kv",
        "colab": {
          "base_uri": "https://localhost:8080/",
          "height": 34
        },
        "outputId": "a691b52d-e183-4a3c-969d-8896131ae136"
      },
      "source": [
        "plylst_train = plylst_use\n",
        "print(\"train data의 shape는 : {}\".format(plylst_train.shape))"
      ],
      "execution_count": null,
      "outputs": [
        {
          "output_type": "stream",
          "text": [
            "train data의 shape는 : (115071, 6)\n"
          ],
          "name": "stdout"
        }
      ]
    },
    {
      "cell_type": "markdown",
      "metadata": {
        "id": "HxD22NddD3ky"
      },
      "source": [
        "# Spare Matrix Making\n",
        "\n",
        "### User- Song / User-Tag / User - Genre / User - Date "
      ]
    },
    {
      "cell_type": "code",
      "metadata": {
        "id": "UHvRPn5LEjwE",
        "colab": {
          "base_uri": "https://localhost:8080/",
          "height": 34
        },
        "outputId": "b9c9a6aa-74f8-4bde-a954-746feb67ef78"
      },
      "source": [
        "!pip install sentencepiece"
      ],
      "execution_count": null,
      "outputs": [
        {
          "output_type": "stream",
          "text": [
            "Requirement already satisfied: sentencepiece in /usr/local/lib/python3.6/dist-packages (0.1.91)\n"
          ],
          "name": "stdout"
        }
      ]
    },
    {
      "cell_type": "code",
      "metadata": {
        "id": "f_g3A3aLD3kz"
      },
      "source": [
        "from sentencepiece import SentencePieceProcessor\n",
        "from sklearn.feature_extraction.text import CountVectorizer\n",
        "\n",
        "sp = SentencePieceProcessor()\n",
        "sp.Load(\"/playlist_title.model\")\n",
        "\n",
        "from sklearn.feature_extraction.text import CountVectorizer\n",
        "cv = CountVectorizer(max_features=2000, tokenizer=sp.encode_as_pieces)\n",
        "# content = train['plylst_title'] + val['plylst_title'] + test['plylst_title'] # train/val/test 추가\n",
        "content = train['plylst_title']\n",
        "tdm = cv.fit_transform(content)\n",
        "\n",
        "title_tdm = tdm.toarray()"
      ],
      "execution_count": null,
      "outputs": []
    },
    {
      "cell_type": "code",
      "metadata": {
        "id": "gy97qL60D3k1"
      },
      "source": [
        "n_train = len(plylst_train)\n",
        "row = np.repeat(range(n_train), plylst_train['num_songs']) # User Index 별 노래 개수만큼 만듦 \n",
        "col = [song for songs in plylst_train['songs'] for song in songs] # Song dic number 추출 \n",
        "dat = np.repeat(1, plylst_train['num_songs'].sum()) # User별 Song이 있는 부분에 1을 넣기위해 1과 전체 노래 개수만큼 만듦\n",
        "train_user_songs_A = spr.csr_matrix((dat, (row, col)), shape=(n_train, n_songs)) # csr_matrix 제작 \n",
        "\n",
        "row = np.repeat(range(n_train), plylst_train['num_tags'])\n",
        "col = [tag for tags in plylst_train['tags_id'] for tag in tags]\n",
        "dat = np.repeat(1, plylst_train['num_tags'].sum())\n",
        "train_user_tags_A = spr.csr_matrix((dat, (row, col)), shape=(n_train, n_tags))"
      ],
      "execution_count": null,
      "outputs": []
    },
    {
      "cell_type": "code",
      "metadata": {
        "id": "suy63DYoXPOM",
        "colab": {
          "base_uri": "https://localhost:8080/",
          "height": 34
        },
        "outputId": "a4c18a79-7f47-4729-dc03-f08b032bce90"
      },
      "source": [
        "len([song for songs in plylst_train['songs'] for song in songs])"
      ],
      "execution_count": null,
      "outputs": [
        {
          "output_type": "execute_result",
          "data": {
            "text/plain": [
              "5285871"
            ]
          },
          "metadata": {
            "tags": []
          },
          "execution_count": 87
        }
      ]
    },
    {
      "cell_type": "code",
      "metadata": {
        "id": "Joa0h2KyD3k4",
        "colab": {
          "base_uri": "https://localhost:8080/",
          "height": 52
        },
        "outputId": "1c437991-b726-4ceb-d3ec-f0228b62bdaf"
      },
      "source": [
        "train_user_songs_A_T = train_user_songs_A.T.tocsr() \n",
        "train_user_songs_A_T # 행에는 노래 columns에는 User 정보 삽입 "
      ],
      "execution_count": null,
      "outputs": [
        {
          "output_type": "execute_result",
          "data": {
            "text/plain": [
              "<707989x115071 sparse matrix of type '<class 'numpy.longlong'>'\n",
              "\twith 5285871 stored elements in Compressed Sparse Row format>"
            ]
          },
          "metadata": {
            "tags": []
          },
          "execution_count": 62
        }
      ]
    },
    {
      "cell_type": "code",
      "metadata": {
        "id": "CpHGrxTTD3k8",
        "colab": {
          "base_uri": "https://localhost:8080/",
          "height": 52
        },
        "outputId": "793040fe-45c1-4d11-b05a-f19deffaa7ea"
      },
      "source": [
        "train_user_tags_A_T = train_user_tags_A.T.tocsr() \n",
        "train_user_tags_A_T # 행에는 Tangs columns에는 User 정보 삽입 "
      ],
      "execution_count": null,
      "outputs": [
        {
          "output_type": "execute_result",
          "data": {
            "text/plain": [
              "<29160x115071 sparse matrix of type '<class 'numpy.longlong'>'\n",
              "\twith 476331 stored elements in Compressed Sparse Row format>"
            ]
          },
          "metadata": {
            "tags": []
          },
          "execution_count": 63
        }
      ]
    },
    {
      "cell_type": "code",
      "metadata": {
        "id": "PtuZpYy0D3k-"
      },
      "source": [
        "# import tensorflow as tf\n",
        "\n",
        "# def like_cnt_def(x):\n",
        "#     if x <1:\n",
        "#         return 0\n",
        "#     elif x<10:\n",
        "#         return 1\n",
        "#     elif x<50:\n",
        "#         return 2\n",
        "#     elif x<100:\n",
        "#         return 3\n",
        "#     elif x<1000:\n",
        "#         return 4\n",
        "#     else:\n",
        "#         return 5\n",
        "# like_ = train['like_cnt'].map(like_cnt_def)\n",
        "# like_cnt = tf.keras.utils.to_categorical(like_, 6)"
      ],
      "execution_count": null,
      "outputs": []
    },
    {
      "cell_type": "markdown",
      "metadata": {
        "id": "CF7-WIoxD3lA"
      },
      "source": [
        "## test Model Define"
      ]
    },
    {
      "cell_type": "code",
      "metadata": {
        "id": "-8EF2ErSD3lD"
      },
      "source": [
        "song_cate = []\n",
        "\n",
        "for i in range(len(val)):\n",
        "    gnr = [] \n",
        "    songs = val.iloc[i,3]\n",
        "    \n",
        "    for j in songs:\n",
        "        for k in song.iloc[j,0]:\n",
        "            gnr.append(k)\n",
        "    song_cate.append(gnr)\n",
        "    \n",
        "val['plylst_genre'] = song_cate"
      ],
      "execution_count": null,
      "outputs": []
    },
    {
      "cell_type": "code",
      "metadata": {
        "id": "FhJ0a8FsD3lG"
      },
      "source": [
        "val['tags_id'] = val['tags'].map(lambda x: [tag_id_tid.get(t) for t in x if tag_id_tid.get(t) != None])\n",
        "val['plylst_genre_id'] = val['plylst_genre'].map(lambda x: [genre_id_tid.get(s) for s in x if genre_id_tid.get(s) != None])\n",
        "val.loc[:,'num_songs'] = val['songs'].map(len)\n",
        "val.loc[:,'num_tags'] = val['tags_id'].map(len)\n",
        "val_title = cv.transform(val['plylst_title']).toarray()"
      ],
      "execution_count": null,
      "outputs": []
    },
    {
      "cell_type": "code",
      "metadata": {
        "id": "dsAPoQOTD3lJ",
        "colab": {
          "base_uri": "https://localhost:8080/",
          "height": 87
        },
        "outputId": "7715d3d5-53d8-4739-f898-7b004be35205"
      },
      "source": [
        "gnr_val = np.zeros((len(val),n_genre))\n",
        "for i,index in enumerate(val.index):\n",
        "    if i%10000 == 0:\n",
        "        print(i)\n",
        "    counter = Counter(val.loc[index]['plylst_genre_id'])\n",
        "    for (k,c) in counter.items():\n",
        "        gnr_val[i][k] = c\n",
        "gnr_val.shape"
      ],
      "execution_count": null,
      "outputs": [
        {
          "output_type": "stream",
          "text": [
            "0\n",
            "10000\n",
            "20000\n"
          ],
          "name": "stdout"
        },
        {
          "output_type": "execute_result",
          "data": {
            "text/plain": [
              "(23015, 219)"
            ]
          },
          "metadata": {
            "tags": []
          },
          "execution_count": 67
        }
      ]
    },
    {
      "cell_type": "code",
      "metadata": {
        "id": "Emtfnb77D3lN"
      },
      "source": [
        "n_val = len(val)\n",
        "row = np.repeat(range(n_val), val['num_songs']) # User Index 별 노래 개수만큼 만듦 \n",
        "col = [song for songs in val['songs'] for song in songs] # Song dic number 추출 \n",
        "dat = np.repeat(1, val['num_songs'].sum()) # User별 Song이 있는 부분에 1을 넣기위해 1과 전체 노래 개수만큼 만듦\n",
        "val_user_songs_A = spr.csr_matrix((dat, (row, col)), shape=(n_val, n_songs)) # csr_matrix 제작 \n",
        "\n",
        "row = np.repeat(range(n_val), val['num_tags'])\n",
        "col = [tag for tags in val['tags_id'] for tag in tags]\n",
        "dat = np.repeat(1, val['num_tags'].sum())\n",
        "val_user_tags_A = spr.csr_matrix((dat, (row, col)), shape=(n_val, n_tags))"
      ],
      "execution_count": null,
      "outputs": []
    },
    {
      "cell_type": "code",
      "metadata": {
        "id": "BorAODEdD3lP"
      },
      "source": [
        "val_user_songs_A_T = val_user_songs_A.T.tocsr()\n",
        "val_user_tags_A_T = val_user_tags_A.T.tocsr()"
      ],
      "execution_count": null,
      "outputs": []
    },
    {
      "cell_type": "markdown",
      "metadata": {
        "id": "5OFM1SZtD3lR"
      },
      "source": [
        "# test"
      ]
    },
    {
      "cell_type": "code",
      "metadata": {
        "id": "Kai64yY0D3lU"
      },
      "source": [
        "song_cate = []\n",
        "\n",
        "for i in range(len(test)):\n",
        "    gnr = [] \n",
        "    songs = test.iloc[i,3]\n",
        "    \n",
        "    for j in songs:\n",
        "        for k in song.iloc[j,0]:\n",
        "            gnr.append(k)\n",
        "    song_cate.append(gnr)\n",
        "    \n",
        "test['plylst_genre'] = song_cate"
      ],
      "execution_count": null,
      "outputs": []
    },
    {
      "cell_type": "code",
      "metadata": {
        "id": "APe3CVN0D3lX",
        "colab": {
          "base_uri": "https://localhost:8080/",
          "height": 69
        },
        "outputId": "06fdd98a-bab4-4f16-9913-e52a1dde7090"
      },
      "source": [
        "test['tags_id'] = test['tags'].map(lambda x: [tag_id_tid.get(t) for t in x if tag_id_tid.get(t) != None])\n",
        "test['plylst_genre_id'] = test['plylst_genre'].map(lambda x: [genre_id_tid.get(s) for s in x if genre_id_tid.get(s) != None])\n",
        "test.loc[:,'num_songs'] = test['songs'].map(len)\n",
        "test.loc[:,'num_tags'] = test['tags_id'].map(len)\n",
        "test_title = cv.transform(test['plylst_title']).toarray()\n",
        "\n",
        "gnr_test = np.zeros((len(test),n_genre))\n",
        "for i,index in enumerate(test.index):\n",
        "    if i%10000 == 0:\n",
        "        print(i)\n",
        "    counter = Counter(test.loc[index]['plylst_genre_id'])\n",
        "    for (k,c) in counter.items():\n",
        "        gnr_test[i][k] = c\n",
        "gnr_test.shape"
      ],
      "execution_count": null,
      "outputs": [
        {
          "output_type": "stream",
          "text": [
            "0\n",
            "10000\n"
          ],
          "name": "stdout"
        },
        {
          "output_type": "execute_result",
          "data": {
            "text/plain": [
              "(10740, 219)"
            ]
          },
          "metadata": {
            "tags": []
          },
          "execution_count": 71
        }
      ]
    },
    {
      "cell_type": "code",
      "metadata": {
        "id": "yDBBUcwtD3la"
      },
      "source": [
        "n_test = len(test)\n",
        "row = np.repeat(range(n_test), test['num_songs']) # User Index 별 노래 개수만큼 만듦 \n",
        "col = [song for songs in test['songs'] for song in songs] # Song dic number 추출 \n",
        "dat = np.repeat(1, test['num_songs'].sum()) # User별 Song이 있는 부분에 1을 넣기위해 1과 전체 노래 개수만큼 만듦\n",
        "test_user_songs_A = spr.csr_matrix((dat, (row, col)), shape=(n_test, n_songs)) # csr_matrix 제작 \n",
        "\n",
        "row = np.repeat(range(n_test), test['num_tags'])\n",
        "col = [tag for tags in test['tags_id'] for tag in tags]\n",
        "dat = np.repeat(1, test['num_tags'].sum())\n",
        "test_user_tags_A = spr.csr_matrix((dat, (row, col)), shape=(n_test, n_tags))\n",
        "\n",
        "test_user_songs_A_T = test_user_songs_A.T.tocsr()\n",
        "test_user_tags_A_T = test_user_tags_A.T.tocsr()"
      ],
      "execution_count": null,
      "outputs": []
    },
    {
      "cell_type": "markdown",
      "metadata": {
        "id": "WD5wG5WfD3lg"
      },
      "source": [
        "### Model 설명\n",
        "* CF를 사용하였음\n",
        "\n",
        "* 이때 valid data에 song 정보가 존재하는 경우 song 활용 유사행렬 구해서 작업 진행 \n",
        "\n",
        "* song 정보가 없고 tag 정보만 존재할 때 tag 정보 활용 유사한 유저 추출 \n",
        "\n",
        "* 둘다 없는 경우 Title 활용하여 유사한 유저 추출 "
      ]
    },
    {
      "cell_type": "code",
      "metadata": {
        "id": "TddwyDWZD3lg"
      },
      "source": [
        "title_gnr = np.concatenate((gnr_array,title_tdm),axis=1)\n",
        "val_title_gnr = np.concatenate((gnr_val,val_title),axis=1)\n",
        "test_title_gnr = np.concatenate((gnr_test,test_title),axis=1)"
      ],
      "execution_count": null,
      "outputs": []
    },
    {
      "cell_type": "code",
      "metadata": {
        "id": "aLMCKvzDD3li"
      },
      "source": [
        "from scipy.sparse import vstack \n",
        "from scipy import sparse\n",
        "\n",
        "title_sp = sparse.csr_matrix(title_tdm)"
      ],
      "execution_count": null,
      "outputs": []
    },
    {
      "cell_type": "code",
      "metadata": {
        "id": "21ZDvpHFD3lk"
      },
      "source": [
        "title_gnr = sparse.csr_matrix(title_gnr)\n",
        "val_title_gnr = sparse.csr_matrix(val_title_gnr)\n",
        "test_title_gnr = sparse.csr_matrix(test_title_gnr)"
      ],
      "execution_count": null,
      "outputs": []
    },
    {
      "cell_type": "code",
      "metadata": {
        "id": "NvzdO9nmHMXu"
      },
      "source": [
        "title_gnr = vstack([title_gnr,val_title_gnr,test_title_gnr])\n",
        "song_sp = vstack([train_user_songs_A,val_user_songs_A,test_user_songs_A])\n",
        "tag_sp = vstack([train_user_tags_A,val_user_tags_A,test_user_tags_A])"
      ],
      "execution_count": null,
      "outputs": []
    },
    {
      "cell_type": "code",
      "metadata": {
        "id": "944YOMhrIBvG"
      },
      "source": [
        "song_sp_T = song_sp.T.tocsr()\n",
        "tag_sp_T = tag_sp.T.tocsr()"
      ],
      "execution_count": null,
      "outputs": []
    },
    {
      "cell_type": "code",
      "metadata": {
        "id": "2KENsJ45D3ln"
      },
      "source": [
        "from sklearn.neighbors import NearestNeighbors\n",
        "model_knn_song = NearestNeighbors(metric='cosine', algorithm='brute', n_neighbors=25, n_jobs=-1)\n",
        "model_knn_tag = NearestNeighbors(metric='cosine', algorithm='brute', n_neighbors=25, n_jobs=-1)\n",
        "model_knn_title = NearestNeighbors(metric='cosine', algorithm='brute', n_neighbors=25, n_jobs=-1)\n",
        "model_knn_title_gnr = NearestNeighbors(metric='cosine', algorithm='brute', n_neighbors=25, n_jobs=-1)"
      ],
      "execution_count": null,
      "outputs": []
    },
    {
      "cell_type": "code",
      "metadata": {
        "id": "QrFIE5WhD3lp",
        "colab": {
          "base_uri": "https://localhost:8080/",
          "height": 69
        },
        "outputId": "4ffd154f-b6c0-4df3-b89e-09e24e69006a"
      },
      "source": [
        "model_knn_song.fit(song_sp)\n",
        "model_knn_tag.fit(tag_sp)\n",
        "model_knn_title.fit(title_sp)\n",
        "model_knn_title_gnr.fit(title_gnr)"
      ],
      "execution_count": null,
      "outputs": [
        {
          "output_type": "execute_result",
          "data": {
            "text/plain": [
              "NearestNeighbors(algorithm='brute', leaf_size=30, metric='cosine',\n",
              "                 metric_params=None, n_jobs=-1, n_neighbors=25, p=2,\n",
              "                 radius=1.0)"
            ]
          },
          "metadata": {
            "tags": []
          },
          "execution_count": 79
        }
      ]
    },
    {
      "cell_type": "code",
      "metadata": {
        "id": "gYTzCpa2D3lu"
      },
      "source": [
        "from sklearn.metrics.pairwise import cosine_similarity"
      ],
      "execution_count": null,
      "outputs": []
    },
    {
      "cell_type": "code",
      "metadata": {
        "id": "hcz2y3SGD3lw"
      },
      "source": [
        "train.loc[:,'num_songs'] = train['songs'].map(len)\n",
        "train.loc[:,'num_tags'] = train['tags_id'].map(len)"
      ],
      "execution_count": null,
      "outputs": []
    },
    {
      "cell_type": "code",
      "metadata": {
        "id": "PNLXSZm0JN4m"
      },
      "source": [
        "data_all = pd.concat([train,val,test])"
      ],
      "execution_count": null,
      "outputs": []
    },
    {
      "cell_type": "code",
      "metadata": {
        "id": "5No5PG-wJZhX"
      },
      "source": [
        "data_all.index = range(len(data_all))"
      ],
      "execution_count": null,
      "outputs": []
    },
    {
      "cell_type": "code",
      "metadata": {
        "id": "BmZPniIRD3ly",
        "colab": {
          "base_uri": "https://localhost:8080/",
          "height": 469,
          "referenced_widgets": [
            "34e53970098d44ebb1e5a4fb268fa3e3",
            "055c51cc28b3491fbcc101ff82c5f0aa",
            "4c69fc11fb8d410ab51338ef0bff13e6",
            "46fd7b6b3e384e5da32cb1e0b2efb2c5",
            "d624ef9d396e4ab7bcbb25b22a8e5a60",
            "c112b4d847034688837ba6bdc90fcfb8",
            "6f7d0bbfd3c048ce94e15ab75d7aaa19",
            "0d5ca0a73d3444e5a89c786bea9d08b8"
          ]
        },
        "outputId": "819b0b9d-7912-496e-ea64-0f06c17a4db6"
      },
      "source": [
        "from tqdm import tqdm_notebook\n",
        "res = []\n",
        "for i in tqdm_notebook(range(len(val))):\n",
        "    data = val.iloc[i]\n",
        "    pid = i\n",
        "    \n",
        "    if len(data['songs']) != 0 and len(data['tags_id']) != 0:\n",
        "        p = np.zeros((707989,1))\n",
        "        p[data['songs']] = 1\n",
        "\n",
        "        pp = np.zeros((n_tags,1))\n",
        "        pp[data['tags_id']] = 1\n",
        "\n",
        "        tra_song = data_all.iloc[model_knn_song.kneighbors(p.T)[1][0]]   \n",
        "        row = np.repeat(range(25), tra_song['num_songs']) # User Index 별 노래 개수만큼 만듦 \n",
        "        col = [song for songs in tra_song['songs'] for song in songs] # Song dic number 추출 \n",
        "        dat = np.repeat(1, tra_song['num_songs'].sum()) # User별 Song이 있는 부분에 1을 넣기위해 1과 전체 노래 개수만큼 만듦\n",
        "        tra_song_sp = spr.csr_matrix((dat, (row, col)), shape=(25, n_songs)) # csr_matrix 제작 \n",
        "        tra_song_sp_T = tra_song_sp.T.tocsr()\n",
        "        \n",
        "        tra_tag = data_all.iloc[model_knn_tag.kneighbors(pp.T)[1][0]]\n",
        "        row = np.repeat(range(25), tra_tag['num_tags'])\n",
        "        col = [tag for tags in tra_tag['tags_id'] for tag in tags]\n",
        "        dat = np.repeat(1, tra_tag['num_tags'].sum())\n",
        "        tra_tag_sp = spr.csr_matrix((dat, (row, col)), shape=(25, n_tags))\n",
        "        tra_tag_sp_T = tra_tag_sp.T.tocsr()\n",
        "        \n",
        "        tra_title_gnr = title_gnr[model_knn_title_gnr.kneighbors(val_title_gnr[i:(i+1)])[1][0]]\n",
        "        \n",
        "        songs_already = data[\"songs\"] \n",
        "        tags_already = data[\"tags_id\"]\n",
        "        \n",
        "        val_song = cosine_similarity(tra_song_sp,p.T)\n",
        "        val_tag = cosine_similarity(tra_tag_sp,pp.T)\n",
        "        val_title_genre = cosine_similarity(tra_title_gnr,val_title_gnr[i:(i+1)])\n",
        "        \n",
        "        m = 2*(val_song.max())\n",
        "        vali = (val_song/m) * val_tag * val_title_genre\n",
        "        \n",
        "        cand_song = tra_song_sp_T.dot(vali) # 행에는 노래 열에는 유저 정보 %*% 유사한 유저 -> 유사한 노래에 대하여 높은 값 나옴 \n",
        "        cand_song_idx = cand_song.reshape(-1).argsort()[-300:][::-1] # 값이 높은 상위 150개 노래 추출 \n",
        "\n",
        "        cand_song_idx = cand_song_idx[np.isin(cand_song_idx, songs_already) == False][:100]  # 중복되는 노래 있는지 확인하고 100개 추출 \n",
        "\n",
        "        cand_tag = tra_tag_sp_T.dot(vali) # 똑같은 작업 실시 \n",
        "        cand_tag_idx = cand_tag.reshape(-1).argsort()[-30:][::-1]\n",
        "\n",
        "        cand_tag_idx = cand_tag_idx[np.isin(cand_tag_idx, tags_already) == False][:10]\n",
        "        rec_tag_idx = [tag_tid_id[i] for i in cand_tag_idx]\n",
        "        \n",
        "        res.append({\n",
        "                    \"id\": val.loc[pid,'id'],\n",
        "                    \"songs\": cand_song_idx,\n",
        "                    \"tags\": rec_tag_idx\n",
        "                        })\n",
        "    \n",
        "    # song만 있을 때\n",
        "    elif len(data['songs']) != 0:\n",
        "        p = np.zeros((707989,1))\n",
        "        p[data['songs']] = 1\n",
        "        \n",
        "        tra_song = data_all.iloc[model_knn_song.kneighbors(p.T)[1][0]]   \n",
        "        row = np.repeat(range(25), tra_song['num_songs']) # User Index 별 노래 개수만큼 만듦 \n",
        "        col = [song for songs in tra_song['songs'] for song in songs] # Song dic number 추출 \n",
        "        dat = np.repeat(1, tra_song['num_songs'].sum()) # User별 Song이 있는 부분에 1을 넣기위해 1과 전체 노래 개수만큼 만듦\n",
        "        tra_song_sp = spr.csr_matrix((dat, (row, col)), shape=(25, n_songs)) # csr_matrix 제작 \n",
        "        tra_song_sp_T = tra_song_sp.T.tocsr()\n",
        "        \n",
        "        row = np.repeat(range(25), tra_song['num_tags'])\n",
        "        col = [tag for tags in tra_song['tags_id'] for tag in tags]\n",
        "        dat = np.repeat(1, tra_song['num_tags'].sum())\n",
        "        tra_tag_sp = spr.csr_matrix((dat, (row, col)), shape=(25, n_tags))\n",
        "        tra_tag_sp_T = tra_tag_sp.T.tocsr()\n",
        "        \n",
        "        songs_already = data[\"songs\"] \n",
        "        tags_already = data[\"tags_id\"]\n",
        "        \n",
        "        tra_title_gnr = title_gnr[model_knn_title_gnr.kneighbors(val_title_gnr[i:(i+1)])[1][0]]\n",
        "        \n",
        "        val_song = cosine_similarity(tra_song_sp,p.T)\n",
        "        val_title_genre = cosine_similarity(tra_title_gnr,val_title_gnr[i:(i+1)])\n",
        "\n",
        "        vali = val_song*val_title_genre\n",
        "        \n",
        "        cand_song = tra_song_sp_T.dot(vali) # 행에는 노래 열에는 유저 정보 %*% 유사한 유저 -> 유사한 노래에 대하여 높은 값 나옴 \n",
        "        cand_song_idx = cand_song.reshape(-1).argsort()[-200:][::-1] # 값이 높은 상위 150개 노래 추출 \n",
        "\n",
        "        cand_song_idx = cand_song_idx[np.isin(cand_song_idx, songs_already) == False][:100]  # 중복되는 노래 있는지 확인하고 100개 추출 \n",
        "\n",
        "        cand_tag = tra_tag_sp_T.dot(vali) # 똑같은 작업 실시 \n",
        "        cand_tag_idx = cand_tag.reshape(-1).argsort()[-30:][::-1]\n",
        "\n",
        "        cand_tag_idx = cand_tag_idx[np.isin(cand_tag_idx, tags_already) == False][:10]\n",
        "        rec_tag_idx = [tag_tid_id[i] for i in cand_tag_idx]\n",
        "        \n",
        "        res.append({\n",
        "                    \"id\": val.loc[pid,'id'],\n",
        "                    \"songs\": cand_song_idx,\n",
        "                    \"tags\": rec_tag_idx\n",
        "                    })\n",
        "        \n",
        "    # tag만 있을 때    \n",
        "    elif len(data['tags_id']) !=0:\n",
        "        p = np.zeros((n_tags,1))\n",
        "        p[data['tags_id']] = 1\n",
        "        \n",
        "        tra_tag = data_all.iloc[model_knn_tag.kneighbors(p.T)[1][0]]   \n",
        "        row = np.repeat(range(25), tra_tag['num_songs']) # User Index 별 노래 개수만큼 만듦 \n",
        "        col = [song for songs in tra_tag['songs'] for song in songs] # Song dic number 추출 \n",
        "        dat = np.repeat(1, tra_tag['num_songs'].sum()) # User별 Song이 있는 부분에 1을 넣기위해 1과 전체 노래 개수만큼 만듦\n",
        "        tra_song_sp = spr.csr_matrix((dat, (row, col)), shape=(25, n_songs)) # csr_matrix 제작 \n",
        "        tra_song_sp_T = tra_song_sp.T.tocsr()\n",
        "        \n",
        "        row = np.repeat(range(25), tra_tag['num_tags'])\n",
        "        col = [tag for tags in tra_tag['tags_id'] for tag in tags]\n",
        "        dat = np.repeat(1, tra_tag['num_tags'].sum())\n",
        "        tra_tag_sp = spr.csr_matrix((dat, (row, col)), shape=(25, n_tags))\n",
        "        tra_tag_sp_T = tra_tag_sp.T.tocsr()\n",
        "        \n",
        "        \n",
        "        songs_already = data[\"songs\"] \n",
        "        tags_already = data[\"tags_id\"]\n",
        "        \n",
        "        vali = cosine_similarity(tra_tag_sp,pp.T)\n",
        "        \n",
        "        if len(data['plylst_title']) != 0 :\n",
        "            tra_title_gnr = title_tdm[model_knn_title.kneighbors(val_title[i:(i+1)])[1][0]]\n",
        "            vali_title = cosine_similarity(tra_title_gnr,val_title[i:(i+1)])\n",
        "            vali = vali * vali_title\n",
        "                \n",
        "        cand_song = tra_song_sp_T.dot(vali) # 행에는 노래 열에는 유저 정보 %*% 유사한 유저 -> 유사한 노래에 대하여 높은 값 나옴 \n",
        "        cand_song_idx = cand_song.reshape(-1).argsort()[-300:][::-1] # 값이 높은 상위 150개 노래 추출 \n",
        "\n",
        "        cand_song_idx = cand_song_idx[np.isin(cand_song_idx, songs_already) == False][:100]  # 중복되는 노래 있는지 확인하고 100개 추출 \n",
        "\n",
        "        cand_tag = tra_tag_sp_T.dot(vali) # 똑같은 작업 실시 \n",
        "        cand_tag_idx = cand_tag.reshape(-1).argsort()[-30:][::-1]\n",
        "\n",
        "        cand_tag_idx = cand_tag_idx[np.isin(cand_tag_idx, tags_already) == False][:10]\n",
        "        rec_tag_idx = [tag_tid_id[i] for i in cand_tag_idx]\n",
        "\n",
        "        res.append({\n",
        "                    \"id\": val.loc[pid,'id'],\n",
        "                    \"songs\": cand_song_idx,\n",
        "                    \"tags\": rec_tag_idx\n",
        "                    })\n",
        "        \n",
        "    else:\n",
        "        cand_song = []\n",
        "        for li in train.iloc[model_knn_title.kneighbors(val_title[i:(i+1)])[1][0]].songs.to_list():\n",
        "            for j in li:\n",
        "                cand_song.append(j)\n",
        "                \n",
        "        cand_tag = []\n",
        "        for li in train.iloc[model_knn_title.kneighbors(val_title[i:(i+1)])[1][0]].tags.to_list():\n",
        "            for j in li:\n",
        "                cand_tag.append(j)\n",
        "        \n",
        "        cand_song_idx = list(pd.DataFrame(cand_song)[0].value_counts()[:100].index)\n",
        "        rec_tag_idx = list(pd.DataFrame(cand_tag)[0].value_counts()[:10].index)\n",
        "\n",
        "        res.append({\n",
        "                    \"id\": val.loc[pid,'id'],\n",
        "                    \"songs\": cand_song_idx,\n",
        "                    \"tags\": rec_tag_idx\n",
        "                    })\n",
        "\n",
        "for i in range(len(res)):\n",
        "    if len(res[i]['songs']) != 100:\n",
        "        print('song 에서 {}번째 오류 발생'.format(i))\n",
        "        \n",
        "    if len(res[i]['tags']) != 10:\n",
        "        print('tag 에서 {}번째 오류 발생'.format(i))\n",
        "\n",
        "import io\n",
        "import os\n",
        "\n",
        "def write_json(data, fname):\n",
        "    def _conv(o):\n",
        "        if isinstance(o, (np.int64, np.int32)):\n",
        "            return int(o)\n",
        "        raise TypeError\n",
        "\n",
        "    parent = os.path.dirname(fname)\n",
        "    with io.open(fname, \"w\", encoding=\"utf-8\") as f:\n",
        "        json_str = json.dumps(data, ensure_ascii=False, default=_conv)\n",
        "        f.write(json_str)\n",
        "\n",
        "rec = []\n",
        "for i in range(len(res)):\n",
        "    rec.append({\n",
        "                    \"id\": res[i]['id'],\n",
        "                    \"songs\": list(res[i]['songs']),\n",
        "                    \"tags\": res[i]['tags']\n",
        "                    })\n",
        "    \n",
        "write_json(rec, \"/content/gdrive/My Drive/Colab Notebooks/머신/2323_results.json\")"
      ],
      "execution_count": null,
      "outputs": [
        {
          "output_type": "stream",
          "text": [
            "/usr/local/lib/python3.6/dist-packages/ipykernel_launcher.py:3: TqdmDeprecationWarning: This function will be removed in tqdm==5.0.0\n",
            "Please use `tqdm.notebook.tqdm` instead of `tqdm.tqdm_notebook`\n",
            "  This is separate from the ipykernel package so we can avoid doing imports until\n"
          ],
          "name": "stderr"
        },
        {
          "output_type": "display_data",
          "data": {
            "application/vnd.jupyter.widget-view+json": {
              "model_id": "34e53970098d44ebb1e5a4fb268fa3e3",
              "version_minor": 0,
              "version_major": 2
            },
            "text/plain": [
              "HBox(children=(FloatProgress(value=0.0, max=23015.0), HTML(value='')))"
            ]
          },
          "metadata": {
            "tags": []
          }
        },
        {
          "output_type": "error",
          "ename": "KeyboardInterrupt",
          "evalue": "ignored",
          "traceback": [
            "\u001b[0;31m---------------------------------------------------------------------------\u001b[0m",
            "\u001b[0;31mKeyboardInterrupt\u001b[0m                         Traceback (most recent call last)",
            "\u001b[0;32m<ipython-input-84-79865ba4fbc7>\u001b[0m in \u001b[0;36m<module>\u001b[0;34m()\u001b[0m\n\u001b[1;32m     76\u001b[0m         \u001b[0mtags_already\u001b[0m \u001b[0;34m=\u001b[0m \u001b[0mdata\u001b[0m\u001b[0;34m[\u001b[0m\u001b[0;34m\"tags_id\"\u001b[0m\u001b[0;34m]\u001b[0m\u001b[0;34m\u001b[0m\u001b[0;34m\u001b[0m\u001b[0m\n\u001b[1;32m     77\u001b[0m \u001b[0;34m\u001b[0m\u001b[0m\n\u001b[0;32m---> 78\u001b[0;31m         \u001b[0mtra_title_gnr\u001b[0m \u001b[0;34m=\u001b[0m \u001b[0mtitle_gnr\u001b[0m\u001b[0;34m[\u001b[0m\u001b[0mmodel_knn_title_gnr\u001b[0m\u001b[0;34m.\u001b[0m\u001b[0mkneighbors\u001b[0m\u001b[0;34m(\u001b[0m\u001b[0mval_title_gnr\u001b[0m\u001b[0;34m[\u001b[0m\u001b[0mi\u001b[0m\u001b[0;34m:\u001b[0m\u001b[0;34m(\u001b[0m\u001b[0mi\u001b[0m\u001b[0;34m+\u001b[0m\u001b[0;36m1\u001b[0m\u001b[0;34m)\u001b[0m\u001b[0;34m]\u001b[0m\u001b[0;34m)\u001b[0m\u001b[0;34m[\u001b[0m\u001b[0;36m1\u001b[0m\u001b[0;34m]\u001b[0m\u001b[0;34m[\u001b[0m\u001b[0;36m0\u001b[0m\u001b[0;34m]\u001b[0m\u001b[0;34m]\u001b[0m\u001b[0;34m\u001b[0m\u001b[0;34m\u001b[0m\u001b[0m\n\u001b[0m\u001b[1;32m     79\u001b[0m \u001b[0;34m\u001b[0m\u001b[0m\n\u001b[1;32m     80\u001b[0m         \u001b[0mval_song\u001b[0m \u001b[0;34m=\u001b[0m \u001b[0mcosine_similarity\u001b[0m\u001b[0;34m(\u001b[0m\u001b[0mtra_song_sp\u001b[0m\u001b[0;34m,\u001b[0m\u001b[0mp\u001b[0m\u001b[0;34m.\u001b[0m\u001b[0mT\u001b[0m\u001b[0;34m)\u001b[0m\u001b[0;34m\u001b[0m\u001b[0;34m\u001b[0m\u001b[0m\n",
            "\u001b[0;32m/usr/local/lib/python3.6/dist-packages/sklearn/neighbors/_base.py\u001b[0m in \u001b[0;36mkneighbors\u001b[0;34m(self, X, n_neighbors, return_distance)\u001b[0m\n\u001b[1;32m    641\u001b[0m                 \u001b[0mX\u001b[0m\u001b[0;34m,\u001b[0m \u001b[0mself\u001b[0m\u001b[0;34m.\u001b[0m\u001b[0m_fit_X\u001b[0m\u001b[0;34m,\u001b[0m \u001b[0mreduce_func\u001b[0m\u001b[0;34m=\u001b[0m\u001b[0mreduce_func\u001b[0m\u001b[0;34m,\u001b[0m\u001b[0;34m\u001b[0m\u001b[0;34m\u001b[0m\u001b[0m\n\u001b[1;32m    642\u001b[0m                 \u001b[0mmetric\u001b[0m\u001b[0;34m=\u001b[0m\u001b[0mself\u001b[0m\u001b[0;34m.\u001b[0m\u001b[0meffective_metric_\u001b[0m\u001b[0;34m,\u001b[0m \u001b[0mn_jobs\u001b[0m\u001b[0;34m=\u001b[0m\u001b[0mn_jobs\u001b[0m\u001b[0;34m,\u001b[0m\u001b[0;34m\u001b[0m\u001b[0;34m\u001b[0m\u001b[0m\n\u001b[0;32m--> 643\u001b[0;31m                 **kwds))\n\u001b[0m\u001b[1;32m    644\u001b[0m \u001b[0;34m\u001b[0m\u001b[0m\n\u001b[1;32m    645\u001b[0m         \u001b[0;32melif\u001b[0m \u001b[0mself\u001b[0m\u001b[0;34m.\u001b[0m\u001b[0m_fit_method\u001b[0m \u001b[0;32min\u001b[0m \u001b[0;34m[\u001b[0m\u001b[0;34m'ball_tree'\u001b[0m\u001b[0;34m,\u001b[0m \u001b[0;34m'kd_tree'\u001b[0m\u001b[0;34m]\u001b[0m\u001b[0;34m:\u001b[0m\u001b[0;34m\u001b[0m\u001b[0;34m\u001b[0m\u001b[0m\n",
            "\u001b[0;32m/usr/local/lib/python3.6/dist-packages/sklearn/metrics/pairwise.py\u001b[0m in \u001b[0;36mpairwise_distances_chunked\u001b[0;34m(X, Y, reduce_func, metric, n_jobs, working_memory, **kwds)\u001b[0m\n\u001b[1;32m   1593\u001b[0m             \u001b[0mX_chunk\u001b[0m \u001b[0;34m=\u001b[0m \u001b[0mX\u001b[0m\u001b[0;34m[\u001b[0m\u001b[0msl\u001b[0m\u001b[0;34m]\u001b[0m\u001b[0;34m\u001b[0m\u001b[0;34m\u001b[0m\u001b[0m\n\u001b[1;32m   1594\u001b[0m         D_chunk = pairwise_distances(X_chunk, Y, metric=metric,\n\u001b[0;32m-> 1595\u001b[0;31m                                      n_jobs=n_jobs, **kwds)\n\u001b[0m\u001b[1;32m   1596\u001b[0m         if ((X is Y or Y is None)\n\u001b[1;32m   1597\u001b[0m                 \u001b[0;32mand\u001b[0m \u001b[0mPAIRWISE_DISTANCE_FUNCTIONS\u001b[0m\u001b[0;34m.\u001b[0m\u001b[0mget\u001b[0m\u001b[0;34m(\u001b[0m\u001b[0mmetric\u001b[0m\u001b[0;34m,\u001b[0m \u001b[0;32mNone\u001b[0m\u001b[0;34m)\u001b[0m\u001b[0;34m\u001b[0m\u001b[0;34m\u001b[0m\u001b[0m\n",
            "\u001b[0;32m/usr/local/lib/python3.6/dist-packages/sklearn/metrics/pairwise.py\u001b[0m in \u001b[0;36mpairwise_distances\u001b[0;34m(X, Y, metric, n_jobs, force_all_finite, **kwds)\u001b[0m\n\u001b[1;32m   1750\u001b[0m         \u001b[0mfunc\u001b[0m \u001b[0;34m=\u001b[0m \u001b[0mpartial\u001b[0m\u001b[0;34m(\u001b[0m\u001b[0mdistance\u001b[0m\u001b[0;34m.\u001b[0m\u001b[0mcdist\u001b[0m\u001b[0;34m,\u001b[0m \u001b[0mmetric\u001b[0m\u001b[0;34m=\u001b[0m\u001b[0mmetric\u001b[0m\u001b[0;34m,\u001b[0m \u001b[0;34m**\u001b[0m\u001b[0mkwds\u001b[0m\u001b[0;34m)\u001b[0m\u001b[0;34m\u001b[0m\u001b[0;34m\u001b[0m\u001b[0m\n\u001b[1;32m   1751\u001b[0m \u001b[0;34m\u001b[0m\u001b[0m\n\u001b[0;32m-> 1752\u001b[0;31m     \u001b[0;32mreturn\u001b[0m \u001b[0m_parallel_pairwise\u001b[0m\u001b[0;34m(\u001b[0m\u001b[0mX\u001b[0m\u001b[0;34m,\u001b[0m \u001b[0mY\u001b[0m\u001b[0;34m,\u001b[0m \u001b[0mfunc\u001b[0m\u001b[0;34m,\u001b[0m \u001b[0mn_jobs\u001b[0m\u001b[0;34m,\u001b[0m \u001b[0;34m**\u001b[0m\u001b[0mkwds\u001b[0m\u001b[0;34m)\u001b[0m\u001b[0;34m\u001b[0m\u001b[0;34m\u001b[0m\u001b[0m\n\u001b[0m\u001b[1;32m   1753\u001b[0m \u001b[0;34m\u001b[0m\u001b[0m\n\u001b[1;32m   1754\u001b[0m \u001b[0;34m\u001b[0m\u001b[0m\n",
            "\u001b[0;32m/usr/local/lib/python3.6/dist-packages/sklearn/metrics/pairwise.py\u001b[0m in \u001b[0;36m_parallel_pairwise\u001b[0;34m(X, Y, func, n_jobs, **kwds)\u001b[0m\n\u001b[1;32m   1353\u001b[0m     Parallel(backend=\"threading\", n_jobs=n_jobs)(\n\u001b[1;32m   1354\u001b[0m         \u001b[0mfd\u001b[0m\u001b[0;34m(\u001b[0m\u001b[0mfunc\u001b[0m\u001b[0;34m,\u001b[0m \u001b[0mret\u001b[0m\u001b[0;34m,\u001b[0m \u001b[0ms\u001b[0m\u001b[0;34m,\u001b[0m \u001b[0mX\u001b[0m\u001b[0;34m,\u001b[0m \u001b[0mY\u001b[0m\u001b[0;34m[\u001b[0m\u001b[0ms\u001b[0m\u001b[0;34m]\u001b[0m\u001b[0;34m,\u001b[0m \u001b[0;34m**\u001b[0m\u001b[0mkwds\u001b[0m\u001b[0;34m)\u001b[0m\u001b[0;34m\u001b[0m\u001b[0;34m\u001b[0m\u001b[0m\n\u001b[0;32m-> 1355\u001b[0;31m         for s in gen_even_slices(_num_samples(Y), effective_n_jobs(n_jobs)))\n\u001b[0m\u001b[1;32m   1356\u001b[0m \u001b[0;34m\u001b[0m\u001b[0m\n\u001b[1;32m   1357\u001b[0m     \u001b[0;32mif\u001b[0m \u001b[0;34m(\u001b[0m\u001b[0mX\u001b[0m \u001b[0;32mis\u001b[0m \u001b[0mY\u001b[0m \u001b[0;32mor\u001b[0m \u001b[0mY\u001b[0m \u001b[0;32mis\u001b[0m \u001b[0;32mNone\u001b[0m\u001b[0;34m)\u001b[0m \u001b[0;32mand\u001b[0m \u001b[0mfunc\u001b[0m \u001b[0;32mis\u001b[0m \u001b[0meuclidean_distances\u001b[0m\u001b[0;34m:\u001b[0m\u001b[0;34m\u001b[0m\u001b[0;34m\u001b[0m\u001b[0m\n",
            "\u001b[0;32m/usr/local/lib/python3.6/dist-packages/joblib/parallel.py\u001b[0m in \u001b[0;36m__call__\u001b[0;34m(self, iterable)\u001b[0m\n\u001b[1;32m   1040\u001b[0m \u001b[0;34m\u001b[0m\u001b[0m\n\u001b[1;32m   1041\u001b[0m             \u001b[0;32mwith\u001b[0m \u001b[0mself\u001b[0m\u001b[0;34m.\u001b[0m\u001b[0m_backend\u001b[0m\u001b[0;34m.\u001b[0m\u001b[0mretrieval_context\u001b[0m\u001b[0;34m(\u001b[0m\u001b[0;34m)\u001b[0m\u001b[0;34m:\u001b[0m\u001b[0;34m\u001b[0m\u001b[0;34m\u001b[0m\u001b[0m\n\u001b[0;32m-> 1042\u001b[0;31m                 \u001b[0mself\u001b[0m\u001b[0;34m.\u001b[0m\u001b[0mretrieve\u001b[0m\u001b[0;34m(\u001b[0m\u001b[0;34m)\u001b[0m\u001b[0;34m\u001b[0m\u001b[0;34m\u001b[0m\u001b[0m\n\u001b[0m\u001b[1;32m   1043\u001b[0m             \u001b[0;31m# Make sure that we get a last message telling us we are done\u001b[0m\u001b[0;34m\u001b[0m\u001b[0;34m\u001b[0m\u001b[0;34m\u001b[0m\u001b[0m\n\u001b[1;32m   1044\u001b[0m             \u001b[0melapsed_time\u001b[0m \u001b[0;34m=\u001b[0m \u001b[0mtime\u001b[0m\u001b[0;34m.\u001b[0m\u001b[0mtime\u001b[0m\u001b[0;34m(\u001b[0m\u001b[0;34m)\u001b[0m \u001b[0;34m-\u001b[0m \u001b[0mself\u001b[0m\u001b[0;34m.\u001b[0m\u001b[0m_start_time\u001b[0m\u001b[0;34m\u001b[0m\u001b[0;34m\u001b[0m\u001b[0m\n",
            "\u001b[0;32m/usr/local/lib/python3.6/dist-packages/joblib/parallel.py\u001b[0m in \u001b[0;36mretrieve\u001b[0;34m(self)\u001b[0m\n\u001b[1;32m    919\u001b[0m             \u001b[0;32mtry\u001b[0m\u001b[0;34m:\u001b[0m\u001b[0;34m\u001b[0m\u001b[0;34m\u001b[0m\u001b[0m\n\u001b[1;32m    920\u001b[0m                 \u001b[0;32mif\u001b[0m \u001b[0mgetattr\u001b[0m\u001b[0;34m(\u001b[0m\u001b[0mself\u001b[0m\u001b[0;34m.\u001b[0m\u001b[0m_backend\u001b[0m\u001b[0;34m,\u001b[0m \u001b[0;34m'supports_timeout'\u001b[0m\u001b[0;34m,\u001b[0m \u001b[0;32mFalse\u001b[0m\u001b[0;34m)\u001b[0m\u001b[0;34m:\u001b[0m\u001b[0;34m\u001b[0m\u001b[0;34m\u001b[0m\u001b[0m\n\u001b[0;32m--> 921\u001b[0;31m                     \u001b[0mself\u001b[0m\u001b[0;34m.\u001b[0m\u001b[0m_output\u001b[0m\u001b[0;34m.\u001b[0m\u001b[0mextend\u001b[0m\u001b[0;34m(\u001b[0m\u001b[0mjob\u001b[0m\u001b[0;34m.\u001b[0m\u001b[0mget\u001b[0m\u001b[0;34m(\u001b[0m\u001b[0mtimeout\u001b[0m\u001b[0;34m=\u001b[0m\u001b[0mself\u001b[0m\u001b[0;34m.\u001b[0m\u001b[0mtimeout\u001b[0m\u001b[0;34m)\u001b[0m\u001b[0;34m)\u001b[0m\u001b[0;34m\u001b[0m\u001b[0;34m\u001b[0m\u001b[0m\n\u001b[0m\u001b[1;32m    922\u001b[0m                 \u001b[0;32melse\u001b[0m\u001b[0;34m:\u001b[0m\u001b[0;34m\u001b[0m\u001b[0;34m\u001b[0m\u001b[0m\n\u001b[1;32m    923\u001b[0m                     \u001b[0mself\u001b[0m\u001b[0;34m.\u001b[0m\u001b[0m_output\u001b[0m\u001b[0;34m.\u001b[0m\u001b[0mextend\u001b[0m\u001b[0;34m(\u001b[0m\u001b[0mjob\u001b[0m\u001b[0;34m.\u001b[0m\u001b[0mget\u001b[0m\u001b[0;34m(\u001b[0m\u001b[0;34m)\u001b[0m\u001b[0;34m)\u001b[0m\u001b[0;34m\u001b[0m\u001b[0;34m\u001b[0m\u001b[0m\n",
            "\u001b[0;32m/usr/lib/python3.6/multiprocessing/pool.py\u001b[0m in \u001b[0;36mget\u001b[0;34m(self, timeout)\u001b[0m\n\u001b[1;32m    636\u001b[0m \u001b[0;34m\u001b[0m\u001b[0m\n\u001b[1;32m    637\u001b[0m     \u001b[0;32mdef\u001b[0m \u001b[0mget\u001b[0m\u001b[0;34m(\u001b[0m\u001b[0mself\u001b[0m\u001b[0;34m,\u001b[0m \u001b[0mtimeout\u001b[0m\u001b[0;34m=\u001b[0m\u001b[0;32mNone\u001b[0m\u001b[0;34m)\u001b[0m\u001b[0;34m:\u001b[0m\u001b[0;34m\u001b[0m\u001b[0;34m\u001b[0m\u001b[0m\n\u001b[0;32m--> 638\u001b[0;31m         \u001b[0mself\u001b[0m\u001b[0;34m.\u001b[0m\u001b[0mwait\u001b[0m\u001b[0;34m(\u001b[0m\u001b[0mtimeout\u001b[0m\u001b[0;34m)\u001b[0m\u001b[0;34m\u001b[0m\u001b[0;34m\u001b[0m\u001b[0m\n\u001b[0m\u001b[1;32m    639\u001b[0m         \u001b[0;32mif\u001b[0m \u001b[0;32mnot\u001b[0m \u001b[0mself\u001b[0m\u001b[0;34m.\u001b[0m\u001b[0mready\u001b[0m\u001b[0;34m(\u001b[0m\u001b[0;34m)\u001b[0m\u001b[0;34m:\u001b[0m\u001b[0;34m\u001b[0m\u001b[0;34m\u001b[0m\u001b[0m\n\u001b[1;32m    640\u001b[0m             \u001b[0;32mraise\u001b[0m \u001b[0mTimeoutError\u001b[0m\u001b[0;34m\u001b[0m\u001b[0;34m\u001b[0m\u001b[0m\n",
            "\u001b[0;32m/usr/lib/python3.6/multiprocessing/pool.py\u001b[0m in \u001b[0;36mwait\u001b[0;34m(self, timeout)\u001b[0m\n\u001b[1;32m    633\u001b[0m \u001b[0;34m\u001b[0m\u001b[0m\n\u001b[1;32m    634\u001b[0m     \u001b[0;32mdef\u001b[0m \u001b[0mwait\u001b[0m\u001b[0;34m(\u001b[0m\u001b[0mself\u001b[0m\u001b[0;34m,\u001b[0m \u001b[0mtimeout\u001b[0m\u001b[0;34m=\u001b[0m\u001b[0;32mNone\u001b[0m\u001b[0;34m)\u001b[0m\u001b[0;34m:\u001b[0m\u001b[0;34m\u001b[0m\u001b[0;34m\u001b[0m\u001b[0m\n\u001b[0;32m--> 635\u001b[0;31m         \u001b[0mself\u001b[0m\u001b[0;34m.\u001b[0m\u001b[0m_event\u001b[0m\u001b[0;34m.\u001b[0m\u001b[0mwait\u001b[0m\u001b[0;34m(\u001b[0m\u001b[0mtimeout\u001b[0m\u001b[0;34m)\u001b[0m\u001b[0;34m\u001b[0m\u001b[0;34m\u001b[0m\u001b[0m\n\u001b[0m\u001b[1;32m    636\u001b[0m \u001b[0;34m\u001b[0m\u001b[0m\n\u001b[1;32m    637\u001b[0m     \u001b[0;32mdef\u001b[0m \u001b[0mget\u001b[0m\u001b[0;34m(\u001b[0m\u001b[0mself\u001b[0m\u001b[0;34m,\u001b[0m \u001b[0mtimeout\u001b[0m\u001b[0;34m=\u001b[0m\u001b[0;32mNone\u001b[0m\u001b[0;34m)\u001b[0m\u001b[0;34m:\u001b[0m\u001b[0;34m\u001b[0m\u001b[0;34m\u001b[0m\u001b[0m\n",
            "\u001b[0;32m/usr/lib/python3.6/threading.py\u001b[0m in \u001b[0;36mwait\u001b[0;34m(self, timeout)\u001b[0m\n\u001b[1;32m    549\u001b[0m             \u001b[0msignaled\u001b[0m \u001b[0;34m=\u001b[0m \u001b[0mself\u001b[0m\u001b[0;34m.\u001b[0m\u001b[0m_flag\u001b[0m\u001b[0;34m\u001b[0m\u001b[0;34m\u001b[0m\u001b[0m\n\u001b[1;32m    550\u001b[0m             \u001b[0;32mif\u001b[0m \u001b[0;32mnot\u001b[0m \u001b[0msignaled\u001b[0m\u001b[0;34m:\u001b[0m\u001b[0;34m\u001b[0m\u001b[0;34m\u001b[0m\u001b[0m\n\u001b[0;32m--> 551\u001b[0;31m                 \u001b[0msignaled\u001b[0m \u001b[0;34m=\u001b[0m \u001b[0mself\u001b[0m\u001b[0;34m.\u001b[0m\u001b[0m_cond\u001b[0m\u001b[0;34m.\u001b[0m\u001b[0mwait\u001b[0m\u001b[0;34m(\u001b[0m\u001b[0mtimeout\u001b[0m\u001b[0;34m)\u001b[0m\u001b[0;34m\u001b[0m\u001b[0;34m\u001b[0m\u001b[0m\n\u001b[0m\u001b[1;32m    552\u001b[0m             \u001b[0;32mreturn\u001b[0m \u001b[0msignaled\u001b[0m\u001b[0;34m\u001b[0m\u001b[0;34m\u001b[0m\u001b[0m\n\u001b[1;32m    553\u001b[0m \u001b[0;34m\u001b[0m\u001b[0m\n",
            "\u001b[0;32m/usr/lib/python3.6/threading.py\u001b[0m in \u001b[0;36mwait\u001b[0;34m(self, timeout)\u001b[0m\n\u001b[1;32m    293\u001b[0m         \u001b[0;32mtry\u001b[0m\u001b[0;34m:\u001b[0m    \u001b[0;31m# restore state no matter what (e.g., KeyboardInterrupt)\u001b[0m\u001b[0;34m\u001b[0m\u001b[0;34m\u001b[0m\u001b[0m\n\u001b[1;32m    294\u001b[0m             \u001b[0;32mif\u001b[0m \u001b[0mtimeout\u001b[0m \u001b[0;32mis\u001b[0m \u001b[0;32mNone\u001b[0m\u001b[0;34m:\u001b[0m\u001b[0;34m\u001b[0m\u001b[0;34m\u001b[0m\u001b[0m\n\u001b[0;32m--> 295\u001b[0;31m                 \u001b[0mwaiter\u001b[0m\u001b[0;34m.\u001b[0m\u001b[0macquire\u001b[0m\u001b[0;34m(\u001b[0m\u001b[0;34m)\u001b[0m\u001b[0;34m\u001b[0m\u001b[0;34m\u001b[0m\u001b[0m\n\u001b[0m\u001b[1;32m    296\u001b[0m                 \u001b[0mgotit\u001b[0m \u001b[0;34m=\u001b[0m \u001b[0;32mTrue\u001b[0m\u001b[0;34m\u001b[0m\u001b[0;34m\u001b[0m\u001b[0m\n\u001b[1;32m    297\u001b[0m             \u001b[0;32melse\u001b[0m\u001b[0;34m:\u001b[0m\u001b[0;34m\u001b[0m\u001b[0;34m\u001b[0m\u001b[0m\n",
            "\u001b[0;31mKeyboardInterrupt\u001b[0m: "
          ]
        }
      ]
    },
    {
      "cell_type": "code",
      "metadata": {
        "id": "-zDqLoviLk2v"
      },
      "source": [
        "write_json(rec, \"/content/gdrive/My Drive/Colab Notebooks/머신/it_its_results.json\")"
      ],
      "execution_count": null,
      "outputs": []
    },
    {
      "cell_type": "code",
      "metadata": {
        "id": "vLCHFypCD3l9"
      },
      "source": [
        "hyn = pd.read_json('/content/gdrive/My Drive/Colab Notebooks/머신/it_its_results.json', typ = 'frame',encoding='UTF-8')"
      ],
      "execution_count": null,
      "outputs": []
    },
    {
      "cell_type": "code",
      "metadata": {
        "id": "Ylgi4jI0NYjw"
      },
      "source": [
        ""
      ],
      "execution_count": null,
      "outputs": []
    },
    {
      "cell_type": "code",
      "metadata": {
        "id": "kC-EQRakNYe-"
      },
      "source": [
        ""
      ],
      "execution_count": null,
      "outputs": []
    },
    {
      "cell_type": "code",
      "metadata": {
        "id": "AGV7oU0BNYdS"
      },
      "source": [
        ""
      ],
      "execution_count": null,
      "outputs": []
    },
    {
      "cell_type": "code",
      "metadata": {
        "id": "rJ1ynIwYNYQy"
      },
      "source": [
        ""
      ],
      "execution_count": null,
      "outputs": []
    },
    {
      "cell_type": "code",
      "metadata": {
        "id": "Suu2QcxTNYN6"
      },
      "source": [
        ""
      ],
      "execution_count": null,
      "outputs": []
    }
  ]
}