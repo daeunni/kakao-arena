{
 "cells": [
  {
   "cell_type": "code",
   "execution_count": 1,
   "metadata": {
    "colab": {},
    "colab_type": "code",
    "id": "c_6IeUOJ9FaF"
   },
   "outputs": [],
   "source": [
    "from datetime import timedelta, datetime\n",
    "import glob\n",
    "import json\n",
    "import os\n",
    "import re\n",
    "\n",
    "from collections import Counter\n",
    "\n",
    "import numpy as np\n",
    "import pandas as pd\n",
    "\n",
    "import scipy.sparse as spr\n",
    "import pickle"
   ]
  },
  {
   "cell_type": "code",
   "execution_count": 2,
   "metadata": {
    "colab": {
     "base_uri": "https://localhost:8080/",
     "height": 34
    },
    "colab_type": "code",
    "id": "braza3Et-B0f",
    "outputId": "c44fc145-0169-409b-ebc1-a322b239ea8a"
   },
   "outputs": [],
   "source": [
    "# from google.colab import drive\n",
    "# drive.mount('/content/gdrive/')"
   ]
  },
  {
   "cell_type": "code",
   "execution_count": 3,
   "metadata": {
    "colab": {
     "base_uri": "https://localhost:8080/",
     "height": 367
    },
    "colab_type": "code",
    "id": "Xh6UFCJM9s0D",
    "outputId": "356ec32f-042a-4451-a394-2f65a55f9aa6"
   },
   "outputs": [],
   "source": [
    "# 태그는 이걸로\n",
    "kihong = pd.read_json('results_best_0724tag.json', typ = 'frame',encoding='UTF-8')\n",
    "# song은 이걸로\n",
    "hyn = pd.read_json('adds_base50.json', typ = 'frame',encoding='UTF-8')"
   ]
  },
  {
   "cell_type": "code",
   "execution_count": 4,
   "metadata": {},
   "outputs": [
    {
     "data": {
      "text/html": [
       "<div>\n",
       "<style scoped>\n",
       "    .dataframe tbody tr th:only-of-type {\n",
       "        vertical-align: middle;\n",
       "    }\n",
       "\n",
       "    .dataframe tbody tr th {\n",
       "        vertical-align: top;\n",
       "    }\n",
       "\n",
       "    .dataframe thead th {\n",
       "        text-align: right;\n",
       "    }\n",
       "</style>\n",
       "<table border=\"1\" class=\"dataframe\">\n",
       "  <thead>\n",
       "    <tr style=\"text-align: right;\">\n",
       "      <th></th>\n",
       "      <th>id</th>\n",
       "      <th>songs</th>\n",
       "      <th>tags</th>\n",
       "    </tr>\n",
       "  </thead>\n",
       "  <tbody>\n",
       "    <tr>\n",
       "      <th>0</th>\n",
       "      <td>118598</td>\n",
       "      <td>[207912, 623047, 703323, 422438, 638488, 32221...</td>\n",
       "      <td>[OST, 디즈니, 애니메이션, 영화, 추억, 픽사, 기분전환, 인어공주, 겨울왕국...</td>\n",
       "    </tr>\n",
       "    <tr>\n",
       "      <th>1</th>\n",
       "      <td>131447</td>\n",
       "      <td>[366786, 675367, 678294, 660937, 334372, 27799...</td>\n",
       "      <td>[락, 기분전환, 회상, 감성, 추억, 잔잔한, 클럽, 신나는, 힐링, 휴식]</td>\n",
       "    </tr>\n",
       "    <tr>\n",
       "      <th>2</th>\n",
       "      <td>51464</td>\n",
       "      <td>[411161, 230907, 325455, 253755, 600676, 39636...</td>\n",
       "      <td>[발라드, 추억, 회상, 잔잔한, 설렘, 사랑, 밤, 새벽, 이별, 슬픔]</td>\n",
       "    </tr>\n",
       "  </tbody>\n",
       "</table>\n",
       "</div>"
      ],
      "text/plain": [
       "       id                                              songs  \\\n",
       "0  118598  [207912, 623047, 703323, 422438, 638488, 32221...   \n",
       "1  131447  [366786, 675367, 678294, 660937, 334372, 27799...   \n",
       "2   51464  [411161, 230907, 325455, 253755, 600676, 39636...   \n",
       "\n",
       "                                                tags  \n",
       "0  [OST, 디즈니, 애니메이션, 영화, 추억, 픽사, 기분전환, 인어공주, 겨울왕국...  \n",
       "1        [락, 기분전환, 회상, 감성, 추억, 잔잔한, 클럽, 신나는, 힐링, 휴식]  \n",
       "2          [발라드, 추억, 회상, 잔잔한, 설렘, 사랑, 밤, 새벽, 이별, 슬픔]  "
      ]
     },
     "execution_count": 4,
     "metadata": {},
     "output_type": "execute_result"
    }
   ],
   "source": [
    "hyn.head(3)"
   ]
  },
  {
   "cell_type": "code",
   "execution_count": 5,
   "metadata": {
    "colab": {},
    "colab_type": "code",
    "id": "OiNFls6X9ssb"
   },
   "outputs": [],
   "source": [
    "val = pd.read_json('val.json', typ = 'frame',encoding='UTF-8')"
   ]
  },
  {
   "cell_type": "code",
   "execution_count": 6,
   "metadata": {
    "colab": {
     "base_uri": "https://localhost:8080/",
     "height": 34
    },
    "colab_type": "code",
    "id": "G_xHth_BG_AF",
    "outputId": "941355c1-f3db-490d-d798-9db292e92660"
   },
   "outputs": [
    {
     "data": {
      "text/plain": [
       "(23015, 6)"
      ]
     },
     "execution_count": 6,
     "metadata": {},
     "output_type": "execute_result"
    }
   ],
   "source": [
    "val.shape"
   ]
  },
  {
   "cell_type": "code",
   "execution_count": 7,
   "metadata": {
    "colab": {},
    "colab_type": "code",
    "id": "YXtjo3af9soe"
   },
   "outputs": [],
   "source": [
    "# song & song 모두 있는 id 추출\n",
    "val['len_songs'] = val['songs'].apply(len)\n",
    "val['len_tags'] = val['tags'].apply(len)"
   ]
  },
  {
   "cell_type": "code",
   "execution_count": 8,
   "metadata": {
    "colab": {
     "base_uri": "https://localhost:8080/",
     "height": 174
    },
    "colab_type": "code",
    "id": "banuBQgaHK5E",
    "outputId": "2e0801ae-dd90-4551-b059-251bf73a8dd0"
   },
   "outputs": [
    {
     "data": {
      "text/plain": [
       "count    23015.000000\n",
       "mean        18.301065\n",
       "std         21.544313\n",
       "min          0.000000\n",
       "25%          6.000000\n",
       "50%         11.000000\n",
       "75%         23.000000\n",
       "max        100.000000\n",
       "Name: len_songs, dtype: float64"
      ]
     },
     "execution_count": 8,
     "metadata": {},
     "output_type": "execute_result"
    }
   ],
   "source": [
    "val['len_songs'].describe()"
   ]
  },
  {
   "cell_type": "code",
   "execution_count": 9,
   "metadata": {
    "colab": {
     "base_uri": "https://localhost:8080/",
     "height": 34
    },
    "colab_type": "code",
    "id": "EF-FsZPptR52",
    "outputId": "e039c05c-06fa-4a77-e636-c86915719afb"
   },
   "outputs": [
    {
     "data": {
      "text/plain": [
       "23015"
      ]
     },
     "execution_count": 9,
     "metadata": {},
     "output_type": "execute_result"
    }
   ],
   "source": [
    "len(val)"
   ]
  },
  {
   "cell_type": "code",
   "execution_count": 10,
   "metadata": {},
   "outputs": [],
   "source": [
    "hyn['len_songs'] = hyn['songs'].apply(len)"
   ]
  },
  {
   "cell_type": "code",
   "execution_count": 11,
   "metadata": {},
   "outputs": [],
   "source": [
    "# 100개 아닌거 생김\n",
    "less = hyn.query('len_songs!=100')\n",
    "less_id = less['id']"
   ]
  },
  {
   "cell_type": "code",
   "execution_count": 12,
   "metadata": {},
   "outputs": [
    {
     "data": {
      "text/plain": [
       "Series([], Name: id, dtype: int64)"
      ]
     },
     "execution_count": 12,
     "metadata": {},
     "output_type": "execute_result"
    }
   ],
   "source": [
    "less_id"
   ]
  },
  {
   "cell_type": "code",
   "execution_count": 13,
   "metadata": {
    "colab": {},
    "colab_type": "code",
    "id": "E0ytDGXMrcN7"
   },
   "outputs": [],
   "source": [
    "# val_kihong = pd.merge(val, kihong, on='id')"
   ]
  },
  {
   "cell_type": "code",
   "execution_count": 14,
   "metadata": {},
   "outputs": [],
   "source": [
    "a = pd.merge(kihong, hyn, on='id') # x가 기홍"
   ]
  },
  {
   "cell_type": "code",
   "execution_count": 15,
   "metadata": {
    "colab": {},
    "colab_type": "code",
    "id": "nnc2o969Nj_e"
   },
   "outputs": [
    {
     "name": "stderr",
     "output_type": "stream",
     "text": [
      "C:\\ProgramData\\Anaconda3\\lib\\site-packages\\pandas\\core\\frame.py:3346: PerformanceWarning: Alignment difference on axis 0 is larger than an order of magnitude on term '__pd_eval_local_less_id', by more than 4.362; performance may suffer\n",
      "  return _eval(expr, inplace=inplace, **kwargs)\n"
     ]
    }
   ],
   "source": [
    "# strange = val_kihong.query('len_songs==0 | len_songs==1')\n",
    "strange = a.query('id==@less_id')"
   ]
  },
  {
   "cell_type": "code",
   "execution_count": 16,
   "metadata": {},
   "outputs": [
    {
     "data": {
      "text/html": [
       "<div>\n",
       "<style scoped>\n",
       "    .dataframe tbody tr th:only-of-type {\n",
       "        vertical-align: middle;\n",
       "    }\n",
       "\n",
       "    .dataframe tbody tr th {\n",
       "        vertical-align: top;\n",
       "    }\n",
       "\n",
       "    .dataframe thead th {\n",
       "        text-align: right;\n",
       "    }\n",
       "</style>\n",
       "<table border=\"1\" class=\"dataframe\">\n",
       "  <thead>\n",
       "    <tr style=\"text-align: right;\">\n",
       "      <th></th>\n",
       "      <th>id</th>\n",
       "      <th>songs_x</th>\n",
       "      <th>tags_x</th>\n",
       "      <th>songs_y</th>\n",
       "      <th>tags_y</th>\n",
       "      <th>len_songs</th>\n",
       "    </tr>\n",
       "  </thead>\n",
       "  <tbody>\n",
       "  </tbody>\n",
       "</table>\n",
       "</div>"
      ],
      "text/plain": [
       "Empty DataFrame\n",
       "Columns: [id, songs_x, tags_x, songs_y, tags_y, len_songs]\n",
       "Index: []"
      ]
     },
     "execution_count": 16,
     "metadata": {},
     "output_type": "execute_result"
    }
   ],
   "source": [
    "strange"
   ]
  },
  {
   "cell_type": "code",
   "execution_count": 17,
   "metadata": {
    "colab": {
     "base_uri": "https://localhost:8080/",
     "height": 34
    },
    "colab_type": "code",
    "id": "f8ZN219HN1wR",
    "outputId": "7ecfdbe1-b776-4ee7-e546-dd827eb56dea"
   },
   "outputs": [
    {
     "data": {
      "text/plain": [
       "0"
      ]
     },
     "execution_count": 17,
     "metadata": {},
     "output_type": "execute_result"
    }
   ],
   "source": [
    "len(strange) # y(태현)껄로 예측해야함"
   ]
  },
  {
   "cell_type": "code",
   "execution_count": 18,
   "metadata": {
    "colab": {},
    "colab_type": "code",
    "id": "sYYNEY1-Ijmz"
   },
   "outputs": [],
   "source": [
    "strange_id = strange['id'].tolist()"
   ]
  },
  {
   "cell_type": "code",
   "execution_count": 19,
   "metadata": {},
   "outputs": [],
   "source": [
    "strange['new_song'] = strange['songs_x']"
   ]
  },
  {
   "cell_type": "code",
   "execution_count": 20,
   "metadata": {
    "colab": {},
    "colab_type": "code",
    "id": "F49MVbDLeHzf"
   },
   "outputs": [],
   "source": [
    "strange = strange.reset_index()"
   ]
  },
  {
   "cell_type": "code",
   "execution_count": 21,
   "metadata": {
    "colab": {
     "base_uri": "https://localhost:8080/",
     "height": 364
    },
    "colab_type": "code",
    "id": "Yw7TmOIzefc4",
    "outputId": "919e6f4e-bbb3-4271-e542-adf9d95112ed"
   },
   "outputs": [
    {
     "data": {
      "text/html": [
       "<div>\n",
       "<style scoped>\n",
       "    .dataframe tbody tr th:only-of-type {\n",
       "        vertical-align: middle;\n",
       "    }\n",
       "\n",
       "    .dataframe tbody tr th {\n",
       "        vertical-align: top;\n",
       "    }\n",
       "\n",
       "    .dataframe thead th {\n",
       "        text-align: right;\n",
       "    }\n",
       "</style>\n",
       "<table border=\"1\" class=\"dataframe\">\n",
       "  <thead>\n",
       "    <tr style=\"text-align: right;\">\n",
       "      <th></th>\n",
       "      <th>index</th>\n",
       "      <th>id</th>\n",
       "      <th>songs_x</th>\n",
       "      <th>tags_x</th>\n",
       "      <th>songs_y</th>\n",
       "      <th>tags_y</th>\n",
       "      <th>len_songs</th>\n",
       "      <th>new_song</th>\n",
       "    </tr>\n",
       "  </thead>\n",
       "  <tbody>\n",
       "  </tbody>\n",
       "</table>\n",
       "</div>"
      ],
      "text/plain": [
       "Empty DataFrame\n",
       "Columns: [index, id, songs_x, tags_x, songs_y, tags_y, len_songs, new_song]\n",
       "Index: []"
      ]
     },
     "execution_count": 21,
     "metadata": {},
     "output_type": "execute_result"
    }
   ],
   "source": [
    "strange.head(1)"
   ]
  },
  {
   "cell_type": "code",
   "execution_count": 22,
   "metadata": {
    "colab": {},
    "colab_type": "code",
    "id": "N3VJvypjcFHB"
   },
   "outputs": [
    {
     "name": "stderr",
     "output_type": "stream",
     "text": [
      "C:\\ProgramData\\Anaconda3\\lib\\site-packages\\pandas\\core\\frame.py:3346: PerformanceWarning: Alignment difference on axis 0 is larger than an order of magnitude on term '__pd_eval_local_less_id', by more than 4.362; performance may suffer\n",
      "  return _eval(expr, inplace=inplace, **kwargs)\n"
     ]
    }
   ],
   "source": [
    "not_strange = a.query('id!=@less_id')"
   ]
  },
  {
   "cell_type": "code",
   "execution_count": 23,
   "metadata": {
    "colab": {},
    "colab_type": "code",
    "id": "2iAaIoHScQRU"
   },
   "outputs": [],
   "source": [
    "not_strange['new_song'] = not_strange['songs_y'] # 안이상하면 태현코드"
   ]
  },
  {
   "cell_type": "code",
   "execution_count": 24,
   "metadata": {
    "colab": {
     "base_uri": "https://localhost:8080/",
     "height": 47
    },
    "colab_type": "code",
    "id": "fg4ll58ccQPe",
    "outputId": "0f83e768-fda6-499a-febd-53494a52ddfb"
   },
   "outputs": [
    {
     "data": {
      "text/html": [
       "<div>\n",
       "<style scoped>\n",
       "    .dataframe tbody tr th:only-of-type {\n",
       "        vertical-align: middle;\n",
       "    }\n",
       "\n",
       "    .dataframe tbody tr th {\n",
       "        vertical-align: top;\n",
       "    }\n",
       "\n",
       "    .dataframe thead th {\n",
       "        text-align: right;\n",
       "    }\n",
       "</style>\n",
       "<table border=\"1\" class=\"dataframe\">\n",
       "  <thead>\n",
       "    <tr style=\"text-align: right;\">\n",
       "      <th></th>\n",
       "      <th>id</th>\n",
       "      <th>songs_x</th>\n",
       "      <th>tags_x</th>\n",
       "      <th>songs_y</th>\n",
       "      <th>tags_y</th>\n",
       "      <th>len_songs</th>\n",
       "      <th>new_song</th>\n",
       "    </tr>\n",
       "  </thead>\n",
       "  <tbody>\n",
       "    <tr>\n",
       "      <th>0</th>\n",
       "      <td>118598</td>\n",
       "      <td>[207912, 623047, 703323, 422438, 638488, 32221...</td>\n",
       "      <td>[OST, 디즈니, 애니메이션, 영화, 디즈니OST, 추억, 기분전환, 겨울왕국, ...</td>\n",
       "      <td>[207912, 623047, 703323, 422438, 638488, 32221...</td>\n",
       "      <td>[OST, 디즈니, 애니메이션, 영화, 추억, 픽사, 기분전환, 인어공주, 겨울왕국...</td>\n",
       "      <td>100</td>\n",
       "      <td>[207912, 623047, 703323, 422438, 638488, 32221...</td>\n",
       "    </tr>\n",
       "  </tbody>\n",
       "</table>\n",
       "</div>"
      ],
      "text/plain": [
       "       id                                            songs_x  \\\n",
       "0  118598  [207912, 623047, 703323, 422438, 638488, 32221...   \n",
       "\n",
       "                                              tags_x  \\\n",
       "0  [OST, 디즈니, 애니메이션, 영화, 디즈니OST, 추억, 기분전환, 겨울왕국, ...   \n",
       "\n",
       "                                             songs_y  \\\n",
       "0  [207912, 623047, 703323, 422438, 638488, 32221...   \n",
       "\n",
       "                                              tags_y  len_songs  \\\n",
       "0  [OST, 디즈니, 애니메이션, 영화, 추억, 픽사, 기분전환, 인어공주, 겨울왕국...        100   \n",
       "\n",
       "                                            new_song  \n",
       "0  [207912, 623047, 703323, 422438, 638488, 32221...  "
      ]
     },
     "execution_count": 24,
     "metadata": {},
     "output_type": "execute_result"
    }
   ],
   "source": [
    "not_strange.head(1)"
   ]
  },
  {
   "cell_type": "code",
   "execution_count": 25,
   "metadata": {
    "colab": {},
    "colab_type": "code",
    "id": "4k-1JZVxeZIt"
   },
   "outputs": [],
   "source": [
    "not_strange = not_strange.reset_index()"
   ]
  },
  {
   "cell_type": "code",
   "execution_count": 26,
   "metadata": {
    "colab": {
     "base_uri": "https://localhost:8080/",
     "height": 47
    },
    "colab_type": "code",
    "id": "-H-DHuIVecEA",
    "outputId": "05af6dad-bae3-4d92-fb84-9669546418f9"
   },
   "outputs": [
    {
     "data": {
      "text/html": [
       "<div>\n",
       "<style scoped>\n",
       "    .dataframe tbody tr th:only-of-type {\n",
       "        vertical-align: middle;\n",
       "    }\n",
       "\n",
       "    .dataframe tbody tr th {\n",
       "        vertical-align: top;\n",
       "    }\n",
       "\n",
       "    .dataframe thead th {\n",
       "        text-align: right;\n",
       "    }\n",
       "</style>\n",
       "<table border=\"1\" class=\"dataframe\">\n",
       "  <thead>\n",
       "    <tr style=\"text-align: right;\">\n",
       "      <th></th>\n",
       "      <th>index</th>\n",
       "      <th>id</th>\n",
       "      <th>songs_x</th>\n",
       "      <th>tags_x</th>\n",
       "      <th>songs_y</th>\n",
       "      <th>tags_y</th>\n",
       "      <th>len_songs</th>\n",
       "      <th>new_song</th>\n",
       "    </tr>\n",
       "  </thead>\n",
       "  <tbody>\n",
       "    <tr>\n",
       "      <th>0</th>\n",
       "      <td>0</td>\n",
       "      <td>118598</td>\n",
       "      <td>[207912, 623047, 703323, 422438, 638488, 32221...</td>\n",
       "      <td>[OST, 디즈니, 애니메이션, 영화, 디즈니OST, 추억, 기분전환, 겨울왕국, ...</td>\n",
       "      <td>[207912, 623047, 703323, 422438, 638488, 32221...</td>\n",
       "      <td>[OST, 디즈니, 애니메이션, 영화, 추억, 픽사, 기분전환, 인어공주, 겨울왕국...</td>\n",
       "      <td>100</td>\n",
       "      <td>[207912, 623047, 703323, 422438, 638488, 32221...</td>\n",
       "    </tr>\n",
       "  </tbody>\n",
       "</table>\n",
       "</div>"
      ],
      "text/plain": [
       "   index      id                                            songs_x  \\\n",
       "0      0  118598  [207912, 623047, 703323, 422438, 638488, 32221...   \n",
       "\n",
       "                                              tags_x  \\\n",
       "0  [OST, 디즈니, 애니메이션, 영화, 디즈니OST, 추억, 기분전환, 겨울왕국, ...   \n",
       "\n",
       "                                             songs_y  \\\n",
       "0  [207912, 623047, 703323, 422438, 638488, 32221...   \n",
       "\n",
       "                                              tags_y  len_songs  \\\n",
       "0  [OST, 디즈니, 애니메이션, 영화, 추억, 픽사, 기분전환, 인어공주, 겨울왕국...        100   \n",
       "\n",
       "                                            new_song  \n",
       "0  [207912, 623047, 703323, 422438, 638488, 32221...  "
      ]
     },
     "execution_count": 26,
     "metadata": {},
     "output_type": "execute_result"
    }
   ],
   "source": [
    "not_strange.head(1)"
   ]
  },
  {
   "cell_type": "code",
   "execution_count": 27,
   "metadata": {
    "colab": {},
    "colab_type": "code",
    "id": "j3E9GszxcQKs"
   },
   "outputs": [],
   "source": [
    "results = pd.concat([strange, not_strange])"
   ]
  },
  {
   "cell_type": "code",
   "execution_count": 28,
   "metadata": {
    "colab": {},
    "colab_type": "code",
    "id": "HYFiQnkmb593"
   },
   "outputs": [],
   "source": [
    "results = results.sort_values(by='index')"
   ]
  },
  {
   "cell_type": "code",
   "execution_count": 29,
   "metadata": {
    "colab": {},
    "colab_type": "code",
    "id": "OPhpGNnmhQRZ"
   },
   "outputs": [],
   "source": [
    "results = results.reset_index()"
   ]
  },
  {
   "cell_type": "code",
   "execution_count": 30,
   "metadata": {
    "colab": {
     "base_uri": "https://localhost:8080/",
     "height": 1000
    },
    "colab_type": "code",
    "id": "DxZtgE7m9t49",
    "outputId": "977ea68d-4ef2-4799-d32e-3e33c2113184"
   },
   "outputs": [
    {
     "data": {
      "text/html": [
       "<div>\n",
       "<style scoped>\n",
       "    .dataframe tbody tr th:only-of-type {\n",
       "        vertical-align: middle;\n",
       "    }\n",
       "\n",
       "    .dataframe tbody tr th {\n",
       "        vertical-align: top;\n",
       "    }\n",
       "\n",
       "    .dataframe thead th {\n",
       "        text-align: right;\n",
       "    }\n",
       "</style>\n",
       "<table border=\"1\" class=\"dataframe\">\n",
       "  <thead>\n",
       "    <tr style=\"text-align: right;\">\n",
       "      <th></th>\n",
       "      <th>level_0</th>\n",
       "      <th>index</th>\n",
       "      <th>id</th>\n",
       "      <th>songs_x</th>\n",
       "      <th>tags_x</th>\n",
       "      <th>songs_y</th>\n",
       "      <th>tags_y</th>\n",
       "      <th>len_songs</th>\n",
       "      <th>new_song</th>\n",
       "    </tr>\n",
       "  </thead>\n",
       "  <tbody>\n",
       "    <tr>\n",
       "      <th>0</th>\n",
       "      <td>0</td>\n",
       "      <td>0</td>\n",
       "      <td>118598</td>\n",
       "      <td>[207912, 623047, 703323, 422438, 638488, 32221...</td>\n",
       "      <td>[OST, 디즈니, 애니메이션, 영화, 디즈니OST, 추억, 기분전환, 겨울왕국, ...</td>\n",
       "      <td>[207912, 623047, 703323, 422438, 638488, 32221...</td>\n",
       "      <td>[OST, 디즈니, 애니메이션, 영화, 추억, 픽사, 기분전환, 인어공주, 겨울왕국...</td>\n",
       "      <td>100</td>\n",
       "      <td>[207912, 623047, 703323, 422438, 638488, 32221...</td>\n",
       "    </tr>\n",
       "    <tr>\n",
       "      <th>1</th>\n",
       "      <td>1</td>\n",
       "      <td>1</td>\n",
       "      <td>131447</td>\n",
       "      <td>[238309, 502217, 334372, 675367, 16061, 621677...</td>\n",
       "      <td>[OST, 디즈니, 애니메이션, 영화, 기분전환, 추억, 휴식, 힐링, 디즈니OST...</td>\n",
       "      <td>[366786, 675367, 678294, 660937, 334372, 27799...</td>\n",
       "      <td>[락, 기분전환, 회상, 감성, 추억, 잔잔한, 클럽, 신나는, 힐링, 휴식]</td>\n",
       "      <td>100</td>\n",
       "      <td>[366786, 675367, 678294, 660937, 334372, 27799...</td>\n",
       "    </tr>\n",
       "    <tr>\n",
       "      <th>2</th>\n",
       "      <td>2</td>\n",
       "      <td>2</td>\n",
       "      <td>51464</td>\n",
       "      <td>[291080, 659416, 425043, 500248, 358818, 29532...</td>\n",
       "      <td>[발라드, 이별, 슬픔, 추억, 회상, 밤, 새벽, 잔잔한, 설렘, 사랑]</td>\n",
       "      <td>[411161, 230907, 325455, 253755, 600676, 39636...</td>\n",
       "      <td>[발라드, 추억, 회상, 잔잔한, 설렘, 사랑, 밤, 새벽, 이별, 슬픔]</td>\n",
       "      <td>100</td>\n",
       "      <td>[411161, 230907, 325455, 253755, 600676, 39636...</td>\n",
       "    </tr>\n",
       "    <tr>\n",
       "      <th>3</th>\n",
       "      <td>3</td>\n",
       "      <td>3</td>\n",
       "      <td>45144</td>\n",
       "      <td>[144663, 367963, 351888, 19533, 174749, 357367...</td>\n",
       "      <td>[감성, 사랑, 이별, 발라드, 잔잔한, 새벽, 기분전환, 가을, 카페, 인디]</td>\n",
       "      <td>[144663, 367963, 174749, 224921, 362966, 44924...</td>\n",
       "      <td>[감성, 사랑, 발라드, 밤, 비, 이별, 잔잔한, 새벽, 힐링, 카페]</td>\n",
       "      <td>100</td>\n",
       "      <td>[144663, 367963, 174749, 224921, 362966, 44924...</td>\n",
       "    </tr>\n",
       "    <tr>\n",
       "      <th>4</th>\n",
       "      <td>4</td>\n",
       "      <td>4</td>\n",
       "      <td>79929</td>\n",
       "      <td>[211220, 412769, 70314, 106129, 526037, 242124...</td>\n",
       "      <td>[CCM, 찬양, 예배, 은혜, 워십, 국내ccm, 교회, 찬송, 제이어스, 감사]</td>\n",
       "      <td>[211220, 445299, 70314, 412769, 618001, 106129...</td>\n",
       "      <td>[CCM, 찬양, 은혜, 국내ccm, 사랑, 파워DJ_CCM, 은혜로운, 위로, 찬...</td>\n",
       "      <td>100</td>\n",
       "      <td>[211220, 445299, 70314, 412769, 618001, 106129...</td>\n",
       "    </tr>\n",
       "    <tr>\n",
       "      <th>...</th>\n",
       "      <td>...</td>\n",
       "      <td>...</td>\n",
       "      <td>...</td>\n",
       "      <td>...</td>\n",
       "      <td>...</td>\n",
       "      <td>...</td>\n",
       "      <td>...</td>\n",
       "      <td>...</td>\n",
       "      <td>...</td>\n",
       "    </tr>\n",
       "    <tr>\n",
       "      <th>23010</th>\n",
       "      <td>23010</td>\n",
       "      <td>23010</td>\n",
       "      <td>101722</td>\n",
       "      <td>[116573, 366786, 51612, 339802, 276418, 13142,...</td>\n",
       "      <td>[새벽, 밤, 이별, 추억, 슬픔, 회상, 힐링, 휴식, 발라드, 감성]</td>\n",
       "      <td>[116573, 339004, 104677, 219420, 532347, 55358...</td>\n",
       "      <td>[로맨틱쇼, 센언니, 오래보자, 레오, 차트정복, 관능, 평생소장, 저녁드라이브, ...</td>\n",
       "      <td>100</td>\n",
       "      <td>[116573, 339004, 104677, 219420, 532347, 55358...</td>\n",
       "    </tr>\n",
       "    <tr>\n",
       "      <th>23011</th>\n",
       "      <td>23011</td>\n",
       "      <td>23011</td>\n",
       "      <td>122127</td>\n",
       "      <td>[352228, 48209, 138932, 630552, 473514, 4173, ...</td>\n",
       "      <td>[추억, 회상, 사랑, 힐링, 엄마, 휴식, 부모님, 잔잔한, 발라드, 아버지]</td>\n",
       "      <td>[352228, 4173, 138932, 630552, 473514, 676492,...</td>\n",
       "      <td>[엄마, 부모님, 아버지, 사랑, 눈물, 어버이날, 위로, 감사, 감성, 힐링]</td>\n",
       "      <td>100</td>\n",
       "      <td>[352228, 4173, 138932, 630552, 473514, 676492,...</td>\n",
       "    </tr>\n",
       "    <tr>\n",
       "      <th>23012</th>\n",
       "      <td>23012</td>\n",
       "      <td>23012</td>\n",
       "      <td>77438</td>\n",
       "      <td>[274504, 140867, 679436, 493762, 360062, 21125...</td>\n",
       "      <td>[팝, 팝송, Pop, 기분전환, 드라이브, 카페, 휴식, 힐링, 감성, 잔잔한]</td>\n",
       "      <td>[274504, 679436, 459256, 542127, 140867, 49376...</td>\n",
       "      <td>[Pop, 팝송, 팝, 기분전환, 드라이브, 해외차트, 시대별차트, 좋아요, 휴식,...</td>\n",
       "      <td>100</td>\n",
       "      <td>[274504, 679436, 459256, 542127, 140867, 49376...</td>\n",
       "    </tr>\n",
       "    <tr>\n",
       "      <th>23013</th>\n",
       "      <td>23013</td>\n",
       "      <td>23013</td>\n",
       "      <td>36231</td>\n",
       "      <td>[548041, 50031, 46497, 699175, 236711, 198144,...</td>\n",
       "      <td>[클래식, 피아노, 힐링, 잔잔한, 조성진, 휴식, 기분전환, 쇼팽, classic...</td>\n",
       "      <td>[354737, 64680, 375318, 532729, 235651, 81796,...</td>\n",
       "      <td>[클래식, 힐링, 휴식, 잔잔한, 팝, 연주곡, 독서, 추억, 회상, 감성]</td>\n",
       "      <td>100</td>\n",
       "      <td>[354737, 64680, 375318, 532729, 235651, 81796,...</td>\n",
       "    </tr>\n",
       "    <tr>\n",
       "      <th>23014</th>\n",
       "      <td>23014</td>\n",
       "      <td>23014</td>\n",
       "      <td>65189</td>\n",
       "      <td>[457124, 250, 25012, 104065, 204547, 586556, 1...</td>\n",
       "      <td>[봄, 벚꽃, 봄노래, 사랑, 설렘, 기분전환, 봄캐롤, 봄날, 드라이브, 감성]</td>\n",
       "      <td>[457124, 154929, 586556, 315613, 25012, 22643,...</td>\n",
       "      <td>[봄, 벚꽃, 봄노래, 사랑, 설렘, 봄날, 봄캐롤, 봄인가봐, 기분전환, 노래]</td>\n",
       "      <td>100</td>\n",
       "      <td>[457124, 154929, 586556, 315613, 25012, 22643,...</td>\n",
       "    </tr>\n",
       "  </tbody>\n",
       "</table>\n",
       "<p>23015 rows × 9 columns</p>\n",
       "</div>"
      ],
      "text/plain": [
       "       level_0  index      id  \\\n",
       "0            0      0  118598   \n",
       "1            1      1  131447   \n",
       "2            2      2   51464   \n",
       "3            3      3   45144   \n",
       "4            4      4   79929   \n",
       "...        ...    ...     ...   \n",
       "23010    23010  23010  101722   \n",
       "23011    23011  23011  122127   \n",
       "23012    23012  23012   77438   \n",
       "23013    23013  23013   36231   \n",
       "23014    23014  23014   65189   \n",
       "\n",
       "                                                 songs_x  \\\n",
       "0      [207912, 623047, 703323, 422438, 638488, 32221...   \n",
       "1      [238309, 502217, 334372, 675367, 16061, 621677...   \n",
       "2      [291080, 659416, 425043, 500248, 358818, 29532...   \n",
       "3      [144663, 367963, 351888, 19533, 174749, 357367...   \n",
       "4      [211220, 412769, 70314, 106129, 526037, 242124...   \n",
       "...                                                  ...   \n",
       "23010  [116573, 366786, 51612, 339802, 276418, 13142,...   \n",
       "23011  [352228, 48209, 138932, 630552, 473514, 4173, ...   \n",
       "23012  [274504, 140867, 679436, 493762, 360062, 21125...   \n",
       "23013  [548041, 50031, 46497, 699175, 236711, 198144,...   \n",
       "23014  [457124, 250, 25012, 104065, 204547, 586556, 1...   \n",
       "\n",
       "                                                  tags_x  \\\n",
       "0      [OST, 디즈니, 애니메이션, 영화, 디즈니OST, 추억, 기분전환, 겨울왕국, ...   \n",
       "1      [OST, 디즈니, 애니메이션, 영화, 기분전환, 추억, 휴식, 힐링, 디즈니OST...   \n",
       "2              [발라드, 이별, 슬픔, 추억, 회상, 밤, 새벽, 잔잔한, 설렘, 사랑]   \n",
       "3           [감성, 사랑, 이별, 발라드, 잔잔한, 새벽, 기분전환, 가을, 카페, 인디]   \n",
       "4         [CCM, 찬양, 예배, 은혜, 워십, 국내ccm, 교회, 찬송, 제이어스, 감사]   \n",
       "...                                                  ...   \n",
       "23010           [새벽, 밤, 이별, 추억, 슬픔, 회상, 힐링, 휴식, 발라드, 감성]   \n",
       "23011       [추억, 회상, 사랑, 힐링, 엄마, 휴식, 부모님, 잔잔한, 발라드, 아버지]   \n",
       "23012      [팝, 팝송, Pop, 기분전환, 드라이브, 카페, 휴식, 힐링, 감성, 잔잔한]   \n",
       "23013  [클래식, 피아노, 힐링, 잔잔한, 조성진, 휴식, 기분전환, 쇼팽, classic...   \n",
       "23014      [봄, 벚꽃, 봄노래, 사랑, 설렘, 기분전환, 봄캐롤, 봄날, 드라이브, 감성]   \n",
       "\n",
       "                                                 songs_y  \\\n",
       "0      [207912, 623047, 703323, 422438, 638488, 32221...   \n",
       "1      [366786, 675367, 678294, 660937, 334372, 27799...   \n",
       "2      [411161, 230907, 325455, 253755, 600676, 39636...   \n",
       "3      [144663, 367963, 174749, 224921, 362966, 44924...   \n",
       "4      [211220, 445299, 70314, 412769, 618001, 106129...   \n",
       "...                                                  ...   \n",
       "23010  [116573, 339004, 104677, 219420, 532347, 55358...   \n",
       "23011  [352228, 4173, 138932, 630552, 473514, 676492,...   \n",
       "23012  [274504, 679436, 459256, 542127, 140867, 49376...   \n",
       "23013  [354737, 64680, 375318, 532729, 235651, 81796,...   \n",
       "23014  [457124, 154929, 586556, 315613, 25012, 22643,...   \n",
       "\n",
       "                                                  tags_y  len_songs  \\\n",
       "0      [OST, 디즈니, 애니메이션, 영화, 추억, 픽사, 기분전환, 인어공주, 겨울왕국...        100   \n",
       "1            [락, 기분전환, 회상, 감성, 추억, 잔잔한, 클럽, 신나는, 힐링, 휴식]        100   \n",
       "2              [발라드, 추억, 회상, 잔잔한, 설렘, 사랑, 밤, 새벽, 이별, 슬픔]        100   \n",
       "3               [감성, 사랑, 발라드, 밤, 비, 이별, 잔잔한, 새벽, 힐링, 카페]        100   \n",
       "4      [CCM, 찬양, 은혜, 국내ccm, 사랑, 파워DJ_CCM, 은혜로운, 위로, 찬...        100   \n",
       "...                                                  ...        ...   \n",
       "23010  [로맨틱쇼, 센언니, 오래보자, 레오, 차트정복, 관능, 평생소장, 저녁드라이브, ...        100   \n",
       "23011       [엄마, 부모님, 아버지, 사랑, 눈물, 어버이날, 위로, 감사, 감성, 힐링]        100   \n",
       "23012  [Pop, 팝송, 팝, 기분전환, 드라이브, 해외차트, 시대별차트, 좋아요, 휴식,...        100   \n",
       "23013         [클래식, 힐링, 휴식, 잔잔한, 팝, 연주곡, 독서, 추억, 회상, 감성]        100   \n",
       "23014      [봄, 벚꽃, 봄노래, 사랑, 설렘, 봄날, 봄캐롤, 봄인가봐, 기분전환, 노래]        100   \n",
       "\n",
       "                                                new_song  \n",
       "0      [207912, 623047, 703323, 422438, 638488, 32221...  \n",
       "1      [366786, 675367, 678294, 660937, 334372, 27799...  \n",
       "2      [411161, 230907, 325455, 253755, 600676, 39636...  \n",
       "3      [144663, 367963, 174749, 224921, 362966, 44924...  \n",
       "4      [211220, 445299, 70314, 412769, 618001, 106129...  \n",
       "...                                                  ...  \n",
       "23010  [116573, 339004, 104677, 219420, 532347, 55358...  \n",
       "23011  [352228, 4173, 138932, 630552, 473514, 676492,...  \n",
       "23012  [274504, 679436, 459256, 542127, 140867, 49376...  \n",
       "23013  [354737, 64680, 375318, 532729, 235651, 81796,...  \n",
       "23014  [457124, 154929, 586556, 315613, 25012, 22643,...  \n",
       "\n",
       "[23015 rows x 9 columns]"
      ]
     },
     "execution_count": 30,
     "metadata": {},
     "output_type": "execute_result"
    }
   ],
   "source": [
    "results"
   ]
  },
  {
   "cell_type": "code",
   "execution_count": 31,
   "metadata": {
    "colab": {},
    "colab_type": "code",
    "id": "I8EXLNWBfoBc"
   },
   "outputs": [],
   "source": [
    "results = results.rename(columns={'new_song':'songs', 'tags_x':'tags'})"
   ]
  },
  {
   "cell_type": "code",
   "execution_count": 32,
   "metadata": {
    "colab": {},
    "colab_type": "code",
    "id": "PZuPgClgf552"
   },
   "outputs": [],
   "source": [
    "results.drop(['songs_x', 'songs_y', 'tags_y', 'index', 'level_0'], inplace=True, axis=1)"
   ]
  },
  {
   "cell_type": "code",
   "execution_count": 33,
   "metadata": {
    "colab": {},
    "colab_type": "code",
    "id": "r4HmXgSwgzya"
   },
   "outputs": [],
   "source": [
    "results = results[['id', 'songs', 'tags']]"
   ]
  },
  {
   "cell_type": "code",
   "execution_count": 34,
   "metadata": {
    "colab": {
     "base_uri": "https://localhost:8080/",
     "height": 197
    },
    "colab_type": "code",
    "id": "SHMKSF8dgzwV",
    "outputId": "3ecae832-30e2-4349-d4ca-f08409d4e373"
   },
   "outputs": [
    {
     "data": {
      "text/html": [
       "<div>\n",
       "<style scoped>\n",
       "    .dataframe tbody tr th:only-of-type {\n",
       "        vertical-align: middle;\n",
       "    }\n",
       "\n",
       "    .dataframe tbody tr th {\n",
       "        vertical-align: top;\n",
       "    }\n",
       "\n",
       "    .dataframe thead th {\n",
       "        text-align: right;\n",
       "    }\n",
       "</style>\n",
       "<table border=\"1\" class=\"dataframe\">\n",
       "  <thead>\n",
       "    <tr style=\"text-align: right;\">\n",
       "      <th></th>\n",
       "      <th>id</th>\n",
       "      <th>songs</th>\n",
       "      <th>tags</th>\n",
       "    </tr>\n",
       "  </thead>\n",
       "  <tbody>\n",
       "    <tr>\n",
       "      <th>0</th>\n",
       "      <td>118598</td>\n",
       "      <td>[207912, 623047, 703323, 422438, 638488, 32221...</td>\n",
       "      <td>[OST, 디즈니, 애니메이션, 영화, 디즈니OST, 추억, 기분전환, 겨울왕국, ...</td>\n",
       "    </tr>\n",
       "    <tr>\n",
       "      <th>1</th>\n",
       "      <td>131447</td>\n",
       "      <td>[366786, 675367, 678294, 660937, 334372, 27799...</td>\n",
       "      <td>[OST, 디즈니, 애니메이션, 영화, 기분전환, 추억, 휴식, 힐링, 디즈니OST...</td>\n",
       "    </tr>\n",
       "    <tr>\n",
       "      <th>2</th>\n",
       "      <td>51464</td>\n",
       "      <td>[411161, 230907, 325455, 253755, 600676, 39636...</td>\n",
       "      <td>[발라드, 이별, 슬픔, 추억, 회상, 밤, 새벽, 잔잔한, 설렘, 사랑]</td>\n",
       "    </tr>\n",
       "    <tr>\n",
       "      <th>3</th>\n",
       "      <td>45144</td>\n",
       "      <td>[144663, 367963, 174749, 224921, 362966, 44924...</td>\n",
       "      <td>[감성, 사랑, 이별, 발라드, 잔잔한, 새벽, 기분전환, 가을, 카페, 인디]</td>\n",
       "    </tr>\n",
       "    <tr>\n",
       "      <th>4</th>\n",
       "      <td>79929</td>\n",
       "      <td>[211220, 445299, 70314, 412769, 618001, 106129...</td>\n",
       "      <td>[CCM, 찬양, 예배, 은혜, 워십, 국내ccm, 교회, 찬송, 제이어스, 감사]</td>\n",
       "    </tr>\n",
       "  </tbody>\n",
       "</table>\n",
       "</div>"
      ],
      "text/plain": [
       "       id                                              songs  \\\n",
       "0  118598  [207912, 623047, 703323, 422438, 638488, 32221...   \n",
       "1  131447  [366786, 675367, 678294, 660937, 334372, 27799...   \n",
       "2   51464  [411161, 230907, 325455, 253755, 600676, 39636...   \n",
       "3   45144  [144663, 367963, 174749, 224921, 362966, 44924...   \n",
       "4   79929  [211220, 445299, 70314, 412769, 618001, 106129...   \n",
       "\n",
       "                                                tags  \n",
       "0  [OST, 디즈니, 애니메이션, 영화, 디즈니OST, 추억, 기분전환, 겨울왕국, ...  \n",
       "1  [OST, 디즈니, 애니메이션, 영화, 기분전환, 추억, 휴식, 힐링, 디즈니OST...  \n",
       "2          [발라드, 이별, 슬픔, 추억, 회상, 밤, 새벽, 잔잔한, 설렘, 사랑]  \n",
       "3       [감성, 사랑, 이별, 발라드, 잔잔한, 새벽, 기분전환, 가을, 카페, 인디]  \n",
       "4     [CCM, 찬양, 예배, 은혜, 워십, 국내ccm, 교회, 찬송, 제이어스, 감사]  "
      ]
     },
     "execution_count": 34,
     "metadata": {},
     "output_type": "execute_result"
    }
   ],
   "source": [
    "results.head()"
   ]
  },
  {
   "cell_type": "code",
   "execution_count": 35,
   "metadata": {
    "colab": {},
    "colab_type": "code",
    "id": "D267C3wfkKoL"
   },
   "outputs": [],
   "source": [
    "res = []\n",
    "for i in results.index :\n",
    "  res.append({\n",
    "      \"id\" : results.iloc[i, 0],\n",
    "      \"songs\" : results.iloc[i, 1],\n",
    "      \"tags\":results.iloc[i, 2]\n",
    "  })\n"
   ]
  },
  {
   "cell_type": "code",
   "execution_count": 36,
   "metadata": {
    "colab": {},
    "colab_type": "code",
    "id": "exNz22gzlRfs"
   },
   "outputs": [],
   "source": [
    "import io\n",
    "import os\n",
    "\n",
    "def write_json(data, fname):\n",
    "    def _conv(o):\n",
    "        if isinstance(o, (np.int64, np.int32)):\n",
    "            return int(o)\n",
    "        raise TypeError\n",
    "\n",
    "    parent = os.path.dirname(fname)\n",
    "    with io.open(fname, \"w\", encoding=\"utf-8\") as f:\n",
    "        json_str = json.dumps(data, ensure_ascii=False, default=_conv)\n",
    "        f.write(json_str)\n",
    "\n",
    "write_json(res, 'results_k50ing.json')"
   ]
  },
  {
   "cell_type": "code",
   "execution_count": 37,
   "metadata": {
    "colab": {
     "base_uri": "https://localhost:8080/",
     "height": 192
    },
    "colab_type": "code",
    "id": "jNtxyn0wiZtF",
    "outputId": "d7510dca-863f-4fbb-d88f-9ce7cc20f975"
   },
   "outputs": [
    {
     "name": "stdout",
     "output_type": "stream",
     "text": [
      "<class 'pandas.core.frame.DataFrame'>\n",
      "RangeIndex: 23015 entries, 0 to 23014\n",
      "Data columns (total 3 columns):\n",
      " #   Column  Non-Null Count  Dtype \n",
      "---  ------  --------------  ----- \n",
      " 0   id      23015 non-null  int64 \n",
      " 1   songs   23015 non-null  object\n",
      " 2   tags    23015 non-null  object\n",
      "dtypes: int64(1), object(2)\n",
      "memory usage: 539.5+ KB\n"
     ]
    }
   ],
   "source": [
    "results.info()"
   ]
  },
  {
   "cell_type": "code",
   "execution_count": 38,
   "metadata": {
    "colab": {
     "base_uri": "https://localhost:8080/",
     "height": 192
    },
    "colab_type": "code",
    "id": "h2YNLWUSibf5",
    "outputId": "8f4fa9c7-646f-4921-e0cf-d6415e9b993c"
   },
   "outputs": [
    {
     "name": "stdout",
     "output_type": "stream",
     "text": [
      "<class 'pandas.core.frame.DataFrame'>\n",
      "RangeIndex: 23015 entries, 0 to 23014\n",
      "Data columns (total 3 columns):\n",
      " #   Column  Non-Null Count  Dtype \n",
      "---  ------  --------------  ----- \n",
      " 0   id      23015 non-null  int64 \n",
      " 1   songs   23015 non-null  object\n",
      " 2   tags    23015 non-null  object\n",
      "dtypes: int64(1), object(2)\n",
      "memory usage: 539.5+ KB\n"
     ]
    }
   ],
   "source": [
    "kihong.info()"
   ]
  },
  {
   "cell_type": "code",
   "execution_count": null,
   "metadata": {
    "colab": {},
    "colab_type": "code",
    "id": "pZ8aHPRBKjrt"
   },
   "outputs": [],
   "source": []
  },
  {
   "cell_type": "code",
   "execution_count": null,
   "metadata": {
    "colab": {},
    "colab_type": "code",
    "id": "DYN_9WelKjo3"
   },
   "outputs": [],
   "source": []
  },
  {
   "cell_type": "code",
   "execution_count": null,
   "metadata": {
    "colab": {},
    "colab_type": "code",
    "id": "7AZAL4PjKjmF"
   },
   "outputs": [],
   "source": []
  },
  {
   "cell_type": "code",
   "execution_count": null,
   "metadata": {
    "colab": {},
    "colab_type": "code",
    "id": "pVfT81vfKjjd"
   },
   "outputs": [],
   "source": []
  },
  {
   "cell_type": "code",
   "execution_count": null,
   "metadata": {
    "colab": {},
    "colab_type": "code",
    "id": "euND3f93KjhP"
   },
   "outputs": [],
   "source": []
  }
 ],
 "metadata": {
  "accelerator": "GPU",
  "colab": {
   "machine_shape": "hm",
   "name": "앙상블의 사본",
   "provenance": []
  },
  "kernelspec": {
   "display_name": "Python 3",
   "language": "python",
   "name": "python3"
  },
  "language_info": {
   "codemirror_mode": {
    "name": "ipython",
    "version": 3
   },
   "file_extension": ".py",
   "mimetype": "text/x-python",
   "name": "python",
   "nbconvert_exporter": "python",
   "pygments_lexer": "ipython3",
   "version": "3.7.7"
  }
 },
 "nbformat": 4,
 "nbformat_minor": 1
}
